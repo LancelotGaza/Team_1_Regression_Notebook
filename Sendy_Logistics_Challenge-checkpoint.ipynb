{
 "cells": [
  {
   "cell_type": "markdown",
   "metadata": {
    "id": "KqjfqSZeDG5b"
   },
   "source": [
    "# **Sendy Logistics Challenge: EDSA**\n",
    "### **Team1**\n"
   ]
  },
  {
   "cell_type": "markdown",
   "metadata": {
    "id": "psl7J2QCDG5c"
   },
   "source": [
    "# **Introduction**"
   ]
  },
  {
   "cell_type": "markdown",
   "metadata": {
    "id": "KRVQEsiIDG5c"
   },
   "source": [
    "# **Notebook Outline**"
   ]
  },
  {
   "cell_type": "markdown",
   "metadata": {
    "id": "XQvSC7JLDG5d"
   },
   "source": [
    "    1. Libraries and Data importing\n",
    "        1.1 Importing Libraries\n",
    "        1.2 Importing Data\n",
    "    2. Data Preprocessing\n",
    "        2.1 Data Cleaning\n",
    "        2.2 Missing Variables\n",
    "        2.2 Encoding\n",
    "    3. Exploratory Data Analysis\n",
    "    4. Feature Engineering and Selection\n",
    "    5. Model Desgining\n",
    "    6. Model Evaluation\n",
    "    7. Model Analysis\n",
    "    8. Contributors\n",
    "    9. References"
   ]
  },
  {
   "cell_type": "markdown",
   "metadata": {
    "id": "uEcw0slsDG5d"
   },
   "source": [
    "# **0. Installations**"
   ]
  },
  {
   "cell_type": "code",
   "execution_count": 50,
   "metadata": {
    "id": "RdaOZTG9DG5e",
    "outputId": "d845c621-6e35-4edd-b1e3-e9fea6624726"
   },
   "outputs": [
    {
     "name": "stdout",
     "output_type": "stream",
     "text": [
      "Requirement already satisfied: missingno in c:\\users\\bmqha\\anaconda3\\lib\\site-packages (0.4.2)\n",
      "Requirement already satisfied: numpy in c:\\users\\bmqha\\anaconda3\\lib\\site-packages (from missingno) (1.18.1)\n",
      "Requirement already satisfied: matplotlib in c:\\users\\bmqha\\anaconda3\\lib\\site-packages (from missingno) (3.1.3)\n",
      "Requirement already satisfied: seaborn in c:\\users\\bmqha\\anaconda3\\lib\\site-packages (from missingno) (0.10.0)\n",
      "Requirement already satisfied: scipy in c:\\users\\bmqha\\anaconda3\\lib\\site-packages (from missingno) (1.4.1)\n",
      "Requirement already satisfied: cycler>=0.10 in c:\\users\\bmqha\\anaconda3\\lib\\site-packages (from matplotlib->missingno) (0.10.0)\n",
      "Requirement already satisfied: kiwisolver>=1.0.1 in c:\\users\\bmqha\\anaconda3\\lib\\site-packages (from matplotlib->missingno) (1.1.0)\n",
      "Requirement already satisfied: pyparsing!=2.0.4,!=2.1.2,!=2.1.6,>=2.0.1 in c:\\users\\bmqha\\anaconda3\\lib\\site-packages (from matplotlib->missingno) (2.4.6)\n",
      "Requirement already satisfied: python-dateutil>=2.1 in c:\\users\\bmqha\\anaconda3\\lib\\site-packages (from matplotlib->missingno) (2.8.1)\n",
      "Requirement already satisfied: pandas>=0.22.0 in c:\\users\\bmqha\\anaconda3\\lib\\site-packages (from seaborn->missingno) (1.0.1)\n",
      "Requirement already satisfied: six in c:\\users\\bmqha\\anaconda3\\lib\\site-packages (from cycler>=0.10->matplotlib->missingno) (1.14.0)\n",
      "Requirement already satisfied: setuptools in c:\\users\\bmqha\\anaconda3\\lib\\site-packages (from kiwisolver>=1.0.1->matplotlib->missingno) (45.2.0.post20200210)\n",
      "Requirement already satisfied: pytz>=2017.2 in c:\\users\\bmqha\\anaconda3\\lib\\site-packages (from pandas>=0.22.0->seaborn->missingno) (2019.3)\n",
      "Note: you may need to restart the kernel to use updated packages.\n"
     ]
    }
   ],
   "source": [
    "pip install missingno"
   ]
  },
  {
   "cell_type": "markdown",
   "metadata": {
    "id": "l2VlN4cMDG5h"
   },
   "source": [
    "# **1. Libraries and Data importing**"
   ]
  },
  {
   "cell_type": "markdown",
   "metadata": {
    "id": "-dkXxu6pDG5h"
   },
   "source": [
    "## **1.1 Importing Libraries**"
   ]
  },
  {
   "cell_type": "markdown",
   "metadata": {
    "id": "VZuzeKHxDG5i"
   },
   "source": [
    " Import Python libraries"
   ]
  },
  {
   "cell_type": "code",
   "execution_count": 116,
   "metadata": {
    "id": "PWrsNRDuDG5j"
   },
   "outputs": [],
   "source": [
    "import numpy as np\n",
    "import pandas as pd\n",
    "import matplotlib.pyplot as plt\n",
    "import seaborn as sns\n",
    "import missingno as msno\n",
    "from scipy.stats import norm\n",
    "\n",
    "\n",
    "from sklearn.impute import SimpleImputer\n",
    "from sklearn.model_selection import train_test_split, KFold\n",
    "from sklearn.linear_model import LinearRegression, Lasso, Ridge\n",
    "from sklearn.metrics import mean_squared_error\n"
   ]
  },
  {
   "cell_type": "markdown",
   "metadata": {
    "id": "7-SZQ_H9DG5l"
   },
   "source": [
    "## **1.2 Importing Data**"
   ]
  },
  {
   "cell_type": "markdown",
   "metadata": {
    "id": "G8vd2X3ZDG5m"
   },
   "source": [
    "We will load our data as a Pandas DataFrame"
   ]
  },
  {
   "cell_type": "code",
   "execution_count": 117,
   "metadata": {
    "id": "b-O7rAhdDG5m"
   },
   "outputs": [],
   "source": [
    "test_df = pd.read_csv('data/Test.csv')\n",
    "train_df = pd.read_csv('data/Train.csv')\n",
    "riders_df = pd.read_csv('data/Riders.csv')"
   ]
  },
  {
   "cell_type": "markdown",
   "metadata": {
    "id": "eNMVuDGpDG5o"
   },
   "source": [
    "# **2 Data Preprocessing**"
   ]
  },
  {
   "cell_type": "markdown",
   "metadata": {
    "id": "2Ur8fLbFDG5p"
   },
   "source": [
    "## **2.1 Dataset Overview**"
   ]
  },
  {
   "cell_type": "code",
   "execution_count": 118,
   "metadata": {
    "colab": {
     "base_uri": "https://localhost:8080/",
     "height": 261
    },
    "id": "6B7Xp57wDG5p",
    "outputId": "09a7aa69-15f4-477d-91b0-bd1356605607"
   },
   "outputs": [
    {
     "data": {
      "text/html": [
       "<div>\n",
       "<style scoped>\n",
       "    .dataframe tbody tr th:only-of-type {\n",
       "        vertical-align: middle;\n",
       "    }\n",
       "\n",
       "    .dataframe tbody tr th {\n",
       "        vertical-align: top;\n",
       "    }\n",
       "\n",
       "    .dataframe thead th {\n",
       "        text-align: right;\n",
       "    }\n",
       "</style>\n",
       "<table border=\"1\" class=\"dataframe\">\n",
       "  <thead>\n",
       "    <tr style=\"text-align: right;\">\n",
       "      <th></th>\n",
       "      <th>Order No</th>\n",
       "      <th>User Id</th>\n",
       "      <th>Vehicle Type</th>\n",
       "      <th>Platform Type</th>\n",
       "      <th>Personal or Business</th>\n",
       "      <th>Placement - Day of Month</th>\n",
       "      <th>Placement - Weekday (Mo = 1)</th>\n",
       "      <th>Placement - Time</th>\n",
       "      <th>Confirmation - Day of Month</th>\n",
       "      <th>Confirmation - Weekday (Mo = 1)</th>\n",
       "      <th>...</th>\n",
       "      <th>Arrival at Destination - Time</th>\n",
       "      <th>Distance (KM)</th>\n",
       "      <th>Temperature</th>\n",
       "      <th>Precipitation in millimeters</th>\n",
       "      <th>Pickup Lat</th>\n",
       "      <th>Pickup Long</th>\n",
       "      <th>Destination Lat</th>\n",
       "      <th>Destination Long</th>\n",
       "      <th>Rider Id</th>\n",
       "      <th>Time from Pickup to Arrival</th>\n",
       "    </tr>\n",
       "  </thead>\n",
       "  <tbody>\n",
       "    <tr>\n",
       "      <th>0</th>\n",
       "      <td>Order_No_4211</td>\n",
       "      <td>User_Id_633</td>\n",
       "      <td>Bike</td>\n",
       "      <td>3</td>\n",
       "      <td>Business</td>\n",
       "      <td>9</td>\n",
       "      <td>5</td>\n",
       "      <td>9:35:46 AM</td>\n",
       "      <td>9</td>\n",
       "      <td>5</td>\n",
       "      <td>...</td>\n",
       "      <td>10:39:55 AM</td>\n",
       "      <td>4</td>\n",
       "      <td>20.4</td>\n",
       "      <td>NaN</td>\n",
       "      <td>-1.317755</td>\n",
       "      <td>36.830370</td>\n",
       "      <td>-1.300406</td>\n",
       "      <td>36.829741</td>\n",
       "      <td>Rider_Id_432</td>\n",
       "      <td>745</td>\n",
       "    </tr>\n",
       "    <tr>\n",
       "      <th>1</th>\n",
       "      <td>Order_No_25375</td>\n",
       "      <td>User_Id_2285</td>\n",
       "      <td>Bike</td>\n",
       "      <td>3</td>\n",
       "      <td>Personal</td>\n",
       "      <td>12</td>\n",
       "      <td>5</td>\n",
       "      <td>11:16:16 AM</td>\n",
       "      <td>12</td>\n",
       "      <td>5</td>\n",
       "      <td>...</td>\n",
       "      <td>12:17:22 PM</td>\n",
       "      <td>16</td>\n",
       "      <td>26.4</td>\n",
       "      <td>NaN</td>\n",
       "      <td>-1.351453</td>\n",
       "      <td>36.899315</td>\n",
       "      <td>-1.295004</td>\n",
       "      <td>36.814358</td>\n",
       "      <td>Rider_Id_856</td>\n",
       "      <td>1993</td>\n",
       "    </tr>\n",
       "  </tbody>\n",
       "</table>\n",
       "<p>2 rows × 29 columns</p>\n",
       "</div>"
      ],
      "text/plain": [
       "         Order No       User Id Vehicle Type  Platform Type  \\\n",
       "0   Order_No_4211   User_Id_633         Bike              3   \n",
       "1  Order_No_25375  User_Id_2285         Bike              3   \n",
       "\n",
       "  Personal or Business  Placement - Day of Month  \\\n",
       "0             Business                         9   \n",
       "1             Personal                        12   \n",
       "\n",
       "   Placement - Weekday (Mo = 1) Placement - Time  Confirmation - Day of Month  \\\n",
       "0                             5       9:35:46 AM                            9   \n",
       "1                             5      11:16:16 AM                           12   \n",
       "\n",
       "   Confirmation - Weekday (Mo = 1)  ... Arrival at Destination - Time  \\\n",
       "0                                5  ...                   10:39:55 AM   \n",
       "1                                5  ...                   12:17:22 PM   \n",
       "\n",
       "   Distance (KM)  Temperature Precipitation in millimeters  Pickup Lat  \\\n",
       "0              4         20.4                          NaN   -1.317755   \n",
       "1             16         26.4                          NaN   -1.351453   \n",
       "\n",
       "   Pickup Long Destination Lat  Destination Long      Rider Id  \\\n",
       "0    36.830370       -1.300406         36.829741  Rider_Id_432   \n",
       "1    36.899315       -1.295004         36.814358  Rider_Id_856   \n",
       "\n",
       "  Time from Pickup to Arrival  \n",
       "0                         745  \n",
       "1                        1993  \n",
       "\n",
       "[2 rows x 29 columns]"
      ]
     },
     "execution_count": 118,
     "metadata": {},
     "output_type": "execute_result"
    }
   ],
   "source": [
    "train_df.head(2)"
   ]
  },
  {
   "cell_type": "code",
   "execution_count": 119,
   "metadata": {
    "colab": {
     "base_uri": "https://localhost:8080/",
     "height": 261
    },
    "id": "ASFgPPMADG5s",
    "outputId": "3c739943-ca4d-4a0b-e7f5-5ab611f9a261"
   },
   "outputs": [
    {
     "data": {
      "text/html": [
       "<div>\n",
       "<style scoped>\n",
       "    .dataframe tbody tr th:only-of-type {\n",
       "        vertical-align: middle;\n",
       "    }\n",
       "\n",
       "    .dataframe tbody tr th {\n",
       "        vertical-align: top;\n",
       "    }\n",
       "\n",
       "    .dataframe thead th {\n",
       "        text-align: right;\n",
       "    }\n",
       "</style>\n",
       "<table border=\"1\" class=\"dataframe\">\n",
       "  <thead>\n",
       "    <tr style=\"text-align: right;\">\n",
       "      <th></th>\n",
       "      <th>Order No</th>\n",
       "      <th>User Id</th>\n",
       "      <th>Vehicle Type</th>\n",
       "      <th>Platform Type</th>\n",
       "      <th>Personal or Business</th>\n",
       "      <th>Placement - Day of Month</th>\n",
       "      <th>Placement - Weekday (Mo = 1)</th>\n",
       "      <th>Placement - Time</th>\n",
       "      <th>Confirmation - Day of Month</th>\n",
       "      <th>Confirmation - Weekday (Mo = 1)</th>\n",
       "      <th>...</th>\n",
       "      <th>Pickup - Weekday (Mo = 1)</th>\n",
       "      <th>Pickup - Time</th>\n",
       "      <th>Distance (KM)</th>\n",
       "      <th>Temperature</th>\n",
       "      <th>Precipitation in millimeters</th>\n",
       "      <th>Pickup Lat</th>\n",
       "      <th>Pickup Long</th>\n",
       "      <th>Destination Lat</th>\n",
       "      <th>Destination Long</th>\n",
       "      <th>Rider Id</th>\n",
       "    </tr>\n",
       "  </thead>\n",
       "  <tbody>\n",
       "    <tr>\n",
       "      <th>0</th>\n",
       "      <td>Order_No_19248</td>\n",
       "      <td>User_Id_3355</td>\n",
       "      <td>Bike</td>\n",
       "      <td>3</td>\n",
       "      <td>Business</td>\n",
       "      <td>27</td>\n",
       "      <td>3</td>\n",
       "      <td>4:44:10 PM</td>\n",
       "      <td>27</td>\n",
       "      <td>3</td>\n",
       "      <td>...</td>\n",
       "      <td>3</td>\n",
       "      <td>5:06:47 PM</td>\n",
       "      <td>8</td>\n",
       "      <td>NaN</td>\n",
       "      <td>NaN</td>\n",
       "      <td>-1.333275</td>\n",
       "      <td>36.870815</td>\n",
       "      <td>-1.305249</td>\n",
       "      <td>36.822390</td>\n",
       "      <td>Rider_Id_192</td>\n",
       "    </tr>\n",
       "    <tr>\n",
       "      <th>1</th>\n",
       "      <td>Order_No_12736</td>\n",
       "      <td>User_Id_3647</td>\n",
       "      <td>Bike</td>\n",
       "      <td>3</td>\n",
       "      <td>Business</td>\n",
       "      <td>17</td>\n",
       "      <td>5</td>\n",
       "      <td>12:57:35 PM</td>\n",
       "      <td>17</td>\n",
       "      <td>5</td>\n",
       "      <td>...</td>\n",
       "      <td>5</td>\n",
       "      <td>1:25:37 PM</td>\n",
       "      <td>5</td>\n",
       "      <td>NaN</td>\n",
       "      <td>NaN</td>\n",
       "      <td>-1.272639</td>\n",
       "      <td>36.794723</td>\n",
       "      <td>-1.277007</td>\n",
       "      <td>36.823907</td>\n",
       "      <td>Rider_Id_868</td>\n",
       "    </tr>\n",
       "  </tbody>\n",
       "</table>\n",
       "<p>2 rows × 25 columns</p>\n",
       "</div>"
      ],
      "text/plain": [
       "         Order No       User Id Vehicle Type  Platform Type  \\\n",
       "0  Order_No_19248  User_Id_3355         Bike              3   \n",
       "1  Order_No_12736  User_Id_3647         Bike              3   \n",
       "\n",
       "  Personal or Business  Placement - Day of Month  \\\n",
       "0             Business                        27   \n",
       "1             Business                        17   \n",
       "\n",
       "   Placement - Weekday (Mo = 1) Placement - Time  Confirmation - Day of Month  \\\n",
       "0                             3       4:44:10 PM                           27   \n",
       "1                             5      12:57:35 PM                           17   \n",
       "\n",
       "   Confirmation - Weekday (Mo = 1)  ... Pickup - Weekday (Mo = 1)  \\\n",
       "0                                3  ...                         3   \n",
       "1                                5  ...                         5   \n",
       "\n",
       "   Pickup - Time  Distance (KM) Temperature  Precipitation in millimeters  \\\n",
       "0     5:06:47 PM              8         NaN                           NaN   \n",
       "1     1:25:37 PM              5         NaN                           NaN   \n",
       "\n",
       "   Pickup Lat Pickup Long  Destination Lat  Destination Long      Rider Id  \n",
       "0   -1.333275   36.870815        -1.305249         36.822390  Rider_Id_192  \n",
       "1   -1.272639   36.794723        -1.277007         36.823907  Rider_Id_868  \n",
       "\n",
       "[2 rows x 25 columns]"
      ]
     },
     "execution_count": 119,
     "metadata": {},
     "output_type": "execute_result"
    }
   ],
   "source": [
    "test_df.head(2)"
   ]
  },
  {
   "cell_type": "code",
   "execution_count": 120,
   "metadata": {
    "id": "EpJeYvpzDG5u",
    "outputId": "b248cd76-452d-4b91-b57c-d07d4203a62e"
   },
   "outputs": [
    {
     "data": {
      "text/html": [
       "<div>\n",
       "<style scoped>\n",
       "    .dataframe tbody tr th:only-of-type {\n",
       "        vertical-align: middle;\n",
       "    }\n",
       "\n",
       "    .dataframe tbody tr th {\n",
       "        vertical-align: top;\n",
       "    }\n",
       "\n",
       "    .dataframe thead th {\n",
       "        text-align: right;\n",
       "    }\n",
       "</style>\n",
       "<table border=\"1\" class=\"dataframe\">\n",
       "  <thead>\n",
       "    <tr style=\"text-align: right;\">\n",
       "      <th></th>\n",
       "      <th>Rider Id</th>\n",
       "      <th>No_Of_Orders</th>\n",
       "      <th>Age</th>\n",
       "      <th>Average_Rating</th>\n",
       "      <th>No_of_Ratings</th>\n",
       "    </tr>\n",
       "  </thead>\n",
       "  <tbody>\n",
       "    <tr>\n",
       "      <th>0</th>\n",
       "      <td>Rider_Id_396</td>\n",
       "      <td>2946</td>\n",
       "      <td>2298</td>\n",
       "      <td>14.0</td>\n",
       "      <td>1159</td>\n",
       "    </tr>\n",
       "    <tr>\n",
       "      <th>1</th>\n",
       "      <td>Rider_Id_479</td>\n",
       "      <td>360</td>\n",
       "      <td>951</td>\n",
       "      <td>13.5</td>\n",
       "      <td>176</td>\n",
       "    </tr>\n",
       "  </tbody>\n",
       "</table>\n",
       "</div>"
      ],
      "text/plain": [
       "       Rider Id  No_Of_Orders   Age  Average_Rating  No_of_Ratings\n",
       "0  Rider_Id_396          2946  2298            14.0           1159\n",
       "1  Rider_Id_479           360   951            13.5            176"
      ]
     },
     "execution_count": 120,
     "metadata": {},
     "output_type": "execute_result"
    }
   ],
   "source": [
    "riders_df.head(2)"
   ]
  },
  {
   "cell_type": "code",
   "execution_count": 121,
   "metadata": {},
   "outputs": [
    {
     "data": {
      "text/plain": [
       "(21201, 29)"
      ]
     },
     "execution_count": 121,
     "metadata": {},
     "output_type": "execute_result"
    }
   ],
   "source": [
    "train_df.shape"
   ]
  },
  {
   "cell_type": "code",
   "execution_count": 122,
   "metadata": {},
   "outputs": [
    {
     "data": {
      "text/plain": [
       "(7068, 25)"
      ]
     },
     "execution_count": 122,
     "metadata": {},
     "output_type": "execute_result"
    }
   ],
   "source": [
    "test_df.shape"
   ]
  },
  {
   "cell_type": "code",
   "execution_count": 123,
   "metadata": {},
   "outputs": [
    {
     "data": {
      "text/plain": [
       "(960, 5)"
      ]
     },
     "execution_count": 123,
     "metadata": {},
     "output_type": "execute_result"
    }
   ],
   "source": [
    "riders_df.shape"
   ]
  },
  {
   "cell_type": "markdown",
   "metadata": {
    "id": "-iVTBrzwDG53"
   },
   "source": [
    "## **2.2 Merge data**"
   ]
  },
  {
   "cell_type": "code",
   "execution_count": 124,
   "metadata": {
    "id": "IWtcZ-2GDG54"
   },
   "outputs": [],
   "source": [
    "testcols = test_df.columns # getting a list of the test columns\n",
    "newtrain = train_df[testcols] # Refining the train columns to align to test columns\n",
    "y = np.array(train_df[\"Time from Pickup to Arrival\"]).reshape(-1,1) #assigning the target variable"
   ]
  },
  {
   "cell_type": "code",
   "execution_count": 125,
   "metadata": {
    "colab": {
     "base_uri": "https://localhost:8080/",
     "height": 461
    },
    "id": "XP6LgTIVDG56",
    "outputId": "c967f7cb-626a-42cf-a5b7-7949684edb77"
   },
   "outputs": [
    {
     "name": "stdout",
     "output_type": "stream",
     "text": [
      "Index(['Order No', 'User Id', 'Vehicle Type', 'Platform Type',\n",
      "       'Personal or Business', 'Placement - Day of Month',\n",
      "       'Placement - Weekday (Mo = 1)', 'Placement - Time',\n",
      "       'Confirmation - Day of Month', 'Confirmation - Weekday (Mo = 1)',\n",
      "       'Confirmation - Time', 'Arrival at Pickup - Day of Month',\n",
      "       'Arrival at Pickup - Weekday (Mo = 1)', 'Arrival at Pickup - Time',\n",
      "       'Pickup - Day of Month', 'Pickup - Weekday (Mo = 1)', 'Pickup - Time',\n",
      "       'Distance (KM)', 'Temperature', 'Precipitation in millimeters',\n",
      "       'Pickup Lat', 'Pickup Long', 'Destination Lat', 'Destination Long',\n",
      "       'Rider Id'],\n",
      "      dtype='object')\n",
      "Index(['Order No', 'User Id', 'Vehicle Type', 'Platform Type',\n",
      "       'Personal or Business', 'Placement - Day of Month',\n",
      "       'Placement - Weekday (Mo = 1)', 'Placement - Time',\n",
      "       'Confirmation - Day of Month', 'Confirmation - Weekday (Mo = 1)',\n",
      "       'Confirmation - Time', 'Arrival at Pickup - Day of Month',\n",
      "       'Arrival at Pickup - Weekday (Mo = 1)', 'Arrival at Pickup - Time',\n",
      "       'Pickup - Day of Month', 'Pickup - Weekday (Mo = 1)', 'Pickup - Time',\n",
      "       'Distance (KM)', 'Temperature', 'Precipitation in millimeters',\n",
      "       'Pickup Lat', 'Pickup Long', 'Destination Lat', 'Destination Long',\n",
      "       'Rider Id'],\n",
      "      dtype='object')\n"
     ]
    }
   ],
   "source": [
    "print(newtrain.columns)\n",
    "print(test_df.columns)"
   ]
  },
  {
   "cell_type": "markdown",
   "metadata": {
    "id": "07LnQrlBDG58"
   },
   "source": [
    "### Combining the dataset"
   ]
  },
  {
   "cell_type": "code",
   "execution_count": 126,
   "metadata": {
    "colab": {
     "base_uri": "https://localhost:8080/",
     "height": 400
    },
    "id": "02hb4vLBDG59",
    "outputId": "9cdd3196-c9de-4435-f468-e1a907ea529e"
   },
   "outputs": [
    {
     "data": {
      "text/html": [
       "<div>\n",
       "<style scoped>\n",
       "    .dataframe tbody tr th:only-of-type {\n",
       "        vertical-align: middle;\n",
       "    }\n",
       "\n",
       "    .dataframe tbody tr th {\n",
       "        vertical-align: top;\n",
       "    }\n",
       "\n",
       "    .dataframe thead th {\n",
       "        text-align: right;\n",
       "    }\n",
       "</style>\n",
       "<table border=\"1\" class=\"dataframe\">\n",
       "  <thead>\n",
       "    <tr style=\"text-align: right;\">\n",
       "      <th></th>\n",
       "      <th>Order No</th>\n",
       "      <th>User Id</th>\n",
       "      <th>Vehicle Type</th>\n",
       "      <th>Platform Type</th>\n",
       "      <th>Personal or Business</th>\n",
       "      <th>Placement - Day of Month</th>\n",
       "      <th>Placement - Weekday (Mo = 1)</th>\n",
       "      <th>Placement - Time</th>\n",
       "      <th>Confirmation - Day of Month</th>\n",
       "      <th>Confirmation - Weekday (Mo = 1)</th>\n",
       "      <th>...</th>\n",
       "      <th>Pickup - Weekday (Mo = 1)</th>\n",
       "      <th>Pickup - Time</th>\n",
       "      <th>Distance (KM)</th>\n",
       "      <th>Temperature</th>\n",
       "      <th>Precipitation in millimeters</th>\n",
       "      <th>Pickup Lat</th>\n",
       "      <th>Pickup Long</th>\n",
       "      <th>Destination Lat</th>\n",
       "      <th>Destination Long</th>\n",
       "      <th>Rider Id</th>\n",
       "    </tr>\n",
       "  </thead>\n",
       "  <tbody>\n",
       "    <tr>\n",
       "      <th>0</th>\n",
       "      <td>Order_No_4211</td>\n",
       "      <td>User_Id_633</td>\n",
       "      <td>Bike</td>\n",
       "      <td>3</td>\n",
       "      <td>Business</td>\n",
       "      <td>9</td>\n",
       "      <td>5</td>\n",
       "      <td>9:35:46 AM</td>\n",
       "      <td>9</td>\n",
       "      <td>5</td>\n",
       "      <td>...</td>\n",
       "      <td>5</td>\n",
       "      <td>10:27:30 AM</td>\n",
       "      <td>4</td>\n",
       "      <td>20.4</td>\n",
       "      <td>NaN</td>\n",
       "      <td>-1.317755</td>\n",
       "      <td>36.830370</td>\n",
       "      <td>-1.300406</td>\n",
       "      <td>36.829741</td>\n",
       "      <td>Rider_Id_432</td>\n",
       "    </tr>\n",
       "    <tr>\n",
       "      <th>1</th>\n",
       "      <td>Order_No_25375</td>\n",
       "      <td>User_Id_2285</td>\n",
       "      <td>Bike</td>\n",
       "      <td>3</td>\n",
       "      <td>Personal</td>\n",
       "      <td>12</td>\n",
       "      <td>5</td>\n",
       "      <td>11:16:16 AM</td>\n",
       "      <td>12</td>\n",
       "      <td>5</td>\n",
       "      <td>...</td>\n",
       "      <td>5</td>\n",
       "      <td>11:44:09 AM</td>\n",
       "      <td>16</td>\n",
       "      <td>26.4</td>\n",
       "      <td>NaN</td>\n",
       "      <td>-1.351453</td>\n",
       "      <td>36.899315</td>\n",
       "      <td>-1.295004</td>\n",
       "      <td>36.814358</td>\n",
       "      <td>Rider_Id_856</td>\n",
       "    </tr>\n",
       "    <tr>\n",
       "      <th>2</th>\n",
       "      <td>Order_No_1899</td>\n",
       "      <td>User_Id_265</td>\n",
       "      <td>Bike</td>\n",
       "      <td>3</td>\n",
       "      <td>Business</td>\n",
       "      <td>30</td>\n",
       "      <td>2</td>\n",
       "      <td>12:39:25 PM</td>\n",
       "      <td>30</td>\n",
       "      <td>2</td>\n",
       "      <td>...</td>\n",
       "      <td>2</td>\n",
       "      <td>12:53:03 PM</td>\n",
       "      <td>3</td>\n",
       "      <td>NaN</td>\n",
       "      <td>NaN</td>\n",
       "      <td>-1.308284</td>\n",
       "      <td>36.843419</td>\n",
       "      <td>-1.300921</td>\n",
       "      <td>36.828195</td>\n",
       "      <td>Rider_Id_155</td>\n",
       "    </tr>\n",
       "    <tr>\n",
       "      <th>3</th>\n",
       "      <td>Order_No_9336</td>\n",
       "      <td>User_Id_1402</td>\n",
       "      <td>Bike</td>\n",
       "      <td>3</td>\n",
       "      <td>Business</td>\n",
       "      <td>15</td>\n",
       "      <td>5</td>\n",
       "      <td>9:25:34 AM</td>\n",
       "      <td>15</td>\n",
       "      <td>5</td>\n",
       "      <td>...</td>\n",
       "      <td>5</td>\n",
       "      <td>9:43:06 AM</td>\n",
       "      <td>9</td>\n",
       "      <td>19.2</td>\n",
       "      <td>NaN</td>\n",
       "      <td>-1.281301</td>\n",
       "      <td>36.832396</td>\n",
       "      <td>-1.257147</td>\n",
       "      <td>36.795063</td>\n",
       "      <td>Rider_Id_855</td>\n",
       "    </tr>\n",
       "    <tr>\n",
       "      <th>4</th>\n",
       "      <td>Order_No_27883</td>\n",
       "      <td>User_Id_1737</td>\n",
       "      <td>Bike</td>\n",
       "      <td>1</td>\n",
       "      <td>Personal</td>\n",
       "      <td>13</td>\n",
       "      <td>1</td>\n",
       "      <td>9:55:18 AM</td>\n",
       "      <td>13</td>\n",
       "      <td>1</td>\n",
       "      <td>...</td>\n",
       "      <td>1</td>\n",
       "      <td>10:05:23 AM</td>\n",
       "      <td>9</td>\n",
       "      <td>15.4</td>\n",
       "      <td>NaN</td>\n",
       "      <td>-1.266597</td>\n",
       "      <td>36.792118</td>\n",
       "      <td>-1.295041</td>\n",
       "      <td>36.809817</td>\n",
       "      <td>Rider_Id_770</td>\n",
       "    </tr>\n",
       "  </tbody>\n",
       "</table>\n",
       "<p>5 rows × 25 columns</p>\n",
       "</div>"
      ],
      "text/plain": [
       "         Order No       User Id Vehicle Type  Platform Type  \\\n",
       "0   Order_No_4211   User_Id_633         Bike              3   \n",
       "1  Order_No_25375  User_Id_2285         Bike              3   \n",
       "2   Order_No_1899   User_Id_265         Bike              3   \n",
       "3   Order_No_9336  User_Id_1402         Bike              3   \n",
       "4  Order_No_27883  User_Id_1737         Bike              1   \n",
       "\n",
       "  Personal or Business  Placement - Day of Month  \\\n",
       "0             Business                         9   \n",
       "1             Personal                        12   \n",
       "2             Business                        30   \n",
       "3             Business                        15   \n",
       "4             Personal                        13   \n",
       "\n",
       "   Placement - Weekday (Mo = 1) Placement - Time  Confirmation - Day of Month  \\\n",
       "0                             5       9:35:46 AM                            9   \n",
       "1                             5      11:16:16 AM                           12   \n",
       "2                             2      12:39:25 PM                           30   \n",
       "3                             5       9:25:34 AM                           15   \n",
       "4                             1       9:55:18 AM                           13   \n",
       "\n",
       "   Confirmation - Weekday (Mo = 1)  ... Pickup - Weekday (Mo = 1)  \\\n",
       "0                                5  ...                         5   \n",
       "1                                5  ...                         5   \n",
       "2                                2  ...                         2   \n",
       "3                                5  ...                         5   \n",
       "4                                1  ...                         1   \n",
       "\n",
       "   Pickup - Time  Distance (KM) Temperature  Precipitation in millimeters  \\\n",
       "0    10:27:30 AM              4        20.4                           NaN   \n",
       "1    11:44:09 AM             16        26.4                           NaN   \n",
       "2    12:53:03 PM              3         NaN                           NaN   \n",
       "3     9:43:06 AM              9        19.2                           NaN   \n",
       "4    10:05:23 AM              9        15.4                           NaN   \n",
       "\n",
       "   Pickup Lat Pickup Long  Destination Lat  Destination Long      Rider Id  \n",
       "0   -1.317755   36.830370        -1.300406         36.829741  Rider_Id_432  \n",
       "1   -1.351453   36.899315        -1.295004         36.814358  Rider_Id_856  \n",
       "2   -1.308284   36.843419        -1.300921         36.828195  Rider_Id_155  \n",
       "3   -1.281301   36.832396        -1.257147         36.795063  Rider_Id_855  \n",
       "4   -1.266597   36.792118        -1.295041         36.809817  Rider_Id_770  \n",
       "\n",
       "[5 rows x 25 columns]"
      ]
     },
     "execution_count": 126,
     "metadata": {},
     "output_type": "execute_result"
    }
   ],
   "source": [
    "df = pd.concat([newtrain, test_df])\n",
    "df.head()"
   ]
  },
  {
   "cell_type": "code",
   "execution_count": 127,
   "metadata": {},
   "outputs": [
    {
     "data": {
      "text/plain": [
       "(28269, 25)"
      ]
     },
     "execution_count": 127,
     "metadata": {},
     "output_type": "execute_result"
    }
   ],
   "source": [
    "df.shape"
   ]
  },
  {
   "cell_type": "markdown",
   "metadata": {},
   "source": [
    "### Merging Dataframe with Rider details"
   ]
  },
  {
   "cell_type": "code",
   "execution_count": 128,
   "metadata": {},
   "outputs": [],
   "source": [
    "df = df.merge(riders_df, how = 'left', on = 'Rider Id')\n"
   ]
  },
  {
   "cell_type": "markdown",
   "metadata": {
    "id": "P69L6EbODG5_"
   },
   "source": [
    "Some of the columns have white space that we want to replace with an underscore (to avoid using the column names as variable names later on)."
   ]
  },
  {
   "cell_type": "code",
   "execution_count": 129,
   "metadata": {
    "colab": {
     "base_uri": "https://localhost:8080/",
     "height": 315
    },
    "id": "iVPMBmAUDG5_",
    "outputId": "2e0ddad9-575d-4b22-ea86-0b564156305e"
   },
   "outputs": [
    {
     "data": {
      "text/html": [
       "<div>\n",
       "<style scoped>\n",
       "    .dataframe tbody tr th:only-of-type {\n",
       "        vertical-align: middle;\n",
       "    }\n",
       "\n",
       "    .dataframe tbody tr th {\n",
       "        vertical-align: top;\n",
       "    }\n",
       "\n",
       "    .dataframe thead th {\n",
       "        text-align: right;\n",
       "    }\n",
       "</style>\n",
       "<table border=\"1\" class=\"dataframe\">\n",
       "  <thead>\n",
       "    <tr style=\"text-align: right;\">\n",
       "      <th></th>\n",
       "      <th>Order_No</th>\n",
       "      <th>User_Id</th>\n",
       "      <th>Vehicle_Type</th>\n",
       "      <th>Platform_Type</th>\n",
       "      <th>Personal_or_Business</th>\n",
       "      <th>Placement_-_Day_of_Month</th>\n",
       "      <th>Placement_-_Weekday_(Mo_=_1)</th>\n",
       "      <th>Placement_-_Time</th>\n",
       "      <th>Confirmation_-_Day_of_Month</th>\n",
       "      <th>Confirmation_-_Weekday_(Mo_=_1)</th>\n",
       "      <th>...</th>\n",
       "      <th>Precipitation_in_millimeters</th>\n",
       "      <th>Pickup_Lat</th>\n",
       "      <th>Pickup_Long</th>\n",
       "      <th>Destination_Lat</th>\n",
       "      <th>Destination_Long</th>\n",
       "      <th>Rider_Id</th>\n",
       "      <th>No_Of_Orders</th>\n",
       "      <th>Age</th>\n",
       "      <th>Average_Rating</th>\n",
       "      <th>No_of_Ratings</th>\n",
       "    </tr>\n",
       "  </thead>\n",
       "  <tbody>\n",
       "    <tr>\n",
       "      <th>0</th>\n",
       "      <td>Order_No_4211</td>\n",
       "      <td>User_Id_633</td>\n",
       "      <td>Bike</td>\n",
       "      <td>3</td>\n",
       "      <td>Business</td>\n",
       "      <td>9</td>\n",
       "      <td>5</td>\n",
       "      <td>9:35:46 AM</td>\n",
       "      <td>9</td>\n",
       "      <td>5</td>\n",
       "      <td>...</td>\n",
       "      <td>NaN</td>\n",
       "      <td>-1.317755</td>\n",
       "      <td>36.830370</td>\n",
       "      <td>-1.300406</td>\n",
       "      <td>36.829741</td>\n",
       "      <td>Rider_Id_432</td>\n",
       "      <td>1637</td>\n",
       "      <td>1309</td>\n",
       "      <td>13.8</td>\n",
       "      <td>549</td>\n",
       "    </tr>\n",
       "    <tr>\n",
       "      <th>1</th>\n",
       "      <td>Order_No_25375</td>\n",
       "      <td>User_Id_2285</td>\n",
       "      <td>Bike</td>\n",
       "      <td>3</td>\n",
       "      <td>Personal</td>\n",
       "      <td>12</td>\n",
       "      <td>5</td>\n",
       "      <td>11:16:16 AM</td>\n",
       "      <td>12</td>\n",
       "      <td>5</td>\n",
       "      <td>...</td>\n",
       "      <td>NaN</td>\n",
       "      <td>-1.351453</td>\n",
       "      <td>36.899315</td>\n",
       "      <td>-1.295004</td>\n",
       "      <td>36.814358</td>\n",
       "      <td>Rider_Id_856</td>\n",
       "      <td>396</td>\n",
       "      <td>339</td>\n",
       "      <td>13.6</td>\n",
       "      <td>69</td>\n",
       "    </tr>\n",
       "    <tr>\n",
       "      <th>2</th>\n",
       "      <td>Order_No_1899</td>\n",
       "      <td>User_Id_265</td>\n",
       "      <td>Bike</td>\n",
       "      <td>3</td>\n",
       "      <td>Business</td>\n",
       "      <td>30</td>\n",
       "      <td>2</td>\n",
       "      <td>12:39:25 PM</td>\n",
       "      <td>30</td>\n",
       "      <td>2</td>\n",
       "      <td>...</td>\n",
       "      <td>NaN</td>\n",
       "      <td>-1.308284</td>\n",
       "      <td>36.843419</td>\n",
       "      <td>-1.300921</td>\n",
       "      <td>36.828195</td>\n",
       "      <td>Rider_Id_155</td>\n",
       "      <td>1023</td>\n",
       "      <td>242</td>\n",
       "      <td>12.5</td>\n",
       "      <td>114</td>\n",
       "    </tr>\n",
       "    <tr>\n",
       "      <th>3</th>\n",
       "      <td>Order_No_9336</td>\n",
       "      <td>User_Id_1402</td>\n",
       "      <td>Bike</td>\n",
       "      <td>3</td>\n",
       "      <td>Business</td>\n",
       "      <td>15</td>\n",
       "      <td>5</td>\n",
       "      <td>9:25:34 AM</td>\n",
       "      <td>15</td>\n",
       "      <td>5</td>\n",
       "      <td>...</td>\n",
       "      <td>NaN</td>\n",
       "      <td>-1.281301</td>\n",
       "      <td>36.832396</td>\n",
       "      <td>-1.257147</td>\n",
       "      <td>36.795063</td>\n",
       "      <td>Rider_Id_855</td>\n",
       "      <td>886</td>\n",
       "      <td>283</td>\n",
       "      <td>14.5</td>\n",
       "      <td>113</td>\n",
       "    </tr>\n",
       "    <tr>\n",
       "      <th>4</th>\n",
       "      <td>Order_No_27883</td>\n",
       "      <td>User_Id_1737</td>\n",
       "      <td>Bike</td>\n",
       "      <td>1</td>\n",
       "      <td>Personal</td>\n",
       "      <td>13</td>\n",
       "      <td>1</td>\n",
       "      <td>9:55:18 AM</td>\n",
       "      <td>13</td>\n",
       "      <td>1</td>\n",
       "      <td>...</td>\n",
       "      <td>NaN</td>\n",
       "      <td>-1.266597</td>\n",
       "      <td>36.792118</td>\n",
       "      <td>-1.295041</td>\n",
       "      <td>36.809817</td>\n",
       "      <td>Rider_Id_770</td>\n",
       "      <td>2311</td>\n",
       "      <td>872</td>\n",
       "      <td>14.1</td>\n",
       "      <td>533</td>\n",
       "    </tr>\n",
       "  </tbody>\n",
       "</table>\n",
       "<p>5 rows × 29 columns</p>\n",
       "</div>"
      ],
      "text/plain": [
       "         Order_No       User_Id Vehicle_Type  Platform_Type  \\\n",
       "0   Order_No_4211   User_Id_633         Bike              3   \n",
       "1  Order_No_25375  User_Id_2285         Bike              3   \n",
       "2   Order_No_1899   User_Id_265         Bike              3   \n",
       "3   Order_No_9336  User_Id_1402         Bike              3   \n",
       "4  Order_No_27883  User_Id_1737         Bike              1   \n",
       "\n",
       "  Personal_or_Business  Placement_-_Day_of_Month  \\\n",
       "0             Business                         9   \n",
       "1             Personal                        12   \n",
       "2             Business                        30   \n",
       "3             Business                        15   \n",
       "4             Personal                        13   \n",
       "\n",
       "   Placement_-_Weekday_(Mo_=_1) Placement_-_Time  Confirmation_-_Day_of_Month  \\\n",
       "0                             5       9:35:46 AM                            9   \n",
       "1                             5      11:16:16 AM                           12   \n",
       "2                             2      12:39:25 PM                           30   \n",
       "3                             5       9:25:34 AM                           15   \n",
       "4                             1       9:55:18 AM                           13   \n",
       "\n",
       "   Confirmation_-_Weekday_(Mo_=_1)  ... Precipitation_in_millimeters  \\\n",
       "0                                5  ...                          NaN   \n",
       "1                                5  ...                          NaN   \n",
       "2                                2  ...                          NaN   \n",
       "3                                5  ...                          NaN   \n",
       "4                                1  ...                          NaN   \n",
       "\n",
       "   Pickup_Lat  Pickup_Long Destination_Lat  Destination_Long      Rider_Id  \\\n",
       "0   -1.317755    36.830370       -1.300406         36.829741  Rider_Id_432   \n",
       "1   -1.351453    36.899315       -1.295004         36.814358  Rider_Id_856   \n",
       "2   -1.308284    36.843419       -1.300921         36.828195  Rider_Id_155   \n",
       "3   -1.281301    36.832396       -1.257147         36.795063  Rider_Id_855   \n",
       "4   -1.266597    36.792118       -1.295041         36.809817  Rider_Id_770   \n",
       "\n",
       "  No_Of_Orders   Age  Average_Rating  No_of_Ratings  \n",
       "0         1637  1309            13.8            549  \n",
       "1          396   339            13.6             69  \n",
       "2         1023   242            12.5            114  \n",
       "3          886   283            14.5            113  \n",
       "4         2311   872            14.1            533  \n",
       "\n",
       "[5 rows x 29 columns]"
      ]
     },
     "execution_count": 129,
     "metadata": {},
     "output_type": "execute_result"
    }
   ],
   "source": [
    "df.columns = [col.replace(\" \",\"_\") for col in df.columns]\n",
    "df.head()"
   ]
  },
  {
   "cell_type": "code",
   "execution_count": 130,
   "metadata": {
    "colab": {
     "base_uri": "https://localhost:8080/",
     "height": 35
    },
    "id": "nJ4V1kB2DG6C",
    "outputId": "2f46bb61-4cde-4740-9bef-f012a99c6ec8"
   },
   "outputs": [
    {
     "data": {
      "text/plain": [
       "(28269, 29)"
      ]
     },
     "execution_count": 130,
     "metadata": {},
     "output_type": "execute_result"
    }
   ],
   "source": [
    "df.shape"
   ]
  },
  {
   "cell_type": "markdown",
   "metadata": {
    "id": "srcOMln8DG6H"
   },
   "source": [
    "## **2.2 Summary Statistics**"
   ]
  },
  {
   "cell_type": "markdown",
   "metadata": {
    "id": "5LOD15fuDG6I"
   },
   "source": [
    "In this section we will explore the data types and the summary statistics of our variables."
   ]
  },
  {
   "cell_type": "markdown",
   "metadata": {
    "id": "1ylx6JYHDG6I"
   },
   "source": [
    "Let's start by looking at the data types and number of entries of each column."
   ]
  },
  {
   "cell_type": "code",
   "execution_count": 131,
   "metadata": {
    "colab": {
     "base_uri": "https://localhost:8080/",
     "height": 657
    },
    "id": "KbCB_XgrDG6I",
    "outputId": "02b53cec-36c5-42be-a6f8-cd740e554bf9"
   },
   "outputs": [
    {
     "name": "stdout",
     "output_type": "stream",
     "text": [
      "<class 'pandas.core.frame.DataFrame'>\n",
      "Int64Index: 28269 entries, 0 to 28268\n",
      "Data columns (total 29 columns):\n",
      " #   Column                                Non-Null Count  Dtype  \n",
      "---  ------                                --------------  -----  \n",
      " 0   Order_No                              28269 non-null  object \n",
      " 1   User_Id                               28269 non-null  object \n",
      " 2   Vehicle_Type                          28269 non-null  object \n",
      " 3   Platform_Type                         28269 non-null  int64  \n",
      " 4   Personal_or_Business                  28269 non-null  object \n",
      " 5   Placement_-_Day_of_Month              28269 non-null  int64  \n",
      " 6   Placement_-_Weekday_(Mo_=_1)          28269 non-null  int64  \n",
      " 7   Placement_-_Time                      28269 non-null  object \n",
      " 8   Confirmation_-_Day_of_Month           28269 non-null  int64  \n",
      " 9   Confirmation_-_Weekday_(Mo_=_1)       28269 non-null  int64  \n",
      " 10  Confirmation_-_Time                   28269 non-null  object \n",
      " 11  Arrival_at_Pickup_-_Day_of_Month      28269 non-null  int64  \n",
      " 12  Arrival_at_Pickup_-_Weekday_(Mo_=_1)  28269 non-null  int64  \n",
      " 13  Arrival_at_Pickup_-_Time              28269 non-null  object \n",
      " 14  Pickup_-_Day_of_Month                 28269 non-null  int64  \n",
      " 15  Pickup_-_Weekday_(Mo_=_1)             28269 non-null  int64  \n",
      " 16  Pickup_-_Time                         28269 non-null  object \n",
      " 17  Distance_(KM)                         28269 non-null  int64  \n",
      " 18  Temperature                           22466 non-null  float64\n",
      " 19  Precipitation_in_millimeters          751 non-null    float64\n",
      " 20  Pickup_Lat                            28269 non-null  float64\n",
      " 21  Pickup_Long                           28269 non-null  float64\n",
      " 22  Destination_Lat                       28269 non-null  float64\n",
      " 23  Destination_Long                      28269 non-null  float64\n",
      " 24  Rider_Id                              28269 non-null  object \n",
      " 25  No_Of_Orders                          28269 non-null  int64  \n",
      " 26  Age                                   28269 non-null  int64  \n",
      " 27  Average_Rating                        28269 non-null  float64\n",
      " 28  No_of_Ratings                         28269 non-null  int64  \n",
      "dtypes: float64(7), int64(13), object(9)\n",
      "memory usage: 6.5+ MB\n"
     ]
    }
   ],
   "source": [
    "df.info()"
   ]
  },
  {
   "cell_type": "markdown",
   "metadata": {
    "id": "p8Lfnxd5DG6L"
   },
   "source": [
    "- The train_df.info() outputs the number of non-null entries in each column. As such, we are certain that our data has missing values in **Temperature** and **Precipitation_in_millimeters** columns as the columns have a varying number of non-null entries\n",
    "\n",
    "- All input data for regression model building purposes needs to be numerical. All time columns, Order_No, User_Id,Vehicle_Type,Business_or_Personal columns are not numerical. We therefore have to transform the text data into numbers before we can train our machine learning model.\n",
    "\n",
    "Now let's look at a table showing the summary statistics of the data."
   ]
  },
  {
   "cell_type": "code",
   "execution_count": 132,
   "metadata": {
    "colab": {
     "base_uri": "https://localhost:8080/",
     "height": 604
    },
    "id": "lvWALMDiDG6L",
    "outputId": "184e86f8-20bd-4c76-8ba7-a665cb248b76"
   },
   "outputs": [
    {
     "data": {
      "text/html": [
       "<div>\n",
       "<style scoped>\n",
       "    .dataframe tbody tr th:only-of-type {\n",
       "        vertical-align: middle;\n",
       "    }\n",
       "\n",
       "    .dataframe tbody tr th {\n",
       "        vertical-align: top;\n",
       "    }\n",
       "\n",
       "    .dataframe thead th {\n",
       "        text-align: right;\n",
       "    }\n",
       "</style>\n",
       "<table border=\"1\" class=\"dataframe\">\n",
       "  <thead>\n",
       "    <tr style=\"text-align: right;\">\n",
       "      <th></th>\n",
       "      <th>count</th>\n",
       "      <th>mean</th>\n",
       "      <th>std</th>\n",
       "      <th>min</th>\n",
       "      <th>25%</th>\n",
       "      <th>50%</th>\n",
       "      <th>75%</th>\n",
       "      <th>max</th>\n",
       "    </tr>\n",
       "  </thead>\n",
       "  <tbody>\n",
       "    <tr>\n",
       "      <th>Platform_Type</th>\n",
       "      <td>28269.0</td>\n",
       "      <td>2.752167</td>\n",
       "      <td>0.624872</td>\n",
       "      <td>1.000000</td>\n",
       "      <td>3.000000</td>\n",
       "      <td>3.000000</td>\n",
       "      <td>3.000000</td>\n",
       "      <td>4.000000</td>\n",
       "    </tr>\n",
       "    <tr>\n",
       "      <th>Placement_-_Day_of_Month</th>\n",
       "      <td>28269.0</td>\n",
       "      <td>15.645725</td>\n",
       "      <td>8.793210</td>\n",
       "      <td>1.000000</td>\n",
       "      <td>8.000000</td>\n",
       "      <td>15.000000</td>\n",
       "      <td>23.000000</td>\n",
       "      <td>31.000000</td>\n",
       "    </tr>\n",
       "    <tr>\n",
       "      <th>Placement_-_Weekday_(Mo_=_1)</th>\n",
       "      <td>28269.0</td>\n",
       "      <td>3.242527</td>\n",
       "      <td>1.570692</td>\n",
       "      <td>1.000000</td>\n",
       "      <td>2.000000</td>\n",
       "      <td>3.000000</td>\n",
       "      <td>5.000000</td>\n",
       "      <td>7.000000</td>\n",
       "    </tr>\n",
       "    <tr>\n",
       "      <th>Confirmation_-_Day_of_Month</th>\n",
       "      <td>28269.0</td>\n",
       "      <td>15.645831</td>\n",
       "      <td>8.793188</td>\n",
       "      <td>1.000000</td>\n",
       "      <td>8.000000</td>\n",
       "      <td>15.000000</td>\n",
       "      <td>23.000000</td>\n",
       "      <td>31.000000</td>\n",
       "    </tr>\n",
       "    <tr>\n",
       "      <th>Confirmation_-_Weekday_(Mo_=_1)</th>\n",
       "      <td>28269.0</td>\n",
       "      <td>3.242633</td>\n",
       "      <td>1.570642</td>\n",
       "      <td>1.000000</td>\n",
       "      <td>2.000000</td>\n",
       "      <td>3.000000</td>\n",
       "      <td>5.000000</td>\n",
       "      <td>7.000000</td>\n",
       "    </tr>\n",
       "    <tr>\n",
       "      <th>Arrival_at_Pickup_-_Day_of_Month</th>\n",
       "      <td>28269.0</td>\n",
       "      <td>15.645831</td>\n",
       "      <td>8.793188</td>\n",
       "      <td>1.000000</td>\n",
       "      <td>8.000000</td>\n",
       "      <td>15.000000</td>\n",
       "      <td>23.000000</td>\n",
       "      <td>31.000000</td>\n",
       "    </tr>\n",
       "    <tr>\n",
       "      <th>Arrival_at_Pickup_-_Weekday_(Mo_=_1)</th>\n",
       "      <td>28269.0</td>\n",
       "      <td>3.242633</td>\n",
       "      <td>1.570642</td>\n",
       "      <td>1.000000</td>\n",
       "      <td>2.000000</td>\n",
       "      <td>3.000000</td>\n",
       "      <td>5.000000</td>\n",
       "      <td>7.000000</td>\n",
       "    </tr>\n",
       "    <tr>\n",
       "      <th>Pickup_-_Day_of_Month</th>\n",
       "      <td>28269.0</td>\n",
       "      <td>15.645831</td>\n",
       "      <td>8.793188</td>\n",
       "      <td>1.000000</td>\n",
       "      <td>8.000000</td>\n",
       "      <td>15.000000</td>\n",
       "      <td>23.000000</td>\n",
       "      <td>31.000000</td>\n",
       "    </tr>\n",
       "    <tr>\n",
       "      <th>Pickup_-_Weekday_(Mo_=_1)</th>\n",
       "      <td>28269.0</td>\n",
       "      <td>3.242633</td>\n",
       "      <td>1.570642</td>\n",
       "      <td>1.000000</td>\n",
       "      <td>2.000000</td>\n",
       "      <td>3.000000</td>\n",
       "      <td>5.000000</td>\n",
       "      <td>7.000000</td>\n",
       "    </tr>\n",
       "    <tr>\n",
       "      <th>Distance_(KM)</th>\n",
       "      <td>28269.0</td>\n",
       "      <td>9.494641</td>\n",
       "      <td>5.645726</td>\n",
       "      <td>1.000000</td>\n",
       "      <td>5.000000</td>\n",
       "      <td>8.000000</td>\n",
       "      <td>13.000000</td>\n",
       "      <td>49.000000</td>\n",
       "    </tr>\n",
       "    <tr>\n",
       "      <th>Temperature</th>\n",
       "      <td>22466.0</td>\n",
       "      <td>23.255689</td>\n",
       "      <td>3.609541</td>\n",
       "      <td>11.200000</td>\n",
       "      <td>20.600000</td>\n",
       "      <td>23.400000</td>\n",
       "      <td>26.000000</td>\n",
       "      <td>32.100000</td>\n",
       "    </tr>\n",
       "    <tr>\n",
       "      <th>Precipitation_in_millimeters</th>\n",
       "      <td>751.0</td>\n",
       "      <td>7.573502</td>\n",
       "      <td>16.347971</td>\n",
       "      <td>0.100000</td>\n",
       "      <td>1.100000</td>\n",
       "      <td>2.900000</td>\n",
       "      <td>4.900000</td>\n",
       "      <td>99.100000</td>\n",
       "    </tr>\n",
       "    <tr>\n",
       "      <th>Pickup_Lat</th>\n",
       "      <td>28269.0</td>\n",
       "      <td>-1.281613</td>\n",
       "      <td>0.030392</td>\n",
       "      <td>-1.438302</td>\n",
       "      <td>-1.300921</td>\n",
       "      <td>-1.279395</td>\n",
       "      <td>-1.257147</td>\n",
       "      <td>-1.147170</td>\n",
       "    </tr>\n",
       "    <tr>\n",
       "      <th>Pickup_Long</th>\n",
       "      <td>28269.0</td>\n",
       "      <td>36.811235</td>\n",
       "      <td>0.037595</td>\n",
       "      <td>36.653621</td>\n",
       "      <td>36.784605</td>\n",
       "      <td>36.807040</td>\n",
       "      <td>36.829721</td>\n",
       "      <td>36.991046</td>\n",
       "    </tr>\n",
       "    <tr>\n",
       "      <th>Destination_Lat</th>\n",
       "      <td>28269.0</td>\n",
       "      <td>-1.282499</td>\n",
       "      <td>0.034677</td>\n",
       "      <td>-1.430298</td>\n",
       "      <td>-1.301043</td>\n",
       "      <td>-1.284001</td>\n",
       "      <td>-1.261199</td>\n",
       "      <td>-1.030225</td>\n",
       "    </tr>\n",
       "    <tr>\n",
       "      <th>Destination_Long</th>\n",
       "      <td>28269.0</td>\n",
       "      <td>36.811247</td>\n",
       "      <td>0.044420</td>\n",
       "      <td>36.606594</td>\n",
       "      <td>36.785934</td>\n",
       "      <td>36.807974</td>\n",
       "      <td>36.828916</td>\n",
       "      <td>37.018958</td>\n",
       "    </tr>\n",
       "    <tr>\n",
       "      <th>No_Of_Orders</th>\n",
       "      <td>28269.0</td>\n",
       "      <td>1698.576497</td>\n",
       "      <td>1588.125645</td>\n",
       "      <td>2.000000</td>\n",
       "      <td>557.000000</td>\n",
       "      <td>1212.000000</td>\n",
       "      <td>2311.000000</td>\n",
       "      <td>9756.000000</td>\n",
       "    </tr>\n",
       "    <tr>\n",
       "      <th>Age</th>\n",
       "      <td>28269.0</td>\n",
       "      <td>988.157522</td>\n",
       "      <td>653.147480</td>\n",
       "      <td>96.000000</td>\n",
       "      <td>494.000000</td>\n",
       "      <td>872.000000</td>\n",
       "      <td>1236.000000</td>\n",
       "      <td>3764.000000</td>\n",
       "    </tr>\n",
       "    <tr>\n",
       "      <th>Average_Rating</th>\n",
       "      <td>28269.0</td>\n",
       "      <td>13.882684</td>\n",
       "      <td>0.899127</td>\n",
       "      <td>0.000000</td>\n",
       "      <td>13.600000</td>\n",
       "      <td>14.000000</td>\n",
       "      <td>14.300000</td>\n",
       "      <td>15.200000</td>\n",
       "    </tr>\n",
       "    <tr>\n",
       "      <th>No_of_Ratings</th>\n",
       "      <td>28269.0</td>\n",
       "      <td>341.504333</td>\n",
       "      <td>404.672506</td>\n",
       "      <td>0.000000</td>\n",
       "      <td>61.000000</td>\n",
       "      <td>158.000000</td>\n",
       "      <td>495.000000</td>\n",
       "      <td>2298.000000</td>\n",
       "    </tr>\n",
       "  </tbody>\n",
       "</table>\n",
       "</div>"
      ],
      "text/plain": [
       "                                        count         mean          std  \\\n",
       "Platform_Type                         28269.0     2.752167     0.624872   \n",
       "Placement_-_Day_of_Month              28269.0    15.645725     8.793210   \n",
       "Placement_-_Weekday_(Mo_=_1)          28269.0     3.242527     1.570692   \n",
       "Confirmation_-_Day_of_Month           28269.0    15.645831     8.793188   \n",
       "Confirmation_-_Weekday_(Mo_=_1)       28269.0     3.242633     1.570642   \n",
       "Arrival_at_Pickup_-_Day_of_Month      28269.0    15.645831     8.793188   \n",
       "Arrival_at_Pickup_-_Weekday_(Mo_=_1)  28269.0     3.242633     1.570642   \n",
       "Pickup_-_Day_of_Month                 28269.0    15.645831     8.793188   \n",
       "Pickup_-_Weekday_(Mo_=_1)             28269.0     3.242633     1.570642   \n",
       "Distance_(KM)                         28269.0     9.494641     5.645726   \n",
       "Temperature                           22466.0    23.255689     3.609541   \n",
       "Precipitation_in_millimeters            751.0     7.573502    16.347971   \n",
       "Pickup_Lat                            28269.0    -1.281613     0.030392   \n",
       "Pickup_Long                           28269.0    36.811235     0.037595   \n",
       "Destination_Lat                       28269.0    -1.282499     0.034677   \n",
       "Destination_Long                      28269.0    36.811247     0.044420   \n",
       "No_Of_Orders                          28269.0  1698.576497  1588.125645   \n",
       "Age                                   28269.0   988.157522   653.147480   \n",
       "Average_Rating                        28269.0    13.882684     0.899127   \n",
       "No_of_Ratings                         28269.0   341.504333   404.672506   \n",
       "\n",
       "                                            min         25%          50%  \\\n",
       "Platform_Type                          1.000000    3.000000     3.000000   \n",
       "Placement_-_Day_of_Month               1.000000    8.000000    15.000000   \n",
       "Placement_-_Weekday_(Mo_=_1)           1.000000    2.000000     3.000000   \n",
       "Confirmation_-_Day_of_Month            1.000000    8.000000    15.000000   \n",
       "Confirmation_-_Weekday_(Mo_=_1)        1.000000    2.000000     3.000000   \n",
       "Arrival_at_Pickup_-_Day_of_Month       1.000000    8.000000    15.000000   \n",
       "Arrival_at_Pickup_-_Weekday_(Mo_=_1)   1.000000    2.000000     3.000000   \n",
       "Pickup_-_Day_of_Month                  1.000000    8.000000    15.000000   \n",
       "Pickup_-_Weekday_(Mo_=_1)              1.000000    2.000000     3.000000   \n",
       "Distance_(KM)                          1.000000    5.000000     8.000000   \n",
       "Temperature                           11.200000   20.600000    23.400000   \n",
       "Precipitation_in_millimeters           0.100000    1.100000     2.900000   \n",
       "Pickup_Lat                            -1.438302   -1.300921    -1.279395   \n",
       "Pickup_Long                           36.653621   36.784605    36.807040   \n",
       "Destination_Lat                       -1.430298   -1.301043    -1.284001   \n",
       "Destination_Long                      36.606594   36.785934    36.807974   \n",
       "No_Of_Orders                           2.000000  557.000000  1212.000000   \n",
       "Age                                   96.000000  494.000000   872.000000   \n",
       "Average_Rating                         0.000000   13.600000    14.000000   \n",
       "No_of_Ratings                          0.000000   61.000000   158.000000   \n",
       "\n",
       "                                              75%          max  \n",
       "Platform_Type                            3.000000     4.000000  \n",
       "Placement_-_Day_of_Month                23.000000    31.000000  \n",
       "Placement_-_Weekday_(Mo_=_1)             5.000000     7.000000  \n",
       "Confirmation_-_Day_of_Month             23.000000    31.000000  \n",
       "Confirmation_-_Weekday_(Mo_=_1)          5.000000     7.000000  \n",
       "Arrival_at_Pickup_-_Day_of_Month        23.000000    31.000000  \n",
       "Arrival_at_Pickup_-_Weekday_(Mo_=_1)     5.000000     7.000000  \n",
       "Pickup_-_Day_of_Month                   23.000000    31.000000  \n",
       "Pickup_-_Weekday_(Mo_=_1)                5.000000     7.000000  \n",
       "Distance_(KM)                           13.000000    49.000000  \n",
       "Temperature                             26.000000    32.100000  \n",
       "Precipitation_in_millimeters             4.900000    99.100000  \n",
       "Pickup_Lat                              -1.257147    -1.147170  \n",
       "Pickup_Long                             36.829721    36.991046  \n",
       "Destination_Lat                         -1.261199    -1.030225  \n",
       "Destination_Long                        36.828916    37.018958  \n",
       "No_Of_Orders                          2311.000000  9756.000000  \n",
       "Age                                   1236.000000  3764.000000  \n",
       "Average_Rating                          14.300000    15.200000  \n",
       "No_of_Ratings                          495.000000  2298.000000  "
      ]
     },
     "execution_count": 132,
     "metadata": {},
     "output_type": "execute_result"
    }
   ],
   "source": [
    "df.describe().T"
   ]
  },
  {
   "cell_type": "markdown",
   "metadata": {
    "id": "ZrY0YTXqDG6O"
   },
   "source": [
    "Based on the **means** and **standard deviations** of different columns, we may consider **standardizing** our data."
   ]
  },
  {
   "cell_type": "markdown",
   "metadata": {
    "id": "EH7k8_MFDG6O"
   },
   "source": [
    "## **2.3  Addressing Missing Values**"
   ]
  },
  {
   "cell_type": "markdown",
   "metadata": {},
   "source": [
    "Model can not handle missing data and a solution to that is to replace missing value with another value (mean, median and mode)."
   ]
  },
  {
   "cell_type": "markdown",
   "metadata": {
    "id": "q7PNKdwdDG6P"
   },
   "source": [
    "Pandas provides functions to check the number of missing values in the dataset. Missingno library takes it one step further and provides the distribution of missing values in the dataset by informative visualizations. Using the plots of missingno, we are able to see where the missing values are located in each column and if there is a correlation between missing values of different columns. "
   ]
  },
  {
   "cell_type": "markdown",
   "metadata": {
    "id": "4ylMMymuDG6P"
   },
   "source": [
    "Before handling missing values, it is very important to explore them in the dataset. "
   ]
  },
  {
   "cell_type": "code",
   "execution_count": 133,
   "metadata": {},
   "outputs": [
    {
     "data": {
      "text/plain": [
       "Order_No                                    0\n",
       "User_Id                                     0\n",
       "Vehicle_Type                                0\n",
       "Platform_Type                               0\n",
       "Personal_or_Business                        0\n",
       "Placement_-_Day_of_Month                    0\n",
       "Placement_-_Weekday_(Mo_=_1)                0\n",
       "Placement_-_Time                            0\n",
       "Confirmation_-_Day_of_Month                 0\n",
       "Confirmation_-_Weekday_(Mo_=_1)             0\n",
       "Confirmation_-_Time                         0\n",
       "Arrival_at_Pickup_-_Day_of_Month            0\n",
       "Arrival_at_Pickup_-_Weekday_(Mo_=_1)        0\n",
       "Arrival_at_Pickup_-_Time                    0\n",
       "Pickup_-_Day_of_Month                       0\n",
       "Pickup_-_Weekday_(Mo_=_1)                   0\n",
       "Pickup_-_Time                               0\n",
       "Distance_(KM)                               0\n",
       "Temperature                              5803\n",
       "Precipitation_in_millimeters            27518\n",
       "Pickup_Lat                                  0\n",
       "Pickup_Long                                 0\n",
       "Destination_Lat                             0\n",
       "Destination_Long                            0\n",
       "Rider_Id                                    0\n",
       "No_Of_Orders                                0\n",
       "Age                                         0\n",
       "Average_Rating                              0\n",
       "No_of_Ratings                               0\n",
       "dtype: int64"
      ]
     },
     "execution_count": 133,
     "metadata": {},
     "output_type": "execute_result"
    }
   ],
   "source": [
    "df.isnull().sum()"
   ]
  },
  {
   "cell_type": "markdown",
   "metadata": {
    "id": "ogBa0WYpDG6P"
   },
   "source": [
    "**The Matrix:**"
   ]
  },
  {
   "cell_type": "markdown",
   "metadata": {
    "id": "Re4K_e1oDG6Q"
   },
   "source": [
    "Using matrix we can  quickly find the pattern of missingness in the dataset."
   ]
  },
  {
   "cell_type": "code",
   "execution_count": 180,
   "metadata": {
    "colab": {
     "base_uri": "https://localhost:8080/",
     "height": 875
    },
    "id": "dVzpVsLWDG6Q",
    "outputId": "670f730c-5e6b-4b3c-aaf5-5b6342cec44f"
   },
   "outputs": [
    {
     "data": {
      "image/png": "[encoded data removed]",
      "text/plain": [
       "<Figure size 1440x576 with 2 Axes>"
      ]
     },
     "metadata": {
      "needs_background": "light"
     },
     "output_type": "display_data"
    }
   ],
   "source": [
    "msno.matrix(df, figsize=(20, 8),fontsize=10)\n",
    "plt.show()"
   ]
  },
  {
   "cell_type": "markdown",
   "metadata": {
    "id": "oo7a32yPDG6T"
   },
   "source": [
    "The plot above shows the amount and positions of missing values. The idea is to capture not only missing values, but also data sparsity.Temparature and participation_in millimetes have some missing values while the is no pattern detected from there missing values."
   ]
  },
  {
   "cell_type": "markdown",
   "metadata": {
    "id": "f8-F97sjDG6T"
   },
   "source": [
    "**The bar chart:**"
   ]
  },
  {
   "cell_type": "code",
   "execution_count": 183,
   "metadata": {
    "colab": {
     "base_uri": "https://localhost:8080/",
     "height": 916
    },
    "id": "WbYilGaMDG6U",
    "outputId": "3e3d6ee6-ab7b-4292-95ef-9278532ac583"
   },
   "outputs": [
    {
     "data": {
      "image/png": "[encoded data removed]",
      "text/plain": [
       "<Figure size 1440x576 with 3 Axes>"
      ]
     },
     "metadata": {
      "needs_background": "light"
     },
     "output_type": "display_data"
    }
   ],
   "source": [
    "msno.bar(df, figsize=(20, 8),fontsize=10)\n",
    "plt.show()"
   ]
  },
  {
   "cell_type": "markdown",
   "metadata": {
    "id": "FrQ3Jv9SDG6W"
   },
   "source": [
    "The bar plot shows bars that are proportional to the number of non-missing values as well as providing the actual number of non-missing values. We get an idea of how much of each column is missing. Less than 20% of Temperature data is missing while precipitation_in_millimeters has quite a hug number of missing values approximately more that 70% of the data is missing. The next quetion will be is it valuable to keep the precipitation_in_millimeters coulmn?"
   ]
  },
  {
   "cell_type": "markdown",
   "metadata": {
    "id": "9x63qNTUDG6X"
   },
   "source": [
    "**Drop precipitation_in_millimeters**"
   ]
  },
  {
   "cell_type": "code",
   "execution_count": 136,
   "metadata": {},
   "outputs": [],
   "source": [
    "new_df = df.drop(['Precipitation_in_millimeters'], axis = 1)"
   ]
  },
  {
   "cell_type": "markdown",
   "metadata": {
    "id": "r22eW3rwDG6c"
   },
   "source": [
    "**Replacing missing values in Temperature with median**"
   ]
  },
  {
   "cell_type": "code",
   "execution_count": 137,
   "metadata": {
    "id": "AxIXFOwyDG6d"
   },
   "outputs": [],
   "source": [
    "\n",
    "new_df['Temperature'].fillna(new_df['Temperature'].mean(), inplace=True)\n",
    "#df['Precipitation_in_millimeters'].fillna(df['Precipitation_in_millimeters'].mean(), inplace=True)"
   ]
  },
  {
   "cell_type": "code",
   "execution_count": 138,
   "metadata": {},
   "outputs": [
    {
     "data": {
      "text/plain": [
       "Order_No                                0\n",
       "User_Id                                 0\n",
       "Vehicle_Type                            0\n",
       "Platform_Type                           0\n",
       "Personal_or_Business                    0\n",
       "Placement_-_Day_of_Month                0\n",
       "Placement_-_Weekday_(Mo_=_1)            0\n",
       "Placement_-_Time                        0\n",
       "Confirmation_-_Day_of_Month             0\n",
       "Confirmation_-_Weekday_(Mo_=_1)         0\n",
       "Confirmation_-_Time                     0\n",
       "Arrival_at_Pickup_-_Day_of_Month        0\n",
       "Arrival_at_Pickup_-_Weekday_(Mo_=_1)    0\n",
       "Arrival_at_Pickup_-_Time                0\n",
       "Pickup_-_Day_of_Month                   0\n",
       "Pickup_-_Weekday_(Mo_=_1)               0\n",
       "Pickup_-_Time                           0\n",
       "Distance_(KM)                           0\n",
       "Temperature                             0\n",
       "Pickup_Lat                              0\n",
       "Pickup_Long                             0\n",
       "Destination_Lat                         0\n",
       "Destination_Long                        0\n",
       "Rider_Id                                0\n",
       "No_Of_Orders                            0\n",
       "Age                                     0\n",
       "Average_Rating                          0\n",
       "No_of_Ratings                           0\n",
       "dtype: int64"
      ]
     },
     "execution_count": 138,
     "metadata": {},
     "output_type": "execute_result"
    }
   ],
   "source": [
    "new_df.isnull().sum()"
   ]
  },
  {
   "cell_type": "markdown",
   "metadata": {
    "id": "JNv0bPfdDG6i"
   },
   "source": [
    "# **3. Exploratory Data Analysis**"
   ]
  },
  {
   "cell_type": "markdown",
   "metadata": {
    "id": "S07xo41PDG6j"
   },
   "source": [
    "## **3.1 Addressing Outliers**"
   ]
  },
  {
   "cell_type": "markdown",
   "metadata": {
    "id": "11uCLbITDG6j"
   },
   "source": [
    "Outlier is an observation point that is distant from other observations. Box-plot are useful for viewing outliers,an outlier is defined as a data point that is located outside the whiskers of the box plot."
   ]
  },
  {
   "cell_type": "code",
   "execution_count": 139,
   "metadata": {
    "colab": {
     "base_uri": "https://localhost:8080/",
     "height": 444
    },
    "id": "eVxxpofYDG6j",
    "outputId": "c9d3405e-51af-426d-b028-45bf790f355f"
   },
   "outputs": [
    {
     "data": {
      "image/png": "[encoded data removed]",
      "text/plain": [
       "<Figure size 1440x360 with 2 Axes>"
      ]
     },
     "metadata": {
      "needs_background": "light"
     },
     "output_type": "display_data"
    }
   ],
   "source": [
    "fig,ax = plt.subplots(1,2,figsize=(20,5))\n",
    "sns.boxplot(new_df['Temperature'], ax=ax[0])\n",
    "sns.boxplot(new_df['Distance_(KM)'], ax=ax[1])\n",
    "plt.show()"
   ]
  },
  {
   "cell_type": "code",
   "execution_count": null,
   "metadata": {
    "id": "rKu_CkAnDG6l"
   },
   "outputs": [],
   "source": []
  },
  {
   "cell_type": "markdown",
   "metadata": {
    "id": "63Dgl7yfDG6n"
   },
   "source": [
    "## **3.2 Checking for Linearity**"
   ]
  },
  {
   "cell_type": "code",
   "execution_count": null,
   "metadata": {},
   "outputs": [],
   "source": [
    "sns.pairplot(df)"
   ]
  },
  {
   "cell_type": "markdown",
   "metadata": {
    "id": "1LkKh9RpDG6p"
   },
   "source": [
    "## **3.3 Distribution of the predict**"
   ]
  },
  {
   "cell_type": "markdown",
   "metadata": {
    "id": "04saacxLDG6p"
   },
   "source": [
    "Seaborn distplot lets you show a histogram with a line on it."
   ]
  },
  {
   "cell_type": "code",
   "execution_count": 140,
   "metadata": {
    "colab": {
     "base_uri": "https://localhost:8080/",
     "height": 429
    },
    "id": "tmqbkxxtDG6p",
    "outputId": "98441647-5c02-40ca-b407-748a65ddcc89",
    "scrolled": true
   },
   "outputs": [
    {
     "data": {
      "text/plain": [
       "<matplotlib.axes._subplots.AxesSubplot at 0x2e109d5f9c8>"
      ]
     },
     "execution_count": 140,
     "metadata": {},
     "output_type": "execute_result"
    },
    {
     "data": {
      "image/png": "[encoded data removed]",
      "text/plain": [
       "<Figure size 1440x360 with 2 Axes>"
      ]
     },
     "metadata": {
      "needs_background": "light"
     },
     "output_type": "display_data"
    }
   ],
   "source": [
    "fig,ax = plt.subplots(1,2,figsize=(20,5))\n",
    "sns.boxplot(y, ax=ax[0])\n",
    "sns.distplot(y, fit=norm)"
   ]
  },
  {
   "cell_type": "markdown",
   "metadata": {
    "id": "Kk-QcBoYDG6r"
   },
   "source": [
    "# **4. Feature Engineering and Selection**"
   ]
  },
  {
   "cell_type": "markdown",
   "metadata": {
    "id": "FNI2PFqBDG6s"
   },
   "source": [
    "## 4.1 Base Model"
   ]
  },
  {
   "cell_type": "markdown",
   "metadata": {
    "id": "vZab8idkDG6t"
   },
   "source": [
    "## Dropping co-linear variables as well as time variables as they will impact our memory"
   ]
  },
  {
   "cell_type": "code",
   "execution_count": 141,
   "metadata": {
    "id": "DoDjglp9DG6t"
   },
   "outputs": [],
   "source": [
    "df_base = new_df.drop(['Placement_-_Day_of_Month','Placement_-_Weekday_(Mo_=_1)','Confirmation_-_Day_of_Month',\n",
    "              'Confirmation_-_Weekday_(Mo_=_1)','Arrival_at_Pickup_-_Day_of_Month','Arrival_at_Pickup_-_Weekday_(Mo_=_1)',\n",
    "             'Pickup_-_Day_of_Month','Pickup_-_Weekday_(Mo_=_1)','Placement_-_Time','Confirmation_-_Time',\n",
    "             'Arrival_at_Pickup_-_Time','Pickup_-_Time'], axis=1)"
   ]
  },
  {
   "cell_type": "code",
   "execution_count": 142,
   "metadata": {
    "colab": {
     "base_uri": "https://localhost:8080/",
     "height": 231
    },
    "id": "ctge0Vn6DG6v",
    "outputId": "d89c1492-1e32-4143-bce0-643caa5ee1b6",
    "scrolled": true
   },
   "outputs": [
    {
     "data": {
      "text/html": [
       "<div>\n",
       "<style scoped>\n",
       "    .dataframe tbody tr th:only-of-type {\n",
       "        vertical-align: middle;\n",
       "    }\n",
       "\n",
       "    .dataframe tbody tr th {\n",
       "        vertical-align: top;\n",
       "    }\n",
       "\n",
       "    .dataframe thead th {\n",
       "        text-align: right;\n",
       "    }\n",
       "</style>\n",
       "<table border=\"1\" class=\"dataframe\">\n",
       "  <thead>\n",
       "    <tr style=\"text-align: right;\">\n",
       "      <th></th>\n",
       "      <th>Platform_Type</th>\n",
       "      <th>Personal_or_Business</th>\n",
       "      <th>Distance_(KM)</th>\n",
       "      <th>Temperature</th>\n",
       "      <th>Pickup_Lat</th>\n",
       "      <th>Pickup_Long</th>\n",
       "      <th>Destination_Lat</th>\n",
       "      <th>Destination_Long</th>\n",
       "      <th>No_Of_Orders</th>\n",
       "      <th>Age</th>\n",
       "      <th>Average_Rating</th>\n",
       "      <th>No_of_Ratings</th>\n",
       "    </tr>\n",
       "  </thead>\n",
       "  <tbody>\n",
       "    <tr>\n",
       "      <th>0</th>\n",
       "      <td>3</td>\n",
       "      <td>Business</td>\n",
       "      <td>4</td>\n",
       "      <td>20.400000</td>\n",
       "      <td>-1.317755</td>\n",
       "      <td>36.830370</td>\n",
       "      <td>-1.300406</td>\n",
       "      <td>36.829741</td>\n",
       "      <td>1637</td>\n",
       "      <td>1309</td>\n",
       "      <td>13.8</td>\n",
       "      <td>549</td>\n",
       "    </tr>\n",
       "    <tr>\n",
       "      <th>1</th>\n",
       "      <td>3</td>\n",
       "      <td>Personal</td>\n",
       "      <td>16</td>\n",
       "      <td>26.400000</td>\n",
       "      <td>-1.351453</td>\n",
       "      <td>36.899315</td>\n",
       "      <td>-1.295004</td>\n",
       "      <td>36.814358</td>\n",
       "      <td>396</td>\n",
       "      <td>339</td>\n",
       "      <td>13.6</td>\n",
       "      <td>69</td>\n",
       "    </tr>\n",
       "    <tr>\n",
       "      <th>2</th>\n",
       "      <td>3</td>\n",
       "      <td>Business</td>\n",
       "      <td>3</td>\n",
       "      <td>23.255689</td>\n",
       "      <td>-1.308284</td>\n",
       "      <td>36.843419</td>\n",
       "      <td>-1.300921</td>\n",
       "      <td>36.828195</td>\n",
       "      <td>1023</td>\n",
       "      <td>242</td>\n",
       "      <td>12.5</td>\n",
       "      <td>114</td>\n",
       "    </tr>\n",
       "    <tr>\n",
       "      <th>3</th>\n",
       "      <td>3</td>\n",
       "      <td>Business</td>\n",
       "      <td>9</td>\n",
       "      <td>19.200000</td>\n",
       "      <td>-1.281301</td>\n",
       "      <td>36.832396</td>\n",
       "      <td>-1.257147</td>\n",
       "      <td>36.795063</td>\n",
       "      <td>886</td>\n",
       "      <td>283</td>\n",
       "      <td>14.5</td>\n",
       "      <td>113</td>\n",
       "    </tr>\n",
       "    <tr>\n",
       "      <th>4</th>\n",
       "      <td>1</td>\n",
       "      <td>Personal</td>\n",
       "      <td>9</td>\n",
       "      <td>15.400000</td>\n",
       "      <td>-1.266597</td>\n",
       "      <td>36.792118</td>\n",
       "      <td>-1.295041</td>\n",
       "      <td>36.809817</td>\n",
       "      <td>2311</td>\n",
       "      <td>872</td>\n",
       "      <td>14.1</td>\n",
       "      <td>533</td>\n",
       "    </tr>\n",
       "  </tbody>\n",
       "</table>\n",
       "</div>"
      ],
      "text/plain": [
       "   Platform_Type Personal_or_Business  Distance_(KM)  Temperature  Pickup_Lat  \\\n",
       "0              3             Business              4    20.400000   -1.317755   \n",
       "1              3             Personal             16    26.400000   -1.351453   \n",
       "2              3             Business              3    23.255689   -1.308284   \n",
       "3              3             Business              9    19.200000   -1.281301   \n",
       "4              1             Personal              9    15.400000   -1.266597   \n",
       "\n",
       "   Pickup_Long  Destination_Lat  Destination_Long  No_Of_Orders   Age  \\\n",
       "0    36.830370        -1.300406         36.829741          1637  1309   \n",
       "1    36.899315        -1.295004         36.814358           396   339   \n",
       "2    36.843419        -1.300921         36.828195          1023   242   \n",
       "3    36.832396        -1.257147         36.795063           886   283   \n",
       "4    36.792118        -1.295041         36.809817          2311   872   \n",
       "\n",
       "   Average_Rating  No_of_Ratings  \n",
       "0            13.8            549  \n",
       "1            13.6             69  \n",
       "2            12.5            114  \n",
       "3            14.5            113  \n",
       "4            14.1            533  "
      ]
     },
     "execution_count": 142,
     "metadata": {},
     "output_type": "execute_result"
    }
   ],
   "source": [
    "df_final = df_base.drop(['Order_No','User_Id','Vehicle_Type','Rider_Id'], axis=1) # Dropping IDs\n",
    "df_final.head()"
   ]
  },
  {
   "cell_type": "code",
   "execution_count": 143,
   "metadata": {
    "colab": {
     "base_uri": "https://localhost:8080/",
     "height": 231
    },
    "id": "p4xtMiadDG61",
    "outputId": "22975949-b8b0-4bea-c740-8636b3a86fc5"
   },
   "outputs": [
    {
     "data": {
      "text/html": [
       "<div>\n",
       "<style scoped>\n",
       "    .dataframe tbody tr th:only-of-type {\n",
       "        vertical-align: middle;\n",
       "    }\n",
       "\n",
       "    .dataframe tbody tr th {\n",
       "        vertical-align: top;\n",
       "    }\n",
       "\n",
       "    .dataframe thead th {\n",
       "        text-align: right;\n",
       "    }\n",
       "</style>\n",
       "<table border=\"1\" class=\"dataframe\">\n",
       "  <thead>\n",
       "    <tr style=\"text-align: right;\">\n",
       "      <th></th>\n",
       "      <th>Platform_Type</th>\n",
       "      <th>Personal_or_Business</th>\n",
       "      <th>Distance_(KM)</th>\n",
       "      <th>Temperature</th>\n",
       "      <th>Pickup_Lat</th>\n",
       "      <th>Pickup_Long</th>\n",
       "      <th>Destination_Lat</th>\n",
       "      <th>Destination_Long</th>\n",
       "      <th>No_Of_Orders</th>\n",
       "      <th>Age</th>\n",
       "      <th>Average_Rating</th>\n",
       "      <th>No_of_Ratings</th>\n",
       "    </tr>\n",
       "  </thead>\n",
       "  <tbody>\n",
       "    <tr>\n",
       "      <th>0</th>\n",
       "      <td>3</td>\n",
       "      <td>Business</td>\n",
       "      <td>4</td>\n",
       "      <td>20.400000</td>\n",
       "      <td>-1.317755</td>\n",
       "      <td>36.830370</td>\n",
       "      <td>-1.300406</td>\n",
       "      <td>36.829741</td>\n",
       "      <td>1637</td>\n",
       "      <td>1309</td>\n",
       "      <td>13.8</td>\n",
       "      <td>549</td>\n",
       "    </tr>\n",
       "    <tr>\n",
       "      <th>1</th>\n",
       "      <td>3</td>\n",
       "      <td>Personal</td>\n",
       "      <td>16</td>\n",
       "      <td>26.400000</td>\n",
       "      <td>-1.351453</td>\n",
       "      <td>36.899315</td>\n",
       "      <td>-1.295004</td>\n",
       "      <td>36.814358</td>\n",
       "      <td>396</td>\n",
       "      <td>339</td>\n",
       "      <td>13.6</td>\n",
       "      <td>69</td>\n",
       "    </tr>\n",
       "    <tr>\n",
       "      <th>2</th>\n",
       "      <td>3</td>\n",
       "      <td>Business</td>\n",
       "      <td>3</td>\n",
       "      <td>23.255689</td>\n",
       "      <td>-1.308284</td>\n",
       "      <td>36.843419</td>\n",
       "      <td>-1.300921</td>\n",
       "      <td>36.828195</td>\n",
       "      <td>1023</td>\n",
       "      <td>242</td>\n",
       "      <td>12.5</td>\n",
       "      <td>114</td>\n",
       "    </tr>\n",
       "    <tr>\n",
       "      <th>3</th>\n",
       "      <td>3</td>\n",
       "      <td>Business</td>\n",
       "      <td>9</td>\n",
       "      <td>19.200000</td>\n",
       "      <td>-1.281301</td>\n",
       "      <td>36.832396</td>\n",
       "      <td>-1.257147</td>\n",
       "      <td>36.795063</td>\n",
       "      <td>886</td>\n",
       "      <td>283</td>\n",
       "      <td>14.5</td>\n",
       "      <td>113</td>\n",
       "    </tr>\n",
       "    <tr>\n",
       "      <th>4</th>\n",
       "      <td>1</td>\n",
       "      <td>Personal</td>\n",
       "      <td>9</td>\n",
       "      <td>15.400000</td>\n",
       "      <td>-1.266597</td>\n",
       "      <td>36.792118</td>\n",
       "      <td>-1.295041</td>\n",
       "      <td>36.809817</td>\n",
       "      <td>2311</td>\n",
       "      <td>872</td>\n",
       "      <td>14.1</td>\n",
       "      <td>533</td>\n",
       "    </tr>\n",
       "  </tbody>\n",
       "</table>\n",
       "</div>"
      ],
      "text/plain": [
       "   Platform_Type Personal_or_Business  Distance_(KM)  Temperature  Pickup_Lat  \\\n",
       "0              3             Business              4    20.400000   -1.317755   \n",
       "1              3             Personal             16    26.400000   -1.351453   \n",
       "2              3             Business              3    23.255689   -1.308284   \n",
       "3              3             Business              9    19.200000   -1.281301   \n",
       "4              1             Personal              9    15.400000   -1.266597   \n",
       "\n",
       "   Pickup_Long  Destination_Lat  Destination_Long  No_Of_Orders   Age  \\\n",
       "0    36.830370        -1.300406         36.829741          1637  1309   \n",
       "1    36.899315        -1.295004         36.814358           396   339   \n",
       "2    36.843419        -1.300921         36.828195          1023   242   \n",
       "3    36.832396        -1.257147         36.795063           886   283   \n",
       "4    36.792118        -1.295041         36.809817          2311   872   \n",
       "\n",
       "   Average_Rating  No_of_Ratings  \n",
       "0            13.8            549  \n",
       "1            13.6             69  \n",
       "2            12.5            114  \n",
       "3            14.5            113  \n",
       "4            14.1            533  "
      ]
     },
     "execution_count": 143,
     "metadata": {},
     "output_type": "execute_result"
    }
   ],
   "source": [
    "df_final.head()"
   ]
  },
  {
   "cell_type": "markdown",
   "metadata": {
    "id": "7MCghprzDG63"
   },
   "source": [
    "## Dummying out the last categorical column"
   ]
  },
  {
   "cell_type": "code",
   "execution_count": 144,
   "metadata": {
    "colab": {
     "base_uri": "https://localhost:8080/",
     "height": 231
    },
    "id": "ZeNcmGOzDG64",
    "outputId": "1a4df8cd-cf7e-4318-d568-c1ac6a21232b"
   },
   "outputs": [
    {
     "data": {
      "text/html": [
       "<div>\n",
       "<style scoped>\n",
       "    .dataframe tbody tr th:only-of-type {\n",
       "        vertical-align: middle;\n",
       "    }\n",
       "\n",
       "    .dataframe tbody tr th {\n",
       "        vertical-align: top;\n",
       "    }\n",
       "\n",
       "    .dataframe thead th {\n",
       "        text-align: right;\n",
       "    }\n",
       "</style>\n",
       "<table border=\"1\" class=\"dataframe\">\n",
       "  <thead>\n",
       "    <tr style=\"text-align: right;\">\n",
       "      <th></th>\n",
       "      <th>Platform_Type</th>\n",
       "      <th>Distance_(KM)</th>\n",
       "      <th>Temperature</th>\n",
       "      <th>Pickup_Lat</th>\n",
       "      <th>Pickup_Long</th>\n",
       "      <th>Destination_Lat</th>\n",
       "      <th>Destination_Long</th>\n",
       "      <th>No_Of_Orders</th>\n",
       "      <th>Age</th>\n",
       "      <th>Average_Rating</th>\n",
       "      <th>No_of_Ratings</th>\n",
       "      <th>Personal_or_Business_Personal</th>\n",
       "    </tr>\n",
       "  </thead>\n",
       "  <tbody>\n",
       "    <tr>\n",
       "      <th>0</th>\n",
       "      <td>3</td>\n",
       "      <td>4</td>\n",
       "      <td>20.400000</td>\n",
       "      <td>-1.317755</td>\n",
       "      <td>36.830370</td>\n",
       "      <td>-1.300406</td>\n",
       "      <td>36.829741</td>\n",
       "      <td>1637</td>\n",
       "      <td>1309</td>\n",
       "      <td>13.8</td>\n",
       "      <td>549</td>\n",
       "      <td>0</td>\n",
       "    </tr>\n",
       "    <tr>\n",
       "      <th>1</th>\n",
       "      <td>3</td>\n",
       "      <td>16</td>\n",
       "      <td>26.400000</td>\n",
       "      <td>-1.351453</td>\n",
       "      <td>36.899315</td>\n",
       "      <td>-1.295004</td>\n",
       "      <td>36.814358</td>\n",
       "      <td>396</td>\n",
       "      <td>339</td>\n",
       "      <td>13.6</td>\n",
       "      <td>69</td>\n",
       "      <td>1</td>\n",
       "    </tr>\n",
       "    <tr>\n",
       "      <th>2</th>\n",
       "      <td>3</td>\n",
       "      <td>3</td>\n",
       "      <td>23.255689</td>\n",
       "      <td>-1.308284</td>\n",
       "      <td>36.843419</td>\n",
       "      <td>-1.300921</td>\n",
       "      <td>36.828195</td>\n",
       "      <td>1023</td>\n",
       "      <td>242</td>\n",
       "      <td>12.5</td>\n",
       "      <td>114</td>\n",
       "      <td>0</td>\n",
       "    </tr>\n",
       "    <tr>\n",
       "      <th>3</th>\n",
       "      <td>3</td>\n",
       "      <td>9</td>\n",
       "      <td>19.200000</td>\n",
       "      <td>-1.281301</td>\n",
       "      <td>36.832396</td>\n",
       "      <td>-1.257147</td>\n",
       "      <td>36.795063</td>\n",
       "      <td>886</td>\n",
       "      <td>283</td>\n",
       "      <td>14.5</td>\n",
       "      <td>113</td>\n",
       "      <td>0</td>\n",
       "    </tr>\n",
       "    <tr>\n",
       "      <th>4</th>\n",
       "      <td>1</td>\n",
       "      <td>9</td>\n",
       "      <td>15.400000</td>\n",
       "      <td>-1.266597</td>\n",
       "      <td>36.792118</td>\n",
       "      <td>-1.295041</td>\n",
       "      <td>36.809817</td>\n",
       "      <td>2311</td>\n",
       "      <td>872</td>\n",
       "      <td>14.1</td>\n",
       "      <td>533</td>\n",
       "      <td>1</td>\n",
       "    </tr>\n",
       "  </tbody>\n",
       "</table>\n",
       "</div>"
      ],
      "text/plain": [
       "   Platform_Type  Distance_(KM)  Temperature  Pickup_Lat  Pickup_Long  \\\n",
       "0              3              4    20.400000   -1.317755    36.830370   \n",
       "1              3             16    26.400000   -1.351453    36.899315   \n",
       "2              3              3    23.255689   -1.308284    36.843419   \n",
       "3              3              9    19.200000   -1.281301    36.832396   \n",
       "4              1              9    15.400000   -1.266597    36.792118   \n",
       "\n",
       "   Destination_Lat  Destination_Long  No_Of_Orders   Age  Average_Rating  \\\n",
       "0        -1.300406         36.829741          1637  1309            13.8   \n",
       "1        -1.295004         36.814358           396   339            13.6   \n",
       "2        -1.300921         36.828195          1023   242            12.5   \n",
       "3        -1.257147         36.795063           886   283            14.5   \n",
       "4        -1.295041         36.809817          2311   872            14.1   \n",
       "\n",
       "   No_of_Ratings  Personal_or_Business_Personal  \n",
       "0            549                              0  \n",
       "1             69                              1  \n",
       "2            114                              0  \n",
       "3            113                              0  \n",
       "4            533                              1  "
      ]
     },
     "execution_count": 144,
     "metadata": {},
     "output_type": "execute_result"
    }
   ],
   "source": [
    "df_final = pd.get_dummies(df_final, drop_first=True)\n",
    "df_final.head()"
   ]
  },
  {
   "cell_type": "markdown",
   "metadata": {
    "id": "v2S3JpVFDG66"
   },
   "source": [
    "### Splitting our dataset again"
   ]
  },
  {
   "cell_type": "code",
   "execution_count": 145,
   "metadata": {
    "id": "eKnQ2B0MDG66"
   },
   "outputs": [],
   "source": [
    "# y = np.array(df_final[\"Time_from_Pickup_to_Arrival\"]).reshape(-1,1) #assigning the target variable\n",
    "finaltrain = df_final[:len(train_df)]\n",
    "finaltest = df_final[len(train_df):]"
   ]
  },
  {
   "cell_type": "code",
   "execution_count": 146,
   "metadata": {
    "colab": {
     "base_uri": "https://localhost:8080/",
     "height": 355
    },
    "id": "5y9cCxg2cZpq",
    "outputId": "1c2a8ab7-c869-4830-efe8-7e4246d66eaa"
   },
   "outputs": [
    {
     "name": "stdout",
     "output_type": "stream",
     "text": [
      "<class 'pandas.core.frame.DataFrame'>\n",
      "Int64Index: 28269 entries, 0 to 28268\n",
      "Data columns (total 12 columns):\n",
      " #   Column                         Non-Null Count  Dtype  \n",
      "---  ------                         --------------  -----  \n",
      " 0   Platform_Type                  28269 non-null  int64  \n",
      " 1   Distance_(KM)                  28269 non-null  int64  \n",
      " 2   Temperature                    28269 non-null  float64\n",
      " 3   Pickup_Lat                     28269 non-null  float64\n",
      " 4   Pickup_Long                    28269 non-null  float64\n",
      " 5   Destination_Lat                28269 non-null  float64\n",
      " 6   Destination_Long               28269 non-null  float64\n",
      " 7   No_Of_Orders                   28269 non-null  int64  \n",
      " 8   Age                            28269 non-null  int64  \n",
      " 9   Average_Rating                 28269 non-null  float64\n",
      " 10  No_of_Ratings                  28269 non-null  int64  \n",
      " 11  Personal_or_Business_Personal  28269 non-null  uint8  \n",
      "dtypes: float64(6), int64(5), uint8(1)\n",
      "memory usage: 2.6 MB\n"
     ]
    }
   ],
   "source": [
    "df_final.info()"
   ]
  },
  {
   "cell_type": "markdown",
   "metadata": {
    "id": "T5cb2ZksDG6_"
   },
   "source": [
    "### Train and Test Split - Using test here as validation"
   ]
  },
  {
   "cell_type": "code",
   "execution_count": 147,
   "metadata": {
    "id": "WnNCuQu_DG6_"
   },
   "outputs": [],
   "source": [
    "x_train, x_val, y_train, y_val = train_test_split(finaltrain, y, test_size = 0.3)"
   ]
  },
  {
   "cell_type": "code",
   "execution_count": 148,
   "metadata": {
    "colab": {
     "base_uri": "https://localhost:8080/",
     "height": 231
    },
    "id": "lF92gp3wDG7C",
    "outputId": "cac12b8a-7c85-4874-feee-cd7aad5341ef"
   },
   "outputs": [
    {
     "data": {
      "text/html": [
       "<div>\n",
       "<style scoped>\n",
       "    .dataframe tbody tr th:only-of-type {\n",
       "        vertical-align: middle;\n",
       "    }\n",
       "\n",
       "    .dataframe tbody tr th {\n",
       "        vertical-align: top;\n",
       "    }\n",
       "\n",
       "    .dataframe thead th {\n",
       "        text-align: right;\n",
       "    }\n",
       "</style>\n",
       "<table border=\"1\" class=\"dataframe\">\n",
       "  <thead>\n",
       "    <tr style=\"text-align: right;\">\n",
       "      <th></th>\n",
       "      <th>Platform_Type</th>\n",
       "      <th>Distance_(KM)</th>\n",
       "      <th>Temperature</th>\n",
       "      <th>Pickup_Lat</th>\n",
       "      <th>Pickup_Long</th>\n",
       "      <th>Destination_Lat</th>\n",
       "      <th>Destination_Long</th>\n",
       "      <th>No_Of_Orders</th>\n",
       "      <th>Age</th>\n",
       "      <th>Average_Rating</th>\n",
       "      <th>No_of_Ratings</th>\n",
       "      <th>Personal_or_Business_Personal</th>\n",
       "    </tr>\n",
       "  </thead>\n",
       "  <tbody>\n",
       "    <tr>\n",
       "      <th>14250</th>\n",
       "      <td>3</td>\n",
       "      <td>11</td>\n",
       "      <td>23.255689</td>\n",
       "      <td>-1.297739</td>\n",
       "      <td>36.803145</td>\n",
       "      <td>-1.326710</td>\n",
       "      <td>36.860014</td>\n",
       "      <td>626</td>\n",
       "      <td>307</td>\n",
       "      <td>13.5</td>\n",
       "      <td>54</td>\n",
       "      <td>1</td>\n",
       "    </tr>\n",
       "    <tr>\n",
       "      <th>2228</th>\n",
       "      <td>1</td>\n",
       "      <td>4</td>\n",
       "      <td>16.500000</td>\n",
       "      <td>-1.301217</td>\n",
       "      <td>36.809399</td>\n",
       "      <td>-1.306697</td>\n",
       "      <td>36.785934</td>\n",
       "      <td>779</td>\n",
       "      <td>873</td>\n",
       "      <td>14.2</td>\n",
       "      <td>89</td>\n",
       "      <td>1</td>\n",
       "    </tr>\n",
       "    <tr>\n",
       "      <th>19227</th>\n",
       "      <td>3</td>\n",
       "      <td>19</td>\n",
       "      <td>23.255689</td>\n",
       "      <td>-1.317755</td>\n",
       "      <td>36.830370</td>\n",
       "      <td>-1.319279</td>\n",
       "      <td>36.711299</td>\n",
       "      <td>7056</td>\n",
       "      <td>2047</td>\n",
       "      <td>13.3</td>\n",
       "      <td>411</td>\n",
       "      <td>0</td>\n",
       "    </tr>\n",
       "    <tr>\n",
       "      <th>19534</th>\n",
       "      <td>3</td>\n",
       "      <td>5</td>\n",
       "      <td>23.800000</td>\n",
       "      <td>-1.278525</td>\n",
       "      <td>36.826535</td>\n",
       "      <td>-1.276533</td>\n",
       "      <td>36.801505</td>\n",
       "      <td>135</td>\n",
       "      <td>726</td>\n",
       "      <td>14.6</td>\n",
       "      <td>14</td>\n",
       "      <td>0</td>\n",
       "    </tr>\n",
       "    <tr>\n",
       "      <th>19505</th>\n",
       "      <td>3</td>\n",
       "      <td>10</td>\n",
       "      <td>23.255689</td>\n",
       "      <td>-1.261558</td>\n",
       "      <td>36.814951</td>\n",
       "      <td>-1.294518</td>\n",
       "      <td>36.768535</td>\n",
       "      <td>2273</td>\n",
       "      <td>1239</td>\n",
       "      <td>14.0</td>\n",
       "      <td>624</td>\n",
       "      <td>0</td>\n",
       "    </tr>\n",
       "  </tbody>\n",
       "</table>\n",
       "</div>"
      ],
      "text/plain": [
       "       Platform_Type  Distance_(KM)  Temperature  Pickup_Lat  Pickup_Long  \\\n",
       "14250              3             11    23.255689   -1.297739    36.803145   \n",
       "2228               1              4    16.500000   -1.301217    36.809399   \n",
       "19227              3             19    23.255689   -1.317755    36.830370   \n",
       "19534              3              5    23.800000   -1.278525    36.826535   \n",
       "19505              3             10    23.255689   -1.261558    36.814951   \n",
       "\n",
       "       Destination_Lat  Destination_Long  No_Of_Orders   Age  Average_Rating  \\\n",
       "14250        -1.326710         36.860014           626   307            13.5   \n",
       "2228         -1.306697         36.785934           779   873            14.2   \n",
       "19227        -1.319279         36.711299          7056  2047            13.3   \n",
       "19534        -1.276533         36.801505           135   726            14.6   \n",
       "19505        -1.294518         36.768535          2273  1239            14.0   \n",
       "\n",
       "       No_of_Ratings  Personal_or_Business_Personal  \n",
       "14250             54                              1  \n",
       "2228              89                              1  \n",
       "19227            411                              0  \n",
       "19534             14                              0  \n",
       "19505            624                              0  "
      ]
     },
     "execution_count": 148,
     "metadata": {},
     "output_type": "execute_result"
    }
   ],
   "source": [
    "x_train.head()"
   ]
  },
  {
   "cell_type": "markdown",
   "metadata": {},
   "source": [
    "## 4.2  Feature Interaction"
   ]
  },
  {
   "cell_type": "markdown",
   "metadata": {},
   "source": [
    "### Converting Objects to Datetime"
   ]
  },
  {
   "cell_type": "code",
   "execution_count": 151,
   "metadata": {},
   "outputs": [],
   "source": [
    "new_df['Pickup_-_Time'] = pd.to_datetime(new_df['Pickup_-_Time'])\n",
    "new_df['Confirmation_-_Time'] = pd.to_datetime(new_df['Confirmation_-_Time'])\n",
    "new_df['Arrival_at_Pickup_-_Time'] = pd.to_datetime(new_df['Arrival_at_Pickup_-_Time'])\n",
    "new_df['Placement_-_Time'] = pd.to_datetime(new_df['Placement_-_Time'])"
   ]
  },
  {
   "cell_type": "markdown",
   "metadata": {},
   "source": [
    "### Creating new variables"
   ]
  },
  {
   "cell_type": "code",
   "execution_count": 152,
   "metadata": {},
   "outputs": [],
   "source": [
    "new_df['Time_from_Placement_to_Confirmation'] = (new_df['Confirmation_-_Time'] - new_df['Placement_-_Time']).dt.total_seconds().astype(int)\n",
    "new_df['Time_from_Confirmation_to_Arrival_at_Pickup'] = (new_df['Arrival_at_Pickup_-_Time'] - new_df['Confirmation_-_Time']).dt.total_seconds().astype(int)\n",
    "new_df['Time_from_Arrival_at_Pickup_to_Pickup_-_Time'] = (new_df['Pickup_-_Time'] - new_df['Arrival_at_Pickup_-_Time']).dt.total_seconds().astype(int)"
   ]
  },
  {
   "cell_type": "code",
   "execution_count": 153,
   "metadata": {},
   "outputs": [
    {
     "data": {
      "text/html": [
       "<div>\n",
       "<style scoped>\n",
       "    .dataframe tbody tr th:only-of-type {\n",
       "        vertical-align: middle;\n",
       "    }\n",
       "\n",
       "    .dataframe tbody tr th {\n",
       "        vertical-align: top;\n",
       "    }\n",
       "\n",
       "    .dataframe thead th {\n",
       "        text-align: right;\n",
       "    }\n",
       "</style>\n",
       "<table border=\"1\" class=\"dataframe\">\n",
       "  <thead>\n",
       "    <tr style=\"text-align: right;\">\n",
       "      <th></th>\n",
       "      <th>Order_No</th>\n",
       "      <th>User_Id</th>\n",
       "      <th>Vehicle_Type</th>\n",
       "      <th>Platform_Type</th>\n",
       "      <th>Personal_or_Business</th>\n",
       "      <th>Placement_-_Day_of_Month</th>\n",
       "      <th>Placement_-_Weekday_(Mo_=_1)</th>\n",
       "      <th>Placement_-_Time</th>\n",
       "      <th>Confirmation_-_Day_of_Month</th>\n",
       "      <th>Confirmation_-_Weekday_(Mo_=_1)</th>\n",
       "      <th>...</th>\n",
       "      <th>Destination_Lat</th>\n",
       "      <th>Destination_Long</th>\n",
       "      <th>Rider_Id</th>\n",
       "      <th>No_Of_Orders</th>\n",
       "      <th>Age</th>\n",
       "      <th>Average_Rating</th>\n",
       "      <th>No_of_Ratings</th>\n",
       "      <th>Time_from_Placement_to_Confirmation</th>\n",
       "      <th>Time_from_Confirmation_to_Arrival_at_Pickup</th>\n",
       "      <th>Time_from_Arrival_at_Pickup_to_Pickup_-_Time</th>\n",
       "    </tr>\n",
       "  </thead>\n",
       "  <tbody>\n",
       "    <tr>\n",
       "      <th>0</th>\n",
       "      <td>Order_No_4211</td>\n",
       "      <td>User_Id_633</td>\n",
       "      <td>Bike</td>\n",
       "      <td>3</td>\n",
       "      <td>Business</td>\n",
       "      <td>9</td>\n",
       "      <td>5</td>\n",
       "      <td>2020-10-13 09:35:46</td>\n",
       "      <td>9</td>\n",
       "      <td>5</td>\n",
       "      <td>...</td>\n",
       "      <td>-1.300406</td>\n",
       "      <td>36.829741</td>\n",
       "      <td>Rider_Id_432</td>\n",
       "      <td>1637</td>\n",
       "      <td>1309</td>\n",
       "      <td>13.8</td>\n",
       "      <td>549</td>\n",
       "      <td>264</td>\n",
       "      <td>1477</td>\n",
       "      <td>1363</td>\n",
       "    </tr>\n",
       "    <tr>\n",
       "      <th>1</th>\n",
       "      <td>Order_No_25375</td>\n",
       "      <td>User_Id_2285</td>\n",
       "      <td>Bike</td>\n",
       "      <td>3</td>\n",
       "      <td>Personal</td>\n",
       "      <td>12</td>\n",
       "      <td>5</td>\n",
       "      <td>2020-10-13 11:16:16</td>\n",
       "      <td>12</td>\n",
       "      <td>5</td>\n",
       "      <td>...</td>\n",
       "      <td>-1.295004</td>\n",
       "      <td>36.814358</td>\n",
       "      <td>Rider_Id_856</td>\n",
       "      <td>396</td>\n",
       "      <td>339</td>\n",
       "      <td>13.6</td>\n",
       "      <td>69</td>\n",
       "      <td>425</td>\n",
       "      <td>1021</td>\n",
       "      <td>227</td>\n",
       "    </tr>\n",
       "    <tr>\n",
       "      <th>2</th>\n",
       "      <td>Order_No_1899</td>\n",
       "      <td>User_Id_265</td>\n",
       "      <td>Bike</td>\n",
       "      <td>3</td>\n",
       "      <td>Business</td>\n",
       "      <td>30</td>\n",
       "      <td>2</td>\n",
       "      <td>2020-10-13 12:39:25</td>\n",
       "      <td>30</td>\n",
       "      <td>2</td>\n",
       "      <td>...</td>\n",
       "      <td>-1.300921</td>\n",
       "      <td>36.828195</td>\n",
       "      <td>Rider_Id_155</td>\n",
       "      <td>1023</td>\n",
       "      <td>242</td>\n",
       "      <td>12.5</td>\n",
       "      <td>114</td>\n",
       "      <td>199</td>\n",
       "      <td>410</td>\n",
       "      <td>209</td>\n",
       "    </tr>\n",
       "    <tr>\n",
       "      <th>3</th>\n",
       "      <td>Order_No_9336</td>\n",
       "      <td>User_Id_1402</td>\n",
       "      <td>Bike</td>\n",
       "      <td>3</td>\n",
       "      <td>Business</td>\n",
       "      <td>15</td>\n",
       "      <td>5</td>\n",
       "      <td>2020-10-13 09:25:34</td>\n",
       "      <td>15</td>\n",
       "      <td>5</td>\n",
       "      <td>...</td>\n",
       "      <td>-1.257147</td>\n",
       "      <td>36.795063</td>\n",
       "      <td>Rider_Id_855</td>\n",
       "      <td>886</td>\n",
       "      <td>283</td>\n",
       "      <td>14.5</td>\n",
       "      <td>113</td>\n",
       "      <td>31</td>\n",
       "      <td>711</td>\n",
       "      <td>310</td>\n",
       "    </tr>\n",
       "    <tr>\n",
       "      <th>4</th>\n",
       "      <td>Order_No_27883</td>\n",
       "      <td>User_Id_1737</td>\n",
       "      <td>Bike</td>\n",
       "      <td>1</td>\n",
       "      <td>Personal</td>\n",
       "      <td>13</td>\n",
       "      <td>1</td>\n",
       "      <td>2020-10-13 09:55:18</td>\n",
       "      <td>13</td>\n",
       "      <td>1</td>\n",
       "      <td>...</td>\n",
       "      <td>-1.295041</td>\n",
       "      <td>36.809817</td>\n",
       "      <td>Rider_Id_770</td>\n",
       "      <td>2311</td>\n",
       "      <td>872</td>\n",
       "      <td>14.1</td>\n",
       "      <td>533</td>\n",
       "      <td>60</td>\n",
       "      <td>455</td>\n",
       "      <td>90</td>\n",
       "    </tr>\n",
       "  </tbody>\n",
       "</table>\n",
       "<p>5 rows × 31 columns</p>\n",
       "</div>"
      ],
      "text/plain": [
       "         Order_No       User_Id Vehicle_Type  Platform_Type  \\\n",
       "0   Order_No_4211   User_Id_633         Bike              3   \n",
       "1  Order_No_25375  User_Id_2285         Bike              3   \n",
       "2   Order_No_1899   User_Id_265         Bike              3   \n",
       "3   Order_No_9336  User_Id_1402         Bike              3   \n",
       "4  Order_No_27883  User_Id_1737         Bike              1   \n",
       "\n",
       "  Personal_or_Business  Placement_-_Day_of_Month  \\\n",
       "0             Business                         9   \n",
       "1             Personal                        12   \n",
       "2             Business                        30   \n",
       "3             Business                        15   \n",
       "4             Personal                        13   \n",
       "\n",
       "   Placement_-_Weekday_(Mo_=_1)    Placement_-_Time  \\\n",
       "0                             5 2020-10-13 09:35:46   \n",
       "1                             5 2020-10-13 11:16:16   \n",
       "2                             2 2020-10-13 12:39:25   \n",
       "3                             5 2020-10-13 09:25:34   \n",
       "4                             1 2020-10-13 09:55:18   \n",
       "\n",
       "   Confirmation_-_Day_of_Month  Confirmation_-_Weekday_(Mo_=_1)  ...  \\\n",
       "0                            9                                5  ...   \n",
       "1                           12                                5  ...   \n",
       "2                           30                                2  ...   \n",
       "3                           15                                5  ...   \n",
       "4                           13                                1  ...   \n",
       "\n",
       "  Destination_Lat  Destination_Long      Rider_Id No_Of_Orders   Age  \\\n",
       "0       -1.300406         36.829741  Rider_Id_432         1637  1309   \n",
       "1       -1.295004         36.814358  Rider_Id_856          396   339   \n",
       "2       -1.300921         36.828195  Rider_Id_155         1023   242   \n",
       "3       -1.257147         36.795063  Rider_Id_855          886   283   \n",
       "4       -1.295041         36.809817  Rider_Id_770         2311   872   \n",
       "\n",
       "   Average_Rating No_of_Ratings  Time_from_Placement_to_Confirmation  \\\n",
       "0            13.8           549                                  264   \n",
       "1            13.6            69                                  425   \n",
       "2            12.5           114                                  199   \n",
       "3            14.5           113                                   31   \n",
       "4            14.1           533                                   60   \n",
       "\n",
       "   Time_from_Confirmation_to_Arrival_at_Pickup  \\\n",
       "0                                         1477   \n",
       "1                                         1021   \n",
       "2                                          410   \n",
       "3                                          711   \n",
       "4                                          455   \n",
       "\n",
       "   Time_from_Arrival_at_Pickup_to_Pickup_-_Time  \n",
       "0                                          1363  \n",
       "1                                           227  \n",
       "2                                           209  \n",
       "3                                           310  \n",
       "4                                            90  \n",
       "\n",
       "[5 rows x 31 columns]"
      ]
     },
     "execution_count": 153,
     "metadata": {},
     "output_type": "execute_result"
    }
   ],
   "source": [
    "new_df.head()"
   ]
  },
  {
   "cell_type": "markdown",
   "metadata": {},
   "source": [
    "## Calculation of Speed in m/s"
   ]
  },
  {
   "cell_type": "code",
   "execution_count": 154,
   "metadata": {},
   "outputs": [],
   "source": [
    "new_df['Speed']= (df_final['Distance_(KM)']*1000)/new_df['Time_from_Arrival_at_Pickup_to_Pickup_-_Time']"
   ]
  },
  {
   "source": [
    "## 4.3 Checking for Multicollinearity\n",
    "\n",
    "Multicollinearity occurs when independent variables in a regression model are correlated. This correlation is a problem because independent variables should be independent. If the degree of correlation between variables is high enough, it can cause problems when you fit the model and interpret the results.\n",
    "\n",
    "This is done through the use of variance inflation factor from the statsmodels package"
   ],
   "cell_type": "markdown",
   "metadata": {}
  },
  {
   "cell_type": "code",
   "execution_count": null,
   "metadata": {},
   "outputs": [],
   "source": [
    "from statsmodels.stats.outliers_influence import variance_inflation_factor\n",
    "\n",
    "'''\n",
    "Defining a function that takes in a dataframe,then extracts the variables in the dataframe\n",
    "and calculates their variance inflation factor by iterating over every variable\n",
    "'''\n",
    "def calculate_vif(df):\n",
    "\n",
    "    # Calculating VIF\n",
    "    vif = pd.DataFrame()\n",
    "    vif[\"variables\"] = df.columns\n",
    "    vif[\"VIF\"] = [variance_inflation_factor(df.values, i) for i in range(df.shape[1])]\n",
    "\n",
    "    return(vif)"
   ]
  },
  {
   "cell_type": "code",
   "execution_count": null,
   "metadata": {},
   "outputs": [],
   "source": [
    "calculate_vif(df.select_dtypes(include=[np.number])) # execution of the variance inflation factor"
   ]
  },
  {
   "cell_type": "code",
   "execution_count": null,
   "metadata": {},
   "outputs": [],
   "source": [
    "# selection of fields that would be used for model building\n",
    "calculate_vif(df[['Distance_(KM)','Precipitation_in_millimeters','Temperature','No_of_Ratings']])"
   ]
  },
  {
   "cell_type": "markdown",
   "metadata": {},
   "source": [
    "# 5. Model Designing/Fitting"
   ]
  },
  {
   "cell_type": "markdown",
   "metadata": {
    "id": "-_0GwmL_DG7Q"
   },
   "source": [
    "### Model Definition, training, and making predictions on the validation set"
   ]
  },
  {
   "cell_type": "code",
   "execution_count": 155,
   "metadata": {
    "id": "cn5tBDV2DG7Q"
   },
   "outputs": [],
   "source": [
    "lr = LinearRegression()\n",
    "lr.fit(x_train, y_train)\n",
    "val_preds = lr.predict(x_val)"
   ]
  },
  {
   "cell_type": "code",
   "execution_count": null,
   "metadata": {
    "id": "1gWD1-KxDG7S"
   },
   "outputs": [],
   "source": []
  },
  {
   "cell_type": "markdown",
   "metadata": {
    "id": "PhYNoigeDG7V"
   },
   "source": [
    "# **6. Model Evaluation**"
   ]
  },
  {
   "cell_type": "markdown",
   "metadata": {
    "id": "0v57zSlTDG7W"
   },
   "source": [
    "### Checking the RMSE of the validation prediction"
   ]
  },
  {
   "cell_type": "code",
   "execution_count": 156,
   "metadata": {
    "id": "qLe11W0qDG7W"
   },
   "outputs": [],
   "source": [
    "def rmse(y_test, y_predict):\n",
    "    return np.sqrt(mean_squared_error(y_test, y_predict))"
   ]
  },
  {
   "cell_type": "code",
   "execution_count": 157,
   "metadata": {
    "colab": {
     "base_uri": "https://localhost:8080/",
     "height": 35
    },
    "id": "ppVWS9kSDG7Y",
    "outputId": "000fa605-be9f-41d3-a40b-12708f96bd5b"
   },
   "outputs": [
    {
     "data": {
      "text/plain": [
       "805.7780593057164"
      ]
     },
     "execution_count": 157,
     "metadata": {},
     "output_type": "execute_result"
    }
   ],
   "source": [
    "rmse(y_val, val_preds)"
   ]
  },
  {
   "cell_type": "markdown",
   "metadata": {
    "id": "M4M9oEZPDG7Z"
   },
   "source": [
    "# **7. Model Analysis**"
   ]
  },
  {
   "cell_type": "markdown",
   "metadata": {
    "id": "RqbgtCsADG7a"
   },
   "source": [
    "### Making prediction on the test set and sending the result to csv for submission"
   ]
  },
  {
   "cell_type": "code",
   "execution_count": 158,
   "metadata": {
    "id": "tzkPabgPDG7b"
   },
   "outputs": [],
   "source": [
    "y_pred = lr.predict(finaltest)"
   ]
  },
  {
   "cell_type": "code",
   "execution_count": 159,
   "metadata": {
    "colab": {
     "base_uri": "https://localhost:8080/",
     "height": 408
    },
    "id": "sD0vwmIdVtBD",
    "outputId": "b3df5c56-adb8-473e-efe7-a9eefbb862a3"
   },
   "outputs": [
    {
     "name": "stdout",
     "output_type": "stream",
     "text": [
      "<class 'pandas.core.frame.DataFrame'>\n",
      "Int64Index: 7068 entries, 21201 to 28268\n",
      "Data columns (total 12 columns):\n",
      " #   Column                         Non-Null Count  Dtype  \n",
      "---  ------                         --------------  -----  \n",
      " 0   Platform_Type                  7068 non-null   int64  \n",
      " 1   Distance_(KM)                  7068 non-null   int64  \n",
      " 2   Temperature                    7068 non-null   float64\n",
      " 3   Pickup_Lat                     7068 non-null   float64\n",
      " 4   Pickup_Long                    7068 non-null   float64\n",
      " 5   Destination_Lat                7068 non-null   float64\n",
      " 6   Destination_Long               7068 non-null   float64\n",
      " 7   No_Of_Orders                   7068 non-null   int64  \n",
      " 8   Age                            7068 non-null   int64  \n",
      " 9   Average_Rating                 7068 non-null   float64\n",
      " 10  No_of_Ratings                  7068 non-null   int64  \n",
      " 11  Personal_or_Business_Personal  7068 non-null   uint8  \n",
      "dtypes: float64(6), int64(5), uint8(1)\n",
      "memory usage: 669.5 KB\n"
     ]
    }
   ],
   "source": [
    "finaltest.info()"
   ]
  },
  {
   "cell_type": "code",
   "execution_count": 160,
   "metadata": {
    "colab": {
     "base_uri": "https://localhost:8080/",
     "height": 124
    },
    "id": "Zrq0XgCLDG7d",
    "outputId": "c15d663d-ecbd-4112-fa9e-c123d6648a81"
   },
   "outputs": [
    {
     "name": "stderr",
     "output_type": "stream",
     "text": [
      "C:\\Users\\bmqha\\anaconda3\\lib\\site-packages\\ipykernel_launcher.py:2: SettingWithCopyWarning: \n",
      "A value is trying to be set on a copy of a slice from a DataFrame.\n",
      "Try using .loc[row_indexer,col_indexer] = value instead\n",
      "\n",
      "See the caveats in the documentation: https://pandas.pydata.org/pandas-docs/stable/user_guide/indexing.html#returning-a-view-versus-a-copy\n",
      "  \n"
     ]
    }
   ],
   "source": [
    "submission_df = test_df[['Order No']]\n",
    "submission_df['Time from Pickup to Arrival'] = y_pred"
   ]
  },
  {
   "cell_type": "code",
   "execution_count": 161,
   "metadata": {
    "id": "8J1opGaaDG7g"
   },
   "outputs": [],
   "source": [
    "submission_file_df = submission_df"
   ]
  },
  {
   "cell_type": "code",
   "execution_count": 162,
   "metadata": {
    "id": "69dCBnX_DG7j"
   },
   "outputs": [],
   "source": [
    "submission_df.to_csv(\"C:/Users/bmqha/Downloads/tests_regression/Team_1_Regression_Notebook/base_prediction_11.csv\", index = False)"
   ]
  },
  {
   "cell_type": "markdown",
   "metadata": {
    "id": "Hyjx-veSDG7l"
   },
   "source": [
    "# **8. Contributors**"
   ]
  },
  {
   "cell_type": "markdown",
   "metadata": {
    "id": "ERZvYV3xDG7l"
   },
   "source": [
    "# **9. References**"
   ]
  },
  {
   "cell_type": "markdown",
   "metadata": {
    "id": "W861NponDG7m"
   },
   "source": [
    "1. https://www.geeksforgeeks.org/python-visualize-missing-values-nan-values-using-missingno-library/\n",
    "2. https://towardsdatascience.com/ways-to-detect-and-remove-the-outliers-404d16608dba\n",
    "3. https://medium.com/analytics-vidhya/how-to-handle-missing-values-cbd03fb79ef8#:~:text=Drop%20columns%20%3A%20Drop%20columns%20which%20has%20more%20missing%20value.&text=Column%20Score4%20has%20more%20null,%25%20missing%20value%2C%20drop%20it.\n",
    "4. https://medium.com/ai%C2%B3-theory-practice-business/top-6-errors-novice-machine-learning-engineers-make-e82273d394db\n",
    "5. http://blog.davidkaleko.com/feature-engineering-cyclical-features.html#:~:text=Hours%20of%20the%20day%2C%20days,each%20other%20and%20not%20far.\n",
    "6. https://www.kaggle.com/avanwyk/encoding-cyclical-features-for-deep-learning"
   ]
  },
  {
   "cell_type": "code",
   "execution_count": null,
   "metadata": {
    "id": "WTBcTztVDG7m"
   },
   "outputs": [],
   "source": []
  }
 ],
 "metadata": {
  "colab": {
   "name": "templateNew.ipynb",
   "provenance": []
  },
  "kernelspec": {
   "name": "Python 3.8.3 32-bit",
   "display_name": "Python 3.8.3 32-bit",
   "metadata": {
    "interpreter": {
     "hash": "84fb2fe92b14b18c056bda70d602a3106b09df8b368d4f2bd86b226979d0ed77"
    }
   }
  },
  "language_info": {
   "codemirror_mode": {
    "name": "ipython",
    "version": 3
   },
   "file_extension": ".py",
   "mimetype": "text/x-python",
   "name": "python",
   "nbconvert_exporter": "python",
   "pygments_lexer": "ipython3",
   "version": "3.8.3-final"
  }
 },
 "nbformat": 4,
 "nbformat_minor": 1
}