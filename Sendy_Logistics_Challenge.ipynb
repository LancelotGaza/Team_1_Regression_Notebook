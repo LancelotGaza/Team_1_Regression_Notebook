{
  "nbformat": 4,
  "nbformat_minor": 0,
  "metadata": {
    "colab": {
      "name": "Sendy_Logistics_Challenge.ipynb",
      "provenance": []
    },
    "kernelspec": {
      "name": "python3",
      "display_name": "Python 3"
    }
  },
  "cells": [
    {
      "cell_type": "code",
      "metadata": {
        "id": "94LVjvm0lUst"
      },
      "source": [
        "import numpy as np\n",
        "import pandas as pd\n",
        "import matplotlib.pyplot as plt\n",
        "from matplotlib import rc\n",
        "import seaborn as sns"
      ],
      "execution_count": 1,
      "outputs": []
    },
    {
      "cell_type": "code",
      "metadata": {
        "id": "dvymsiuvmPVq"
      },
      "source": [
        "test_df = pd.read_csv('Test.csv')\n",
        "train_df = pd.read_csv('Train.csv')\n",
        "riders_df = pd.read_csv('Riders.csv')\n",
        "sample_submission_df = pd.read_csv('SampleSubmission.csv')\n",
        "variable_definintions__df = pd.read_csv('VariableDefinitions.csv')"
      ],
      "execution_count": null,
      "outputs": []
    }
  ]
}