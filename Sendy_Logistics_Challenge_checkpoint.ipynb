{
 "cells": [
  {
   "cell_type": "markdown",
   "metadata": {
    "id": "KqjfqSZeDG5b"
   },
   "source": [
    "# **Sendy Logistics Challenge: EDSA**\n",
    "### **Team1**\n"
   ]
  },
  {
   "cell_type": "markdown",
   "metadata": {
    "id": "psl7J2QCDG5c"
   },
   "source": [
    "# **Introduction**"
   ]
  },
  {
   "cell_type": "markdown",
   "metadata": {
    "id": "OH-AXdrG9zHC"
   },
   "source": [
    "This notebook consists of our attempt at the Sendy Logistics Challenge on https://zindi.africa/.\n",
    "\n",
    "We will be training a regression model that will be used to predict the estimated time of arrival for motorbike deliveries in Kenya-Nairobi, from explanatory features. In this notebook, we go through the whole process of creating a machine learning model based on the dataset provided by Sendy found on https://zindi.africa/hackathons/edsa-2021-sendy-logistics-challenge/data, which consists of order details and rider metrics based on orders made on the Sendy platform.\n",
    "\n",
    "Our main challenge is to predict the estimated time of arrival for orders - from pick-up to drop-off.\n",
    "\n",
    "<br></br>\n",
    "\n",
    "<div align=\"center\" style=\"width: 600px; font-size: 80%; text-align: center; margin: 0 auto\">\n",
    "<img src=\"https://cdn1.vc4a.com/media/2015/12/Sendy-delivery-900x322.jpg\"\n",
    "     style=\"float: center; padding-bottom=0.5em\"\n",
    "     width=600px/>\n",
    "\n",
    "</div>\n",
    "\n"
   ]
  },
  {
   "cell_type": "markdown",
   "metadata": {
    "id": "KRVQEsiIDG5c"
   },
   "source": [
    "# **Notebook Outline**"
   ]
  },
  {
   "cell_type": "markdown",
   "metadata": {
    "id": "XQvSC7JLDG5d"
   },
   "source": [
    "    0. Installations\n",
    "    1. Libraries and Data importing\n",
    "        1.1 Importing Libraries\n",
    "        1.2 Importing Data\n",
    "    2. Data Preprocessing\n",
    "        2.1 Data Overview\n",
    "        2.2 Columns Alignment\n",
    "        2.3 Combining the Dataset\n",
    "        2.4 Merging Dataframe with Rider's details\n",
    "        2.5 Summary Statistics\n",
    "        2.6 Addressing Missing Values\n",
    "            2.6.1 Droping Precipitation_in_millimeters columns\n",
    "            2.6.2 Replacing missing values in Temperature with mean\n",
    "            2.6.3 Confirming the Null Values\n",
    "    3. Exploratory Data Analysis\n",
    "        3.1 Examining the target variable\n",
    "        3.2 Distribution of Temperature of the Combined Dataset (Train and Test)\n",
    "        3.3 Distribution of Platform Type and Business/Personal against Distance (km)\n",
    "        3.4 Frequency of Business/Personal by Platform Type\n",
    "        3.5 Distribution of Time of Order from Pickup to Destination\n",
    "            3.5.1 Defining a function that checks for the day of pickup\n",
    "            3.5.2 Plot of Weekly Distribution of Orders Within the Month\n",
    "            3.5.3 Plot of Daily Distribution of Orders Within a Month\n",
    "            3.5.4 Defining a function that checks for the day of pickup\n",
    "            3.5.5 Plot of Weekly Distribution\n",
    "            3.5.6 Defining a function that checks for period in the day of pickup\n",
    "            3.5.7 Chart of Distribution of Order Pickup by Period of the Day\n",
    "        3.6 Addressing Outliers\n",
    "    4. Feature Engineering and Selection\n",
    "        4.1 Converting Objects to Datetime\n",
    "        4.2 Creating new variables\n",
    "            4.2.1 Calculting Difference of Time (in seconds)\n",
    "            4.2.2 Calculating Performance of Riders\n",
    "        4.3 Cyclical Features\n",
    "        4.4 Checking for Multicollinearity\n",
    "        4.5 Dropping co-linear and unwanted variables\n",
    "        4.6 Dummying out the last categorical column\n",
    "            4.6.1 Scaling of dataset\n",
    "        4.7 Splitting our dataset again into Train and Validation Test\n",
    "    5. Model Fitting\n",
    "        5.1 Linear Regression\n",
    "        5.2 Lasso Regression\n",
    "        5.3 Ridge Regression\n",
    "        5.4 Decision Tree\n",
    "        5.5 Random Forest\n",
    "        5.6 Catboost\n",
    "        5.7 XGBoost\n",
    "    6. Model Evaluation\n",
    "        6.1 Linear Regression\n",
    "        6.2 Lasso Regression\n",
    "        6.3 Ridge Regression\n",
    "        6.4 Decision Tree\n",
    "        6.5 Random Forest\n",
    "        6.6 Catboost\n",
    "        6.7 XGBoost\n",
    "    7. Model Analysis\n",
    "        7.1 Linear Regression\n",
    "        7.2 Lasso Regression\n",
    "        7.3 Ridge Regression\n",
    "        7.4 Decision Tree\n",
    "        7.5 Random Forest\n",
    "        7.6 Catboost\n",
    "        7.7 XGBoost\n",
    "    8. Conclusion\n",
    "    9. Contributors\n",
    "    10.References"
   ]
  },
  {
   "cell_type": "markdown",
   "metadata": {
    "id": "uEcw0slsDG5d"
   },
   "source": [
    "# **0. Installations**"
   ]
  },
  {
   "cell_type": "code",
   "execution_count": null,
   "metadata": {
    "id": "RdaOZTG9DG5e",
    "outputId": "d845c621-6e35-4edd-b1e3-e9fea6624726"
   },
   "outputs": [
    {
     "name": "stdout",
     "output_type": "stream",
     "text": [
      "Requirement already satisfied: missingno in c:\\programdata\\anaconda3\\lib\\site-packages (0.4.2)\n",
      "Requirement already satisfied: seaborn in c:\\programdata\\anaconda3\\lib\\site-packages (from missingno) (0.10.0)\n",
      "Requirement already satisfied: numpy in c:\\programdata\\anaconda3\\lib\\site-packages (from missingno) (1.18.1)\n",
      "Requirement already satisfied: scipy in c:\\programdata\\anaconda3\\lib\\site-packages (from missingno) (1.4.1)\n",
      "Requirement already satisfied: matplotlib in c:\\programdata\\anaconda3\\lib\\site-packages (from missingno) (3.1.3)\n",
      "Requirement already satisfied: pandas>=0.22.0 in c:\\programdata\\anaconda3\\lib\\site-packages (from seaborn->missingno) (1.0.1)\n",
      "Requirement already satisfied: cycler>=0.10 in c:\\programdata\\anaconda3\\lib\\site-packages (from matplotlib->missingno) (0.10.0)\n",
      "Requirement already satisfied: pyparsing!=2.0.4,!=2.1.2,!=2.1.6,>=2.0.1 in c:\\programdata\\anaconda3\\lib\\site-packages (from matplotlib->missingno) (2.4.6)\n",
      "Requirement already satisfied: kiwisolver>=1.0.1 in c:\\programdata\\anaconda3\\lib\\site-packages (from matplotlib->missingno) (1.1.0)\n",
      "Requirement already satisfied: python-dateutil>=2.1 in c:\\programdata\\anaconda3\\lib\\site-packages (from matplotlib->missingno) (2.8.1)\n",
      "Requirement already satisfied: pytz>=2017.2 in c:\\programdata\\anaconda3\\lib\\site-packages (from pandas>=0.22.0->seaborn->missingno) (2019.3)\n",
      "Requirement already satisfied: six in c:\\programdata\\anaconda3\\lib\\site-packages (from cycler>=0.10->matplotlib->missingno) (1.14.0)\n",
      "Requirement already satisfied: setuptools in c:\\programdata\\anaconda3\\lib\\site-packages (from kiwisolver>=1.0.1->matplotlib->missingno) (45.2.0.post20200210)\n",
      "Note: you may need to restart the kernel to use updated packages.\n"
     ]
    }
   ],
   "source": [
    "!pip install missingno\n"
   ]
  },
  {
   "cell_type": "code",
   "execution_count": 2,
   "metadata": {
    "id": "SoCw1EU19zHI",
    "outputId": "499da9a7-7998-43e0-e5b0-e3573ff14257"
   },
   "outputs": [
    {
     "name": "stdout",
     "output_type": "stream",
     "text": [
      "Collecting xgboost\n",
      "  Downloading xgboost-1.2.1-py3-none-win_amd64.whl (86.5 MB)\n",
      "Requirement already satisfied: scipy in c:\\users\\bmqha\\anaconda3\\lib\\site-packages (from xgboost) (1.4.1)\n",
      "Requirement already satisfied: numpy in c:\\users\\bmqha\\anaconda3\\lib\\site-packages (from xgboost) (1.18.1)\n",
      "Installing collected packages: xgboost\n",
      "Successfully installed xgboost-1.2.1\n"
     ]
    }
   ],
   "source": [
    "!pip install xgboost\n"
   ]
  },
  {
   "cell_type": "code",
   "execution_count": null,
   "metadata": {
    "id": "JBFqekDs9zHL",
    "outputId": "93b94abc-a5bf-443c-b8c9-0fc03083c1dd"
   },
   "outputs": [
    {
     "name": "stdout",
     "output_type": "stream",
     "text": [
      "Requirement already satisfied: catboost in c:\\programdata\\anaconda3\\lib\\site-packages (0.24.2)\n",
      "Requirement already satisfied: matplotlib in c:\\programdata\\anaconda3\\lib\\site-packages (from catboost) (3.1.3)\n",
      "Requirement already satisfied: graphviz in c:\\programdata\\anaconda3\\lib\\site-packages (from catboost) (0.14.2)\n",
      "Requirement already satisfied: scipy in c:\\programdata\\anaconda3\\lib\\site-packages (from catboost) (1.4.1)\n",
      "Requirement already satisfied: plotly in c:\\programdata\\anaconda3\\lib\\site-packages (from catboost) (4.11.0)\n",
      "Requirement already satisfied: pandas>=0.24.0 in c:\\programdata\\anaconda3\\lib\\site-packages (from catboost) (1.0.1)\n",
      "Requirement already satisfied: six in c:\\programdata\\anaconda3\\lib\\site-packages (from catboost) (1.14.0)\n",
      "Requirement already satisfied: numpy>=1.16.0 in c:\\programdata\\anaconda3\\lib\\site-packages (from catboost) (1.18.1)\n",
      "Requirement already satisfied: python-dateutil>=2.1 in c:\\programdata\\anaconda3\\lib\\site-packages (from matplotlib->catboost) (2.8.1)\n",
      "Requirement already satisfied: pyparsing!=2.0.4,!=2.1.2,!=2.1.6,>=2.0.1 in c:\\programdata\\anaconda3\\lib\\site-packages (from matplotlib->catboost) (2.4.6)\n",
      "Requirement already satisfied: kiwisolver>=1.0.1 in c:\\programdata\\anaconda3\\lib\\site-packages (from matplotlib->catboost) (1.1.0)\n",
      "Requirement already satisfied: cycler>=0.10 in c:\\programdata\\anaconda3\\lib\\site-packages (from matplotlib->catboost) (0.10.0)\n",
      "Requirement already satisfied: retrying>=1.3.3 in c:\\programdata\\anaconda3\\lib\\site-packages (from plotly->catboost) (1.3.3)\n",
      "Requirement already satisfied: pytz>=2017.2 in c:\\programdata\\anaconda3\\lib\\site-packages (from pandas>=0.24.0->catboost) (2019.3)\n",
      "Requirement already satisfied: setuptools in c:\\programdata\\anaconda3\\lib\\site-packages (from kiwisolver>=1.0.1->matplotlib->catboost) (45.2.0.post20200210)\n"
     ]
    }
   ],
   "source": [
    "!pip install catboost\n"
   ]
  },
  {
   "cell_type": "markdown",
   "metadata": {
    "id": "l2VlN4cMDG5h"
   },
   "source": [
    "# **1. Libraries and Data importing**"
   ]
  },
  {
   "cell_type": "markdown",
   "metadata": {
    "id": "-dkXxu6pDG5h"
   },
   "source": [
    "## **1.1 Importing Libraries**"
   ]
  },
  {
   "cell_type": "markdown",
   "metadata": {
    "id": "VZuzeKHxDG5i"
   },
   "source": [
    " Import Python libraries"
   ]
  },
  {
   "cell_type": "code",
   "execution_count": 157,
   "metadata": {
    "id": "PWrsNRDuDG5j"
   },
   "outputs": [],
   "source": [
    "import numpy as np\n",
    "import pandas as pd  # data processing\n",
    "import matplotlib.pyplot as plt\n",
    "import seaborn as sns  # data visualization\n",
    "import missingno as msno\n",
    "import xgboost as xgb\n",
    "from scipy.stats import norm\n",
    "from catboost import CatBoostRegressor\n",
    "import pandas.util.testing as tm\n",
    "\n",
    "from statsmodels.stats.outliers_influence import variance_inflation_factor\n",
    "\n",
    "\n",
    "# Algorithms\n",
    "from sklearn.preprocessing import StandardScaler\n",
    "from sklearn.impute import SimpleImputer\n",
    "from sklearn.model_selection import train_test_split, KFold\n",
    "from sklearn.linear_model import LinearRegression, Lasso, Ridge\n",
    "from sklearn.tree import DecisionTreeRegressor\n",
    "from sklearn.ensemble import RandomForestRegressor\n",
    "from sklearn.metrics import mean_squared_error\n",
    "\n",
    "from sklearn.model_selection import KFold\n",
    "from sklearn.model_selection import cross_val_score\n",
    "from sklearn.model_selection import GridSearchCV\n",
    "from sklearn.model_selection import GridSearchCV\n"
   ]
  },
  {
   "cell_type": "markdown",
   "metadata": {
    "id": "7-SZQ_H9DG5l"
   },
   "source": [
    "## **1.2 Importing Data**"
   ]
  },
  {
   "cell_type": "markdown",
   "metadata": {
    "id": "G8vd2X3ZDG5m"
   },
   "source": [
    "We will load our data as a Pandas DataFrame"
   ]
  },
  {
   "cell_type": "code",
   "execution_count": 158,
   "metadata": {
    "id": "b-O7rAhdDG5m"
   },
   "outputs": [],
   "source": [
    "test_df = pd.read_csv('data\\Test.csv')\n",
    "train_df = pd.read_csv('data\\Train.csv')\n",
    "riders_df = pd.read_csv('data\\Riders.csv')\n"
   ]
  },
  {
   "cell_type": "markdown",
   "metadata": {
    "id": "eNMVuDGpDG5o"
   },
   "source": [
    "# **2 Data Preprocessing**\n",
    "\n",
    "In any Machine Learning process, Data Preprocessing is that step in which the data gets transformed in order to bring it to such a state that the features of the data can now be easily interpreted by the algorithm.\n",
    "In this section, we made use of data preprocessing techniques as it is the first step in any machine learning process."
   ]
  },
  {
   "cell_type": "markdown",
   "metadata": {
    "id": "2Ur8fLbFDG5p"
   },
   "source": [
    "## **2.1 Dataset Overview**"
   ]
  },
  {
   "cell_type": "code",
   "execution_count": 5,
   "metadata": {
    "colab": {
     "base_uri": "https://localhost:8080/",
     "height": 261
    },
    "id": "6B7Xp57wDG5p",
    "outputId": "09a7aa69-15f4-477d-91b0-bd1356605607"
   },
   "outputs": [
    {
     "data": {
      "text/html": [
       "<div>\n",
       "<style scoped>\n",
       "    .dataframe tbody tr th:only-of-type {\n",
       "        vertical-align: middle;\n",
       "    }\n",
       "\n",
       "    .dataframe tbody tr th {\n",
       "        vertical-align: top;\n",
       "    }\n",
       "\n",
       "    .dataframe thead th {\n",
       "        text-align: right;\n",
       "    }\n",
       "</style>\n",
       "<table border=\"1\" class=\"dataframe\">\n",
       "  <thead>\n",
       "    <tr style=\"text-align: right;\">\n",
       "      <th></th>\n",
       "      <th>Order No</th>\n",
       "      <th>User Id</th>\n",
       "      <th>Vehicle Type</th>\n",
       "      <th>Platform Type</th>\n",
       "      <th>Personal or Business</th>\n",
       "      <th>Placement - Day of Month</th>\n",
       "      <th>Placement - Weekday (Mo = 1)</th>\n",
       "      <th>Placement - Time</th>\n",
       "      <th>Confirmation - Day of Month</th>\n",
       "      <th>Confirmation - Weekday (Mo = 1)</th>\n",
       "      <th>...</th>\n",
       "      <th>Arrival at Destination - Time</th>\n",
       "      <th>Distance (KM)</th>\n",
       "      <th>Temperature</th>\n",
       "      <th>Precipitation in millimeters</th>\n",
       "      <th>Pickup Lat</th>\n",
       "      <th>Pickup Long</th>\n",
       "      <th>Destination Lat</th>\n",
       "      <th>Destination Long</th>\n",
       "      <th>Rider Id</th>\n",
       "      <th>Time from Pickup to Arrival</th>\n",
       "    </tr>\n",
       "  </thead>\n",
       "  <tbody>\n",
       "    <tr>\n",
       "      <th>0</th>\n",
       "      <td>Order_No_4211</td>\n",
       "      <td>User_Id_633</td>\n",
       "      <td>Bike</td>\n",
       "      <td>3</td>\n",
       "      <td>Business</td>\n",
       "      <td>9</td>\n",
       "      <td>5</td>\n",
       "      <td>9:35:46 AM</td>\n",
       "      <td>9</td>\n",
       "      <td>5</td>\n",
       "      <td>...</td>\n",
       "      <td>10:39:55 AM</td>\n",
       "      <td>4</td>\n",
       "      <td>20.4</td>\n",
       "      <td>NaN</td>\n",
       "      <td>-1.317755</td>\n",
       "      <td>36.830370</td>\n",
       "      <td>-1.300406</td>\n",
       "      <td>36.829741</td>\n",
       "      <td>Rider_Id_432</td>\n",
       "      <td>745</td>\n",
       "    </tr>\n",
       "    <tr>\n",
       "      <th>1</th>\n",
       "      <td>Order_No_25375</td>\n",
       "      <td>User_Id_2285</td>\n",
       "      <td>Bike</td>\n",
       "      <td>3</td>\n",
       "      <td>Personal</td>\n",
       "      <td>12</td>\n",
       "      <td>5</td>\n",
       "      <td>11:16:16 AM</td>\n",
       "      <td>12</td>\n",
       "      <td>5</td>\n",
       "      <td>...</td>\n",
       "      <td>12:17:22 PM</td>\n",
       "      <td>16</td>\n",
       "      <td>26.4</td>\n",
       "      <td>NaN</td>\n",
       "      <td>-1.351453</td>\n",
       "      <td>36.899315</td>\n",
       "      <td>-1.295004</td>\n",
       "      <td>36.814358</td>\n",
       "      <td>Rider_Id_856</td>\n",
       "      <td>1993</td>\n",
       "    </tr>\n",
       "  </tbody>\n",
       "</table>\n",
       "<p>2 rows × 29 columns</p>\n",
       "</div>"
      ],
      "text/plain": [
       "         Order No       User Id Vehicle Type  Platform Type  \\\n",
       "0   Order_No_4211   User_Id_633         Bike              3   \n",
       "1  Order_No_25375  User_Id_2285         Bike              3   \n",
       "\n",
       "  Personal or Business  Placement - Day of Month  \\\n",
       "0             Business                         9   \n",
       "1             Personal                        12   \n",
       "\n",
       "   Placement - Weekday (Mo = 1) Placement - Time  Confirmation - Day of Month  \\\n",
       "0                             5       9:35:46 AM                            9   \n",
       "1                             5      11:16:16 AM                           12   \n",
       "\n",
       "   Confirmation - Weekday (Mo = 1)  ... Arrival at Destination - Time  \\\n",
       "0                                5  ...                   10:39:55 AM   \n",
       "1                                5  ...                   12:17:22 PM   \n",
       "\n",
       "   Distance (KM)  Temperature Precipitation in millimeters  Pickup Lat  \\\n",
       "0              4         20.4                          NaN   -1.317755   \n",
       "1             16         26.4                          NaN   -1.351453   \n",
       "\n",
       "   Pickup Long Destination Lat  Destination Long      Rider Id  \\\n",
       "0    36.830370       -1.300406         36.829741  Rider_Id_432   \n",
       "1    36.899315       -1.295004         36.814358  Rider_Id_856   \n",
       "\n",
       "  Time from Pickup to Arrival  \n",
       "0                         745  \n",
       "1                        1993  \n",
       "\n",
       "[2 rows x 29 columns]"
      ]
     },
     "execution_count": 5,
     "metadata": {},
     "output_type": "execute_result"
    }
   ],
   "source": [
    "train_df.head(2)\n"
   ]
  },
  {
   "cell_type": "code",
   "execution_count": 6,
   "metadata": {
    "colab": {
     "base_uri": "https://localhost:8080/",
     "height": 261
    },
    "id": "ASFgPPMADG5s",
    "outputId": "3c739943-ca4d-4a0b-e7f5-5ab611f9a261"
   },
   "outputs": [
    {
     "data": {
      "text/html": [
       "<div>\n",
       "<style scoped>\n",
       "    .dataframe tbody tr th:only-of-type {\n",
       "        vertical-align: middle;\n",
       "    }\n",
       "\n",
       "    .dataframe tbody tr th {\n",
       "        vertical-align: top;\n",
       "    }\n",
       "\n",
       "    .dataframe thead th {\n",
       "        text-align: right;\n",
       "    }\n",
       "</style>\n",
       "<table border=\"1\" class=\"dataframe\">\n",
       "  <thead>\n",
       "    <tr style=\"text-align: right;\">\n",
       "      <th></th>\n",
       "      <th>Order No</th>\n",
       "      <th>User Id</th>\n",
       "      <th>Vehicle Type</th>\n",
       "      <th>Platform Type</th>\n",
       "      <th>Personal or Business</th>\n",
       "      <th>Placement - Day of Month</th>\n",
       "      <th>Placement - Weekday (Mo = 1)</th>\n",
       "      <th>Placement - Time</th>\n",
       "      <th>Confirmation - Day of Month</th>\n",
       "      <th>Confirmation - Weekday (Mo = 1)</th>\n",
       "      <th>...</th>\n",
       "      <th>Pickup - Weekday (Mo = 1)</th>\n",
       "      <th>Pickup - Time</th>\n",
       "      <th>Distance (KM)</th>\n",
       "      <th>Temperature</th>\n",
       "      <th>Precipitation in millimeters</th>\n",
       "      <th>Pickup Lat</th>\n",
       "      <th>Pickup Long</th>\n",
       "      <th>Destination Lat</th>\n",
       "      <th>Destination Long</th>\n",
       "      <th>Rider Id</th>\n",
       "    </tr>\n",
       "  </thead>\n",
       "  <tbody>\n",
       "    <tr>\n",
       "      <th>0</th>\n",
       "      <td>Order_No_19248</td>\n",
       "      <td>User_Id_3355</td>\n",
       "      <td>Bike</td>\n",
       "      <td>3</td>\n",
       "      <td>Business</td>\n",
       "      <td>27</td>\n",
       "      <td>3</td>\n",
       "      <td>4:44:10 PM</td>\n",
       "      <td>27</td>\n",
       "      <td>3</td>\n",
       "      <td>...</td>\n",
       "      <td>3</td>\n",
       "      <td>5:06:47 PM</td>\n",
       "      <td>8</td>\n",
       "      <td>NaN</td>\n",
       "      <td>NaN</td>\n",
       "      <td>-1.333275</td>\n",
       "      <td>36.870815</td>\n",
       "      <td>-1.305249</td>\n",
       "      <td>36.822390</td>\n",
       "      <td>Rider_Id_192</td>\n",
       "    </tr>\n",
       "    <tr>\n",
       "      <th>1</th>\n",
       "      <td>Order_No_12736</td>\n",
       "      <td>User_Id_3647</td>\n",
       "      <td>Bike</td>\n",
       "      <td>3</td>\n",
       "      <td>Business</td>\n",
       "      <td>17</td>\n",
       "      <td>5</td>\n",
       "      <td>12:57:35 PM</td>\n",
       "      <td>17</td>\n",
       "      <td>5</td>\n",
       "      <td>...</td>\n",
       "      <td>5</td>\n",
       "      <td>1:25:37 PM</td>\n",
       "      <td>5</td>\n",
       "      <td>NaN</td>\n",
       "      <td>NaN</td>\n",
       "      <td>-1.272639</td>\n",
       "      <td>36.794723</td>\n",
       "      <td>-1.277007</td>\n",
       "      <td>36.823907</td>\n",
       "      <td>Rider_Id_868</td>\n",
       "    </tr>\n",
       "  </tbody>\n",
       "</table>\n",
       "<p>2 rows × 25 columns</p>\n",
       "</div>"
      ],
      "text/plain": [
       "         Order No       User Id Vehicle Type  Platform Type  \\\n",
       "0  Order_No_19248  User_Id_3355         Bike              3   \n",
       "1  Order_No_12736  User_Id_3647         Bike              3   \n",
       "\n",
       "  Personal or Business  Placement - Day of Month  \\\n",
       "0             Business                        27   \n",
       "1             Business                        17   \n",
       "\n",
       "   Placement - Weekday (Mo = 1) Placement - Time  Confirmation - Day of Month  \\\n",
       "0                             3       4:44:10 PM                           27   \n",
       "1                             5      12:57:35 PM                           17   \n",
       "\n",
       "   Confirmation - Weekday (Mo = 1)  ... Pickup - Weekday (Mo = 1)  \\\n",
       "0                                3  ...                         3   \n",
       "1                                5  ...                         5   \n",
       "\n",
       "   Pickup - Time  Distance (KM) Temperature  Precipitation in millimeters  \\\n",
       "0     5:06:47 PM              8         NaN                           NaN   \n",
       "1     1:25:37 PM              5         NaN                           NaN   \n",
       "\n",
       "   Pickup Lat Pickup Long  Destination Lat  Destination Long      Rider Id  \n",
       "0   -1.333275   36.870815        -1.305249         36.822390  Rider_Id_192  \n",
       "1   -1.272639   36.794723        -1.277007         36.823907  Rider_Id_868  \n",
       "\n",
       "[2 rows x 25 columns]"
      ]
     },
     "execution_count": 6,
     "metadata": {},
     "output_type": "execute_result"
    }
   ],
   "source": [
    "test_df.head(2)\n"
   ]
  },
  {
   "cell_type": "code",
   "execution_count": 7,
   "metadata": {
    "id": "EpJeYvpzDG5u",
    "outputId": "b248cd76-452d-4b91-b57c-d07d4203a62e"
   },
   "outputs": [
    {
     "data": {
      "text/html": [
       "<div>\n",
       "<style scoped>\n",
       "    .dataframe tbody tr th:only-of-type {\n",
       "        vertical-align: middle;\n",
       "    }\n",
       "\n",
       "    .dataframe tbody tr th {\n",
       "        vertical-align: top;\n",
       "    }\n",
       "\n",
       "    .dataframe thead th {\n",
       "        text-align: right;\n",
       "    }\n",
       "</style>\n",
       "<table border=\"1\" class=\"dataframe\">\n",
       "  <thead>\n",
       "    <tr style=\"text-align: right;\">\n",
       "      <th></th>\n",
       "      <th>Rider Id</th>\n",
       "      <th>No_Of_Orders</th>\n",
       "      <th>Age</th>\n",
       "      <th>Average_Rating</th>\n",
       "      <th>No_of_Ratings</th>\n",
       "    </tr>\n",
       "  </thead>\n",
       "  <tbody>\n",
       "    <tr>\n",
       "      <th>0</th>\n",
       "      <td>Rider_Id_396</td>\n",
       "      <td>2946</td>\n",
       "      <td>2298</td>\n",
       "      <td>14.0</td>\n",
       "      <td>1159</td>\n",
       "    </tr>\n",
       "    <tr>\n",
       "      <th>1</th>\n",
       "      <td>Rider_Id_479</td>\n",
       "      <td>360</td>\n",
       "      <td>951</td>\n",
       "      <td>13.5</td>\n",
       "      <td>176</td>\n",
       "    </tr>\n",
       "  </tbody>\n",
       "</table>\n",
       "</div>"
      ],
      "text/plain": [
       "       Rider Id  No_Of_Orders   Age  Average_Rating  No_of_Ratings\n",
       "0  Rider_Id_396          2946  2298            14.0           1159\n",
       "1  Rider_Id_479           360   951            13.5            176"
      ]
     },
     "execution_count": 7,
     "metadata": {},
     "output_type": "execute_result"
    }
   ],
   "source": [
    "riders_df.head(2)\n"
   ]
  },
  {
   "cell_type": "code",
   "execution_count": 8,
   "metadata": {
    "id": "yN4ADoTA9zHe",
    "outputId": "15dc5b36-ed39-45f9-fbb4-e7aec08b60c2"
   },
   "outputs": [
    {
     "data": {
      "text/plain": [
       "(21201, 29)"
      ]
     },
     "execution_count": 8,
     "metadata": {},
     "output_type": "execute_result"
    }
   ],
   "source": [
    "train_df.shape\n"
   ]
  },
  {
   "cell_type": "code",
   "execution_count": 9,
   "metadata": {
    "id": "3ALnbTzn9zHg",
    "outputId": "43377c31-6247-4302-bc8c-c7609a799145"
   },
   "outputs": [
    {
     "data": {
      "text/plain": [
       "(7068, 25)"
      ]
     },
     "execution_count": 9,
     "metadata": {},
     "output_type": "execute_result"
    }
   ],
   "source": [
    "test_df.shape"
   ]
  },
  {
   "cell_type": "code",
   "execution_count": 10,
   "metadata": {
    "id": "wQlOgcB99zHi",
    "outputId": "555bcb75-d310-463a-b2fc-82aba67949b4"
   },
   "outputs": [
    {
     "data": {
      "text/plain": [
       "(960, 5)"
      ]
     },
     "execution_count": 10,
     "metadata": {},
     "output_type": "execute_result"
    }
   ],
   "source": [
    "riders_df.shape\n"
   ]
  },
  {
   "cell_type": "markdown",
   "metadata": {
    "id": "-iVTBrzwDG53"
   },
   "source": [
    "## 2.2 Columns Alignment"
   ]
  },
  {
   "cell_type": "markdown",
   "metadata": {},
   "source": [
    "The train dataset has 29 features while test dataset has 25 features, it is important to have equal number of variables in both train and test dataset because we are training a machine model to identify patterns in our (training) data. If we later incorporate data it has never encountered before it has no idea what to do with it.\n",
    "\n",
    "The code below is making sure that the train and test data sets have equal columns."
   ]
  },
  {
   "cell_type": "code",
   "execution_count": 159,
   "metadata": {
    "id": "IWtcZ-2GDG54"
   },
   "outputs": [],
   "source": [
    "# getting a list of the test columns\n",
    "testcols = test_df.columns\n",
    "# Refining the train columns to align to test columns\n",
    "newtrain = train_df[testcols]\n",
    "# assigning the target variable\n",
    "y_target = np.array(train_df[\"Time from Pickup to Arrival\"]).reshape(-1, 1)\n"
   ]
  },
  {
   "cell_type": "code",
   "execution_count": 12,
   "metadata": {
    "colab": {
     "base_uri": "https://localhost:8080/",
     "height": 461
    },
    "id": "XP6LgTIVDG56",
    "outputId": "c967f7cb-626a-42cf-a5b7-7949684edb77"
   },
   "outputs": [
    {
     "name": "stdout",
     "output_type": "stream",
     "text": [
      "Index(['Order No', 'User Id', 'Vehicle Type', 'Platform Type',\n",
      "       'Personal or Business', 'Placement - Day of Month',\n",
      "       'Placement - Weekday (Mo = 1)', 'Placement - Time',\n",
      "       'Confirmation - Day of Month', 'Confirmation - Weekday (Mo = 1)',\n",
      "       'Confirmation - Time', 'Arrival at Pickup - Day of Month',\n",
      "       'Arrival at Pickup - Weekday (Mo = 1)', 'Arrival at Pickup - Time',\n",
      "       'Pickup - Day of Month', 'Pickup - Weekday (Mo = 1)', 'Pickup - Time',\n",
      "       'Distance (KM)', 'Temperature', 'Precipitation in millimeters',\n",
      "       'Pickup Lat', 'Pickup Long', 'Destination Lat', 'Destination Long',\n",
      "       'Rider Id'],\n",
      "      dtype='object')\n",
      "Index(['Order No', 'User Id', 'Vehicle Type', 'Platform Type',\n",
      "       'Personal or Business', 'Placement - Day of Month',\n",
      "       'Placement - Weekday (Mo = 1)', 'Placement - Time',\n",
      "       'Confirmation - Day of Month', 'Confirmation - Weekday (Mo = 1)',\n",
      "       'Confirmation - Time', 'Arrival at Pickup - Day of Month',\n",
      "       'Arrival at Pickup - Weekday (Mo = 1)', 'Arrival at Pickup - Time',\n",
      "       'Pickup - Day of Month', 'Pickup - Weekday (Mo = 1)', 'Pickup - Time',\n",
      "       'Distance (KM)', 'Temperature', 'Precipitation in millimeters',\n",
      "       'Pickup Lat', 'Pickup Long', 'Destination Lat', 'Destination Long',\n",
      "       'Rider Id'],\n",
      "      dtype='object')\n"
     ]
    }
   ],
   "source": [
    "print(newtrain.columns)\n",
    "print(test_df.columns)\n"
   ]
  },
  {
   "cell_type": "markdown",
   "metadata": {
    "id": "07LnQrlBDG58"
   },
   "source": [
    "## 2.3 Combining the dataset"
   ]
  },
  {
   "cell_type": "markdown",
   "metadata": {},
   "source": [
    "We combined the test and train dataset to avoid duplication of tasks when we are cleaning our data or creating new features. Data leakage will be avoided as later we will randomly split our data into training and testing data. 70% of the data will go to training and 30% will go to testing. In this way there won't be any information accidentally shared between the test and training dataset."
   ]
  },
  {
   "cell_type": "code",
   "execution_count": 160,
   "metadata": {
    "colab": {
     "base_uri": "https://localhost:8080/",
     "height": 400
    },
    "id": "02hb4vLBDG59",
    "outputId": "9cdd3196-c9de-4435-f468-e1a907ea529e"
   },
   "outputs": [
    {
     "data": {
      "text/html": [
       "<div>\n",
       "<style scoped>\n",
       "    .dataframe tbody tr th:only-of-type {\n",
       "        vertical-align: middle;\n",
       "    }\n",
       "\n",
       "    .dataframe tbody tr th {\n",
       "        vertical-align: top;\n",
       "    }\n",
       "\n",
       "    .dataframe thead th {\n",
       "        text-align: right;\n",
       "    }\n",
       "</style>\n",
       "<table border=\"1\" class=\"dataframe\">\n",
       "  <thead>\n",
       "    <tr style=\"text-align: right;\">\n",
       "      <th></th>\n",
       "      <th>Order No</th>\n",
       "      <th>User Id</th>\n",
       "      <th>Vehicle Type</th>\n",
       "      <th>Platform Type</th>\n",
       "      <th>Personal or Business</th>\n",
       "      <th>Placement - Day of Month</th>\n",
       "      <th>Placement - Weekday (Mo = 1)</th>\n",
       "      <th>Placement - Time</th>\n",
       "      <th>Confirmation - Day of Month</th>\n",
       "      <th>Confirmation - Weekday (Mo = 1)</th>\n",
       "      <th>...</th>\n",
       "      <th>Pickup - Weekday (Mo = 1)</th>\n",
       "      <th>Pickup - Time</th>\n",
       "      <th>Distance (KM)</th>\n",
       "      <th>Temperature</th>\n",
       "      <th>Precipitation in millimeters</th>\n",
       "      <th>Pickup Lat</th>\n",
       "      <th>Pickup Long</th>\n",
       "      <th>Destination Lat</th>\n",
       "      <th>Destination Long</th>\n",
       "      <th>Rider Id</th>\n",
       "    </tr>\n",
       "  </thead>\n",
       "  <tbody>\n",
       "    <tr>\n",
       "      <th>0</th>\n",
       "      <td>Order_No_4211</td>\n",
       "      <td>User_Id_633</td>\n",
       "      <td>Bike</td>\n",
       "      <td>3</td>\n",
       "      <td>Business</td>\n",
       "      <td>9</td>\n",
       "      <td>5</td>\n",
       "      <td>9:35:46 AM</td>\n",
       "      <td>9</td>\n",
       "      <td>5</td>\n",
       "      <td>...</td>\n",
       "      <td>5</td>\n",
       "      <td>10:27:30 AM</td>\n",
       "      <td>4</td>\n",
       "      <td>20.4</td>\n",
       "      <td>NaN</td>\n",
       "      <td>-1.317755</td>\n",
       "      <td>36.830370</td>\n",
       "      <td>-1.300406</td>\n",
       "      <td>36.829741</td>\n",
       "      <td>Rider_Id_432</td>\n",
       "    </tr>\n",
       "    <tr>\n",
       "      <th>1</th>\n",
       "      <td>Order_No_25375</td>\n",
       "      <td>User_Id_2285</td>\n",
       "      <td>Bike</td>\n",
       "      <td>3</td>\n",
       "      <td>Personal</td>\n",
       "      <td>12</td>\n",
       "      <td>5</td>\n",
       "      <td>11:16:16 AM</td>\n",
       "      <td>12</td>\n",
       "      <td>5</td>\n",
       "      <td>...</td>\n",
       "      <td>5</td>\n",
       "      <td>11:44:09 AM</td>\n",
       "      <td>16</td>\n",
       "      <td>26.4</td>\n",
       "      <td>NaN</td>\n",
       "      <td>-1.351453</td>\n",
       "      <td>36.899315</td>\n",
       "      <td>-1.295004</td>\n",
       "      <td>36.814358</td>\n",
       "      <td>Rider_Id_856</td>\n",
       "    </tr>\n",
       "    <tr>\n",
       "      <th>2</th>\n",
       "      <td>Order_No_1899</td>\n",
       "      <td>User_Id_265</td>\n",
       "      <td>Bike</td>\n",
       "      <td>3</td>\n",
       "      <td>Business</td>\n",
       "      <td>30</td>\n",
       "      <td>2</td>\n",
       "      <td>12:39:25 PM</td>\n",
       "      <td>30</td>\n",
       "      <td>2</td>\n",
       "      <td>...</td>\n",
       "      <td>2</td>\n",
       "      <td>12:53:03 PM</td>\n",
       "      <td>3</td>\n",
       "      <td>NaN</td>\n",
       "      <td>NaN</td>\n",
       "      <td>-1.308284</td>\n",
       "      <td>36.843419</td>\n",
       "      <td>-1.300921</td>\n",
       "      <td>36.828195</td>\n",
       "      <td>Rider_Id_155</td>\n",
       "    </tr>\n",
       "    <tr>\n",
       "      <th>3</th>\n",
       "      <td>Order_No_9336</td>\n",
       "      <td>User_Id_1402</td>\n",
       "      <td>Bike</td>\n",
       "      <td>3</td>\n",
       "      <td>Business</td>\n",
       "      <td>15</td>\n",
       "      <td>5</td>\n",
       "      <td>9:25:34 AM</td>\n",
       "      <td>15</td>\n",
       "      <td>5</td>\n",
       "      <td>...</td>\n",
       "      <td>5</td>\n",
       "      <td>9:43:06 AM</td>\n",
       "      <td>9</td>\n",
       "      <td>19.2</td>\n",
       "      <td>NaN</td>\n",
       "      <td>-1.281301</td>\n",
       "      <td>36.832396</td>\n",
       "      <td>-1.257147</td>\n",
       "      <td>36.795063</td>\n",
       "      <td>Rider_Id_855</td>\n",
       "    </tr>\n",
       "    <tr>\n",
       "      <th>4</th>\n",
       "      <td>Order_No_27883</td>\n",
       "      <td>User_Id_1737</td>\n",
       "      <td>Bike</td>\n",
       "      <td>1</td>\n",
       "      <td>Personal</td>\n",
       "      <td>13</td>\n",
       "      <td>1</td>\n",
       "      <td>9:55:18 AM</td>\n",
       "      <td>13</td>\n",
       "      <td>1</td>\n",
       "      <td>...</td>\n",
       "      <td>1</td>\n",
       "      <td>10:05:23 AM</td>\n",
       "      <td>9</td>\n",
       "      <td>15.4</td>\n",
       "      <td>NaN</td>\n",
       "      <td>-1.266597</td>\n",
       "      <td>36.792118</td>\n",
       "      <td>-1.295041</td>\n",
       "      <td>36.809817</td>\n",
       "      <td>Rider_Id_770</td>\n",
       "    </tr>\n",
       "  </tbody>\n",
       "</table>\n",
       "<p>5 rows × 25 columns</p>\n",
       "</div>"
      ],
      "text/plain": [
       "         Order No       User Id Vehicle Type  Platform Type  \\\n",
       "0   Order_No_4211   User_Id_633         Bike              3   \n",
       "1  Order_No_25375  User_Id_2285         Bike              3   \n",
       "2   Order_No_1899   User_Id_265         Bike              3   \n",
       "3   Order_No_9336  User_Id_1402         Bike              3   \n",
       "4  Order_No_27883  User_Id_1737         Bike              1   \n",
       "\n",
       "  Personal or Business  Placement - Day of Month  \\\n",
       "0             Business                         9   \n",
       "1             Personal                        12   \n",
       "2             Business                        30   \n",
       "3             Business                        15   \n",
       "4             Personal                        13   \n",
       "\n",
       "   Placement - Weekday (Mo = 1) Placement - Time  Confirmation - Day of Month  \\\n",
       "0                             5       9:35:46 AM                            9   \n",
       "1                             5      11:16:16 AM                           12   \n",
       "2                             2      12:39:25 PM                           30   \n",
       "3                             5       9:25:34 AM                           15   \n",
       "4                             1       9:55:18 AM                           13   \n",
       "\n",
       "   Confirmation - Weekday (Mo = 1)  ... Pickup - Weekday (Mo = 1)  \\\n",
       "0                                5  ...                         5   \n",
       "1                                5  ...                         5   \n",
       "2                                2  ...                         2   \n",
       "3                                5  ...                         5   \n",
       "4                                1  ...                         1   \n",
       "\n",
       "   Pickup - Time  Distance (KM) Temperature  Precipitation in millimeters  \\\n",
       "0    10:27:30 AM              4        20.4                           NaN   \n",
       "1    11:44:09 AM             16        26.4                           NaN   \n",
       "2    12:53:03 PM              3         NaN                           NaN   \n",
       "3     9:43:06 AM              9        19.2                           NaN   \n",
       "4    10:05:23 AM              9        15.4                           NaN   \n",
       "\n",
       "   Pickup Lat Pickup Long  Destination Lat  Destination Long      Rider Id  \n",
       "0   -1.317755   36.830370        -1.300406         36.829741  Rider_Id_432  \n",
       "1   -1.351453   36.899315        -1.295004         36.814358  Rider_Id_856  \n",
       "2   -1.308284   36.843419        -1.300921         36.828195  Rider_Id_155  \n",
       "3   -1.281301   36.832396        -1.257147         36.795063  Rider_Id_855  \n",
       "4   -1.266597   36.792118        -1.295041         36.809817  Rider_Id_770  \n",
       "\n",
       "[5 rows x 25 columns]"
      ]
     },
     "execution_count": 160,
     "metadata": {},
     "output_type": "execute_result"
    }
   ],
   "source": [
    "df = pd.concat([newtrain, test_df])\n",
    "df.head()\n"
   ]
  },
  {
   "cell_type": "code",
   "execution_count": 17,
   "metadata": {
    "id": "oAqLKp6Z9zHt",
    "outputId": "bf86bdea-c045-4571-cc1f-ef9d5ceb4cf7"
   },
   "outputs": [
    {
     "data": {
      "text/plain": [
       "(28269, 25)"
      ]
     },
     "execution_count": 17,
     "metadata": {},
     "output_type": "execute_result"
    }
   ],
   "source": [
    "df.shape\n"
   ]
  },
  {
   "cell_type": "markdown",
   "metadata": {
    "id": "YaHxuzV49zHv"
   },
   "source": [
    "## 2.4 Merging Dataframe with Rider's details"
   ]
  },
  {
   "cell_type": "markdown",
   "metadata": {},
   "source": [
    "We merged the riders dataset with the dataframe that we have created by joining train and test datasets. By joining riders data to our dataframe, we are adding new feature to our dataset which might help with the model training and performance."
   ]
  },
  {
   "cell_type": "code",
   "execution_count": 161,
   "metadata": {
    "id": "M_DVwqAS9zHv"
   },
   "outputs": [],
   "source": [
    "df = df.merge(riders_df, how='left', on='Rider Id')\n"
   ]
  },
  {
   "cell_type": "code",
   "execution_count": 19,
   "metadata": {
    "id": "ercUj-7A9zHx",
    "outputId": "d2b1d39d-b9f4-4f1d-b9b9-3c979d756153"
   },
   "outputs": [
    {
     "data": {
      "text/html": [
       "<div>\n",
       "<style scoped>\n",
       "    .dataframe tbody tr th:only-of-type {\n",
       "        vertical-align: middle;\n",
       "    }\n",
       "\n",
       "    .dataframe tbody tr th {\n",
       "        vertical-align: top;\n",
       "    }\n",
       "\n",
       "    .dataframe thead th {\n",
       "        text-align: right;\n",
       "    }\n",
       "</style>\n",
       "<table border=\"1\" class=\"dataframe\">\n",
       "  <thead>\n",
       "    <tr style=\"text-align: right;\">\n",
       "      <th></th>\n",
       "      <th>Order No</th>\n",
       "      <th>User Id</th>\n",
       "      <th>Vehicle Type</th>\n",
       "      <th>Platform Type</th>\n",
       "      <th>Personal or Business</th>\n",
       "      <th>Placement - Day of Month</th>\n",
       "      <th>Placement - Weekday (Mo = 1)</th>\n",
       "      <th>Placement - Time</th>\n",
       "      <th>Confirmation - Day of Month</th>\n",
       "      <th>Confirmation - Weekday (Mo = 1)</th>\n",
       "      <th>...</th>\n",
       "      <th>Precipitation in millimeters</th>\n",
       "      <th>Pickup Lat</th>\n",
       "      <th>Pickup Long</th>\n",
       "      <th>Destination Lat</th>\n",
       "      <th>Destination Long</th>\n",
       "      <th>Rider Id</th>\n",
       "      <th>No_Of_Orders</th>\n",
       "      <th>Age</th>\n",
       "      <th>Average_Rating</th>\n",
       "      <th>No_of_Ratings</th>\n",
       "    </tr>\n",
       "  </thead>\n",
       "  <tbody>\n",
       "    <tr>\n",
       "      <th>0</th>\n",
       "      <td>Order_No_4211</td>\n",
       "      <td>User_Id_633</td>\n",
       "      <td>Bike</td>\n",
       "      <td>3</td>\n",
       "      <td>Business</td>\n",
       "      <td>9</td>\n",
       "      <td>5</td>\n",
       "      <td>9:35:46 AM</td>\n",
       "      <td>9</td>\n",
       "      <td>5</td>\n",
       "      <td>...</td>\n",
       "      <td>NaN</td>\n",
       "      <td>-1.317755</td>\n",
       "      <td>36.830370</td>\n",
       "      <td>-1.300406</td>\n",
       "      <td>36.829741</td>\n",
       "      <td>Rider_Id_432</td>\n",
       "      <td>1637</td>\n",
       "      <td>1309</td>\n",
       "      <td>13.8</td>\n",
       "      <td>549</td>\n",
       "    </tr>\n",
       "    <tr>\n",
       "      <th>1</th>\n",
       "      <td>Order_No_25375</td>\n",
       "      <td>User_Id_2285</td>\n",
       "      <td>Bike</td>\n",
       "      <td>3</td>\n",
       "      <td>Personal</td>\n",
       "      <td>12</td>\n",
       "      <td>5</td>\n",
       "      <td>11:16:16 AM</td>\n",
       "      <td>12</td>\n",
       "      <td>5</td>\n",
       "      <td>...</td>\n",
       "      <td>NaN</td>\n",
       "      <td>-1.351453</td>\n",
       "      <td>36.899315</td>\n",
       "      <td>-1.295004</td>\n",
       "      <td>36.814358</td>\n",
       "      <td>Rider_Id_856</td>\n",
       "      <td>396</td>\n",
       "      <td>339</td>\n",
       "      <td>13.6</td>\n",
       "      <td>69</td>\n",
       "    </tr>\n",
       "  </tbody>\n",
       "</table>\n",
       "<p>2 rows × 29 columns</p>\n",
       "</div>"
      ],
      "text/plain": [
       "         Order No       User Id Vehicle Type  Platform Type  \\\n",
       "0   Order_No_4211   User_Id_633         Bike              3   \n",
       "1  Order_No_25375  User_Id_2285         Bike              3   \n",
       "\n",
       "  Personal or Business  Placement - Day of Month  \\\n",
       "0             Business                         9   \n",
       "1             Personal                        12   \n",
       "\n",
       "   Placement - Weekday (Mo = 1) Placement - Time  Confirmation - Day of Month  \\\n",
       "0                             5       9:35:46 AM                            9   \n",
       "1                             5      11:16:16 AM                           12   \n",
       "\n",
       "   Confirmation - Weekday (Mo = 1)  ... Precipitation in millimeters  \\\n",
       "0                                5  ...                          NaN   \n",
       "1                                5  ...                          NaN   \n",
       "\n",
       "   Pickup Lat  Pickup Long Destination Lat  Destination Long      Rider Id  \\\n",
       "0   -1.317755    36.830370       -1.300406         36.829741  Rider_Id_432   \n",
       "1   -1.351453    36.899315       -1.295004         36.814358  Rider_Id_856   \n",
       "\n",
       "  No_Of_Orders   Age  Average_Rating  No_of_Ratings  \n",
       "0         1637  1309            13.8            549  \n",
       "1          396   339            13.6             69  \n",
       "\n",
       "[2 rows x 29 columns]"
      ]
     },
     "execution_count": 19,
     "metadata": {},
     "output_type": "execute_result"
    }
   ],
   "source": [
    "df.head(2)\n"
   ]
  },
  {
   "cell_type": "markdown",
   "metadata": {
    "id": "P69L6EbODG5_"
   },
   "source": [
    "\n",
    "**Some of the columns have white spaces that we want to replace with an underscore (to avoid using the column names as variable names later on).**"
   ]
  },
  {
   "cell_type": "code",
   "execution_count": 162,
   "metadata": {
    "colab": {
     "base_uri": "https://localhost:8080/",
     "height": 315
    },
    "id": "iVPMBmAUDG5_",
    "outputId": "2e0ddad9-575d-4b22-ea86-0b564156305e"
   },
   "outputs": [
    {
     "data": {
      "text/html": [
       "<div>\n",
       "<style scoped>\n",
       "    .dataframe tbody tr th:only-of-type {\n",
       "        vertical-align: middle;\n",
       "    }\n",
       "\n",
       "    .dataframe tbody tr th {\n",
       "        vertical-align: top;\n",
       "    }\n",
       "\n",
       "    .dataframe thead th {\n",
       "        text-align: right;\n",
       "    }\n",
       "</style>\n",
       "<table border=\"1\" class=\"dataframe\">\n",
       "  <thead>\n",
       "    <tr style=\"text-align: right;\">\n",
       "      <th></th>\n",
       "      <th>Order_No</th>\n",
       "      <th>User_Id</th>\n",
       "      <th>Vehicle_Type</th>\n",
       "      <th>Platform_Type</th>\n",
       "      <th>Personal_or_Business</th>\n",
       "      <th>Placement_-_Day_of_Month</th>\n",
       "      <th>Placement_-_Weekday_(Mo_=_1)</th>\n",
       "      <th>Placement_-_Time</th>\n",
       "      <th>Confirmation_-_Day_of_Month</th>\n",
       "      <th>Confirmation_-_Weekday_(Mo_=_1)</th>\n",
       "      <th>...</th>\n",
       "      <th>Precipitation_in_millimeters</th>\n",
       "      <th>Pickup_Lat</th>\n",
       "      <th>Pickup_Long</th>\n",
       "      <th>Destination_Lat</th>\n",
       "      <th>Destination_Long</th>\n",
       "      <th>Rider_Id</th>\n",
       "      <th>No_Of_Orders</th>\n",
       "      <th>Age</th>\n",
       "      <th>Average_Rating</th>\n",
       "      <th>No_of_Ratings</th>\n",
       "    </tr>\n",
       "  </thead>\n",
       "  <tbody>\n",
       "    <tr>\n",
       "      <th>0</th>\n",
       "      <td>Order_No_4211</td>\n",
       "      <td>User_Id_633</td>\n",
       "      <td>Bike</td>\n",
       "      <td>3</td>\n",
       "      <td>Business</td>\n",
       "      <td>9</td>\n",
       "      <td>5</td>\n",
       "      <td>9:35:46 AM</td>\n",
       "      <td>9</td>\n",
       "      <td>5</td>\n",
       "      <td>...</td>\n",
       "      <td>NaN</td>\n",
       "      <td>-1.317755</td>\n",
       "      <td>36.830370</td>\n",
       "      <td>-1.300406</td>\n",
       "      <td>36.829741</td>\n",
       "      <td>Rider_Id_432</td>\n",
       "      <td>1637</td>\n",
       "      <td>1309</td>\n",
       "      <td>13.8</td>\n",
       "      <td>549</td>\n",
       "    </tr>\n",
       "    <tr>\n",
       "      <th>1</th>\n",
       "      <td>Order_No_25375</td>\n",
       "      <td>User_Id_2285</td>\n",
       "      <td>Bike</td>\n",
       "      <td>3</td>\n",
       "      <td>Personal</td>\n",
       "      <td>12</td>\n",
       "      <td>5</td>\n",
       "      <td>11:16:16 AM</td>\n",
       "      <td>12</td>\n",
       "      <td>5</td>\n",
       "      <td>...</td>\n",
       "      <td>NaN</td>\n",
       "      <td>-1.351453</td>\n",
       "      <td>36.899315</td>\n",
       "      <td>-1.295004</td>\n",
       "      <td>36.814358</td>\n",
       "      <td>Rider_Id_856</td>\n",
       "      <td>396</td>\n",
       "      <td>339</td>\n",
       "      <td>13.6</td>\n",
       "      <td>69</td>\n",
       "    </tr>\n",
       "    <tr>\n",
       "      <th>2</th>\n",
       "      <td>Order_No_1899</td>\n",
       "      <td>User_Id_265</td>\n",
       "      <td>Bike</td>\n",
       "      <td>3</td>\n",
       "      <td>Business</td>\n",
       "      <td>30</td>\n",
       "      <td>2</td>\n",
       "      <td>12:39:25 PM</td>\n",
       "      <td>30</td>\n",
       "      <td>2</td>\n",
       "      <td>...</td>\n",
       "      <td>NaN</td>\n",
       "      <td>-1.308284</td>\n",
       "      <td>36.843419</td>\n",
       "      <td>-1.300921</td>\n",
       "      <td>36.828195</td>\n",
       "      <td>Rider_Id_155</td>\n",
       "      <td>1023</td>\n",
       "      <td>242</td>\n",
       "      <td>12.5</td>\n",
       "      <td>114</td>\n",
       "    </tr>\n",
       "    <tr>\n",
       "      <th>3</th>\n",
       "      <td>Order_No_9336</td>\n",
       "      <td>User_Id_1402</td>\n",
       "      <td>Bike</td>\n",
       "      <td>3</td>\n",
       "      <td>Business</td>\n",
       "      <td>15</td>\n",
       "      <td>5</td>\n",
       "      <td>9:25:34 AM</td>\n",
       "      <td>15</td>\n",
       "      <td>5</td>\n",
       "      <td>...</td>\n",
       "      <td>NaN</td>\n",
       "      <td>-1.281301</td>\n",
       "      <td>36.832396</td>\n",
       "      <td>-1.257147</td>\n",
       "      <td>36.795063</td>\n",
       "      <td>Rider_Id_855</td>\n",
       "      <td>886</td>\n",
       "      <td>283</td>\n",
       "      <td>14.5</td>\n",
       "      <td>113</td>\n",
       "    </tr>\n",
       "    <tr>\n",
       "      <th>4</th>\n",
       "      <td>Order_No_27883</td>\n",
       "      <td>User_Id_1737</td>\n",
       "      <td>Bike</td>\n",
       "      <td>1</td>\n",
       "      <td>Personal</td>\n",
       "      <td>13</td>\n",
       "      <td>1</td>\n",
       "      <td>9:55:18 AM</td>\n",
       "      <td>13</td>\n",
       "      <td>1</td>\n",
       "      <td>...</td>\n",
       "      <td>NaN</td>\n",
       "      <td>-1.266597</td>\n",
       "      <td>36.792118</td>\n",
       "      <td>-1.295041</td>\n",
       "      <td>36.809817</td>\n",
       "      <td>Rider_Id_770</td>\n",
       "      <td>2311</td>\n",
       "      <td>872</td>\n",
       "      <td>14.1</td>\n",
       "      <td>533</td>\n",
       "    </tr>\n",
       "  </tbody>\n",
       "</table>\n",
       "<p>5 rows × 29 columns</p>\n",
       "</div>"
      ],
      "text/plain": [
       "         Order_No       User_Id Vehicle_Type  Platform_Type  \\\n",
       "0   Order_No_4211   User_Id_633         Bike              3   \n",
       "1  Order_No_25375  User_Id_2285         Bike              3   \n",
       "2   Order_No_1899   User_Id_265         Bike              3   \n",
       "3   Order_No_9336  User_Id_1402         Bike              3   \n",
       "4  Order_No_27883  User_Id_1737         Bike              1   \n",
       "\n",
       "  Personal_or_Business  Placement_-_Day_of_Month  \\\n",
       "0             Business                         9   \n",
       "1             Personal                        12   \n",
       "2             Business                        30   \n",
       "3             Business                        15   \n",
       "4             Personal                        13   \n",
       "\n",
       "   Placement_-_Weekday_(Mo_=_1) Placement_-_Time  Confirmation_-_Day_of_Month  \\\n",
       "0                             5       9:35:46 AM                            9   \n",
       "1                             5      11:16:16 AM                           12   \n",
       "2                             2      12:39:25 PM                           30   \n",
       "3                             5       9:25:34 AM                           15   \n",
       "4                             1       9:55:18 AM                           13   \n",
       "\n",
       "   Confirmation_-_Weekday_(Mo_=_1)  ... Precipitation_in_millimeters  \\\n",
       "0                                5  ...                          NaN   \n",
       "1                                5  ...                          NaN   \n",
       "2                                2  ...                          NaN   \n",
       "3                                5  ...                          NaN   \n",
       "4                                1  ...                          NaN   \n",
       "\n",
       "   Pickup_Lat  Pickup_Long Destination_Lat  Destination_Long      Rider_Id  \\\n",
       "0   -1.317755    36.830370       -1.300406         36.829741  Rider_Id_432   \n",
       "1   -1.351453    36.899315       -1.295004         36.814358  Rider_Id_856   \n",
       "2   -1.308284    36.843419       -1.300921         36.828195  Rider_Id_155   \n",
       "3   -1.281301    36.832396       -1.257147         36.795063  Rider_Id_855   \n",
       "4   -1.266597    36.792118       -1.295041         36.809817  Rider_Id_770   \n",
       "\n",
       "  No_Of_Orders   Age  Average_Rating  No_of_Ratings  \n",
       "0         1637  1309            13.8            549  \n",
       "1          396   339            13.6             69  \n",
       "2         1023   242            12.5            114  \n",
       "3          886   283            14.5            113  \n",
       "4         2311   872            14.1            533  \n",
       "\n",
       "[5 rows x 29 columns]"
      ]
     },
     "execution_count": 162,
     "metadata": {},
     "output_type": "execute_result"
    }
   ],
   "source": [
    "df.columns = [col.replace(\" \", \"_\") for col in df.columns]\n",
    "df.head()\n"
   ]
  },
  {
   "cell_type": "code",
   "execution_count": 21,
   "metadata": {
    "colab": {
     "base_uri": "https://localhost:8080/",
     "height": 35
    },
    "id": "nJ4V1kB2DG6C",
    "outputId": "2f46bb61-4cde-4740-9bef-f012a99c6ec8"
   },
   "outputs": [
    {
     "data": {
      "text/plain": [
       "Index(['Order_No', 'User_Id', 'Vehicle_Type', 'Platform_Type',\n",
       "       'Personal_or_Business', 'Placement_-_Day_of_Month',\n",
       "       'Placement_-_Weekday_(Mo_=_1)', 'Placement_-_Time',\n",
       "       'Confirmation_-_Day_of_Month', 'Confirmation_-_Weekday_(Mo_=_1)',\n",
       "       'Confirmation_-_Time', 'Arrival_at_Pickup_-_Day_of_Month',\n",
       "       'Arrival_at_Pickup_-_Weekday_(Mo_=_1)', 'Arrival_at_Pickup_-_Time',\n",
       "       'Pickup_-_Day_of_Month', 'Pickup_-_Weekday_(Mo_=_1)', 'Pickup_-_Time',\n",
       "       'Distance_(KM)', 'Temperature', 'Precipitation_in_millimeters',\n",
       "       'Pickup_Lat', 'Pickup_Long', 'Destination_Lat', 'Destination_Long',\n",
       "       'Rider_Id', 'No_Of_Orders', 'Age', 'Average_Rating', 'No_of_Ratings'],\n",
       "      dtype='object')"
      ]
     },
     "execution_count": 21,
     "metadata": {},
     "output_type": "execute_result"
    }
   ],
   "source": [
    "df.columns\n"
   ]
  },
  {
   "cell_type": "markdown",
   "metadata": {
    "id": "srcOMln8DG6H"
   },
   "source": [
    "## **2.5 Summary Statistics**"
   ]
  },
  {
   "cell_type": "markdown",
   "metadata": {
    "id": "5LOD15fuDG6I"
   },
   "source": [
    "In this section we will explore the data types and the summary statistics of our variables."
   ]
  },
  {
   "cell_type": "markdown",
   "metadata": {
    "id": "1ylx6JYHDG6I"
   },
   "source": [
    "Let's start by looking at the data types and number of entries of each column."
   ]
  },
  {
   "cell_type": "code",
   "execution_count": 22,
   "metadata": {
    "colab": {
     "base_uri": "https://localhost:8080/",
     "height": 657
    },
    "id": "KbCB_XgrDG6I",
    "outputId": "02b53cec-36c5-42be-a6f8-cd740e554bf9"
   },
   "outputs": [
    {
     "name": "stdout",
     "output_type": "stream",
     "text": [
      "<class 'pandas.core.frame.DataFrame'>\n",
      "Int64Index: 28269 entries, 0 to 28268\n",
      "Data columns (total 29 columns):\n",
      " #   Column                                Non-Null Count  Dtype  \n",
      "---  ------                                --------------  -----  \n",
      " 0   Order_No                              28269 non-null  object \n",
      " 1   User_Id                               28269 non-null  object \n",
      " 2   Vehicle_Type                          28269 non-null  object \n",
      " 3   Platform_Type                         28269 non-null  int64  \n",
      " 4   Personal_or_Business                  28269 non-null  object \n",
      " 5   Placement_-_Day_of_Month              28269 non-null  int64  \n",
      " 6   Placement_-_Weekday_(Mo_=_1)          28269 non-null  int64  \n",
      " 7   Placement_-_Time                      28269 non-null  object \n",
      " 8   Confirmation_-_Day_of_Month           28269 non-null  int64  \n",
      " 9   Confirmation_-_Weekday_(Mo_=_1)       28269 non-null  int64  \n",
      " 10  Confirmation_-_Time                   28269 non-null  object \n",
      " 11  Arrival_at_Pickup_-_Day_of_Month      28269 non-null  int64  \n",
      " 12  Arrival_at_Pickup_-_Weekday_(Mo_=_1)  28269 non-null  int64  \n",
      " 13  Arrival_at_Pickup_-_Time              28269 non-null  object \n",
      " 14  Pickup_-_Day_of_Month                 28269 non-null  int64  \n",
      " 15  Pickup_-_Weekday_(Mo_=_1)             28269 non-null  int64  \n",
      " 16  Pickup_-_Time                         28269 non-null  object \n",
      " 17  Distance_(KM)                         28269 non-null  int64  \n",
      " 18  Temperature                           22466 non-null  float64\n",
      " 19  Precipitation_in_millimeters          751 non-null    float64\n",
      " 20  Pickup_Lat                            28269 non-null  float64\n",
      " 21  Pickup_Long                           28269 non-null  float64\n",
      " 22  Destination_Lat                       28269 non-null  float64\n",
      " 23  Destination_Long                      28269 non-null  float64\n",
      " 24  Rider_Id                              28269 non-null  object \n",
      " 25  No_Of_Orders                          28269 non-null  int64  \n",
      " 26  Age                                   28269 non-null  int64  \n",
      " 27  Average_Rating                        28269 non-null  float64\n",
      " 28  No_of_Ratings                         28269 non-null  int64  \n",
      "dtypes: float64(7), int64(13), object(9)\n",
      "memory usage: 6.5+ MB\n"
     ]
    }
   ],
   "source": [
    "df.info()\n"
   ]
  },
  {
   "cell_type": "markdown",
   "metadata": {
    "id": "p8Lfnxd5DG6L"
   },
   "source": [
    "- The train_df.info() outputs the number of non-null entries in each column. As such, we are certain that our data has missing values in **Temperature** and **Precipitation_in_millimeters** columns as the columns have a varying number of non-null entries.\n",
    "\n",
    "- All input data for regression model building purposes needs to be numerical. All time columns, Order_No, User_Id, Vehicle_Type, Business_or_Personal columns are not numerical. We therefore have to transform the text data into numbers before we can train our machine learning model.\n",
    "\n",
    "Now let's look at a table showing the summary statistics of the data."
   ]
  },
  {
   "cell_type": "code",
   "execution_count": 23,
   "metadata": {
    "colab": {
     "base_uri": "https://localhost:8080/",
     "height": 604
    },
    "id": "lvWALMDiDG6L",
    "outputId": "184e86f8-20bd-4c76-8ba7-a665cb248b76"
   },
   "outputs": [
    {
     "data": {
      "text/html": [
       "<div>\n",
       "<style scoped>\n",
       "    .dataframe tbody tr th:only-of-type {\n",
       "        vertical-align: middle;\n",
       "    }\n",
       "\n",
       "    .dataframe tbody tr th {\n",
       "        vertical-align: top;\n",
       "    }\n",
       "\n",
       "    .dataframe thead th {\n",
       "        text-align: right;\n",
       "    }\n",
       "</style>\n",
       "<table border=\"1\" class=\"dataframe\">\n",
       "  <thead>\n",
       "    <tr style=\"text-align: right;\">\n",
       "      <th></th>\n",
       "      <th>count</th>\n",
       "      <th>mean</th>\n",
       "      <th>std</th>\n",
       "      <th>min</th>\n",
       "      <th>25%</th>\n",
       "      <th>50%</th>\n",
       "      <th>75%</th>\n",
       "      <th>max</th>\n",
       "    </tr>\n",
       "  </thead>\n",
       "  <tbody>\n",
       "    <tr>\n",
       "      <th>Platform_Type</th>\n",
       "      <td>28269.0</td>\n",
       "      <td>2.752167</td>\n",
       "      <td>0.624872</td>\n",
       "      <td>1.000000</td>\n",
       "      <td>3.000000</td>\n",
       "      <td>3.000000</td>\n",
       "      <td>3.000000</td>\n",
       "      <td>4.000000</td>\n",
       "    </tr>\n",
       "    <tr>\n",
       "      <th>Placement_-_Day_of_Month</th>\n",
       "      <td>28269.0</td>\n",
       "      <td>15.645725</td>\n",
       "      <td>8.793210</td>\n",
       "      <td>1.000000</td>\n",
       "      <td>8.000000</td>\n",
       "      <td>15.000000</td>\n",
       "      <td>23.000000</td>\n",
       "      <td>31.000000</td>\n",
       "    </tr>\n",
       "    <tr>\n",
       "      <th>Placement_-_Weekday_(Mo_=_1)</th>\n",
       "      <td>28269.0</td>\n",
       "      <td>3.242527</td>\n",
       "      <td>1.570692</td>\n",
       "      <td>1.000000</td>\n",
       "      <td>2.000000</td>\n",
       "      <td>3.000000</td>\n",
       "      <td>5.000000</td>\n",
       "      <td>7.000000</td>\n",
       "    </tr>\n",
       "    <tr>\n",
       "      <th>Confirmation_-_Day_of_Month</th>\n",
       "      <td>28269.0</td>\n",
       "      <td>15.645831</td>\n",
       "      <td>8.793188</td>\n",
       "      <td>1.000000</td>\n",
       "      <td>8.000000</td>\n",
       "      <td>15.000000</td>\n",
       "      <td>23.000000</td>\n",
       "      <td>31.000000</td>\n",
       "    </tr>\n",
       "    <tr>\n",
       "      <th>Confirmation_-_Weekday_(Mo_=_1)</th>\n",
       "      <td>28269.0</td>\n",
       "      <td>3.242633</td>\n",
       "      <td>1.570642</td>\n",
       "      <td>1.000000</td>\n",
       "      <td>2.000000</td>\n",
       "      <td>3.000000</td>\n",
       "      <td>5.000000</td>\n",
       "      <td>7.000000</td>\n",
       "    </tr>\n",
       "    <tr>\n",
       "      <th>Arrival_at_Pickup_-_Day_of_Month</th>\n",
       "      <td>28269.0</td>\n",
       "      <td>15.645831</td>\n",
       "      <td>8.793188</td>\n",
       "      <td>1.000000</td>\n",
       "      <td>8.000000</td>\n",
       "      <td>15.000000</td>\n",
       "      <td>23.000000</td>\n",
       "      <td>31.000000</td>\n",
       "    </tr>\n",
       "    <tr>\n",
       "      <th>Arrival_at_Pickup_-_Weekday_(Mo_=_1)</th>\n",
       "      <td>28269.0</td>\n",
       "      <td>3.242633</td>\n",
       "      <td>1.570642</td>\n",
       "      <td>1.000000</td>\n",
       "      <td>2.000000</td>\n",
       "      <td>3.000000</td>\n",
       "      <td>5.000000</td>\n",
       "      <td>7.000000</td>\n",
       "    </tr>\n",
       "    <tr>\n",
       "      <th>Pickup_-_Day_of_Month</th>\n",
       "      <td>28269.0</td>\n",
       "      <td>15.645831</td>\n",
       "      <td>8.793188</td>\n",
       "      <td>1.000000</td>\n",
       "      <td>8.000000</td>\n",
       "      <td>15.000000</td>\n",
       "      <td>23.000000</td>\n",
       "      <td>31.000000</td>\n",
       "    </tr>\n",
       "    <tr>\n",
       "      <th>Pickup_-_Weekday_(Mo_=_1)</th>\n",
       "      <td>28269.0</td>\n",
       "      <td>3.242633</td>\n",
       "      <td>1.570642</td>\n",
       "      <td>1.000000</td>\n",
       "      <td>2.000000</td>\n",
       "      <td>3.000000</td>\n",
       "      <td>5.000000</td>\n",
       "      <td>7.000000</td>\n",
       "    </tr>\n",
       "    <tr>\n",
       "      <th>Distance_(KM)</th>\n",
       "      <td>28269.0</td>\n",
       "      <td>9.494641</td>\n",
       "      <td>5.645726</td>\n",
       "      <td>1.000000</td>\n",
       "      <td>5.000000</td>\n",
       "      <td>8.000000</td>\n",
       "      <td>13.000000</td>\n",
       "      <td>49.000000</td>\n",
       "    </tr>\n",
       "    <tr>\n",
       "      <th>Temperature</th>\n",
       "      <td>22466.0</td>\n",
       "      <td>23.255689</td>\n",
       "      <td>3.609541</td>\n",
       "      <td>11.200000</td>\n",
       "      <td>20.600000</td>\n",
       "      <td>23.400000</td>\n",
       "      <td>26.000000</td>\n",
       "      <td>32.100000</td>\n",
       "    </tr>\n",
       "    <tr>\n",
       "      <th>Precipitation_in_millimeters</th>\n",
       "      <td>751.0</td>\n",
       "      <td>7.573502</td>\n",
       "      <td>16.347971</td>\n",
       "      <td>0.100000</td>\n",
       "      <td>1.100000</td>\n",
       "      <td>2.900000</td>\n",
       "      <td>4.900000</td>\n",
       "      <td>99.100000</td>\n",
       "    </tr>\n",
       "    <tr>\n",
       "      <th>Pickup_Lat</th>\n",
       "      <td>28269.0</td>\n",
       "      <td>-1.281613</td>\n",
       "      <td>0.030392</td>\n",
       "      <td>-1.438302</td>\n",
       "      <td>-1.300921</td>\n",
       "      <td>-1.279395</td>\n",
       "      <td>-1.257147</td>\n",
       "      <td>-1.147170</td>\n",
       "    </tr>\n",
       "    <tr>\n",
       "      <th>Pickup_Long</th>\n",
       "      <td>28269.0</td>\n",
       "      <td>36.811235</td>\n",
       "      <td>0.037595</td>\n",
       "      <td>36.653621</td>\n",
       "      <td>36.784605</td>\n",
       "      <td>36.807040</td>\n",
       "      <td>36.829721</td>\n",
       "      <td>36.991046</td>\n",
       "    </tr>\n",
       "    <tr>\n",
       "      <th>Destination_Lat</th>\n",
       "      <td>28269.0</td>\n",
       "      <td>-1.282499</td>\n",
       "      <td>0.034677</td>\n",
       "      <td>-1.430298</td>\n",
       "      <td>-1.301043</td>\n",
       "      <td>-1.284001</td>\n",
       "      <td>-1.261199</td>\n",
       "      <td>-1.030225</td>\n",
       "    </tr>\n",
       "    <tr>\n",
       "      <th>Destination_Long</th>\n",
       "      <td>28269.0</td>\n",
       "      <td>36.811247</td>\n",
       "      <td>0.044420</td>\n",
       "      <td>36.606594</td>\n",
       "      <td>36.785934</td>\n",
       "      <td>36.807974</td>\n",
       "      <td>36.828916</td>\n",
       "      <td>37.018958</td>\n",
       "    </tr>\n",
       "    <tr>\n",
       "      <th>No_Of_Orders</th>\n",
       "      <td>28269.0</td>\n",
       "      <td>1698.576497</td>\n",
       "      <td>1588.125645</td>\n",
       "      <td>2.000000</td>\n",
       "      <td>557.000000</td>\n",
       "      <td>1212.000000</td>\n",
       "      <td>2311.000000</td>\n",
       "      <td>9756.000000</td>\n",
       "    </tr>\n",
       "    <tr>\n",
       "      <th>Age</th>\n",
       "      <td>28269.0</td>\n",
       "      <td>988.157522</td>\n",
       "      <td>653.147480</td>\n",
       "      <td>96.000000</td>\n",
       "      <td>494.000000</td>\n",
       "      <td>872.000000</td>\n",
       "      <td>1236.000000</td>\n",
       "      <td>3764.000000</td>\n",
       "    </tr>\n",
       "    <tr>\n",
       "      <th>Average_Rating</th>\n",
       "      <td>28269.0</td>\n",
       "      <td>13.882684</td>\n",
       "      <td>0.899127</td>\n",
       "      <td>0.000000</td>\n",
       "      <td>13.600000</td>\n",
       "      <td>14.000000</td>\n",
       "      <td>14.300000</td>\n",
       "      <td>15.200000</td>\n",
       "    </tr>\n",
       "    <tr>\n",
       "      <th>No_of_Ratings</th>\n",
       "      <td>28269.0</td>\n",
       "      <td>341.504333</td>\n",
       "      <td>404.672506</td>\n",
       "      <td>0.000000</td>\n",
       "      <td>61.000000</td>\n",
       "      <td>158.000000</td>\n",
       "      <td>495.000000</td>\n",
       "      <td>2298.000000</td>\n",
       "    </tr>\n",
       "  </tbody>\n",
       "</table>\n",
       "</div>"
      ],
      "text/plain": [
       "                                        count         mean          std  \\\n",
       "Platform_Type                         28269.0     2.752167     0.624872   \n",
       "Placement_-_Day_of_Month              28269.0    15.645725     8.793210   \n",
       "Placement_-_Weekday_(Mo_=_1)          28269.0     3.242527     1.570692   \n",
       "Confirmation_-_Day_of_Month           28269.0    15.645831     8.793188   \n",
       "Confirmation_-_Weekday_(Mo_=_1)       28269.0     3.242633     1.570642   \n",
       "Arrival_at_Pickup_-_Day_of_Month      28269.0    15.645831     8.793188   \n",
       "Arrival_at_Pickup_-_Weekday_(Mo_=_1)  28269.0     3.242633     1.570642   \n",
       "Pickup_-_Day_of_Month                 28269.0    15.645831     8.793188   \n",
       "Pickup_-_Weekday_(Mo_=_1)             28269.0     3.242633     1.570642   \n",
       "Distance_(KM)                         28269.0     9.494641     5.645726   \n",
       "Temperature                           22466.0    23.255689     3.609541   \n",
       "Precipitation_in_millimeters            751.0     7.573502    16.347971   \n",
       "Pickup_Lat                            28269.0    -1.281613     0.030392   \n",
       "Pickup_Long                           28269.0    36.811235     0.037595   \n",
       "Destination_Lat                       28269.0    -1.282499     0.034677   \n",
       "Destination_Long                      28269.0    36.811247     0.044420   \n",
       "No_Of_Orders                          28269.0  1698.576497  1588.125645   \n",
       "Age                                   28269.0   988.157522   653.147480   \n",
       "Average_Rating                        28269.0    13.882684     0.899127   \n",
       "No_of_Ratings                         28269.0   341.504333   404.672506   \n",
       "\n",
       "                                            min         25%          50%  \\\n",
       "Platform_Type                          1.000000    3.000000     3.000000   \n",
       "Placement_-_Day_of_Month               1.000000    8.000000    15.000000   \n",
       "Placement_-_Weekday_(Mo_=_1)           1.000000    2.000000     3.000000   \n",
       "Confirmation_-_Day_of_Month            1.000000    8.000000    15.000000   \n",
       "Confirmation_-_Weekday_(Mo_=_1)        1.000000    2.000000     3.000000   \n",
       "Arrival_at_Pickup_-_Day_of_Month       1.000000    8.000000    15.000000   \n",
       "Arrival_at_Pickup_-_Weekday_(Mo_=_1)   1.000000    2.000000     3.000000   \n",
       "Pickup_-_Day_of_Month                  1.000000    8.000000    15.000000   \n",
       "Pickup_-_Weekday_(Mo_=_1)              1.000000    2.000000     3.000000   \n",
       "Distance_(KM)                          1.000000    5.000000     8.000000   \n",
       "Temperature                           11.200000   20.600000    23.400000   \n",
       "Precipitation_in_millimeters           0.100000    1.100000     2.900000   \n",
       "Pickup_Lat                            -1.438302   -1.300921    -1.279395   \n",
       "Pickup_Long                           36.653621   36.784605    36.807040   \n",
       "Destination_Lat                       -1.430298   -1.301043    -1.284001   \n",
       "Destination_Long                      36.606594   36.785934    36.807974   \n",
       "No_Of_Orders                           2.000000  557.000000  1212.000000   \n",
       "Age                                   96.000000  494.000000   872.000000   \n",
       "Average_Rating                         0.000000   13.600000    14.000000   \n",
       "No_of_Ratings                          0.000000   61.000000   158.000000   \n",
       "\n",
       "                                              75%          max  \n",
       "Platform_Type                            3.000000     4.000000  \n",
       "Placement_-_Day_of_Month                23.000000    31.000000  \n",
       "Placement_-_Weekday_(Mo_=_1)             5.000000     7.000000  \n",
       "Confirmation_-_Day_of_Month             23.000000    31.000000  \n",
       "Confirmation_-_Weekday_(Mo_=_1)          5.000000     7.000000  \n",
       "Arrival_at_Pickup_-_Day_of_Month        23.000000    31.000000  \n",
       "Arrival_at_Pickup_-_Weekday_(Mo_=_1)     5.000000     7.000000  \n",
       "Pickup_-_Day_of_Month                   23.000000    31.000000  \n",
       "Pickup_-_Weekday_(Mo_=_1)                5.000000     7.000000  \n",
       "Distance_(KM)                           13.000000    49.000000  \n",
       "Temperature                             26.000000    32.100000  \n",
       "Precipitation_in_millimeters             4.900000    99.100000  \n",
       "Pickup_Lat                              -1.257147    -1.147170  \n",
       "Pickup_Long                             36.829721    36.991046  \n",
       "Destination_Lat                         -1.261199    -1.030225  \n",
       "Destination_Long                        36.828916    37.018958  \n",
       "No_Of_Orders                          2311.000000  9756.000000  \n",
       "Age                                   1236.000000  3764.000000  \n",
       "Average_Rating                          14.300000    15.200000  \n",
       "No_of_Ratings                          495.000000  2298.000000  "
      ]
     },
     "execution_count": 23,
     "metadata": {},
     "output_type": "execute_result"
    }
   ],
   "source": [
    "df.describe().T\n"
   ]
  },
  {
   "cell_type": "markdown",
   "metadata": {
    "id": "ZrY0YTXqDG6O"
   },
   "source": [
    "Based on the **means** and **standard deviations** of different columns, we may consider **standardizing** our data."
   ]
  },
  {
   "cell_type": "markdown",
   "metadata": {
    "id": "EH7k8_MFDG6O"
   },
   "source": [
    "## 2.6  Addressing Missing Values"
   ]
  },
  {
   "cell_type": "markdown",
   "metadata": {
    "id": "0aDMPk5H9zH8"
   },
   "source": [
    "Machine models can not handle missing data and a solution to that is to replace missing values with another value of the these three (mean, median or mode)."
   ]
  },
  {
   "cell_type": "markdown",
   "metadata": {
    "id": "q7PNKdwdDG6P"
   },
   "source": [
    "Pandas provide functions to test the amount of missing values within the dataset. Missingno library takes it one step further and provides the distribution of missing values within the dataset by informative visualizations. Using the plots of missingno, we are able to see where the missing values are located in each column and if there's a correlation between missing values of various columns."
   ]
  },
  {
   "cell_type": "markdown",
   "metadata": {
    "id": "4ylMMymuDG6P"
   },
   "source": [
    "Before handling missing values, it is very important to explore them in the dataset. "
   ]
  },
  {
   "cell_type": "code",
   "execution_count": 24,
   "metadata": {
    "id": "jL5_-8U-9zH9",
    "outputId": "1a6d4a03-dd20-475b-c34d-ecea51befcbf"
   },
   "outputs": [
    {
     "data": {
      "text/plain": [
       "Order_No                                    0\n",
       "User_Id                                     0\n",
       "Vehicle_Type                                0\n",
       "Platform_Type                               0\n",
       "Personal_or_Business                        0\n",
       "Placement_-_Day_of_Month                    0\n",
       "Placement_-_Weekday_(Mo_=_1)                0\n",
       "Placement_-_Time                            0\n",
       "Confirmation_-_Day_of_Month                 0\n",
       "Confirmation_-_Weekday_(Mo_=_1)             0\n",
       "Confirmation_-_Time                         0\n",
       "Arrival_at_Pickup_-_Day_of_Month            0\n",
       "Arrival_at_Pickup_-_Weekday_(Mo_=_1)        0\n",
       "Arrival_at_Pickup_-_Time                    0\n",
       "Pickup_-_Day_of_Month                       0\n",
       "Pickup_-_Weekday_(Mo_=_1)                   0\n",
       "Pickup_-_Time                               0\n",
       "Distance_(KM)                               0\n",
       "Temperature                              5803\n",
       "Precipitation_in_millimeters            27518\n",
       "Pickup_Lat                                  0\n",
       "Pickup_Long                                 0\n",
       "Destination_Lat                             0\n",
       "Destination_Long                            0\n",
       "Rider_Id                                    0\n",
       "No_Of_Orders                                0\n",
       "Age                                         0\n",
       "Average_Rating                              0\n",
       "No_of_Ratings                               0\n",
       "dtype: int64"
      ]
     },
     "execution_count": 24,
     "metadata": {},
     "output_type": "execute_result"
    }
   ],
   "source": [
    "df.isnull().sum()\n"
   ]
  },
  {
   "cell_type": "markdown",
   "metadata": {
    "id": "ogBa0WYpDG6P"
   },
   "source": [
    "**The Matrix:**"
   ]
  },
  {
   "cell_type": "markdown",
   "metadata": {
    "id": "Re4K_e1oDG6Q"
   },
   "source": [
    "Using matrix we can  quickly find the pattern of missingness in the dataset."
   ]
  },
  {
   "cell_type": "code",
   "execution_count": 25,
   "metadata": {
    "colab": {
     "base_uri": "https://localhost:8080/",
     "height": 875
    },
    "id": "dVzpVsLWDG6Q",
    "outputId": "670f730c-5e6b-4b3c-aaf5-5b6342cec44f"
   },
   "outputs": [
    {
     "data": {
      "image/png": "[encoded data removed]",
      "text/plain": [
       "<Figure size 1440x576 with 2 Axes>"
      ]
     },
     "metadata": {
      "needs_background": "light"
     },
     "output_type": "display_data"
    }
   ],
   "source": [
    "msno.matrix(df, figsize=(20, 8), fontsize=10)\n",
    "plt.show()\n"
   ]
  },
  {
   "cell_type": "markdown",
   "metadata": {
    "id": "oo7a32yPDG6T"
   },
   "source": [
    "The plot above shows the amount and positions of missing values. The idea is to capture not only missing values, but also data sparsity. Temparature and Precipitation_in millimeters have some missing values while there is no pattern detected from the missing values of these two columns."
   ]
  },
  {
   "cell_type": "markdown",
   "metadata": {
    "id": "9x63qNTUDG6X"
   },
   "source": [
    "### 2.6.1 Droping Precipitation_in_millimeters columns"
   ]
  },
  {
   "cell_type": "code",
   "execution_count": 163,
   "metadata": {
    "id": "jYv7muoN9zID"
   },
   "outputs": [],
   "source": [
    "df.drop(['Precipitation_in_millimeters'], axis=1, inplace=True)\n"
   ]
  },
  {
   "cell_type": "code",
   "execution_count": 27,
   "metadata": {
    "id": "fXicoAyX9zIE",
    "outputId": "25baa160-5d54-4dbc-a29f-1420f9cf7ad4"
   },
   "outputs": [
    {
     "data": {
      "text/plain": [
       "Order_No                                   0\n",
       "User_Id                                    0\n",
       "Vehicle_Type                               0\n",
       "Platform_Type                              0\n",
       "Personal_or_Business                       0\n",
       "Placement_-_Day_of_Month                   0\n",
       "Placement_-_Weekday_(Mo_=_1)               0\n",
       "Placement_-_Time                           0\n",
       "Confirmation_-_Day_of_Month                0\n",
       "Confirmation_-_Weekday_(Mo_=_1)            0\n",
       "Confirmation_-_Time                        0\n",
       "Arrival_at_Pickup_-_Day_of_Month           0\n",
       "Arrival_at_Pickup_-_Weekday_(Mo_=_1)       0\n",
       "Arrival_at_Pickup_-_Time                   0\n",
       "Pickup_-_Day_of_Month                      0\n",
       "Pickup_-_Weekday_(Mo_=_1)                  0\n",
       "Pickup_-_Time                              0\n",
       "Distance_(KM)                              0\n",
       "Temperature                             5803\n",
       "Pickup_Lat                                 0\n",
       "Pickup_Long                                0\n",
       "Destination_Lat                            0\n",
       "Destination_Long                           0\n",
       "Rider_Id                                   0\n",
       "No_Of_Orders                               0\n",
       "Age                                        0\n",
       "Average_Rating                             0\n",
       "No_of_Ratings                              0\n",
       "dtype: int64"
      ]
     },
     "execution_count": 27,
     "metadata": {},
     "output_type": "execute_result"
    }
   ],
   "source": [
    "df.isnull().sum()\n"
   ]
  },
  {
   "cell_type": "markdown",
   "metadata": {
    "id": "r22eW3rwDG6c"
   },
   "source": [
    "### 2.6.2 Replacing missing values in Temperature with mean"
   ]
  },
  {
   "cell_type": "code",
   "execution_count": 164,
   "metadata": {
    "id": "AxIXFOwyDG6d"
   },
   "outputs": [],
   "source": [
    "df['Temperature'] = df['Temperature'].fillna(df['Temperature'].mean())\n"
   ]
  },
  {
   "cell_type": "markdown",
   "metadata": {
    "id": "uhJgvDsT9zIJ"
   },
   "source": [
    "### 2.6.3 Confirming the Null Values"
   ]
  },
  {
   "cell_type": "code",
   "execution_count": 29,
   "metadata": {
    "id": "h1NZKZrJ9zIJ",
    "outputId": "108e2ff2-b389-4ee7-bff3-6dd4c25f2cbd"
   },
   "outputs": [
    {
     "data": {
      "text/plain": [
       "Order_No                                0\n",
       "User_Id                                 0\n",
       "Vehicle_Type                            0\n",
       "Platform_Type                           0\n",
       "Personal_or_Business                    0\n",
       "Placement_-_Day_of_Month                0\n",
       "Placement_-_Weekday_(Mo_=_1)            0\n",
       "Placement_-_Time                        0\n",
       "Confirmation_-_Day_of_Month             0\n",
       "Confirmation_-_Weekday_(Mo_=_1)         0\n",
       "Confirmation_-_Time                     0\n",
       "Arrival_at_Pickup_-_Day_of_Month        0\n",
       "Arrival_at_Pickup_-_Weekday_(Mo_=_1)    0\n",
       "Arrival_at_Pickup_-_Time                0\n",
       "Pickup_-_Day_of_Month                   0\n",
       "Pickup_-_Weekday_(Mo_=_1)               0\n",
       "Pickup_-_Time                           0\n",
       "Distance_(KM)                           0\n",
       "Temperature                             0\n",
       "Pickup_Lat                              0\n",
       "Pickup_Long                             0\n",
       "Destination_Lat                         0\n",
       "Destination_Long                        0\n",
       "Rider_Id                                0\n",
       "No_Of_Orders                            0\n",
       "Age                                     0\n",
       "Average_Rating                          0\n",
       "No_of_Ratings                           0\n",
       "dtype: int64"
      ]
     },
     "execution_count": 29,
     "metadata": {},
     "output_type": "execute_result"
    }
   ],
   "source": [
    "df.isnull().sum()\n"
   ]
  },
  {
   "cell_type": "markdown",
   "metadata": {
    "id": "JNv0bPfdDG6i"
   },
   "source": [
    "# **3. Exploratory Data Analysis**\n",
    "\n",
    "Exploratory data analysis is an approach to analyzing datasets to summarize their main characteristics, often with visual methods. A statistical model can be used or not, but primarily EDA is for seeing what the data can tell us beyond the formal modeling task."
   ]
  },
  {
   "cell_type": "markdown",
   "metadata": {
    "id": "bKD7HjbF9zIM"
   },
   "source": [
    "## 3.1 Examining the target variable"
   ]
  },
  {
   "cell_type": "code",
   "execution_count": 165,
   "metadata": {
    "id": "koo0MPUB9zIM",
    "outputId": "18aef071-4a0e-45dc-bab8-84f2e62b1bf8"
   },
   "outputs": [
    {
     "data": {
      "text/plain": [
       "21201"
      ]
     },
     "execution_count": 165,
     "metadata": {},
     "output_type": "execute_result"
    }
   ],
   "source": [
    "train_shape = train_df.shape[0]\n",
    "train_shape\n"
   ]
  },
  {
   "cell_type": "code",
   "execution_count": 166,
   "metadata": {},
   "outputs": [],
   "source": [
    "y = y_target\n",
    "df_y = pd.DataFrame(y)\n",
    "df_y.columns = [\"Time from Pickup to Arrival\"]\n"
   ]
  },
  {
   "cell_type": "code",
   "execution_count": 167,
   "metadata": {},
   "outputs": [
    {
     "data": {
      "text/plain": [
       "Time from Pickup to Arrival    0\n",
       "dtype: int64"
      ]
     },
     "execution_count": 167,
     "metadata": {},
     "output_type": "execute_result"
    }
   ],
   "source": [
    "df_y.isnull().sum()\n"
   ]
  },
  {
   "cell_type": "code",
   "execution_count": 168,
   "metadata": {},
   "outputs": [
    {
     "data": {
      "text/html": [
       "<div>\n",
       "<style scoped>\n",
       "    .dataframe tbody tr th:only-of-type {\n",
       "        vertical-align: middle;\n",
       "    }\n",
       "\n",
       "    .dataframe tbody tr th {\n",
       "        vertical-align: top;\n",
       "    }\n",
       "\n",
       "    .dataframe thead th {\n",
       "        text-align: right;\n",
       "    }\n",
       "</style>\n",
       "<table border=\"1\" class=\"dataframe\">\n",
       "  <thead>\n",
       "    <tr style=\"text-align: right;\">\n",
       "      <th></th>\n",
       "      <th>Time from Pickup to Arrival</th>\n",
       "    </tr>\n",
       "  </thead>\n",
       "  <tbody>\n",
       "    <tr>\n",
       "      <th>count</th>\n",
       "      <td>21201.000000</td>\n",
       "    </tr>\n",
       "    <tr>\n",
       "      <th>mean</th>\n",
       "      <td>1556.920947</td>\n",
       "    </tr>\n",
       "    <tr>\n",
       "      <th>std</th>\n",
       "      <td>987.270788</td>\n",
       "    </tr>\n",
       "    <tr>\n",
       "      <th>min</th>\n",
       "      <td>1.000000</td>\n",
       "    </tr>\n",
       "    <tr>\n",
       "      <th>25%</th>\n",
       "      <td>882.000000</td>\n",
       "    </tr>\n",
       "    <tr>\n",
       "      <th>50%</th>\n",
       "      <td>1369.000000</td>\n",
       "    </tr>\n",
       "    <tr>\n",
       "      <th>75%</th>\n",
       "      <td>2040.000000</td>\n",
       "    </tr>\n",
       "    <tr>\n",
       "      <th>max</th>\n",
       "      <td>7883.000000</td>\n",
       "    </tr>\n",
       "  </tbody>\n",
       "</table>\n",
       "</div>"
      ],
      "text/plain": [
       "       Time from Pickup to Arrival\n",
       "count                 21201.000000\n",
       "mean                   1556.920947\n",
       "std                     987.270788\n",
       "min                       1.000000\n",
       "25%                     882.000000\n",
       "50%                    1369.000000\n",
       "75%                    2040.000000\n",
       "max                    7883.000000"
      ]
     },
     "execution_count": 168,
     "metadata": {},
     "output_type": "execute_result"
    }
   ],
   "source": [
    "df_y.describe()\n"
   ]
  },
  {
   "cell_type": "code",
   "execution_count": 169,
   "metadata": {
    "id": "-yg1hJRJ9zIO",
    "outputId": "65da6158-8404-4ba7-c7bc-8473ee1a5f95"
   },
   "outputs": [
    {
     "data": {
      "image/png": "[encoded data removed]",
      "text/plain": [
       "<Figure size 432x288 with 1 Axes>"
      ]
     },
     "metadata": {
      "needs_background": "light"
     },
     "output_type": "display_data"
    }
   ],
   "source": [
    "# plot histogram\n",
    "\n",
    "# convert the target variable to minutes\n",
    "target_mins = train_df[:train_shape]['Time from Pickup to Arrival'] / 60\n",
    "# plotting the histogram of the dataset\n",
    "sns.distplot(target_mins, kde=False, bins=50)\n",
    "plt.title(\"Distribution of Delivery time from Pickup\")\n",
    "# providing label to the x axis\n",
    "plt.xlabel(\"Delivery time\")\n",
    "#  providing label to the y-axis\n",
    "plt.ylabel(\"Frequency of Occurrence\")\n",
    "# show graph\n",
    "plt.show()\n"
   ]
  },
  {
   "cell_type": "markdown",
   "metadata": {
    "id": "C-38kTeV9zIR"
   },
   "source": [
    "Observation\n",
    "\n",
    "From the above graph it is observed that delivery times are positively skewed (skewed to the right). It can also be seen that most of the deliveries that were done are between 0 and about 50 mins.\n",
    "\n",
    "However, it is seen that there are deliveries between 0 and 1 mins, therefore these needs to be investigated further."
   ]
  },
  {
   "cell_type": "code",
   "execution_count": 170,
   "metadata": {
    "id": "gQ5zJCXo9zIR",
    "outputId": "1f3eeb76-2a28-4498-a1e8-4bd28dfe1cf5"
   },
   "outputs": [
    {
     "data": {
      "text/html": [
       "<div>\n",
       "<style scoped>\n",
       "    .dataframe tbody tr th:only-of-type {\n",
       "        vertical-align: middle;\n",
       "    }\n",
       "\n",
       "    .dataframe tbody tr th {\n",
       "        vertical-align: top;\n",
       "    }\n",
       "\n",
       "    .dataframe thead th {\n",
       "        text-align: right;\n",
       "    }\n",
       "</style>\n",
       "<table border=\"1\" class=\"dataframe\">\n",
       "  <thead>\n",
       "    <tr style=\"text-align: right;\">\n",
       "      <th></th>\n",
       "      <th>Placement - Time</th>\n",
       "      <th>Confirmation - Time</th>\n",
       "      <th>Arrival at Pickup - Time</th>\n",
       "      <th>Pickup - Time</th>\n",
       "      <th>Arrival at Destination - Time</th>\n",
       "      <th>Distance (KM)</th>\n",
       "      <th>Time from Pickup to Arrival</th>\n",
       "    </tr>\n",
       "  </thead>\n",
       "  <tbody>\n",
       "    <tr>\n",
       "      <th>36</th>\n",
       "      <td>11:47:23 AM</td>\n",
       "      <td>1:01:54 PM</td>\n",
       "      <td>1:02:08 PM</td>\n",
       "      <td>1:35:48 PM</td>\n",
       "      <td>1:35:50 PM</td>\n",
       "      <td>4</td>\n",
       "      <td>2</td>\n",
       "    </tr>\n",
       "    <tr>\n",
       "      <th>52</th>\n",
       "      <td>4:16:05 PM</td>\n",
       "      <td>4:16:23 PM</td>\n",
       "      <td>5:10:03 PM</td>\n",
       "      <td>5:14:41 PM</td>\n",
       "      <td>5:14:45 PM</td>\n",
       "      <td>3</td>\n",
       "      <td>4</td>\n",
       "    </tr>\n",
       "    <tr>\n",
       "      <th>81</th>\n",
       "      <td>11:44:46 AM</td>\n",
       "      <td>1:31:36 PM</td>\n",
       "      <td>1:32:02 PM</td>\n",
       "      <td>1:51:06 PM</td>\n",
       "      <td>1:51:20 PM</td>\n",
       "      <td>5</td>\n",
       "      <td>14</td>\n",
       "    </tr>\n",
       "    <tr>\n",
       "      <th>86</th>\n",
       "      <td>1:00:31 PM</td>\n",
       "      <td>1:00:50 PM</td>\n",
       "      <td>1:18:47 PM</td>\n",
       "      <td>1:47:23 PM</td>\n",
       "      <td>1:47:27 PM</td>\n",
       "      <td>4</td>\n",
       "      <td>4</td>\n",
       "    </tr>\n",
       "    <tr>\n",
       "      <th>126</th>\n",
       "      <td>12:41:58 PM</td>\n",
       "      <td>12:48:50 PM</td>\n",
       "      <td>1:09:15 PM</td>\n",
       "      <td>1:23:54 PM</td>\n",
       "      <td>1:24:10 PM</td>\n",
       "      <td>4</td>\n",
       "      <td>16</td>\n",
       "    </tr>\n",
       "    <tr>\n",
       "      <th>159</th>\n",
       "      <td>12:17:13 PM</td>\n",
       "      <td>12:17:25 PM</td>\n",
       "      <td>12:18:27 PM</td>\n",
       "      <td>12:56:29 PM</td>\n",
       "      <td>12:56:49 PM</td>\n",
       "      <td>10</td>\n",
       "      <td>20</td>\n",
       "    </tr>\n",
       "    <tr>\n",
       "      <th>168</th>\n",
       "      <td>10:41:06 AM</td>\n",
       "      <td>10:47:00 AM</td>\n",
       "      <td>11:14:51 AM</td>\n",
       "      <td>11:39:13 AM</td>\n",
       "      <td>11:39:21 AM</td>\n",
       "      <td>5</td>\n",
       "      <td>8</td>\n",
       "    </tr>\n",
       "    <tr>\n",
       "      <th>263</th>\n",
       "      <td>11:14:51 AM</td>\n",
       "      <td>11:15:14 AM</td>\n",
       "      <td>11:18:00 AM</td>\n",
       "      <td>11:27:34 AM</td>\n",
       "      <td>11:27:47 AM</td>\n",
       "      <td>3</td>\n",
       "      <td>13</td>\n",
       "    </tr>\n",
       "    <tr>\n",
       "      <th>301</th>\n",
       "      <td>4:06:20 PM</td>\n",
       "      <td>4:17:35 PM</td>\n",
       "      <td>4:52:31 PM</td>\n",
       "      <td>5:18:12 PM</td>\n",
       "      <td>5:18:14 PM</td>\n",
       "      <td>9</td>\n",
       "      <td>2</td>\n",
       "    </tr>\n",
       "    <tr>\n",
       "      <th>304</th>\n",
       "      <td>12:52:42 PM</td>\n",
       "      <td>12:52:55 PM</td>\n",
       "      <td>12:54:16 PM</td>\n",
       "      <td>1:10:39 PM</td>\n",
       "      <td>1:10:51 PM</td>\n",
       "      <td>1</td>\n",
       "      <td>12</td>\n",
       "    </tr>\n",
       "  </tbody>\n",
       "</table>\n",
       "</div>"
      ],
      "text/plain": [
       "    Placement - Time Confirmation - Time Arrival at Pickup - Time  \\\n",
       "36       11:47:23 AM          1:01:54 PM               1:02:08 PM   \n",
       "52        4:16:05 PM          4:16:23 PM               5:10:03 PM   \n",
       "81       11:44:46 AM          1:31:36 PM               1:32:02 PM   \n",
       "86        1:00:31 PM          1:00:50 PM               1:18:47 PM   \n",
       "126      12:41:58 PM         12:48:50 PM               1:09:15 PM   \n",
       "159      12:17:13 PM         12:17:25 PM              12:18:27 PM   \n",
       "168      10:41:06 AM         10:47:00 AM              11:14:51 AM   \n",
       "263      11:14:51 AM         11:15:14 AM              11:18:00 AM   \n",
       "301       4:06:20 PM          4:17:35 PM               4:52:31 PM   \n",
       "304      12:52:42 PM         12:52:55 PM              12:54:16 PM   \n",
       "\n",
       "    Pickup - Time Arrival at Destination - Time  Distance (KM)  \\\n",
       "36     1:35:48 PM                    1:35:50 PM              4   \n",
       "52     5:14:41 PM                    5:14:45 PM              3   \n",
       "81     1:51:06 PM                    1:51:20 PM              5   \n",
       "86     1:47:23 PM                    1:47:27 PM              4   \n",
       "126    1:23:54 PM                    1:24:10 PM              4   \n",
       "159   12:56:29 PM                   12:56:49 PM             10   \n",
       "168   11:39:13 AM                   11:39:21 AM              5   \n",
       "263   11:27:34 AM                   11:27:47 AM              3   \n",
       "301    5:18:12 PM                    5:18:14 PM              9   \n",
       "304    1:10:39 PM                    1:10:51 PM              1   \n",
       "\n",
       "     Time from Pickup to Arrival  \n",
       "36                             2  \n",
       "52                             4  \n",
       "81                            14  \n",
       "86                             4  \n",
       "126                           16  \n",
       "159                           20  \n",
       "168                            8  \n",
       "263                           13  \n",
       "301                            2  \n",
       "304                           12  "
      ]
     },
     "execution_count": 170,
     "metadata": {},
     "output_type": "execute_result"
    }
   ],
   "source": [
    "# Checking validity of the records with time from pickup to arrival below 60\n",
    "below_one_min = train_df[train_df['Time from Pickup to Arrival'] < 60]\n",
    "below_one_min[['Placement - Time', 'Confirmation - Time',\n",
    "               'Arrival at Pickup - Time', 'Pickup - Time',\n",
    "               'Arrival at Destination - Time',\n",
    "               'Distance (KM)',\n",
    "               'Time from Pickup to Arrival']].head(10)\n"
   ]
  },
  {
   "cell_type": "markdown",
   "metadata": {
    "id": "pe0vMlIO9zIU"
   },
   "source": [
    "**Checking the distribution of the deliveries that are less than 60 seconds**\n",
    "\n",
    "It can be seen in the chart below that the number of deliveries that falls below 30 seconds are quite a lot. These records call for questioning. Sendy ought to verify the authenticity of these records (since we are dealing with bike deliveries)"
   ]
  },
  {
   "cell_type": "code",
   "execution_count": 171,
   "metadata": {
    "id": "p-Iv5T7y9zIW",
    "outputId": "c097f435-84ef-452d-e7d4-ebd025896786"
   },
   "outputs": [
    {
     "data": {
      "image/png": "[encoded data removed]",
      "text/plain": [
       "<Figure size 432x288 with 1 Axes>"
      ]
     },
     "metadata": {
      "needs_background": "light"
     },
     "output_type": "display_data"
    }
   ],
   "source": [
    "# Plotting the distribution of the records\n",
    "\n",
    "# plotting histogram of deliveries made within 60 seconds\n",
    "below_one_min['Time from Pickup to Arrival'].hist(bins=5, grid=False)\n",
    "# title of the graph\n",
    "plt.title(\"Distribution of Deliveries within 1 min from Pickup\")\n",
    "# providing label to the x axis\n",
    "plt.xlabel(\"Delivery time\")\n",
    "#  providing label to the y-axis\n",
    "plt.ylabel(\"Frequency of Occurrence\")\n",
    "# show graph\n",
    "plt.show()\n"
   ]
  },
  {
   "cell_type": "markdown",
   "metadata": {
    "id": "K_7uGRYs9zIY"
   },
   "source": [
    "## 3.2 Distribution of Temperature of the Combined Dataset (Train and Test)\n",
    "\n",
    "The distribution looks normal and it is observed that most of the temperature during deliveries are within 20 degrees and 27.5 degrees"
   ]
  },
  {
   "cell_type": "code",
   "execution_count": 172,
   "metadata": {
    "id": "eEnnqERX9zIY",
    "outputId": "38a4a9f3-cd06-4a48-fe6d-8f3fbb033092"
   },
   "outputs": [
    {
     "data": {
      "image/png": "[encoded data removed]",
      "text/plain": [
       "<Figure size 432x288 with 1 Axes>"
      ]
     },
     "metadata": {
      "needs_background": "light"
     },
     "output_type": "display_data"
    }
   ],
   "source": [
    "# plotting histogram of temperature after imputation\n",
    "df['Temperature'].hist(grid=False)\n",
    "# defining the title of the graph\n",
    "plt.title(\"Distribution of Temperature (Combined Dataset)\")\n",
    "# providing label to the x axis\n",
    "plt.xlabel(\"Temperature\")\n",
    "#  providing label to the y-axis\n",
    "plt.ylabel(\"Frequency of Occurrence\")\n",
    "# show graph\n",
    "plt.show()\n"
   ]
  },
  {
   "cell_type": "markdown",
   "metadata": {
    "id": "CCW8ZWoa9zIa"
   },
   "source": [
    "## 3.3 Distribution of Platform Type and Business/Personal against Distance (km)\n",
    "\n"
   ]
  },
  {
   "cell_type": "code",
   "execution_count": 173,
   "metadata": {
    "id": "VJcI3YrL9zIa",
    "outputId": "29ffe029-b71c-467d-a495-bd4cce69689f"
   },
   "outputs": [
    {
     "data": {
      "text/plain": [
       "<Figure size 1296x360 with 0 Axes>"
      ]
     },
     "metadata": {},
     "output_type": "display_data"
    },
    {
     "data": {
      "image/png": "[encoded data removed]",
      "text/plain": [
       "<Figure size 720x1152 with 2 Axes>"
      ]
     },
     "metadata": {
      "needs_background": "light"
     },
     "output_type": "display_data"
    }
   ],
   "source": [
    "plt.figure(figsize=(18, 5))\n",
    "figure, axes = plt.subplots(1, 1, figsize=(10, 16), sharey='row')\n",
    "figure.tight_layout()\n",
    "plt.subplot(2, 2, 1)\n",
    "sns.violinplot(x='Platform Type', y='Distance (KM)', data=train_df, size=20)\n",
    "plt.subplot(2, 2, 2)\n",
    "sns.violinplot(x='Personal or Business', y='Distance (KM)',\n",
    "                 data=train_df, size=20)\n",
    "plt.show()\n"
   ]
  },
  {
   "cell_type": "markdown",
   "metadata": {
    "id": "9qrj1UME9zId"
   },
   "source": [
    "## 3.4 Frequency of Business/Personal by Platform Type\n",
    "\n",
    "**Observation**\n",
    "\n",
    "Most of the orders made were done by Business customers on Platform Type 3. Few orders were made by Personal customers while the least orders were made by Business customers on Platform Type 1, 2 and 4."
   ]
  },
  {
   "cell_type": "code",
   "execution_count": 174,
   "metadata": {
    "id": "3ewsWgBQ9zIe",
    "outputId": "64865fc6-8d42-4e8b-fa06-e1d96c86ee95"
   },
   "outputs": [
    {
     "data": {
      "image/png": "[encoded data removed]",
      "text/plain": [
       "<Figure size 576x432 with 1 Axes>"
      ]
     },
     "metadata": {
      "needs_background": "light"
     },
     "output_type": "display_data"
    }
   ],
   "source": [
    "# defining the size of the graph\n",
    "plt.figure(figsize=(8, 6))\n",
    "ax = plt.subplot(111)\n",
    "# plotting the chart\n",
    "sns.countplot(x=\"Personal or Business\", hue=\"Platform Type\", data=train_df)\n",
    "# defining legend for platform type\n",
    "plt.legend(loc=1, title=\"Platform Type\")\n",
    "sns.set_style(style=None, rc=None)\n",
    "# providing label to the x axis\n",
    "plt.xlabel('Customer Type', fontsize=13)\n",
    "# providing label to the y axis\n",
    "plt.ylabel('Number of Orders', fontsize=13)\n",
    "# providing label to the title of the graph\n",
    "plt.title('No of Orders Picked Up by Customer Type Per Platform', fontsize=14)\n",
    "# Show the plot\n",
    "plt.show()\n"
   ]
  },
  {
   "cell_type": "markdown",
   "metadata": {
    "id": "jFz4N33n9zIi"
   },
   "source": [
    "## 3.5 Distribution of Time of Order from Pickup to Destination"
   ]
  },
  {
   "cell_type": "markdown",
   "metadata": {
    "id": "5zxDKezv9zIj"
   },
   "source": [
    "### 3.5.1 Defining a function that checks for the day of pickup"
   ]
  },
  {
   "cell_type": "code",
   "execution_count": 175,
   "metadata": {
    "id": "U8jFkb4k9zIj"
   },
   "outputs": [],
   "source": [
    "def day(x):\n",
    "    '''\n",
    "    The function returns the day of the week.\n",
    "    It returns Monday if weekday is 1,Tuesday if weekday is 2,\n",
    "    Wednesday if weekday is 3, Thursday if weekday is 4,\n",
    "    Friday if weekday is 5, Saturday if weekday is 6,\n",
    "    and Sunday if weekday is 7\n",
    "    \n",
    "    Parameter:\n",
    "        Series\n",
    "    \n",
    "    Returns:\n",
    "        Returns a string\n",
    "    '''\n",
    "    if x == 1:\n",
    "        return 'Monday'\n",
    "    elif x == 2:\n",
    "        return 'Tuesday'\n",
    "    elif x == 3:\n",
    "        return 'Wednesday'\n",
    "    elif x == 4:\n",
    "        return 'Thursday'\n",
    "    elif x == 5:\n",
    "        return 'Friday'\n",
    "    elif x == 6:\n",
    "        return 'Saturday'\n",
    "    else:\n",
    "        return 'Sunday'\n"
   ]
  },
  {
   "cell_type": "code",
   "execution_count": 176,
   "metadata": {
    "id": "wD5ElacJ9zIm"
   },
   "outputs": [],
   "source": [
    "# Creating a new column to store the days where orders were picked up by riders\n",
    "df_chart = df\n",
    "df_chart['Day_of_Week'] = df_chart['Pickup_-_Weekday_(Mo_=_1)'].apply(day)\n"
   ]
  },
  {
   "cell_type": "markdown",
   "metadata": {
    "id": "SNDeWod69zIn"
   },
   "source": [
    "### 3.5.2 Plot of Weekly Distribution of Orders Within the Month"
   ]
  },
  {
   "cell_type": "markdown",
   "metadata": {
    "id": "0tORzoXc9zIo"
   },
   "source": [
    "**Observation**\n",
    "\n",
    "From the below, it was observed that the number of orders picked up by riders were the highest during the business working days (Monday to Friday) while Sunday has the least number of orders."
   ]
  },
  {
   "cell_type": "code",
   "execution_count": 177,
   "metadata": {
    "id": "8-s04SlD9zIo",
    "outputId": "17e40831-1727-43b8-ac51-95d934377e85"
   },
   "outputs": [
    {
     "data": {
      "image/png": "[encoded data removed]",
      "text/plain": [
       "<Figure size 720x432 with 1 Axes>"
      ]
     },
     "metadata": {
      "needs_background": "light"
     },
     "output_type": "display_data"
    }
   ],
   "source": [
    "plt.figure(figsize=(10, 6))\n",
    "ax = plt.subplot(111)\n",
    "sns.countplot(x='Day_of_Week', data=df_chart, order=['Sunday', 'Monday',\n",
    "              'Tuesday', 'Wednesday', 'Thursday', 'Friday', 'Saturday'])\n",
    "plt.xlabel('Day of the Week', fontsize=13)\n",
    "plt.ylabel('Number of Orders', fontsize=13)\n",
    "plt.title('Distribution of Orders by Day of Week', fontsize=14)\n",
    "# Hide the right and top spines\n",
    "ax.spines['right'].set_color('none')\n",
    "ax.spines['top'].set_color('none')\n",
    "# Show the plot\n",
    "plt.show()\n"
   ]
  },
  {
   "cell_type": "markdown",
   "metadata": {
    "id": "d39blHqf9zIq"
   },
   "source": [
    "### 3.5.3 Plot of Daily Distribution of Orders Within a Month"
   ]
  },
  {
   "cell_type": "markdown",
   "metadata": {
    "id": "7aYXyTlC9zIr"
   },
   "source": [
    "**Observation**\n",
    "\n",
    "The chart below shows high volume of orders during the first week though quite low on the first (1st) day of the month while it decreases a little in the second week. This decline continues until the last week of the month where there is a slight increase but suddenly decline at the end of the month (31st). This could be as a result of business not wanting to place orders during the end or beginning of the month as it is the busiest time of the month when majority of workers recently got paid. This is a way of them avoiding traffic."
   ]
  },
  {
   "cell_type": "code",
   "execution_count": 178,
   "metadata": {
    "id": "1mBmG-FH9zIr",
    "outputId": "0bda5b39-4ede-42ea-851c-833145a36df4"
   },
   "outputs": [
    {
     "data": {
      "image/png": "[encoded data removed]",
      "text/plain": [
       "<Figure size 720x432 with 1 Axes>"
      ]
     },
     "metadata": {
      "needs_background": "light"
     },
     "output_type": "display_data"
    }
   ],
   "source": [
    "plt.figure(figsize=(10, 6))\n",
    "ax = plt.subplot(111)\n",
    "sns.countplot(x='Pickup_-_Day_of_Month', data=df_chart)\n",
    "plt.xlabel('Pickup Day in Month', fontsize=13)\n",
    "plt.ylabel('Number of Orders', fontsize=13)\n",
    "plt.title('Daily Distribution of Orders Within the Month', fontsize=14)\n",
    "# Hide the right and top spines\n",
    "ax.spines['right'].set_color('none')\n",
    "ax.spines['top'].set_color('none')\n",
    "# Show the plot\n",
    "plt.show()\n"
   ]
  },
  {
   "cell_type": "markdown",
   "metadata": {
    "id": "39zrTedT9zIt"
   },
   "source": [
    "### 3.5.4 Defining a function that checks for the day of pickup"
   ]
  },
  {
   "cell_type": "code",
   "execution_count": 179,
   "metadata": {
    "id": "FQ6QWXEk9zIt"
   },
   "outputs": [],
   "source": [
    "def week(x):\n",
    "    '''\n",
    "    The function returns the week number within the month that\n",
    "    deliveries were made.\n",
    "    \n",
    "    Parameter:\n",
    "        Series\n",
    "    \n",
    "    Returns:\n",
    "        Returns a string\n",
    "    '''\n",
    "    if x in np.arange(8):\n",
    "        return 'Week 1'\n",
    "    elif x in np.arange(8, 15):\n",
    "        return 'Week 2'\n",
    "    elif x in np.arange(15, 22):\n",
    "        return 'Week 3'\n",
    "    elif x in np.arange(22, 29):\n",
    "        return 'Week 4'\n",
    "    else:\n",
    "        return 'Week 5'\n"
   ]
  },
  {
   "cell_type": "code",
   "execution_count": 180,
   "metadata": {
    "id": "i4HDgKOt9zIv"
   },
   "outputs": [],
   "source": [
    "# Applying the week function to the pickup day within the month\n",
    "df_chart['Week'] = df_chart['Pickup_-_Day_of_Month'].apply(week)\n"
   ]
  },
  {
   "cell_type": "markdown",
   "metadata": {
    "id": "W5KJsD_q9zIy"
   },
   "source": [
    "### 3.5.5 Plot of Weekly Distribution"
   ]
  },
  {
   "cell_type": "markdown",
   "metadata": {
    "id": "6PNWQqSm9zIy"
   },
   "source": [
    "**Observation**\n",
    "\n",
    "From the below, it was observed that Week 2 has the highest number of orders picked up by riders followed by Week 1. Week 5 has the least (this can be attributed to the fact that Week 5 has only 3 days within the week)."
   ]
  },
  {
   "cell_type": "code",
   "execution_count": 181,
   "metadata": {
    "id": "SZLfiToK9zIy",
    "outputId": "476fbac8-d580-4e25-9668-ffac18b0e551"
   },
   "outputs": [
    {
     "data": {
      "image/png": "[encoded data removed]",
      "text/plain": [
       "<Figure size 432x288 with 1 Axes>"
      ]
     },
     "metadata": {
      "needs_background": "light"
     },
     "output_type": "display_data"
    }
   ],
   "source": [
    "plt.figure()\n",
    "ax = plt.subplot(111)\n",
    "\n",
    "sns.countplot(x='Week', data=df_chart, order=['Week 1', 'Week 2',\n",
    "              'Week 3', 'Week 4', 'Week 5'])\n",
    "\n",
    "plt.xlabel('Pickup Week of Month', fontsize=13)\n",
    "plt.ylabel('Number of Orders', fontsize=13)\n",
    "plt.title('Weekly Distribution of Orders Within the Month')\n",
    "\n",
    "# Hide the right and top spines\n",
    "ax.spines['right'].set_color('none')\n",
    "ax.spines['top'].set_color('none')\n",
    "# Show the plot\n",
    "plt.show()\n"
   ]
  },
  {
   "cell_type": "markdown",
   "metadata": {
    "id": "KuxmHD1s9zI1"
   },
   "source": [
    "### 3.5.6 Defining a function that checks for period in the day of pickup"
   ]
  },
  {
   "cell_type": "code",
   "execution_count": 182,
   "metadata": {
    "id": "9Mv9zIXT9zI1"
   },
   "outputs": [],
   "source": [
    "def period_in_day(x):\n",
    "    '''\n",
    "    The function returns the period in day that\n",
    "    deliveries were made.\n",
    "    \n",
    "    Parameter:\n",
    "        Series\n",
    "    \n",
    "    Returns:\n",
    "        Returns a string\n",
    "    '''\n",
    "    if (x > 4) and (x < 12):\n",
    "        return 'Morning'\n",
    "    elif (x >= 12) and (x <= 17):\n",
    "        return 'Afternoon'\n",
    "    elif (x > 17) and (x < 21):\n",
    "        return'Evening'\n",
    "    elif (x >= 21) and (x <= 23):\n",
    "        return'Night'\n",
    "    else:\n",
    "        return 'Midnight'\n"
   ]
  },
  {
   "cell_type": "code",
   "execution_count": 184,
   "metadata": {
    "id": "B05pk4GS9zI2"
   },
   "outputs": [],
   "source": [
    "df_chart['Pickup_Hour'] = pd.to_datetime(df_chart['Pickup_-_Time']).dt.hour\n",
    "df_chart['Period_of_the_Day'] = df_chart['Pickup_Hour'].apply(period_in_day)\n"
   ]
  },
  {
   "cell_type": "markdown",
   "metadata": {
    "id": "ozBbh1hX9zI4"
   },
   "source": [
    "### 3.5.7 Chart of Distribution of Order Pickup by Period of the Day"
   ]
  },
  {
   "cell_type": "markdown",
   "metadata": {
    "id": "f_dzZ19m9zI5"
   },
   "source": [
    "**Observation**\n",
    "\n",
    "From the below, it was observed that most orders picked up by riders were done in the Afternoon and followed by Morning. Few orders were picked up in the Evening. Riders hardly pick up orders in the Night. Traffic could impact the time of delivery of orders since these orders were mostly picked up in the morning and afternoon."
   ]
  },
  {
   "cell_type": "code",
   "execution_count": 186,
   "metadata": {
    "id": "QvT_3R9_9zI5",
    "outputId": "ed5a496e-2294-4596-e073-b24f04e89a96"
   },
   "outputs": [
    {
     "data": {
      "image/png": "[encoded data removed]",
      "text/plain": [
       "<Figure size 720x432 with 1 Axes>"
      ]
     },
     "metadata": {
      "needs_background": "light"
     },
     "output_type": "display_data"
    }
   ],
   "source": [
    "plt.figure(figsize=(10, 6))\n",
    "ncount = len(df_chart['Period_of_the_Day'])\n",
    "ax = sns.countplot(x='Period_of_the_Day', data=df_chart)\n",
    "plt.xlabel('Period of the Day', fontsize=13)\n",
    "plt.ylabel('Number of Orders', fontsize=13)\n",
    "plt.title('Distribution of Orders During Period of the Day', fontsize=14)\n",
    "\n",
    "for p in ax.patches:\n",
    "    x = p.get_bbox().get_points()[:, 0]\n",
    "    y = p.get_bbox().get_points()[1, 1]\n",
    "    # set the alignment of the text\n",
    "    ax.annotate(format(y, ',.0f'), (x.mean(), y), ha='center', va='bottom')\n",
    "ax.spines['right'].set_color('none')\n",
    "ax.spines['top'].set_color('none')\n",
    "plt.show()\n"
   ]
  },
  {
   "cell_type": "code",
   "execution_count": 187,
   "metadata": {},
   "outputs": [],
   "source": [
    "df.drop(['Day_of_Week', 'Week', 'Period_of_the_Day'], axis=1, inplace=True)"
   ]
  },
  {
   "cell_type": "markdown",
   "metadata": {
    "id": "Neyojb8s9zI7"
   },
   "source": [
    "## **3.6 Addressing Outliers**"
   ]
  },
  {
   "cell_type": "markdown",
   "metadata": {
    "id": "11uCLbITDG6j"
   },
   "source": [
    "Outlier is an observation point that is distant from other observations. Box-plot are useful for viewing outliers. An outlier is defined as a data point that is located outside the whiskers of the box plot."
   ]
  },
  {
   "cell_type": "code",
   "execution_count": 188,
   "metadata": {
    "colab": {
     "base_uri": "https://localhost:8080/",
     "height": 444
    },
    "id": "eVxxpofYDG6j",
    "outputId": "c9d3405e-51af-426d-b028-45bf790f355f"
   },
   "outputs": [
    {
     "data": {
      "image/png": "[encoded data removed]",
      "text/plain": [
       "<Figure size 1440x720 with 6 Axes>"
      ]
     },
     "metadata": {
      "needs_background": "light"
     },
     "output_type": "display_data"
    }
   ],
   "source": [
    "fig, ax = plt.subplots(3, 2, figsize=(20, 10))\n",
    "sns.boxplot(df['Temperature'], ax=ax[0][0])\n",
    "sns.boxplot(df['Distance_(KM)'], ax=ax[0][1])\n",
    "sns.boxplot(df['No_Of_Orders'], ax=ax[1][0])\n",
    "sns.boxplot(df['No_of_Ratings'], ax=ax[1][1])\n",
    "sns.boxplot(df['Age'], ax=ax[2][0])\n",
    "sns.boxplot(df['Average_Rating'], ax=ax[2][1])\n",
    "plt.show()\n"
   ]
  },
  {
   "cell_type": "markdown",
   "metadata": {
    "id": "voTPyRqr9zI9"
   },
   "source": [
    "The majority of our numerical datasets contain outliers. It is crucial to understand that not all outliers are due to data handling error, others can be very informative about the subject area. Looking at the Age diagram, it is important to understand that these outliers might be caused by the fact that the rider has been doing that for some time compared to someone who started yesterday. The outliers on Age might affect the No_of_oders, No_of_ratings, Average_Ranting. The outliers of temperature and distance are quite understandable. Temperature might be affected by climate change and no one has control over that.\n",
    "\n",
    "**Remove or not to remove outliers**\n",
    "\n",
    "It is said that, removing data is always a harsh step and should be taken only in extreme conditions when we’re very sure that the outlier is a measurement error, which we generally do not know. The data collection process is rarely provided. When we drop data, we lose information in terms of the variability in data. When we have too many observations and outliers are few, then we can think of dropping these observations\n"
   ]
  },
  {
   "cell_type": "markdown",
   "metadata": {
    "id": "Kk-QcBoYDG6r"
   },
   "source": [
    "# **4. Feature Engineering and Selection**\n",
    "\n",
    "Feature engineering is the process of using domain knowledge to extract features from raw data via data mining techniques. These features can be used to improve the performance of machine learning algorithms."
   ]
  },
  {
   "cell_type": "markdown",
   "metadata": {
    "id": "FNI2PFqBDG6s"
   },
   "source": [
    "## 4.1 Converting Objects to Datetime\n",
    "Here we are changing columns/variables data types from Objects (Strings) to Datetime which we will later use for calculating time difference (in seconds) e.g. Time from Confirmation to Pickup."
   ]
  },
  {
   "cell_type": "code",
   "execution_count": 189,
   "metadata": {
    "id": "0aRfURln9zJG"
   },
   "outputs": [],
   "source": [
    "df['Pickup_-_Time'] = pd.to_datetime(df['Pickup_-_Time'])\n",
    "df['Confirmation_-_Time'] = pd.to_datetime(df['Confirmation_-_Time'])\n",
    "df['Arrival_at_Pickup_-_Time'] = pd.to_datetime(df['Arrival_at_Pickup_-_Time'])\n",
    "df['Placement_-_Time'] = pd.to_datetime(df['Placement_-_Time'])"
   ]
  },
  {
   "cell_type": "code",
   "execution_count": 190,
   "metadata": {
    "id": "h5xzwCje9zJJ",
    "outputId": "2382818d-d2cc-4d46-df8f-29f303bf5bec"
   },
   "outputs": [
    {
     "data": {
      "text/plain": [
       "Index(['Order No', 'User Id', 'Vehicle Type', 'Platform Type',\n",
       "       'Personal or Business', 'Placement - Day of Month',\n",
       "       'Placement - Weekday (Mo = 1)', 'Placement - Time',\n",
       "       'Confirmation - Day of Month', 'Confirmation - Weekday (Mo = 1)',\n",
       "       'Confirmation - Time', 'Arrival at Pickup - Day of Month',\n",
       "       'Arrival at Pickup - Weekday (Mo = 1)', 'Arrival at Pickup - Time',\n",
       "       'Pickup - Day of Month', 'Pickup - Weekday (Mo = 1)', 'Pickup - Time',\n",
       "       'Arrival at Destination - Day of Month',\n",
       "       'Arrival at Destination - Weekday (Mo = 1)',\n",
       "       'Arrival at Destination - Time', 'Distance (KM)', 'Temperature',\n",
       "       'Precipitation in millimeters', 'Pickup Lat', 'Pickup Long',\n",
       "       'Destination Lat', 'Destination Long', 'Rider Id',\n",
       "       'Time from Pickup to Arrival'],\n",
       "      dtype='object')"
      ]
     },
     "execution_count": 190,
     "metadata": {},
     "output_type": "execute_result"
    }
   ],
   "source": [
    "train_df.columns\n"
   ]
  },
  {
   "cell_type": "markdown",
   "metadata": {
    "id": "5W9_ukWX9zJM"
   },
   "source": [
    "## 4.2 Creating new variables"
   ]
  },
  {
   "cell_type": "markdown",
   "metadata": {
    "id": "jVt2onef9zJP"
   },
   "source": [
    "### 4.2.1 Calculting Difference of Time (in seconds)\n",
    "Adding new variables to our dataframe:\n",
    "1.\tTime _from_Placement_to_Confirmation - this is the difference in time between Confirmation and Placement of order.\n",
    "2.\tTime_from_Confirmation_to_Arrival_at_Pickup - the diffrence in time between Arrival of Rider at Pickup and Confirmation of order.\n",
    "3.\tTime_from_Arrival_at_Pickup_to_Pickpup_-_Time - the difference in time between Pickup of the Order and Arrival of the Rider at Pickup point.\n"
   ]
  },
  {
   "cell_type": "code",
   "execution_count": 191,
   "metadata": {
    "id": "JbCuPNAg9zJP"
   },
   "outputs": [],
   "source": [
    "df['Time_Place_to_Confirm'] = df['Confirmation_-_Time']-df['Placement_-_Time']\n",
    "df['Time_from_Placement_to_Confirmation'] = \\\n",
    "    df['Time_Place_to_Confirm'].dt.total_seconds().astype(int)\n",
    "df.drop(['Time_Place_to_Confirm'], axis=1, inplace=True)\n",
    "\n",
    "df['Arr_at_Pickup_-_Time'] = df['Arrival_at_Pickup_-_Time']\n",
    "df['Conf_to_Arr_Pick'] = df['Arr_at_Pickup_-_Time']-df['Confirmation_-_Time']\n",
    "df['Time_from_Confirmation_to_Arrival_at_Pickup'] = \\\n",
    "    df['Conf_to_Arr_Pick'].dt.total_seconds().astype(int)\n",
    "df.drop(['Arr_at_Pickup_-_Time', 'Conf_to_Arr_Pick',], axis=1, inplace=True)\n",
    "\n",
    "df['Arr_at_Pickup_Time'] = df['Arrival_at_Pickup_-_Time']\n",
    "df['Arr_Pickup_to_Pickup_Time'] = df['Pickup_-_Time']-df['Arr_at_Pickup_Time']\n",
    "df['Time_from_Arrival_at_Pickup_to_Pickup_-_Time'] = \\\n",
    "    df['Arr_Pickup_to_Pickup_Time'].dt.total_seconds().astype(int)\n",
    "df.drop(['Arr_at_Pickup_Time','Arr_Pickup_to_Pickup_Time'], axis=1, inplace=True)\n"
   ]
  },
  {
   "cell_type": "markdown",
   "metadata": {
    "id": "1EyTH6Mc9zJQ"
   },
   "source": [
    "### 4.2.3 Calculating Performance of Riders"
   ]
  },
  {
   "cell_type": "code",
   "execution_count": 192,
   "metadata": {
    "id": "q8iPqTJC9zJQ"
   },
   "outputs": [],
   "source": [
    "df['Performance'] = df['Age'] / df['No_Of_Orders']\n"
   ]
  },
  {
   "cell_type": "markdown",
   "metadata": {
    "id": "IDGm6LYA9zJS"
   },
   "source": [
    "### 4.3 Cyclical Features"
   ]
  },
  {
   "cell_type": "markdown",
   "metadata": {},
   "source": [
    "Datetime features are classified as cyclical features and it is quite important to convert these features into a representation that can preserve information such as hour 23 and hour 00 being close to each other and not far apart. In this section, we are going to show how to introduce these cyclical features properly into a model.\n",
    "\n",
    "We would extract hours, minutes, and seconds from the pickup time given."
   ]
  },
  {
   "cell_type": "code",
   "execution_count": 193,
   "metadata": {
    "id": "sZu1X8uE9zJS"
   },
   "outputs": [],
   "source": [
    "# df = df[['Pickup_-_Time']]\n",
    "df['Pickup_Hour'] = df['Pickup_-_Time'].dt.hour\n",
    "df['Pickup_Minute'] = df['Pickup_-_Time'].dt.minute\n",
    "df['Pickup_Second'] = df['Pickup_-_Time'].dt.second\n"
   ]
  },
  {
   "cell_type": "code",
   "execution_count": 194,
   "metadata": {
    "id": "F3rnLBjY9zJT"
   },
   "outputs": [],
   "source": [
    "df.rename(columns={'Pickup_-_Day_of_Month': 'Pickup_Day_of_Month',\n",
    "                   'Pickup_-_Weekday_(Mo_=_1)': 'Pickup_Day_of_Weekday'},\n",
    "          inplace=True)\n"
   ]
  },
  {
   "cell_type": "code",
   "execution_count": 195,
   "metadata": {
    "id": "t9smr_TN9zJU",
    "outputId": "8a3dd28f-243d-47aa-ca79-3e67f2b79e0e"
   },
   "outputs": [
    {
     "name": "stdout",
     "output_type": "stream",
     "text": [
      "Unique values of hours: [0, 7, 8, 9, 10, 11, 12, 13, 14, 15, 16, 17, 18, 19, 20, 21, 22, 23]\n",
      "Unique values of month: [1, 2, 3, 4, 5, 6, 7, 8, 9, 10, 11, 12, 13, 14, 15, 16, 17, 18, 19, 20, 21, 22, 23, 24, 25, 26, 27, 28, 29, 30, 31]\n",
      "Unique values of day: [1, 2, 3, 4, 5, 6, 7]\n"
     ]
    }
   ],
   "source": [
    "print('Unique values of hours:', sorted(df.Pickup_Hour.unique()))\n",
    "print('Unique values of month:', sorted(df.Pickup_Day_of_Month.unique()))\n",
    "print('Unique values of day:', sorted(df.Pickup_Day_of_Weekday.unique()))\n"
   ]
  },
  {
   "cell_type": "markdown",
   "metadata": {},
   "source": [
    "The days of the month are numbered from 1 to 31, and hours of the day are numbered 0 through 23 and we can see that deliveries takes place only between 7am and midnight."
   ]
  },
  {
   "cell_type": "markdown",
   "metadata": {},
   "source": [
    "**Encoding Cyclical Features**"
   ]
  },
  {
   "cell_type": "markdown",
   "metadata": {},
   "source": [
    "A common technique for encoding cyclical data is to use a sine and consine transformation to transform the data into two dimensions. What happens is that the cyclical variable is mapped into a circle such that the lowest value appears right next to the highest value for that variable. The components x- and y- of that point are determined using trigonometric functions of sin and cos. "
   ]
  },
  {
   "cell_type": "markdown",
   "metadata": {},
   "source": [
    "**That can be achieved using the following transformations:**"
   ]
  },
  {
   "cell_type": "markdown",
   "metadata": {},
   "source": [
    "$${x}_{sin} =  {sin}(\\frac{2 * \\pi * x}{max(x)})$$\n",
    "\n",
    "$${x}_{cos} =  {cos}(\\frac{2 * \\pi * x}{max(x)})$$\n"
   ]
  },
  {
   "cell_type": "code",
   "execution_count": 196,
   "metadata": {
    "id": "9AuWgltH9zJW"
   },
   "outputs": [],
   "source": [
    "df['Pickup_Hour_sin'] = np.sin(df.Pickup_Hour*(2.*np.pi/24))\n",
    "df['Pickup_Hour_cos'] = np.cos(df.Pickup_Hour*(2.*np.pi/24))\n",
    "df['Pickup_Month_sin'] = np.sin((df.Pickup_Day_of_Month)*(2.*np.pi/31))\n",
    "df['Pickup_Month_cos'] = np.cos((df.Pickup_Day_of_Month)*(2.*np.pi/31))\n",
    "df['Pickup_Day_sin'] = np.sin((df.Pickup_Day_of_Weekday)*(2.*np.pi/7))\n",
    "df['Pickup_Day_cos'] = np.cos((df.Pickup_Day_of_Weekday)*(2.*np.pi/7))\n"
   ]
  },
  {
   "cell_type": "markdown",
   "metadata": {},
   "source": [
    "We now have two new features \"Pickup_Hour_sin\" and \"Pickup_Hour_cos\"  instead of hours ranging from 0 to 23, each ranging from 0 to 1 and combining to have the good cyclical characteristics we are seeking. The same thing applies to days of the month and days of the week."
   ]
  },
  {
   "cell_type": "markdown",
   "metadata": {},
   "source": [
    "We plot both features together i.e (\"Pickup_Hour_sin\" and \"Pickup_Hour_cos\" ) in two dimensions  for all the new features we have created"
   ]
  },
  {
   "cell_type": "code",
   "execution_count": 105,
   "metadata": {
    "id": "3G9rMJgk9zJX",
    "outputId": "7a60f8b3-c9c8-47f5-be68-4714d1fc15d7"
   },
   "outputs": [
    {
     "data": {
      "image/png": "[encoded data removed]",
      "text/plain": [
       "<Figure size 432x288 with 1 Axes>"
      ]
     },
     "metadata": {
      "needs_background": "light"
     },
     "output_type": "display_data"
    }
   ],
   "source": [
    "df.plot.scatter('Pickup_Hour_sin', 'Pickup_Hour_cos').set_aspect('equal')\n"
   ]
  },
  {
   "cell_type": "code",
   "execution_count": 106,
   "metadata": {
    "id": "sz498S9g9zJZ",
    "outputId": "5d8ad27d-6363-4b89-a4f2-fc3df1271d4d"
   },
   "outputs": [
    {
     "data": {
      "image/png": "[encoded data removed]",
      "text/plain": [
       "<Figure size 432x288 with 1 Axes>"
      ]
     },
     "metadata": {
      "needs_background": "light"
     },
     "output_type": "display_data"
    }
   ],
   "source": [
    "df.plot.scatter('Pickup_Month_sin', 'Pickup_Month_cos').set_aspect('equal')\n"
   ]
  },
  {
   "cell_type": "code",
   "execution_count": 107,
   "metadata": {
    "id": "taFV_L5i9zJb",
    "outputId": "cb81bdd9-075b-4c77-9902-eae992bfd96d"
   },
   "outputs": [
    {
     "data": {
      "image/png": "[encoded data removed]",
      "text/plain": [
       "<Figure size 432x288 with 1 Axes>"
      ]
     },
     "metadata": {
      "needs_background": "light"
     },
     "output_type": "display_data"
    }
   ],
   "source": [
    "df.plot.scatter('Pickup_Day_sin', 'Pickup_Day_cos').set_aspect('equal')\n"
   ]
  },
  {
   "cell_type": "markdown",
   "metadata": {},
   "source": [
    "The newly created features, can now be used by our machine learning algorithms. As an added benefit, their range is extended to [-1, 1], which also supports our predictions."
   ]
  },
  {
   "cell_type": "code",
   "execution_count": 197,
   "metadata": {
    "id": "tPfTa1rN9zJc",
    "outputId": "dd898401-daec-4cb0-a285-3cba72825556"
   },
   "outputs": [
    {
     "name": "stdout",
     "output_type": "stream",
     "text": [
      "Index(['Order_No', 'User_Id', 'Vehicle_Type', 'Platform_Type',\n",
      "       'Personal_or_Business', 'Placement_-_Day_of_Month',\n",
      "       'Placement_-_Weekday_(Mo_=_1)', 'Placement_-_Time',\n",
      "       'Confirmation_-_Day_of_Month', 'Confirmation_-_Weekday_(Mo_=_1)',\n",
      "       'Confirmation_-_Time', 'Arrival_at_Pickup_-_Day_of_Month',\n",
      "       'Arrival_at_Pickup_-_Weekday_(Mo_=_1)', 'Arrival_at_Pickup_-_Time',\n",
      "       'Pickup_Day_of_Month', 'Pickup_Day_of_Weekday', 'Pickup_-_Time',\n",
      "       'Distance_(KM)', 'Temperature', 'Pickup_Lat', 'Pickup_Long',\n",
      "       'Destination_Lat', 'Destination_Long', 'Rider_Id', 'No_Of_Orders',\n",
      "       'Age', 'Average_Rating', 'No_of_Ratings', 'Pickup_Hour',\n",
      "       'Time_from_Placement_to_Confirmation',\n",
      "       'Time_from_Confirmation_to_Arrival_at_Pickup',\n",
      "       'Time_from_Arrival_at_Pickup_to_Pickup_-_Time', 'Performance',\n",
      "       'Pickup_Minute', 'Pickup_Second', 'Pickup_Hour_sin', 'Pickup_Hour_cos',\n",
      "       'Pickup_Month_sin', 'Pickup_Month_cos', 'Pickup_Day_sin',\n",
      "       'Pickup_Day_cos'],\n",
      "      dtype='object')\n"
     ]
    }
   ],
   "source": [
    "print(df.columns)\n"
   ]
  },
  {
   "cell_type": "markdown",
   "metadata": {
    "id": "TUmwDp2-9zJd"
   },
   "source": [
    "## 4.4 Checking for Multicollinearity\n",
    "\n",
    "Multicollinearity occurs when independent variables in a regression model are correlated. This correlation is a problem because independent variables should be independent. If the degree of correlation between variables is high enough, it can cause problems when you fit the model and interpret the results.\n",
    "\n",
    "This is done through the use of variance inflation factor from the statsmodels package."
   ]
  },
  {
   "cell_type": "code",
   "execution_count": 198,
   "metadata": {
    "id": "RDXWevH-9zJd"
   },
   "outputs": [],
   "source": [
    "def calculate_vif(df):\n",
    "    '''\n",
    "    Defining a function that takes in a dataframe,\n",
    "    then extracts the variables in the dataframe\n",
    "    and calculates their variance inflation factor by\n",
    "    iterating over every variable\n",
    "    \n",
    "    Parameter:\n",
    "        df: A dataframe\n",
    "    Return:\n",
    "        A dataframe\n",
    "    '''\n",
    "    # Calculating VIF\n",
    "    vif = pd.DataFrame()\n",
    "    vif[\"variables\"] = df.columns\n",
    "    vf = variance_inflation_factor\n",
    "    vif[\"VIF\"] = [vf(df.values, i) for i in range(df.shape[1])]\n",
    "\n",
    "    return(vif)\n"
   ]
  },
  {
   "cell_type": "code",
   "execution_count": 199,
   "metadata": {
    "id": "zqbN98UB9zJf",
    "outputId": "a50aa406-a23a-4691-f2ce-561310832e43"
   },
   "outputs": [
    {
     "name": "stderr",
     "output_type": "stream",
     "text": [
      "C:\\Users\\Admin\\Anaconda3\\lib\\site-packages\\statsmodels\\stats\\outliers_influence.py:185: RuntimeWarning: divide by zero encountered in double_scalars\n",
      "  vif = 1. / (1. - r_squared_i)\n"
     ]
    },
    {
     "data": {
      "text/html": [
       "<div>\n",
       "<style scoped>\n",
       "    .dataframe tbody tr th:only-of-type {\n",
       "        vertical-align: middle;\n",
       "    }\n",
       "\n",
       "    .dataframe tbody tr th {\n",
       "        vertical-align: top;\n",
       "    }\n",
       "\n",
       "    .dataframe thead th {\n",
       "        text-align: right;\n",
       "    }\n",
       "</style>\n",
       "<table border=\"1\" class=\"dataframe\">\n",
       "  <thead>\n",
       "    <tr style=\"text-align: right;\">\n",
       "      <th></th>\n",
       "      <th>variables</th>\n",
       "      <th>VIF</th>\n",
       "    </tr>\n",
       "  </thead>\n",
       "  <tbody>\n",
       "    <tr>\n",
       "      <th>0</th>\n",
       "      <td>Platform_Type</td>\n",
       "      <td>2.236549e+01</td>\n",
       "    </tr>\n",
       "    <tr>\n",
       "      <th>1</th>\n",
       "      <td>Placement_-_Day_of_Month</td>\n",
       "      <td>inf</td>\n",
       "    </tr>\n",
       "    <tr>\n",
       "      <th>2</th>\n",
       "      <td>Placement_-_Weekday_(Mo_=_1)</td>\n",
       "      <td>inf</td>\n",
       "    </tr>\n",
       "    <tr>\n",
       "      <th>3</th>\n",
       "      <td>Confirmation_-_Day_of_Month</td>\n",
       "      <td>inf</td>\n",
       "    </tr>\n",
       "    <tr>\n",
       "      <th>4</th>\n",
       "      <td>Confirmation_-_Weekday_(Mo_=_1)</td>\n",
       "      <td>inf</td>\n",
       "    </tr>\n",
       "    <tr>\n",
       "      <th>5</th>\n",
       "      <td>Arrival_at_Pickup_-_Day_of_Month</td>\n",
       "      <td>inf</td>\n",
       "    </tr>\n",
       "    <tr>\n",
       "      <th>6</th>\n",
       "      <td>Arrival_at_Pickup_-_Weekday_(Mo_=_1)</td>\n",
       "      <td>inf</td>\n",
       "    </tr>\n",
       "    <tr>\n",
       "      <th>7</th>\n",
       "      <td>Pickup_Day_of_Month</td>\n",
       "      <td>inf</td>\n",
       "    </tr>\n",
       "    <tr>\n",
       "      <th>8</th>\n",
       "      <td>Pickup_Day_of_Weekday</td>\n",
       "      <td>inf</td>\n",
       "    </tr>\n",
       "    <tr>\n",
       "      <th>9</th>\n",
       "      <td>Distance_(KM)</td>\n",
       "      <td>4.015024e+00</td>\n",
       "    </tr>\n",
       "    <tr>\n",
       "      <th>10</th>\n",
       "      <td>Temperature</td>\n",
       "      <td>7.476091e+01</td>\n",
       "    </tr>\n",
       "    <tr>\n",
       "      <th>11</th>\n",
       "      <td>Pickup_Lat</td>\n",
       "      <td>1.906509e+03</td>\n",
       "    </tr>\n",
       "    <tr>\n",
       "      <th>12</th>\n",
       "      <td>Pickup_Long</td>\n",
       "      <td>4.581896e+05</td>\n",
       "    </tr>\n",
       "    <tr>\n",
       "      <th>13</th>\n",
       "      <td>Destination_Lat</td>\n",
       "      <td>1.389791e+03</td>\n",
       "    </tr>\n",
       "    <tr>\n",
       "      <th>14</th>\n",
       "      <td>Destination_Long</td>\n",
       "      <td>4.489658e+05</td>\n",
       "    </tr>\n",
       "    <tr>\n",
       "      <th>15</th>\n",
       "      <td>No_Of_Orders</td>\n",
       "      <td>9.459569e+00</td>\n",
       "    </tr>\n",
       "    <tr>\n",
       "      <th>16</th>\n",
       "      <td>Age</td>\n",
       "      <td>6.483805e+00</td>\n",
       "    </tr>\n",
       "    <tr>\n",
       "      <th>17</th>\n",
       "      <td>Average_Rating</td>\n",
       "      <td>2.652069e+02</td>\n",
       "    </tr>\n",
       "    <tr>\n",
       "      <th>18</th>\n",
       "      <td>No_of_Ratings</td>\n",
       "      <td>6.861099e+00</td>\n",
       "    </tr>\n",
       "    <tr>\n",
       "      <th>19</th>\n",
       "      <td>Pickup_Hour</td>\n",
       "      <td>1.587996e+03</td>\n",
       "    </tr>\n",
       "    <tr>\n",
       "      <th>20</th>\n",
       "      <td>Time_from_Placement_to_Confirmation</td>\n",
       "      <td>1.206333e+00</td>\n",
       "    </tr>\n",
       "    <tr>\n",
       "      <th>21</th>\n",
       "      <td>Time_from_Confirmation_to_Arrival_at_Pickup</td>\n",
       "      <td>2.409459e+00</td>\n",
       "    </tr>\n",
       "    <tr>\n",
       "      <th>22</th>\n",
       "      <td>Time_from_Arrival_at_Pickup_to_Pickup_-_Time</td>\n",
       "      <td>2.091455e+00</td>\n",
       "    </tr>\n",
       "    <tr>\n",
       "      <th>23</th>\n",
       "      <td>Performance</td>\n",
       "      <td>1.301163e+00</td>\n",
       "    </tr>\n",
       "    <tr>\n",
       "      <th>24</th>\n",
       "      <td>Pickup_Minute</td>\n",
       "      <td>3.971927e+00</td>\n",
       "    </tr>\n",
       "    <tr>\n",
       "      <th>25</th>\n",
       "      <td>Pickup_Second</td>\n",
       "      <td>3.864178e+00</td>\n",
       "    </tr>\n",
       "    <tr>\n",
       "      <th>26</th>\n",
       "      <td>Pickup_Hour_sin</td>\n",
       "      <td>5.607044e+01</td>\n",
       "    </tr>\n",
       "    <tr>\n",
       "      <th>27</th>\n",
       "      <td>Pickup_Hour_cos</td>\n",
       "      <td>2.988391e+01</td>\n",
       "    </tr>\n",
       "    <tr>\n",
       "      <th>28</th>\n",
       "      <td>Pickup_Month_sin</td>\n",
       "      <td>2.842696e+00</td>\n",
       "    </tr>\n",
       "    <tr>\n",
       "      <th>29</th>\n",
       "      <td>Pickup_Month_cos</td>\n",
       "      <td>1.016913e+00</td>\n",
       "    </tr>\n",
       "    <tr>\n",
       "      <th>30</th>\n",
       "      <td>Pickup_Day_sin</td>\n",
       "      <td>5.857513e+00</td>\n",
       "    </tr>\n",
       "    <tr>\n",
       "      <th>31</th>\n",
       "      <td>Pickup_Day_cos</td>\n",
       "      <td>1.303879e+00</td>\n",
       "    </tr>\n",
       "  </tbody>\n",
       "</table>\n",
       "</div>"
      ],
      "text/plain": [
       "                                       variables           VIF\n",
       "0                                  Platform_Type  2.236549e+01\n",
       "1                       Placement_-_Day_of_Month           inf\n",
       "2                   Placement_-_Weekday_(Mo_=_1)           inf\n",
       "3                    Confirmation_-_Day_of_Month           inf\n",
       "4                Confirmation_-_Weekday_(Mo_=_1)           inf\n",
       "5               Arrival_at_Pickup_-_Day_of_Month           inf\n",
       "6           Arrival_at_Pickup_-_Weekday_(Mo_=_1)           inf\n",
       "7                            Pickup_Day_of_Month           inf\n",
       "8                          Pickup_Day_of_Weekday           inf\n",
       "9                                  Distance_(KM)  4.015024e+00\n",
       "10                                   Temperature  7.476091e+01\n",
       "11                                    Pickup_Lat  1.906509e+03\n",
       "12                                   Pickup_Long  4.581896e+05\n",
       "13                               Destination_Lat  1.389791e+03\n",
       "14                              Destination_Long  4.489658e+05\n",
       "15                                  No_Of_Orders  9.459569e+00\n",
       "16                                           Age  6.483805e+00\n",
       "17                                Average_Rating  2.652069e+02\n",
       "18                                 No_of_Ratings  6.861099e+00\n",
       "19                                   Pickup_Hour  1.587996e+03\n",
       "20           Time_from_Placement_to_Confirmation  1.206333e+00\n",
       "21   Time_from_Confirmation_to_Arrival_at_Pickup  2.409459e+00\n",
       "22  Time_from_Arrival_at_Pickup_to_Pickup_-_Time  2.091455e+00\n",
       "23                                   Performance  1.301163e+00\n",
       "24                                 Pickup_Minute  3.971927e+00\n",
       "25                                 Pickup_Second  3.864178e+00\n",
       "26                               Pickup_Hour_sin  5.607044e+01\n",
       "27                               Pickup_Hour_cos  2.988391e+01\n",
       "28                              Pickup_Month_sin  2.842696e+00\n",
       "29                              Pickup_Month_cos  1.016913e+00\n",
       "30                                Pickup_Day_sin  5.857513e+00\n",
       "31                                Pickup_Day_cos  1.303879e+00"
      ]
     },
     "execution_count": 199,
     "metadata": {},
     "output_type": "execute_result"
    }
   ],
   "source": [
    "# execution of the variance inflation factor\n",
    "calculate_vif(df.select_dtypes(include=[np.number]))\n"
   ]
  },
  {
   "cell_type": "code",
   "execution_count": 200,
   "metadata": {
    "id": "724TzoPV9zJg",
    "outputId": "afd6019b-92f3-4a96-e4f5-a540db1ac616"
   },
   "outputs": [
    {
     "data": {
      "text/html": [
       "<div>\n",
       "<style scoped>\n",
       "    .dataframe tbody tr th:only-of-type {\n",
       "        vertical-align: middle;\n",
       "    }\n",
       "\n",
       "    .dataframe tbody tr th {\n",
       "        vertical-align: top;\n",
       "    }\n",
       "\n",
       "    .dataframe thead th {\n",
       "        text-align: right;\n",
       "    }\n",
       "</style>\n",
       "<table border=\"1\" class=\"dataframe\">\n",
       "  <thead>\n",
       "    <tr style=\"text-align: right;\">\n",
       "      <th></th>\n",
       "      <th>variables</th>\n",
       "      <th>VIF</th>\n",
       "    </tr>\n",
       "  </thead>\n",
       "  <tbody>\n",
       "    <tr>\n",
       "      <th>0</th>\n",
       "      <td>Distance_(KM)</td>\n",
       "      <td>3.794849</td>\n",
       "    </tr>\n",
       "    <tr>\n",
       "      <th>1</th>\n",
       "      <td>Temperature</td>\n",
       "      <td>5.976049</td>\n",
       "    </tr>\n",
       "    <tr>\n",
       "      <th>2</th>\n",
       "      <td>No_of_Ratings</td>\n",
       "      <td>1.739722</td>\n",
       "    </tr>\n",
       "    <tr>\n",
       "      <th>3</th>\n",
       "      <td>Time_from_Placement_to_Confirmation</td>\n",
       "      <td>1.185077</td>\n",
       "    </tr>\n",
       "    <tr>\n",
       "      <th>4</th>\n",
       "      <td>Time_from_Confirmation_to_Arrival_at_Pickup</td>\n",
       "      <td>2.296209</td>\n",
       "    </tr>\n",
       "    <tr>\n",
       "      <th>5</th>\n",
       "      <td>Time_from_Arrival_at_Pickup_to_Pickup_-_Time</td>\n",
       "      <td>1.990609</td>\n",
       "    </tr>\n",
       "    <tr>\n",
       "      <th>6</th>\n",
       "      <td>Performance</td>\n",
       "      <td>1.139649</td>\n",
       "    </tr>\n",
       "  </tbody>\n",
       "</table>\n",
       "</div>"
      ],
      "text/plain": [
       "                                      variables       VIF\n",
       "0                                 Distance_(KM)  3.794849\n",
       "1                                   Temperature  5.976049\n",
       "2                                 No_of_Ratings  1.739722\n",
       "3           Time_from_Placement_to_Confirmation  1.185077\n",
       "4   Time_from_Confirmation_to_Arrival_at_Pickup  2.296209\n",
       "5  Time_from_Arrival_at_Pickup_to_Pickup_-_Time  1.990609\n",
       "6                                   Performance  1.139649"
      ]
     },
     "execution_count": 200,
     "metadata": {},
     "output_type": "execute_result"
    }
   ],
   "source": [
    "calculate_vif(df[['Distance_(KM)', 'Temperature', 'No_of_Ratings',\n",
    "              'Time_from_Placement_to_Confirmation',\n",
    "                  'Time_from_Confirmation_to_Arrival_at_Pickup',\n",
    "                  'Time_from_Arrival_at_Pickup_to_Pickup_-_Time',\n",
    "                  'Performance']])"
   ]
  },
  {
   "cell_type": "code",
   "execution_count": 77,
   "metadata": {
    "id": "Uo1nsdNi9zJj",
    "outputId": "def97b6d-2599-4813-bc17-3923b15bbf55"
   },
   "outputs": [
    {
     "data": {
      "text/html": [
       "<div>\n",
       "<style scoped>\n",
       "    .dataframe tbody tr th:only-of-type {\n",
       "        vertical-align: middle;\n",
       "    }\n",
       "\n",
       "    .dataframe tbody tr th {\n",
       "        vertical-align: top;\n",
       "    }\n",
       "\n",
       "    .dataframe thead th {\n",
       "        text-align: right;\n",
       "    }\n",
       "</style>\n",
       "<table border=\"1\" class=\"dataframe\">\n",
       "  <thead>\n",
       "    <tr style=\"text-align: right;\">\n",
       "      <th></th>\n",
       "      <th>Platform_Type</th>\n",
       "      <th>Placement_-_Day_of_Month</th>\n",
       "      <th>Placement_-_Weekday_(Mo_=_1)</th>\n",
       "      <th>Confirmation_-_Day_of_Month</th>\n",
       "      <th>Confirmation_-_Weekday_(Mo_=_1)</th>\n",
       "      <th>Arrival_at_Pickup_-_Day_of_Month</th>\n",
       "      <th>Arrival_at_Pickup_-_Weekday_(Mo_=_1)</th>\n",
       "      <th>Pickup_Day_of_Month</th>\n",
       "      <th>Pickup_Day_of_Weekday</th>\n",
       "      <th>Distance_(KM)</th>\n",
       "      <th>...</th>\n",
       "      <th>Time_from_Arrival_at_Pickup_to_Pickup_-_Time</th>\n",
       "      <th>Pickup_Minute</th>\n",
       "      <th>Pickup_Second</th>\n",
       "      <th>Performance</th>\n",
       "      <th>Pickup_Hour_sin</th>\n",
       "      <th>Pickup_Hour_cos</th>\n",
       "      <th>Pickup_Month_sin</th>\n",
       "      <th>Pickup_Month_cos</th>\n",
       "      <th>Pickup_Day_sin</th>\n",
       "      <th>Pickup_Day_cos</th>\n",
       "    </tr>\n",
       "  </thead>\n",
       "  <tbody>\n",
       "    <tr>\n",
       "      <th>Platform_Type</th>\n",
       "      <td>1.000000</td>\n",
       "      <td>0.013958</td>\n",
       "      <td>-0.058637</td>\n",
       "      <td>0.013963</td>\n",
       "      <td>-0.058612</td>\n",
       "      <td>0.013963</td>\n",
       "      <td>-0.058612</td>\n",
       "      <td>0.013963</td>\n",
       "      <td>-0.058612</td>\n",
       "      <td>0.005981</td>\n",
       "      <td>...</td>\n",
       "      <td>0.054311</td>\n",
       "      <td>0.004333</td>\n",
       "      <td>-0.002927</td>\n",
       "      <td>-0.049527</td>\n",
       "      <td>0.010075</td>\n",
       "      <td>-0.087143</td>\n",
       "      <td>0.000475</td>\n",
       "      <td>-0.002439</td>\n",
       "      <td>0.038954</td>\n",
       "      <td>-0.053346</td>\n",
       "    </tr>\n",
       "    <tr>\n",
       "      <th>Placement_-_Day_of_Month</th>\n",
       "      <td>0.013958</td>\n",
       "      <td>1.000000</td>\n",
       "      <td>0.023910</td>\n",
       "      <td>0.999999</td>\n",
       "      <td>0.023890</td>\n",
       "      <td>0.999999</td>\n",
       "      <td>0.023890</td>\n",
       "      <td>0.999999</td>\n",
       "      <td>0.023890</td>\n",
       "      <td>-0.001978</td>\n",
       "      <td>...</td>\n",
       "      <td>0.005910</td>\n",
       "      <td>-0.000030</td>\n",
       "      <td>-0.009279</td>\n",
       "      <td>0.001369</td>\n",
       "      <td>-0.007505</td>\n",
       "      <td>-0.004736</td>\n",
       "      <td>-0.801744</td>\n",
       "      <td>0.082259</td>\n",
       "      <td>-0.016598</td>\n",
       "      <td>-0.043380</td>\n",
       "    </tr>\n",
       "    <tr>\n",
       "      <th>Placement_-_Weekday_(Mo_=_1)</th>\n",
       "      <td>-0.058637</td>\n",
       "      <td>0.023910</td>\n",
       "      <td>1.000000</td>\n",
       "      <td>0.023898</td>\n",
       "      <td>0.999964</td>\n",
       "      <td>0.023898</td>\n",
       "      <td>0.999964</td>\n",
       "      <td>0.023898</td>\n",
       "      <td>0.999964</td>\n",
       "      <td>0.009394</td>\n",
       "      <td>...</td>\n",
       "      <td>0.007390</td>\n",
       "      <td>0.001218</td>\n",
       "      <td>0.014577</td>\n",
       "      <td>0.014019</td>\n",
       "      <td>0.017466</td>\n",
       "      <td>0.019726</td>\n",
       "      <td>-0.024962</td>\n",
       "      <td>0.007010</td>\n",
       "      <td>-0.908539</td>\n",
       "      <td>-0.251422</td>\n",
       "    </tr>\n",
       "    <tr>\n",
       "      <th>Confirmation_-_Day_of_Month</th>\n",
       "      <td>0.013963</td>\n",
       "      <td>0.999999</td>\n",
       "      <td>0.023898</td>\n",
       "      <td>1.000000</td>\n",
       "      <td>0.023891</td>\n",
       "      <td>1.000000</td>\n",
       "      <td>0.023891</td>\n",
       "      <td>1.000000</td>\n",
       "      <td>0.023891</td>\n",
       "      <td>-0.001979</td>\n",
       "      <td>...</td>\n",
       "      <td>0.005912</td>\n",
       "      <td>-0.000026</td>\n",
       "      <td>-0.009266</td>\n",
       "      <td>0.001366</td>\n",
       "      <td>-0.007508</td>\n",
       "      <td>-0.004744</td>\n",
       "      <td>-0.801744</td>\n",
       "      <td>0.082245</td>\n",
       "      <td>-0.016598</td>\n",
       "      <td>-0.043388</td>\n",
       "    </tr>\n",
       "    <tr>\n",
       "      <th>Confirmation_-_Weekday_(Mo_=_1)</th>\n",
       "      <td>-0.058612</td>\n",
       "      <td>0.023890</td>\n",
       "      <td>0.999964</td>\n",
       "      <td>0.023891</td>\n",
       "      <td>1.000000</td>\n",
       "      <td>0.023891</td>\n",
       "      <td>1.000000</td>\n",
       "      <td>0.023891</td>\n",
       "      <td>1.000000</td>\n",
       "      <td>0.009388</td>\n",
       "      <td>...</td>\n",
       "      <td>0.007403</td>\n",
       "      <td>0.001242</td>\n",
       "      <td>0.014653</td>\n",
       "      <td>0.014003</td>\n",
       "      <td>0.017446</td>\n",
       "      <td>0.019685</td>\n",
       "      <td>-0.024951</td>\n",
       "      <td>0.006928</td>\n",
       "      <td>-0.908573</td>\n",
       "      <td>-0.251477</td>\n",
       "    </tr>\n",
       "    <tr>\n",
       "      <th>Arrival_at_Pickup_-_Day_of_Month</th>\n",
       "      <td>0.013963</td>\n",
       "      <td>0.999999</td>\n",
       "      <td>0.023898</td>\n",
       "      <td>1.000000</td>\n",
       "      <td>0.023891</td>\n",
       "      <td>1.000000</td>\n",
       "      <td>0.023891</td>\n",
       "      <td>1.000000</td>\n",
       "      <td>0.023891</td>\n",
       "      <td>-0.001979</td>\n",
       "      <td>...</td>\n",
       "      <td>0.005912</td>\n",
       "      <td>-0.000026</td>\n",
       "      <td>-0.009266</td>\n",
       "      <td>0.001366</td>\n",
       "      <td>-0.007508</td>\n",
       "      <td>-0.004744</td>\n",
       "      <td>-0.801744</td>\n",
       "      <td>0.082245</td>\n",
       "      <td>-0.016598</td>\n",
       "      <td>-0.043388</td>\n",
       "    </tr>\n",
       "    <tr>\n",
       "      <th>Arrival_at_Pickup_-_Weekday_(Mo_=_1)</th>\n",
       "      <td>-0.058612</td>\n",
       "      <td>0.023890</td>\n",
       "      <td>0.999964</td>\n",
       "      <td>0.023891</td>\n",
       "      <td>1.000000</td>\n",
       "      <td>0.023891</td>\n",
       "      <td>1.000000</td>\n",
       "      <td>0.023891</td>\n",
       "      <td>1.000000</td>\n",
       "      <td>0.009388</td>\n",
       "      <td>...</td>\n",
       "      <td>0.007403</td>\n",
       "      <td>0.001242</td>\n",
       "      <td>0.014653</td>\n",
       "      <td>0.014003</td>\n",
       "      <td>0.017446</td>\n",
       "      <td>0.019685</td>\n",
       "      <td>-0.024951</td>\n",
       "      <td>0.006928</td>\n",
       "      <td>-0.908573</td>\n",
       "      <td>-0.251477</td>\n",
       "    </tr>\n",
       "    <tr>\n",
       "      <th>Pickup_Day_of_Month</th>\n",
       "      <td>0.013963</td>\n",
       "      <td>0.999999</td>\n",
       "      <td>0.023898</td>\n",
       "      <td>1.000000</td>\n",
       "      <td>0.023891</td>\n",
       "      <td>1.000000</td>\n",
       "      <td>0.023891</td>\n",
       "      <td>1.000000</td>\n",
       "      <td>0.023891</td>\n",
       "      <td>-0.001979</td>\n",
       "      <td>...</td>\n",
       "      <td>0.005912</td>\n",
       "      <td>-0.000026</td>\n",
       "      <td>-0.009266</td>\n",
       "      <td>0.001366</td>\n",
       "      <td>-0.007508</td>\n",
       "      <td>-0.004744</td>\n",
       "      <td>-0.801744</td>\n",
       "      <td>0.082245</td>\n",
       "      <td>-0.016598</td>\n",
       "      <td>-0.043388</td>\n",
       "    </tr>\n",
       "    <tr>\n",
       "      <th>Pickup_Day_of_Weekday</th>\n",
       "      <td>-0.058612</td>\n",
       "      <td>0.023890</td>\n",
       "      <td>0.999964</td>\n",
       "      <td>0.023891</td>\n",
       "      <td>1.000000</td>\n",
       "      <td>0.023891</td>\n",
       "      <td>1.000000</td>\n",
       "      <td>0.023891</td>\n",
       "      <td>1.000000</td>\n",
       "      <td>0.009388</td>\n",
       "      <td>...</td>\n",
       "      <td>0.007403</td>\n",
       "      <td>0.001242</td>\n",
       "      <td>0.014653</td>\n",
       "      <td>0.014003</td>\n",
       "      <td>0.017446</td>\n",
       "      <td>0.019685</td>\n",
       "      <td>-0.024951</td>\n",
       "      <td>0.006928</td>\n",
       "      <td>-0.908573</td>\n",
       "      <td>-0.251477</td>\n",
       "    </tr>\n",
       "    <tr>\n",
       "      <th>Distance_(KM)</th>\n",
       "      <td>0.005981</td>\n",
       "      <td>-0.001978</td>\n",
       "      <td>0.009394</td>\n",
       "      <td>-0.001979</td>\n",
       "      <td>0.009388</td>\n",
       "      <td>-0.001979</td>\n",
       "      <td>0.009388</td>\n",
       "      <td>-0.001979</td>\n",
       "      <td>0.009388</td>\n",
       "      <td>1.000000</td>\n",
       "      <td>...</td>\n",
       "      <td>0.100902</td>\n",
       "      <td>0.010383</td>\n",
       "      <td>0.001350</td>\n",
       "      <td>-0.013971</td>\n",
       "      <td>0.034066</td>\n",
       "      <td>-0.036656</td>\n",
       "      <td>0.009171</td>\n",
       "      <td>-0.000195</td>\n",
       "      <td>-0.000579</td>\n",
       "      <td>0.016388</td>\n",
       "    </tr>\n",
       "    <tr>\n",
       "      <th>Temperature</th>\n",
       "      <td>0.207039</td>\n",
       "      <td>0.007099</td>\n",
       "      <td>0.026936</td>\n",
       "      <td>0.007100</td>\n",
       "      <td>0.026943</td>\n",
       "      <td>0.007100</td>\n",
       "      <td>0.026943</td>\n",
       "      <td>0.007100</td>\n",
       "      <td>0.026943</td>\n",
       "      <td>-0.004375</td>\n",
       "      <td>...</td>\n",
       "      <td>0.038737</td>\n",
       "      <td>0.023328</td>\n",
       "      <td>0.002602</td>\n",
       "      <td>-0.032736</td>\n",
       "      <td>-0.402230</td>\n",
       "      <td>-0.040143</td>\n",
       "      <td>-0.026472</td>\n",
       "      <td>-0.005054</td>\n",
       "      <td>-0.033430</td>\n",
       "      <td>-0.048328</td>\n",
       "    </tr>\n",
       "    <tr>\n",
       "      <th>Pickup_Lat</th>\n",
       "      <td>-0.003386</td>\n",
       "      <td>-0.005092</td>\n",
       "      <td>0.000214</td>\n",
       "      <td>-0.005087</td>\n",
       "      <td>0.000241</td>\n",
       "      <td>-0.005087</td>\n",
       "      <td>0.000241</td>\n",
       "      <td>-0.005087</td>\n",
       "      <td>0.000241</td>\n",
       "      <td>-0.128315</td>\n",
       "      <td>...</td>\n",
       "      <td>-0.126048</td>\n",
       "      <td>0.004355</td>\n",
       "      <td>0.004408</td>\n",
       "      <td>-0.003114</td>\n",
       "      <td>-0.039696</td>\n",
       "      <td>0.029692</td>\n",
       "      <td>0.004694</td>\n",
       "      <td>-0.015638</td>\n",
       "      <td>-0.001357</td>\n",
       "      <td>-0.009646</td>\n",
       "    </tr>\n",
       "    <tr>\n",
       "      <th>Pickup_Long</th>\n",
       "      <td>0.019767</td>\n",
       "      <td>0.000761</td>\n",
       "      <td>0.010483</td>\n",
       "      <td>0.000764</td>\n",
       "      <td>0.010503</td>\n",
       "      <td>0.000764</td>\n",
       "      <td>0.010503</td>\n",
       "      <td>0.000764</td>\n",
       "      <td>0.010503</td>\n",
       "      <td>0.180356</td>\n",
       "      <td>...</td>\n",
       "      <td>0.171564</td>\n",
       "      <td>-0.003802</td>\n",
       "      <td>0.005431</td>\n",
       "      <td>-0.004855</td>\n",
       "      <td>0.003231</td>\n",
       "      <td>-0.039889</td>\n",
       "      <td>-0.002092</td>\n",
       "      <td>0.010683</td>\n",
       "      <td>-0.009853</td>\n",
       "      <td>0.006125</td>\n",
       "    </tr>\n",
       "    <tr>\n",
       "      <th>Destination_Lat</th>\n",
       "      <td>0.006558</td>\n",
       "      <td>0.003882</td>\n",
       "      <td>0.002670</td>\n",
       "      <td>0.003888</td>\n",
       "      <td>0.002706</td>\n",
       "      <td>0.003888</td>\n",
       "      <td>0.002706</td>\n",
       "      <td>0.003888</td>\n",
       "      <td>0.002706</td>\n",
       "      <td>-0.076642</td>\n",
       "      <td>...</td>\n",
       "      <td>-0.024813</td>\n",
       "      <td>0.000872</td>\n",
       "      <td>0.003535</td>\n",
       "      <td>0.002800</td>\n",
       "      <td>-0.015052</td>\n",
       "      <td>0.001858</td>\n",
       "      <td>-0.006134</td>\n",
       "      <td>0.001766</td>\n",
       "      <td>0.004342</td>\n",
       "      <td>0.016826</td>\n",
       "    </tr>\n",
       "    <tr>\n",
       "      <th>Destination_Long</th>\n",
       "      <td>0.042425</td>\n",
       "      <td>0.003052</td>\n",
       "      <td>-0.000915</td>\n",
       "      <td>0.003049</td>\n",
       "      <td>-0.000934</td>\n",
       "      <td>0.003049</td>\n",
       "      <td>-0.000934</td>\n",
       "      <td>0.003049</td>\n",
       "      <td>-0.000934</td>\n",
       "      <td>0.145198</td>\n",
       "      <td>...</td>\n",
       "      <td>-0.008272</td>\n",
       "      <td>0.000669</td>\n",
       "      <td>-0.003107</td>\n",
       "      <td>-0.002432</td>\n",
       "      <td>-0.003855</td>\n",
       "      <td>-0.038123</td>\n",
       "      <td>-0.001777</td>\n",
       "      <td>-0.000229</td>\n",
       "      <td>0.004599</td>\n",
       "      <td>0.000419</td>\n",
       "    </tr>\n",
       "    <tr>\n",
       "      <th>No_Of_Orders</th>\n",
       "      <td>0.024942</td>\n",
       "      <td>0.006213</td>\n",
       "      <td>-0.024928</td>\n",
       "      <td>0.006215</td>\n",
       "      <td>-0.024913</td>\n",
       "      <td>0.006215</td>\n",
       "      <td>-0.024913</td>\n",
       "      <td>0.006215</td>\n",
       "      <td>-0.024913</td>\n",
       "      <td>0.038336</td>\n",
       "      <td>...</td>\n",
       "      <td>0.078538</td>\n",
       "      <td>-0.000346</td>\n",
       "      <td>-0.000834</td>\n",
       "      <td>-0.198379</td>\n",
       "      <td>0.009739</td>\n",
       "      <td>-0.001210</td>\n",
       "      <td>-0.006563</td>\n",
       "      <td>-0.003339</td>\n",
       "      <td>0.021921</td>\n",
       "      <td>-0.007043</td>\n",
       "    </tr>\n",
       "    <tr>\n",
       "      <th>Age</th>\n",
       "      <td>-0.073152</td>\n",
       "      <td>-0.003335</td>\n",
       "      <td>-0.016222</td>\n",
       "      <td>-0.003340</td>\n",
       "      <td>-0.016252</td>\n",
       "      <td>-0.003340</td>\n",
       "      <td>-0.016252</td>\n",
       "      <td>-0.003340</td>\n",
       "      <td>-0.016252</td>\n",
       "      <td>0.032638</td>\n",
       "      <td>...</td>\n",
       "      <td>0.048505</td>\n",
       "      <td>0.001326</td>\n",
       "      <td>-0.003190</td>\n",
       "      <td>-0.016658</td>\n",
       "      <td>-0.003920</td>\n",
       "      <td>-0.008739</td>\n",
       "      <td>-0.006756</td>\n",
       "      <td>0.000345</td>\n",
       "      <td>0.011626</td>\n",
       "      <td>-0.010066</td>\n",
       "    </tr>\n",
       "    <tr>\n",
       "      <th>Average_Rating</th>\n",
       "      <td>-0.016428</td>\n",
       "      <td>0.011814</td>\n",
       "      <td>-0.006968</td>\n",
       "      <td>0.011818</td>\n",
       "      <td>-0.006945</td>\n",
       "      <td>0.011818</td>\n",
       "      <td>-0.006945</td>\n",
       "      <td>0.011818</td>\n",
       "      <td>-0.006945</td>\n",
       "      <td>-0.003192</td>\n",
       "      <td>...</td>\n",
       "      <td>-0.041795</td>\n",
       "      <td>-0.008712</td>\n",
       "      <td>0.008416</td>\n",
       "      <td>-0.292552</td>\n",
       "      <td>0.011507</td>\n",
       "      <td>0.010259</td>\n",
       "      <td>-0.004951</td>\n",
       "      <td>0.002065</td>\n",
       "      <td>0.008659</td>\n",
       "      <td>-0.011240</td>\n",
       "    </tr>\n",
       "    <tr>\n",
       "      <th>No_of_Ratings</th>\n",
       "      <td>-0.033335</td>\n",
       "      <td>-0.001765</td>\n",
       "      <td>-0.025075</td>\n",
       "      <td>-0.001768</td>\n",
       "      <td>-0.025091</td>\n",
       "      <td>-0.001768</td>\n",
       "      <td>-0.025091</td>\n",
       "      <td>-0.001768</td>\n",
       "      <td>-0.025091</td>\n",
       "      <td>0.051564</td>\n",
       "      <td>...</td>\n",
       "      <td>0.014126</td>\n",
       "      <td>0.002792</td>\n",
       "      <td>0.001938</td>\n",
       "      <td>-0.155494</td>\n",
       "      <td>-0.001856</td>\n",
       "      <td>0.000579</td>\n",
       "      <td>-0.001813</td>\n",
       "      <td>-0.002880</td>\n",
       "      <td>0.023324</td>\n",
       "      <td>-0.002961</td>\n",
       "    </tr>\n",
       "    <tr>\n",
       "      <th>Pickup_Hour</th>\n",
       "      <td>-0.028716</td>\n",
       "      <td>0.006047</td>\n",
       "      <td>-0.008185</td>\n",
       "      <td>0.006050</td>\n",
       "      <td>-0.008172</td>\n",
       "      <td>0.006050</td>\n",
       "      <td>-0.008172</td>\n",
       "      <td>0.006050</td>\n",
       "      <td>-0.008172</td>\n",
       "      <td>-0.037095</td>\n",
       "      <td>...</td>\n",
       "      <td>0.019693</td>\n",
       "      <td>-0.108206</td>\n",
       "      <td>0.000584</td>\n",
       "      <td>0.007102</td>\n",
       "      <td>-0.982502</td>\n",
       "      <td>0.593409</td>\n",
       "      <td>-0.007808</td>\n",
       "      <td>0.004839</td>\n",
       "      <td>0.002534</td>\n",
       "      <td>-0.011362</td>\n",
       "    </tr>\n",
       "    <tr>\n",
       "      <th>Time_from_Placement_to_Confirmation</th>\n",
       "      <td>0.026135</td>\n",
       "      <td>-0.004395</td>\n",
       "      <td>0.010296</td>\n",
       "      <td>-0.004388</td>\n",
       "      <td>0.010338</td>\n",
       "      <td>-0.004388</td>\n",
       "      <td>0.010338</td>\n",
       "      <td>-0.004388</td>\n",
       "      <td>0.010338</td>\n",
       "      <td>-0.026590</td>\n",
       "      <td>...</td>\n",
       "      <td>0.009300</td>\n",
       "      <td>0.003925</td>\n",
       "      <td>-0.000127</td>\n",
       "      <td>0.010029</td>\n",
       "      <td>-0.105387</td>\n",
       "      <td>0.063618</td>\n",
       "      <td>0.007567</td>\n",
       "      <td>0.002779</td>\n",
       "      <td>-0.007238</td>\n",
       "      <td>-0.003989</td>\n",
       "    </tr>\n",
       "    <tr>\n",
       "      <th>Time_from_Confirmation_to_Arrival_at_Pickup</th>\n",
       "      <td>-0.057037</td>\n",
       "      <td>-0.023222</td>\n",
       "      <td>0.025414</td>\n",
       "      <td>-0.023217</td>\n",
       "      <td>0.025443</td>\n",
       "      <td>-0.023217</td>\n",
       "      <td>0.025443</td>\n",
       "      <td>-0.023217</td>\n",
       "      <td>0.025443</td>\n",
       "      <td>0.101735</td>\n",
       "      <td>...</td>\n",
       "      <td>-0.091335</td>\n",
       "      <td>0.003289</td>\n",
       "      <td>0.000860</td>\n",
       "      <td>0.050263</td>\n",
       "      <td>-0.037053</td>\n",
       "      <td>0.041712</td>\n",
       "      <td>0.025775</td>\n",
       "      <td>0.011568</td>\n",
       "      <td>-0.018113</td>\n",
       "      <td>0.009960</td>\n",
       "    </tr>\n",
       "    <tr>\n",
       "      <th>Time_from_Arrival_at_Pickup_to_Pickup_-_Time</th>\n",
       "      <td>0.054311</td>\n",
       "      <td>0.005910</td>\n",
       "      <td>0.007390</td>\n",
       "      <td>0.005912</td>\n",
       "      <td>0.007403</td>\n",
       "      <td>0.005912</td>\n",
       "      <td>0.007403</td>\n",
       "      <td>0.005912</td>\n",
       "      <td>0.007403</td>\n",
       "      <td>0.100902</td>\n",
       "      <td>...</td>\n",
       "      <td>1.000000</td>\n",
       "      <td>-0.001507</td>\n",
       "      <td>-0.006780</td>\n",
       "      <td>-0.008278</td>\n",
       "      <td>-0.020443</td>\n",
       "      <td>-0.004255</td>\n",
       "      <td>-0.003900</td>\n",
       "      <td>0.003084</td>\n",
       "      <td>-0.005775</td>\n",
       "      <td>0.001846</td>\n",
       "    </tr>\n",
       "    <tr>\n",
       "      <th>Pickup_Minute</th>\n",
       "      <td>0.004333</td>\n",
       "      <td>-0.000030</td>\n",
       "      <td>0.001218</td>\n",
       "      <td>-0.000026</td>\n",
       "      <td>0.001242</td>\n",
       "      <td>-0.000026</td>\n",
       "      <td>0.001242</td>\n",
       "      <td>-0.000026</td>\n",
       "      <td>0.001242</td>\n",
       "      <td>0.010383</td>\n",
       "      <td>...</td>\n",
       "      <td>-0.001507</td>\n",
       "      <td>1.000000</td>\n",
       "      <td>0.005456</td>\n",
       "      <td>-0.001711</td>\n",
       "      <td>0.101200</td>\n",
       "      <td>-0.051597</td>\n",
       "      <td>-0.001079</td>\n",
       "      <td>0.001487</td>\n",
       "      <td>-0.003325</td>\n",
       "      <td>0.003435</td>\n",
       "    </tr>\n",
       "    <tr>\n",
       "      <th>Pickup_Second</th>\n",
       "      <td>-0.002927</td>\n",
       "      <td>-0.009279</td>\n",
       "      <td>0.014577</td>\n",
       "      <td>-0.009266</td>\n",
       "      <td>0.014653</td>\n",
       "      <td>-0.009266</td>\n",
       "      <td>0.014653</td>\n",
       "      <td>-0.009266</td>\n",
       "      <td>0.014653</td>\n",
       "      <td>0.001350</td>\n",
       "      <td>...</td>\n",
       "      <td>-0.006780</td>\n",
       "      <td>0.005456</td>\n",
       "      <td>1.000000</td>\n",
       "      <td>-0.006583</td>\n",
       "      <td>-0.000806</td>\n",
       "      <td>0.002482</td>\n",
       "      <td>0.007573</td>\n",
       "      <td>0.005739</td>\n",
       "      <td>-0.015872</td>\n",
       "      <td>-0.001498</td>\n",
       "    </tr>\n",
       "    <tr>\n",
       "      <th>Performance</th>\n",
       "      <td>-0.049527</td>\n",
       "      <td>0.001369</td>\n",
       "      <td>0.014019</td>\n",
       "      <td>0.001366</td>\n",
       "      <td>0.014003</td>\n",
       "      <td>0.001366</td>\n",
       "      <td>0.014003</td>\n",
       "      <td>0.001366</td>\n",
       "      <td>0.014003</td>\n",
       "      <td>-0.013971</td>\n",
       "      <td>...</td>\n",
       "      <td>-0.008278</td>\n",
       "      <td>-0.001711</td>\n",
       "      <td>-0.006583</td>\n",
       "      <td>1.000000</td>\n",
       "      <td>-0.006462</td>\n",
       "      <td>-0.004748</td>\n",
       "      <td>-0.007854</td>\n",
       "      <td>-0.009628</td>\n",
       "      <td>-0.012538</td>\n",
       "      <td>0.007781</td>\n",
       "    </tr>\n",
       "    <tr>\n",
       "      <th>Pickup_Hour_sin</th>\n",
       "      <td>0.010075</td>\n",
       "      <td>-0.007505</td>\n",
       "      <td>0.017466</td>\n",
       "      <td>-0.007508</td>\n",
       "      <td>0.017446</td>\n",
       "      <td>-0.007508</td>\n",
       "      <td>0.017446</td>\n",
       "      <td>-0.007508</td>\n",
       "      <td>0.017446</td>\n",
       "      <td>0.034066</td>\n",
       "      <td>...</td>\n",
       "      <td>-0.020443</td>\n",
       "      <td>0.101200</td>\n",
       "      <td>-0.000806</td>\n",
       "      <td>-0.006462</td>\n",
       "      <td>1.000000</td>\n",
       "      <td>-0.484914</td>\n",
       "      <td>0.008902</td>\n",
       "      <td>-0.003497</td>\n",
       "      <td>-0.009575</td>\n",
       "      <td>0.013845</td>\n",
       "    </tr>\n",
       "    <tr>\n",
       "      <th>Pickup_Hour_cos</th>\n",
       "      <td>-0.087143</td>\n",
       "      <td>-0.004736</td>\n",
       "      <td>0.019726</td>\n",
       "      <td>-0.004744</td>\n",
       "      <td>0.019685</td>\n",
       "      <td>-0.004744</td>\n",
       "      <td>0.019685</td>\n",
       "      <td>-0.004744</td>\n",
       "      <td>0.019685</td>\n",
       "      <td>-0.036656</td>\n",
       "      <td>...</td>\n",
       "      <td>-0.004255</td>\n",
       "      <td>-0.051597</td>\n",
       "      <td>0.002482</td>\n",
       "      <td>-0.004748</td>\n",
       "      <td>-0.484914</td>\n",
       "      <td>1.000000</td>\n",
       "      <td>0.006657</td>\n",
       "      <td>0.012686</td>\n",
       "      <td>-0.020534</td>\n",
       "      <td>-0.015856</td>\n",
       "    </tr>\n",
       "    <tr>\n",
       "      <th>Pickup_Month_sin</th>\n",
       "      <td>0.000475</td>\n",
       "      <td>-0.801744</td>\n",
       "      <td>-0.024962</td>\n",
       "      <td>-0.801744</td>\n",
       "      <td>-0.024951</td>\n",
       "      <td>-0.801744</td>\n",
       "      <td>-0.024951</td>\n",
       "      <td>-0.801744</td>\n",
       "      <td>-0.024951</td>\n",
       "      <td>0.009171</td>\n",
       "      <td>...</td>\n",
       "      <td>-0.003900</td>\n",
       "      <td>-0.001079</td>\n",
       "      <td>0.007573</td>\n",
       "      <td>-0.007854</td>\n",
       "      <td>0.008902</td>\n",
       "      <td>0.006657</td>\n",
       "      <td>1.000000</td>\n",
       "      <td>-0.012177</td>\n",
       "      <td>0.022474</td>\n",
       "      <td>0.029141</td>\n",
       "    </tr>\n",
       "    <tr>\n",
       "      <th>Pickup_Month_cos</th>\n",
       "      <td>-0.002439</td>\n",
       "      <td>0.082259</td>\n",
       "      <td>0.007010</td>\n",
       "      <td>0.082245</td>\n",
       "      <td>0.006928</td>\n",
       "      <td>0.082245</td>\n",
       "      <td>0.006928</td>\n",
       "      <td>0.082245</td>\n",
       "      <td>0.006928</td>\n",
       "      <td>-0.000195</td>\n",
       "      <td>...</td>\n",
       "      <td>0.003084</td>\n",
       "      <td>0.001487</td>\n",
       "      <td>0.005739</td>\n",
       "      <td>-0.009628</td>\n",
       "      <td>-0.003497</td>\n",
       "      <td>0.012686</td>\n",
       "      <td>-0.012177</td>\n",
       "      <td>1.000000</td>\n",
       "      <td>-0.009267</td>\n",
       "      <td>0.007408</td>\n",
       "    </tr>\n",
       "    <tr>\n",
       "      <th>Pickup_Day_sin</th>\n",
       "      <td>0.038954</td>\n",
       "      <td>-0.016598</td>\n",
       "      <td>-0.908539</td>\n",
       "      <td>-0.016598</td>\n",
       "      <td>-0.908573</td>\n",
       "      <td>-0.016598</td>\n",
       "      <td>-0.908573</td>\n",
       "      <td>-0.016598</td>\n",
       "      <td>-0.908573</td>\n",
       "      <td>-0.000579</td>\n",
       "      <td>...</td>\n",
       "      <td>-0.005775</td>\n",
       "      <td>-0.003325</td>\n",
       "      <td>-0.015872</td>\n",
       "      <td>-0.012538</td>\n",
       "      <td>-0.009575</td>\n",
       "      <td>-0.020534</td>\n",
       "      <td>0.022474</td>\n",
       "      <td>-0.009267</td>\n",
       "      <td>1.000000</td>\n",
       "      <td>0.199017</td>\n",
       "    </tr>\n",
       "    <tr>\n",
       "      <th>Pickup_Day_cos</th>\n",
       "      <td>-0.053346</td>\n",
       "      <td>-0.043380</td>\n",
       "      <td>-0.251422</td>\n",
       "      <td>-0.043388</td>\n",
       "      <td>-0.251477</td>\n",
       "      <td>-0.043388</td>\n",
       "      <td>-0.251477</td>\n",
       "      <td>-0.043388</td>\n",
       "      <td>-0.251477</td>\n",
       "      <td>0.016388</td>\n",
       "      <td>...</td>\n",
       "      <td>0.001846</td>\n",
       "      <td>0.003435</td>\n",
       "      <td>-0.001498</td>\n",
       "      <td>0.007781</td>\n",
       "      <td>0.013845</td>\n",
       "      <td>-0.015856</td>\n",
       "      <td>0.029141</td>\n",
       "      <td>0.007408</td>\n",
       "      <td>0.199017</td>\n",
       "      <td>1.000000</td>\n",
       "    </tr>\n",
       "  </tbody>\n",
       "</table>\n",
       "<p>32 rows × 32 columns</p>\n",
       "</div>"
      ],
      "text/plain": [
       "                                              Platform_Type  \\\n",
       "Platform_Type                                      1.000000   \n",
       "Placement_-_Day_of_Month                           0.013958   \n",
       "Placement_-_Weekday_(Mo_=_1)                      -0.058637   \n",
       "Confirmation_-_Day_of_Month                        0.013963   \n",
       "Confirmation_-_Weekday_(Mo_=_1)                   -0.058612   \n",
       "Arrival_at_Pickup_-_Day_of_Month                   0.013963   \n",
       "Arrival_at_Pickup_-_Weekday_(Mo_=_1)              -0.058612   \n",
       "Pickup_Day_of_Month                                0.013963   \n",
       "Pickup_Day_of_Weekday                             -0.058612   \n",
       "Distance_(KM)                                      0.005981   \n",
       "Temperature                                        0.207039   \n",
       "Pickup_Lat                                        -0.003386   \n",
       "Pickup_Long                                        0.019767   \n",
       "Destination_Lat                                    0.006558   \n",
       "Destination_Long                                   0.042425   \n",
       "No_Of_Orders                                       0.024942   \n",
       "Age                                               -0.073152   \n",
       "Average_Rating                                    -0.016428   \n",
       "No_of_Ratings                                     -0.033335   \n",
       "Pickup_Hour                                       -0.028716   \n",
       "Time_from_Placement_to_Confirmation                0.026135   \n",
       "Time_from_Confirmation_to_Arrival_at_Pickup       -0.057037   \n",
       "Time_from_Arrival_at_Pickup_to_Pickup_-_Time       0.054311   \n",
       "Pickup_Minute                                      0.004333   \n",
       "Pickup_Second                                     -0.002927   \n",
       "Performance                                       -0.049527   \n",
       "Pickup_Hour_sin                                    0.010075   \n",
       "Pickup_Hour_cos                                   -0.087143   \n",
       "Pickup_Month_sin                                   0.000475   \n",
       "Pickup_Month_cos                                  -0.002439   \n",
       "Pickup_Day_sin                                     0.038954   \n",
       "Pickup_Day_cos                                    -0.053346   \n",
       "\n",
       "                                              Placement_-_Day_of_Month  \\\n",
       "Platform_Type                                                 0.013958   \n",
       "Placement_-_Day_of_Month                                      1.000000   \n",
       "Placement_-_Weekday_(Mo_=_1)                                  0.023910   \n",
       "Confirmation_-_Day_of_Month                                   0.999999   \n",
       "Confirmation_-_Weekday_(Mo_=_1)                               0.023890   \n",
       "Arrival_at_Pickup_-_Day_of_Month                              0.999999   \n",
       "Arrival_at_Pickup_-_Weekday_(Mo_=_1)                          0.023890   \n",
       "Pickup_Day_of_Month                                           0.999999   \n",
       "Pickup_Day_of_Weekday                                         0.023890   \n",
       "Distance_(KM)                                                -0.001978   \n",
       "Temperature                                                   0.007099   \n",
       "Pickup_Lat                                                   -0.005092   \n",
       "Pickup_Long                                                   0.000761   \n",
       "Destination_Lat                                               0.003882   \n",
       "Destination_Long                                              0.003052   \n",
       "No_Of_Orders                                                  0.006213   \n",
       "Age                                                          -0.003335   \n",
       "Average_Rating                                                0.011814   \n",
       "No_of_Ratings                                                -0.001765   \n",
       "Pickup_Hour                                                   0.006047   \n",
       "Time_from_Placement_to_Confirmation                          -0.004395   \n",
       "Time_from_Confirmation_to_Arrival_at_Pickup                  -0.023222   \n",
       "Time_from_Arrival_at_Pickup_to_Pickup_-_Time                  0.005910   \n",
       "Pickup_Minute                                                -0.000030   \n",
       "Pickup_Second                                                -0.009279   \n",
       "Performance                                                   0.001369   \n",
       "Pickup_Hour_sin                                              -0.007505   \n",
       "Pickup_Hour_cos                                              -0.004736   \n",
       "Pickup_Month_sin                                             -0.801744   \n",
       "Pickup_Month_cos                                              0.082259   \n",
       "Pickup_Day_sin                                               -0.016598   \n",
       "Pickup_Day_cos                                               -0.043380   \n",
       "\n",
       "                                              Placement_-_Weekday_(Mo_=_1)  \\\n",
       "Platform_Type                                                    -0.058637   \n",
       "Placement_-_Day_of_Month                                          0.023910   \n",
       "Placement_-_Weekday_(Mo_=_1)                                      1.000000   \n",
       "Confirmation_-_Day_of_Month                                       0.023898   \n",
       "Confirmation_-_Weekday_(Mo_=_1)                                   0.999964   \n",
       "Arrival_at_Pickup_-_Day_of_Month                                  0.023898   \n",
       "Arrival_at_Pickup_-_Weekday_(Mo_=_1)                              0.999964   \n",
       "Pickup_Day_of_Month                                               0.023898   \n",
       "Pickup_Day_of_Weekday                                             0.999964   \n",
       "Distance_(KM)                                                     0.009394   \n",
       "Temperature                                                       0.026936   \n",
       "Pickup_Lat                                                        0.000214   \n",
       "Pickup_Long                                                       0.010483   \n",
       "Destination_Lat                                                   0.002670   \n",
       "Destination_Long                                                 -0.000915   \n",
       "No_Of_Orders                                                     -0.024928   \n",
       "Age                                                              -0.016222   \n",
       "Average_Rating                                                   -0.006968   \n",
       "No_of_Ratings                                                    -0.025075   \n",
       "Pickup_Hour                                                      -0.008185   \n",
       "Time_from_Placement_to_Confirmation                               0.010296   \n",
       "Time_from_Confirmation_to_Arrival_at_Pickup                       0.025414   \n",
       "Time_from_Arrival_at_Pickup_to_Pickup_-_Time                      0.007390   \n",
       "Pickup_Minute                                                     0.001218   \n",
       "Pickup_Second                                                     0.014577   \n",
       "Performance                                                       0.014019   \n",
       "Pickup_Hour_sin                                                   0.017466   \n",
       "Pickup_Hour_cos                                                   0.019726   \n",
       "Pickup_Month_sin                                                 -0.024962   \n",
       "Pickup_Month_cos                                                  0.007010   \n",
       "Pickup_Day_sin                                                   -0.908539   \n",
       "Pickup_Day_cos                                                   -0.251422   \n",
       "\n",
       "                                              Confirmation_-_Day_of_Month  \\\n",
       "Platform_Type                                                    0.013963   \n",
       "Placement_-_Day_of_Month                                         0.999999   \n",
       "Placement_-_Weekday_(Mo_=_1)                                     0.023898   \n",
       "Confirmation_-_Day_of_Month                                      1.000000   \n",
       "Confirmation_-_Weekday_(Mo_=_1)                                  0.023891   \n",
       "Arrival_at_Pickup_-_Day_of_Month                                 1.000000   \n",
       "Arrival_at_Pickup_-_Weekday_(Mo_=_1)                             0.023891   \n",
       "Pickup_Day_of_Month                                              1.000000   \n",
       "Pickup_Day_of_Weekday                                            0.023891   \n",
       "Distance_(KM)                                                   -0.001979   \n",
       "Temperature                                                      0.007100   \n",
       "Pickup_Lat                                                      -0.005087   \n",
       "Pickup_Long                                                      0.000764   \n",
       "Destination_Lat                                                  0.003888   \n",
       "Destination_Long                                                 0.003049   \n",
       "No_Of_Orders                                                     0.006215   \n",
       "Age                                                             -0.003340   \n",
       "Average_Rating                                                   0.011818   \n",
       "No_of_Ratings                                                   -0.001768   \n",
       "Pickup_Hour                                                      0.006050   \n",
       "Time_from_Placement_to_Confirmation                             -0.004388   \n",
       "Time_from_Confirmation_to_Arrival_at_Pickup                     -0.023217   \n",
       "Time_from_Arrival_at_Pickup_to_Pickup_-_Time                     0.005912   \n",
       "Pickup_Minute                                                   -0.000026   \n",
       "Pickup_Second                                                   -0.009266   \n",
       "Performance                                                      0.001366   \n",
       "Pickup_Hour_sin                                                 -0.007508   \n",
       "Pickup_Hour_cos                                                 -0.004744   \n",
       "Pickup_Month_sin                                                -0.801744   \n",
       "Pickup_Month_cos                                                 0.082245   \n",
       "Pickup_Day_sin                                                  -0.016598   \n",
       "Pickup_Day_cos                                                  -0.043388   \n",
       "\n",
       "                                              Confirmation_-_Weekday_(Mo_=_1)  \\\n",
       "Platform_Type                                                       -0.058612   \n",
       "Placement_-_Day_of_Month                                             0.023890   \n",
       "Placement_-_Weekday_(Mo_=_1)                                         0.999964   \n",
       "Confirmation_-_Day_of_Month                                          0.023891   \n",
       "Confirmation_-_Weekday_(Mo_=_1)                                      1.000000   \n",
       "Arrival_at_Pickup_-_Day_of_Month                                     0.023891   \n",
       "Arrival_at_Pickup_-_Weekday_(Mo_=_1)                                 1.000000   \n",
       "Pickup_Day_of_Month                                                  0.023891   \n",
       "Pickup_Day_of_Weekday                                                1.000000   \n",
       "Distance_(KM)                                                        0.009388   \n",
       "Temperature                                                          0.026943   \n",
       "Pickup_Lat                                                           0.000241   \n",
       "Pickup_Long                                                          0.010503   \n",
       "Destination_Lat                                                      0.002706   \n",
       "Destination_Long                                                    -0.000934   \n",
       "No_Of_Orders                                                        -0.024913   \n",
       "Age                                                                 -0.016252   \n",
       "Average_Rating                                                      -0.006945   \n",
       "No_of_Ratings                                                       -0.025091   \n",
       "Pickup_Hour                                                         -0.008172   \n",
       "Time_from_Placement_to_Confirmation                                  0.010338   \n",
       "Time_from_Confirmation_to_Arrival_at_Pickup                          0.025443   \n",
       "Time_from_Arrival_at_Pickup_to_Pickup_-_Time                         0.007403   \n",
       "Pickup_Minute                                                        0.001242   \n",
       "Pickup_Second                                                        0.014653   \n",
       "Performance                                                          0.014003   \n",
       "Pickup_Hour_sin                                                      0.017446   \n",
       "Pickup_Hour_cos                                                      0.019685   \n",
       "Pickup_Month_sin                                                    -0.024951   \n",
       "Pickup_Month_cos                                                     0.006928   \n",
       "Pickup_Day_sin                                                      -0.908573   \n",
       "Pickup_Day_cos                                                      -0.251477   \n",
       "\n",
       "                                              Arrival_at_Pickup_-_Day_of_Month  \\\n",
       "Platform_Type                                                         0.013963   \n",
       "Placement_-_Day_of_Month                                              0.999999   \n",
       "Placement_-_Weekday_(Mo_=_1)                                          0.023898   \n",
       "Confirmation_-_Day_of_Month                                           1.000000   \n",
       "Confirmation_-_Weekday_(Mo_=_1)                                       0.023891   \n",
       "Arrival_at_Pickup_-_Day_of_Month                                      1.000000   \n",
       "Arrival_at_Pickup_-_Weekday_(Mo_=_1)                                  0.023891   \n",
       "Pickup_Day_of_Month                                                   1.000000   \n",
       "Pickup_Day_of_Weekday                                                 0.023891   \n",
       "Distance_(KM)                                                        -0.001979   \n",
       "Temperature                                                           0.007100   \n",
       "Pickup_Lat                                                           -0.005087   \n",
       "Pickup_Long                                                           0.000764   \n",
       "Destination_Lat                                                       0.003888   \n",
       "Destination_Long                                                      0.003049   \n",
       "No_Of_Orders                                                          0.006215   \n",
       "Age                                                                  -0.003340   \n",
       "Average_Rating                                                        0.011818   \n",
       "No_of_Ratings                                                        -0.001768   \n",
       "Pickup_Hour                                                           0.006050   \n",
       "Time_from_Placement_to_Confirmation                                  -0.004388   \n",
       "Time_from_Confirmation_to_Arrival_at_Pickup                          -0.023217   \n",
       "Time_from_Arrival_at_Pickup_to_Pickup_-_Time                          0.005912   \n",
       "Pickup_Minute                                                        -0.000026   \n",
       "Pickup_Second                                                        -0.009266   \n",
       "Performance                                                           0.001366   \n",
       "Pickup_Hour_sin                                                      -0.007508   \n",
       "Pickup_Hour_cos                                                      -0.004744   \n",
       "Pickup_Month_sin                                                     -0.801744   \n",
       "Pickup_Month_cos                                                      0.082245   \n",
       "Pickup_Day_sin                                                       -0.016598   \n",
       "Pickup_Day_cos                                                       -0.043388   \n",
       "\n",
       "                                              Arrival_at_Pickup_-_Weekday_(Mo_=_1)  \\\n",
       "Platform_Type                                                            -0.058612   \n",
       "Placement_-_Day_of_Month                                                  0.023890   \n",
       "Placement_-_Weekday_(Mo_=_1)                                              0.999964   \n",
       "Confirmation_-_Day_of_Month                                               0.023891   \n",
       "Confirmation_-_Weekday_(Mo_=_1)                                           1.000000   \n",
       "Arrival_at_Pickup_-_Day_of_Month                                          0.023891   \n",
       "Arrival_at_Pickup_-_Weekday_(Mo_=_1)                                      1.000000   \n",
       "Pickup_Day_of_Month                                                       0.023891   \n",
       "Pickup_Day_of_Weekday                                                     1.000000   \n",
       "Distance_(KM)                                                             0.009388   \n",
       "Temperature                                                               0.026943   \n",
       "Pickup_Lat                                                                0.000241   \n",
       "Pickup_Long                                                               0.010503   \n",
       "Destination_Lat                                                           0.002706   \n",
       "Destination_Long                                                         -0.000934   \n",
       "No_Of_Orders                                                             -0.024913   \n",
       "Age                                                                      -0.016252   \n",
       "Average_Rating                                                           -0.006945   \n",
       "No_of_Ratings                                                            -0.025091   \n",
       "Pickup_Hour                                                              -0.008172   \n",
       "Time_from_Placement_to_Confirmation                                       0.010338   \n",
       "Time_from_Confirmation_to_Arrival_at_Pickup                               0.025443   \n",
       "Time_from_Arrival_at_Pickup_to_Pickup_-_Time                              0.007403   \n",
       "Pickup_Minute                                                             0.001242   \n",
       "Pickup_Second                                                             0.014653   \n",
       "Performance                                                               0.014003   \n",
       "Pickup_Hour_sin                                                           0.017446   \n",
       "Pickup_Hour_cos                                                           0.019685   \n",
       "Pickup_Month_sin                                                         -0.024951   \n",
       "Pickup_Month_cos                                                          0.006928   \n",
       "Pickup_Day_sin                                                           -0.908573   \n",
       "Pickup_Day_cos                                                           -0.251477   \n",
       "\n",
       "                                              Pickup_Day_of_Month  \\\n",
       "Platform_Type                                            0.013963   \n",
       "Placement_-_Day_of_Month                                 0.999999   \n",
       "Placement_-_Weekday_(Mo_=_1)                             0.023898   \n",
       "Confirmation_-_Day_of_Month                              1.000000   \n",
       "Confirmation_-_Weekday_(Mo_=_1)                          0.023891   \n",
       "Arrival_at_Pickup_-_Day_of_Month                         1.000000   \n",
       "Arrival_at_Pickup_-_Weekday_(Mo_=_1)                     0.023891   \n",
       "Pickup_Day_of_Month                                      1.000000   \n",
       "Pickup_Day_of_Weekday                                    0.023891   \n",
       "Distance_(KM)                                           -0.001979   \n",
       "Temperature                                              0.007100   \n",
       "Pickup_Lat                                              -0.005087   \n",
       "Pickup_Long                                              0.000764   \n",
       "Destination_Lat                                          0.003888   \n",
       "Destination_Long                                         0.003049   \n",
       "No_Of_Orders                                             0.006215   \n",
       "Age                                                     -0.003340   \n",
       "Average_Rating                                           0.011818   \n",
       "No_of_Ratings                                           -0.001768   \n",
       "Pickup_Hour                                              0.006050   \n",
       "Time_from_Placement_to_Confirmation                     -0.004388   \n",
       "Time_from_Confirmation_to_Arrival_at_Pickup             -0.023217   \n",
       "Time_from_Arrival_at_Pickup_to_Pickup_-_Time             0.005912   \n",
       "Pickup_Minute                                           -0.000026   \n",
       "Pickup_Second                                           -0.009266   \n",
       "Performance                                              0.001366   \n",
       "Pickup_Hour_sin                                         -0.007508   \n",
       "Pickup_Hour_cos                                         -0.004744   \n",
       "Pickup_Month_sin                                        -0.801744   \n",
       "Pickup_Month_cos                                         0.082245   \n",
       "Pickup_Day_sin                                          -0.016598   \n",
       "Pickup_Day_cos                                          -0.043388   \n",
       "\n",
       "                                              Pickup_Day_of_Weekday  \\\n",
       "Platform_Type                                             -0.058612   \n",
       "Placement_-_Day_of_Month                                   0.023890   \n",
       "Placement_-_Weekday_(Mo_=_1)                               0.999964   \n",
       "Confirmation_-_Day_of_Month                                0.023891   \n",
       "Confirmation_-_Weekday_(Mo_=_1)                            1.000000   \n",
       "Arrival_at_Pickup_-_Day_of_Month                           0.023891   \n",
       "Arrival_at_Pickup_-_Weekday_(Mo_=_1)                       1.000000   \n",
       "Pickup_Day_of_Month                                        0.023891   \n",
       "Pickup_Day_of_Weekday                                      1.000000   \n",
       "Distance_(KM)                                              0.009388   \n",
       "Temperature                                                0.026943   \n",
       "Pickup_Lat                                                 0.000241   \n",
       "Pickup_Long                                                0.010503   \n",
       "Destination_Lat                                            0.002706   \n",
       "Destination_Long                                          -0.000934   \n",
       "No_Of_Orders                                              -0.024913   \n",
       "Age                                                       -0.016252   \n",
       "Average_Rating                                            -0.006945   \n",
       "No_of_Ratings                                             -0.025091   \n",
       "Pickup_Hour                                               -0.008172   \n",
       "Time_from_Placement_to_Confirmation                        0.010338   \n",
       "Time_from_Confirmation_to_Arrival_at_Pickup                0.025443   \n",
       "Time_from_Arrival_at_Pickup_to_Pickup_-_Time               0.007403   \n",
       "Pickup_Minute                                              0.001242   \n",
       "Pickup_Second                                              0.014653   \n",
       "Performance                                                0.014003   \n",
       "Pickup_Hour_sin                                            0.017446   \n",
       "Pickup_Hour_cos                                            0.019685   \n",
       "Pickup_Month_sin                                          -0.024951   \n",
       "Pickup_Month_cos                                           0.006928   \n",
       "Pickup_Day_sin                                            -0.908573   \n",
       "Pickup_Day_cos                                            -0.251477   \n",
       "\n",
       "                                              Distance_(KM)  ...  \\\n",
       "Platform_Type                                      0.005981  ...   \n",
       "Placement_-_Day_of_Month                          -0.001978  ...   \n",
       "Placement_-_Weekday_(Mo_=_1)                       0.009394  ...   \n",
       "Confirmation_-_Day_of_Month                       -0.001979  ...   \n",
       "Confirmation_-_Weekday_(Mo_=_1)                    0.009388  ...   \n",
       "Arrival_at_Pickup_-_Day_of_Month                  -0.001979  ...   \n",
       "Arrival_at_Pickup_-_Weekday_(Mo_=_1)               0.009388  ...   \n",
       "Pickup_Day_of_Month                               -0.001979  ...   \n",
       "Pickup_Day_of_Weekday                              0.009388  ...   \n",
       "Distance_(KM)                                      1.000000  ...   \n",
       "Temperature                                       -0.004375  ...   \n",
       "Pickup_Lat                                        -0.128315  ...   \n",
       "Pickup_Long                                        0.180356  ...   \n",
       "Destination_Lat                                   -0.076642  ...   \n",
       "Destination_Long                                   0.145198  ...   \n",
       "No_Of_Orders                                       0.038336  ...   \n",
       "Age                                                0.032638  ...   \n",
       "Average_Rating                                    -0.003192  ...   \n",
       "No_of_Ratings                                      0.051564  ...   \n",
       "Pickup_Hour                                       -0.037095  ...   \n",
       "Time_from_Placement_to_Confirmation               -0.026590  ...   \n",
       "Time_from_Confirmation_to_Arrival_at_Pickup        0.101735  ...   \n",
       "Time_from_Arrival_at_Pickup_to_Pickup_-_Time       0.100902  ...   \n",
       "Pickup_Minute                                      0.010383  ...   \n",
       "Pickup_Second                                      0.001350  ...   \n",
       "Performance                                       -0.013971  ...   \n",
       "Pickup_Hour_sin                                    0.034066  ...   \n",
       "Pickup_Hour_cos                                   -0.036656  ...   \n",
       "Pickup_Month_sin                                   0.009171  ...   \n",
       "Pickup_Month_cos                                  -0.000195  ...   \n",
       "Pickup_Day_sin                                    -0.000579  ...   \n",
       "Pickup_Day_cos                                     0.016388  ...   \n",
       "\n",
       "                                              Time_from_Arrival_at_Pickup_to_Pickup_-_Time  \\\n",
       "Platform_Type                                                                     0.054311   \n",
       "Placement_-_Day_of_Month                                                          0.005910   \n",
       "Placement_-_Weekday_(Mo_=_1)                                                      0.007390   \n",
       "Confirmation_-_Day_of_Month                                                       0.005912   \n",
       "Confirmation_-_Weekday_(Mo_=_1)                                                   0.007403   \n",
       "Arrival_at_Pickup_-_Day_of_Month                                                  0.005912   \n",
       "Arrival_at_Pickup_-_Weekday_(Mo_=_1)                                              0.007403   \n",
       "Pickup_Day_of_Month                                                               0.005912   \n",
       "Pickup_Day_of_Weekday                                                             0.007403   \n",
       "Distance_(KM)                                                                     0.100902   \n",
       "Temperature                                                                       0.038737   \n",
       "Pickup_Lat                                                                       -0.126048   \n",
       "Pickup_Long                                                                       0.171564   \n",
       "Destination_Lat                                                                  -0.024813   \n",
       "Destination_Long                                                                 -0.008272   \n",
       "No_Of_Orders                                                                      0.078538   \n",
       "Age                                                                               0.048505   \n",
       "Average_Rating                                                                   -0.041795   \n",
       "No_of_Ratings                                                                     0.014126   \n",
       "Pickup_Hour                                                                       0.019693   \n",
       "Time_from_Placement_to_Confirmation                                               0.009300   \n",
       "Time_from_Confirmation_to_Arrival_at_Pickup                                      -0.091335   \n",
       "Time_from_Arrival_at_Pickup_to_Pickup_-_Time                                      1.000000   \n",
       "Pickup_Minute                                                                    -0.001507   \n",
       "Pickup_Second                                                                    -0.006780   \n",
       "Performance                                                                      -0.008278   \n",
       "Pickup_Hour_sin                                                                  -0.020443   \n",
       "Pickup_Hour_cos                                                                  -0.004255   \n",
       "Pickup_Month_sin                                                                 -0.003900   \n",
       "Pickup_Month_cos                                                                  0.003084   \n",
       "Pickup_Day_sin                                                                   -0.005775   \n",
       "Pickup_Day_cos                                                                    0.001846   \n",
       "\n",
       "                                              Pickup_Minute  Pickup_Second  \\\n",
       "Platform_Type                                      0.004333      -0.002927   \n",
       "Placement_-_Day_of_Month                          -0.000030      -0.009279   \n",
       "Placement_-_Weekday_(Mo_=_1)                       0.001218       0.014577   \n",
       "Confirmation_-_Day_of_Month                       -0.000026      -0.009266   \n",
       "Confirmation_-_Weekday_(Mo_=_1)                    0.001242       0.014653   \n",
       "Arrival_at_Pickup_-_Day_of_Month                  -0.000026      -0.009266   \n",
       "Arrival_at_Pickup_-_Weekday_(Mo_=_1)               0.001242       0.014653   \n",
       "Pickup_Day_of_Month                               -0.000026      -0.009266   \n",
       "Pickup_Day_of_Weekday                              0.001242       0.014653   \n",
       "Distance_(KM)                                      0.010383       0.001350   \n",
       "Temperature                                        0.023328       0.002602   \n",
       "Pickup_Lat                                         0.004355       0.004408   \n",
       "Pickup_Long                                       -0.003802       0.005431   \n",
       "Destination_Lat                                    0.000872       0.003535   \n",
       "Destination_Long                                   0.000669      -0.003107   \n",
       "No_Of_Orders                                      -0.000346      -0.000834   \n",
       "Age                                                0.001326      -0.003190   \n",
       "Average_Rating                                    -0.008712       0.008416   \n",
       "No_of_Ratings                                      0.002792       0.001938   \n",
       "Pickup_Hour                                       -0.108206       0.000584   \n",
       "Time_from_Placement_to_Confirmation                0.003925      -0.000127   \n",
       "Time_from_Confirmation_to_Arrival_at_Pickup        0.003289       0.000860   \n",
       "Time_from_Arrival_at_Pickup_to_Pickup_-_Time      -0.001507      -0.006780   \n",
       "Pickup_Minute                                      1.000000       0.005456   \n",
       "Pickup_Second                                      0.005456       1.000000   \n",
       "Performance                                       -0.001711      -0.006583   \n",
       "Pickup_Hour_sin                                    0.101200      -0.000806   \n",
       "Pickup_Hour_cos                                   -0.051597       0.002482   \n",
       "Pickup_Month_sin                                  -0.001079       0.007573   \n",
       "Pickup_Month_cos                                   0.001487       0.005739   \n",
       "Pickup_Day_sin                                    -0.003325      -0.015872   \n",
       "Pickup_Day_cos                                     0.003435      -0.001498   \n",
       "\n",
       "                                              Performance  Pickup_Hour_sin  \\\n",
       "Platform_Type                                   -0.049527         0.010075   \n",
       "Placement_-_Day_of_Month                         0.001369        -0.007505   \n",
       "Placement_-_Weekday_(Mo_=_1)                     0.014019         0.017466   \n",
       "Confirmation_-_Day_of_Month                      0.001366        -0.007508   \n",
       "Confirmation_-_Weekday_(Mo_=_1)                  0.014003         0.017446   \n",
       "Arrival_at_Pickup_-_Day_of_Month                 0.001366        -0.007508   \n",
       "Arrival_at_Pickup_-_Weekday_(Mo_=_1)             0.014003         0.017446   \n",
       "Pickup_Day_of_Month                              0.001366        -0.007508   \n",
       "Pickup_Day_of_Weekday                            0.014003         0.017446   \n",
       "Distance_(KM)                                   -0.013971         0.034066   \n",
       "Temperature                                     -0.032736        -0.402230   \n",
       "Pickup_Lat                                      -0.003114        -0.039696   \n",
       "Pickup_Long                                     -0.004855         0.003231   \n",
       "Destination_Lat                                  0.002800        -0.015052   \n",
       "Destination_Long                                -0.002432        -0.003855   \n",
       "No_Of_Orders                                    -0.198379         0.009739   \n",
       "Age                                             -0.016658        -0.003920   \n",
       "Average_Rating                                  -0.292552         0.011507   \n",
       "No_of_Ratings                                   -0.155494        -0.001856   \n",
       "Pickup_Hour                                      0.007102        -0.982502   \n",
       "Time_from_Placement_to_Confirmation              0.010029        -0.105387   \n",
       "Time_from_Confirmation_to_Arrival_at_Pickup      0.050263        -0.037053   \n",
       "Time_from_Arrival_at_Pickup_to_Pickup_-_Time    -0.008278        -0.020443   \n",
       "Pickup_Minute                                   -0.001711         0.101200   \n",
       "Pickup_Second                                   -0.006583        -0.000806   \n",
       "Performance                                      1.000000        -0.006462   \n",
       "Pickup_Hour_sin                                 -0.006462         1.000000   \n",
       "Pickup_Hour_cos                                 -0.004748        -0.484914   \n",
       "Pickup_Month_sin                                -0.007854         0.008902   \n",
       "Pickup_Month_cos                                -0.009628        -0.003497   \n",
       "Pickup_Day_sin                                  -0.012538        -0.009575   \n",
       "Pickup_Day_cos                                   0.007781         0.013845   \n",
       "\n",
       "                                              Pickup_Hour_cos  \\\n",
       "Platform_Type                                       -0.087143   \n",
       "Placement_-_Day_of_Month                            -0.004736   \n",
       "Placement_-_Weekday_(Mo_=_1)                         0.019726   \n",
       "Confirmation_-_Day_of_Month                         -0.004744   \n",
       "Confirmation_-_Weekday_(Mo_=_1)                      0.019685   \n",
       "Arrival_at_Pickup_-_Day_of_Month                    -0.004744   \n",
       "Arrival_at_Pickup_-_Weekday_(Mo_=_1)                 0.019685   \n",
       "Pickup_Day_of_Month                                 -0.004744   \n",
       "Pickup_Day_of_Weekday                                0.019685   \n",
       "Distance_(KM)                                       -0.036656   \n",
       "Temperature                                         -0.040143   \n",
       "Pickup_Lat                                           0.029692   \n",
       "Pickup_Long                                         -0.039889   \n",
       "Destination_Lat                                      0.001858   \n",
       "Destination_Long                                    -0.038123   \n",
       "No_Of_Orders                                        -0.001210   \n",
       "Age                                                 -0.008739   \n",
       "Average_Rating                                       0.010259   \n",
       "No_of_Ratings                                        0.000579   \n",
       "Pickup_Hour                                          0.593409   \n",
       "Time_from_Placement_to_Confirmation                  0.063618   \n",
       "Time_from_Confirmation_to_Arrival_at_Pickup          0.041712   \n",
       "Time_from_Arrival_at_Pickup_to_Pickup_-_Time        -0.004255   \n",
       "Pickup_Minute                                       -0.051597   \n",
       "Pickup_Second                                        0.002482   \n",
       "Performance                                         -0.004748   \n",
       "Pickup_Hour_sin                                     -0.484914   \n",
       "Pickup_Hour_cos                                      1.000000   \n",
       "Pickup_Month_sin                                     0.006657   \n",
       "Pickup_Month_cos                                     0.012686   \n",
       "Pickup_Day_sin                                      -0.020534   \n",
       "Pickup_Day_cos                                      -0.015856   \n",
       "\n",
       "                                              Pickup_Month_sin  \\\n",
       "Platform_Type                                         0.000475   \n",
       "Placement_-_Day_of_Month                             -0.801744   \n",
       "Placement_-_Weekday_(Mo_=_1)                         -0.024962   \n",
       "Confirmation_-_Day_of_Month                          -0.801744   \n",
       "Confirmation_-_Weekday_(Mo_=_1)                      -0.024951   \n",
       "Arrival_at_Pickup_-_Day_of_Month                     -0.801744   \n",
       "Arrival_at_Pickup_-_Weekday_(Mo_=_1)                 -0.024951   \n",
       "Pickup_Day_of_Month                                  -0.801744   \n",
       "Pickup_Day_of_Weekday                                -0.024951   \n",
       "Distance_(KM)                                         0.009171   \n",
       "Temperature                                          -0.026472   \n",
       "Pickup_Lat                                            0.004694   \n",
       "Pickup_Long                                          -0.002092   \n",
       "Destination_Lat                                      -0.006134   \n",
       "Destination_Long                                     -0.001777   \n",
       "No_Of_Orders                                         -0.006563   \n",
       "Age                                                  -0.006756   \n",
       "Average_Rating                                       -0.004951   \n",
       "No_of_Ratings                                        -0.001813   \n",
       "Pickup_Hour                                          -0.007808   \n",
       "Time_from_Placement_to_Confirmation                   0.007567   \n",
       "Time_from_Confirmation_to_Arrival_at_Pickup           0.025775   \n",
       "Time_from_Arrival_at_Pickup_to_Pickup_-_Time         -0.003900   \n",
       "Pickup_Minute                                        -0.001079   \n",
       "Pickup_Second                                         0.007573   \n",
       "Performance                                          -0.007854   \n",
       "Pickup_Hour_sin                                       0.008902   \n",
       "Pickup_Hour_cos                                       0.006657   \n",
       "Pickup_Month_sin                                      1.000000   \n",
       "Pickup_Month_cos                                     -0.012177   \n",
       "Pickup_Day_sin                                        0.022474   \n",
       "Pickup_Day_cos                                        0.029141   \n",
       "\n",
       "                                              Pickup_Month_cos  \\\n",
       "Platform_Type                                        -0.002439   \n",
       "Placement_-_Day_of_Month                              0.082259   \n",
       "Placement_-_Weekday_(Mo_=_1)                          0.007010   \n",
       "Confirmation_-_Day_of_Month                           0.082245   \n",
       "Confirmation_-_Weekday_(Mo_=_1)                       0.006928   \n",
       "Arrival_at_Pickup_-_Day_of_Month                      0.082245   \n",
       "Arrival_at_Pickup_-_Weekday_(Mo_=_1)                  0.006928   \n",
       "Pickup_Day_of_Month                                   0.082245   \n",
       "Pickup_Day_of_Weekday                                 0.006928   \n",
       "Distance_(KM)                                        -0.000195   \n",
       "Temperature                                          -0.005054   \n",
       "Pickup_Lat                                           -0.015638   \n",
       "Pickup_Long                                           0.010683   \n",
       "Destination_Lat                                       0.001766   \n",
       "Destination_Long                                     -0.000229   \n",
       "No_Of_Orders                                         -0.003339   \n",
       "Age                                                   0.000345   \n",
       "Average_Rating                                        0.002065   \n",
       "No_of_Ratings                                        -0.002880   \n",
       "Pickup_Hour                                           0.004839   \n",
       "Time_from_Placement_to_Confirmation                   0.002779   \n",
       "Time_from_Confirmation_to_Arrival_at_Pickup           0.011568   \n",
       "Time_from_Arrival_at_Pickup_to_Pickup_-_Time          0.003084   \n",
       "Pickup_Minute                                         0.001487   \n",
       "Pickup_Second                                         0.005739   \n",
       "Performance                                          -0.009628   \n",
       "Pickup_Hour_sin                                      -0.003497   \n",
       "Pickup_Hour_cos                                       0.012686   \n",
       "Pickup_Month_sin                                     -0.012177   \n",
       "Pickup_Month_cos                                      1.000000   \n",
       "Pickup_Day_sin                                       -0.009267   \n",
       "Pickup_Day_cos                                        0.007408   \n",
       "\n",
       "                                              Pickup_Day_sin  Pickup_Day_cos  \n",
       "Platform_Type                                       0.038954       -0.053346  \n",
       "Placement_-_Day_of_Month                           -0.016598       -0.043380  \n",
       "Placement_-_Weekday_(Mo_=_1)                       -0.908539       -0.251422  \n",
       "Confirmation_-_Day_of_Month                        -0.016598       -0.043388  \n",
       "Confirmation_-_Weekday_(Mo_=_1)                    -0.908573       -0.251477  \n",
       "Arrival_at_Pickup_-_Day_of_Month                   -0.016598       -0.043388  \n",
       "Arrival_at_Pickup_-_Weekday_(Mo_=_1)               -0.908573       -0.251477  \n",
       "Pickup_Day_of_Month                                -0.016598       -0.043388  \n",
       "Pickup_Day_of_Weekday                              -0.908573       -0.251477  \n",
       "Distance_(KM)                                      -0.000579        0.016388  \n",
       "Temperature                                        -0.033430       -0.048328  \n",
       "Pickup_Lat                                         -0.001357       -0.009646  \n",
       "Pickup_Long                                        -0.009853        0.006125  \n",
       "Destination_Lat                                     0.004342        0.016826  \n",
       "Destination_Long                                    0.004599        0.000419  \n",
       "No_Of_Orders                                        0.021921       -0.007043  \n",
       "Age                                                 0.011626       -0.010066  \n",
       "Average_Rating                                      0.008659       -0.011240  \n",
       "No_of_Ratings                                       0.023324       -0.002961  \n",
       "Pickup_Hour                                         0.002534       -0.011362  \n",
       "Time_from_Placement_to_Confirmation                -0.007238       -0.003989  \n",
       "Time_from_Confirmation_to_Arrival_at_Pickup        -0.018113        0.009960  \n",
       "Time_from_Arrival_at_Pickup_to_Pickup_-_Time       -0.005775        0.001846  \n",
       "Pickup_Minute                                      -0.003325        0.003435  \n",
       "Pickup_Second                                      -0.015872       -0.001498  \n",
       "Performance                                        -0.012538        0.007781  \n",
       "Pickup_Hour_sin                                    -0.009575        0.013845  \n",
       "Pickup_Hour_cos                                    -0.020534       -0.015856  \n",
       "Pickup_Month_sin                                    0.022474        0.029141  \n",
       "Pickup_Month_cos                                   -0.009267        0.007408  \n",
       "Pickup_Day_sin                                      1.000000        0.199017  \n",
       "Pickup_Day_cos                                      0.199017        1.000000  \n",
       "\n",
       "[32 rows x 32 columns]"
      ]
     },
     "execution_count": 77,
     "metadata": {},
     "output_type": "execute_result"
    }
   ],
   "source": [
    "df.corr()\n"
   ]
  },
  {
   "cell_type": "markdown",
   "metadata": {
    "id": "yhPu3cKn9zJk"
   },
   "source": [
    "## 4.5 Dropping co-linear and unwanted variables"
   ]
  },
  {
   "cell_type": "code",
   "execution_count": 201,
   "metadata": {
    "id": "DoDjglp9DG6t"
   },
   "outputs": [],
   "source": [
    "df = df.drop(['Placement_-_Day_of_Month', 'Placement_-_Weekday_(Mo_=_1)',\n",
    "              'Placement_-_Time', 'Confirmation_-_Day_of_Month',\n",
    "              'Confirmation_-_Weekday_(Mo_=_1)', 'Confirmation_-_Time',\n",
    "              'Arrival_at_Pickup_-_Day_of_Month',\n",
    "              'Arrival_at_Pickup_-_Weekday_(Mo_=_1)',\n",
    "              'Arrival_at_Pickup_-_Time', 'Pickup_Day_of_Month',\n",
    "              'Pickup_Day_of_Weekday', 'Pickup_-_Time'], axis=1)\n"
   ]
  },
  {
   "cell_type": "code",
   "execution_count": 202,
   "metadata": {
    "colab": {
     "base_uri": "https://localhost:8080/",
     "height": 231
    },
    "id": "ctge0Vn6DG6v",
    "outputId": "d89c1492-1e32-4143-bce0-643caa5ee1b6",
    "scrolled": true
   },
   "outputs": [
    {
     "data": {
      "text/plain": [
       "Index(['Platform_Type', 'Personal_or_Business', 'Distance_(KM)', 'Temperature',\n",
       "       'Pickup_Lat', 'Pickup_Long', 'Destination_Lat', 'Destination_Long',\n",
       "       'No_Of_Orders', 'Age', 'Average_Rating', 'No_of_Ratings',\n",
       "       'Time_from_Placement_to_Confirmation',\n",
       "       'Time_from_Confirmation_to_Arrival_at_Pickup',\n",
       "       'Time_from_Arrival_at_Pickup_to_Pickup_-_Time', 'Performance',\n",
       "       'Pickup_Hour_sin', 'Pickup_Hour_cos', 'Pickup_Month_sin',\n",
       "       'Pickup_Month_cos', 'Pickup_Day_sin', 'Pickup_Day_cos'],\n",
       "      dtype='object')"
      ]
     },
     "execution_count": 202,
     "metadata": {},
     "output_type": "execute_result"
    }
   ],
   "source": [
    "df_final = df.drop(['Pickup_Hour', 'Pickup_Minute', 'Pickup_Second',\n",
    "                    'Rider_Id', 'Order_No', 'User_Id', 'Vehicle_Type'], axis=1)\n",
    "df_final.columns\n"
   ]
  },
  {
   "cell_type": "markdown",
   "metadata": {
    "id": "7MCghprzDG63"
   },
   "source": [
    "## 4.6 Dummying out the last categorical column\n",
    "\n",
    "Below we make use of pd.get_dummies() in our df_final dataframe to convert categorical variables into dummy/indicator variables. A dummy variable (aka, an indicator variable) is a numeric variable that represents categorical data. It takes only the value 0 or 1 to indicate the absence or presence of some categorical data."
   ]
  },
  {
   "cell_type": "code",
   "execution_count": 203,
   "metadata": {
    "colab": {
     "base_uri": "https://localhost:8080/",
     "height": 231
    },
    "id": "ZeNcmGOzDG64",
    "outputId": "1a4df8cd-cf7e-4318-d568-c1ac6a21232b"
   },
   "outputs": [
    {
     "data": {
      "text/html": [
       "<div>\n",
       "<style scoped>\n",
       "    .dataframe tbody tr th:only-of-type {\n",
       "        vertical-align: middle;\n",
       "    }\n",
       "\n",
       "    .dataframe tbody tr th {\n",
       "        vertical-align: top;\n",
       "    }\n",
       "\n",
       "    .dataframe thead th {\n",
       "        text-align: right;\n",
       "    }\n",
       "</style>\n",
       "<table border=\"1\" class=\"dataframe\">\n",
       "  <thead>\n",
       "    <tr style=\"text-align: right;\">\n",
       "      <th></th>\n",
       "      <th>Platform_Type</th>\n",
       "      <th>Distance_(KM)</th>\n",
       "      <th>Temperature</th>\n",
       "      <th>Pickup_Lat</th>\n",
       "      <th>Pickup_Long</th>\n",
       "      <th>Destination_Lat</th>\n",
       "      <th>Destination_Long</th>\n",
       "      <th>No_Of_Orders</th>\n",
       "      <th>Age</th>\n",
       "      <th>Average_Rating</th>\n",
       "      <th>...</th>\n",
       "      <th>Time_from_Confirmation_to_Arrival_at_Pickup</th>\n",
       "      <th>Time_from_Arrival_at_Pickup_to_Pickup_-_Time</th>\n",
       "      <th>Performance</th>\n",
       "      <th>Pickup_Hour_sin</th>\n",
       "      <th>Pickup_Hour_cos</th>\n",
       "      <th>Pickup_Month_sin</th>\n",
       "      <th>Pickup_Month_cos</th>\n",
       "      <th>Pickup_Day_sin</th>\n",
       "      <th>Pickup_Day_cos</th>\n",
       "      <th>Personal_or_Business_Personal</th>\n",
       "    </tr>\n",
       "  </thead>\n",
       "  <tbody>\n",
       "    <tr>\n",
       "      <th>0</th>\n",
       "      <td>3</td>\n",
       "      <td>4</td>\n",
       "      <td>20.400000</td>\n",
       "      <td>-1.317755</td>\n",
       "      <td>36.830370</td>\n",
       "      <td>-1.300406</td>\n",
       "      <td>36.829741</td>\n",
       "      <td>1637</td>\n",
       "      <td>1309</td>\n",
       "      <td>13.8</td>\n",
       "      <td>...</td>\n",
       "      <td>1477</td>\n",
       "      <td>1363</td>\n",
       "      <td>0.799633</td>\n",
       "      <td>5.000000e-01</td>\n",
       "      <td>-0.866025</td>\n",
       "      <td>0.968077</td>\n",
       "      <td>-0.250653</td>\n",
       "      <td>-0.974928</td>\n",
       "      <td>-0.222521</td>\n",
       "      <td>0</td>\n",
       "    </tr>\n",
       "    <tr>\n",
       "      <th>1</th>\n",
       "      <td>3</td>\n",
       "      <td>16</td>\n",
       "      <td>26.400000</td>\n",
       "      <td>-1.351453</td>\n",
       "      <td>36.899315</td>\n",
       "      <td>-1.295004</td>\n",
       "      <td>36.814358</td>\n",
       "      <td>396</td>\n",
       "      <td>339</td>\n",
       "      <td>13.6</td>\n",
       "      <td>...</td>\n",
       "      <td>1021</td>\n",
       "      <td>227</td>\n",
       "      <td>0.856061</td>\n",
       "      <td>2.588190e-01</td>\n",
       "      <td>-0.965926</td>\n",
       "      <td>0.651372</td>\n",
       "      <td>-0.758758</td>\n",
       "      <td>-0.974928</td>\n",
       "      <td>-0.222521</td>\n",
       "      <td>1</td>\n",
       "    </tr>\n",
       "    <tr>\n",
       "      <th>2</th>\n",
       "      <td>3</td>\n",
       "      <td>3</td>\n",
       "      <td>23.255689</td>\n",
       "      <td>-1.308284</td>\n",
       "      <td>36.843419</td>\n",
       "      <td>-1.300921</td>\n",
       "      <td>36.828195</td>\n",
       "      <td>1023</td>\n",
       "      <td>242</td>\n",
       "      <td>12.5</td>\n",
       "      <td>...</td>\n",
       "      <td>410</td>\n",
       "      <td>209</td>\n",
       "      <td>0.236559</td>\n",
       "      <td>1.224647e-16</td>\n",
       "      <td>-1.000000</td>\n",
       "      <td>-0.201299</td>\n",
       "      <td>0.979530</td>\n",
       "      <td>0.974928</td>\n",
       "      <td>-0.222521</td>\n",
       "      <td>0</td>\n",
       "    </tr>\n",
       "    <tr>\n",
       "      <th>3</th>\n",
       "      <td>3</td>\n",
       "      <td>9</td>\n",
       "      <td>19.200000</td>\n",
       "      <td>-1.281301</td>\n",
       "      <td>36.832396</td>\n",
       "      <td>-1.257147</td>\n",
       "      <td>36.795063</td>\n",
       "      <td>886</td>\n",
       "      <td>283</td>\n",
       "      <td>14.5</td>\n",
       "      <td>...</td>\n",
       "      <td>711</td>\n",
       "      <td>310</td>\n",
       "      <td>0.319413</td>\n",
       "      <td>7.071068e-01</td>\n",
       "      <td>-0.707107</td>\n",
       "      <td>0.101168</td>\n",
       "      <td>-0.994869</td>\n",
       "      <td>-0.974928</td>\n",
       "      <td>-0.222521</td>\n",
       "      <td>0</td>\n",
       "    </tr>\n",
       "    <tr>\n",
       "      <th>4</th>\n",
       "      <td>1</td>\n",
       "      <td>9</td>\n",
       "      <td>15.400000</td>\n",
       "      <td>-1.266597</td>\n",
       "      <td>36.792118</td>\n",
       "      <td>-1.295041</td>\n",
       "      <td>36.809817</td>\n",
       "      <td>2311</td>\n",
       "      <td>872</td>\n",
       "      <td>14.1</td>\n",
       "      <td>...</td>\n",
       "      <td>455</td>\n",
       "      <td>90</td>\n",
       "      <td>0.377326</td>\n",
       "      <td>5.000000e-01</td>\n",
       "      <td>-0.866025</td>\n",
       "      <td>0.485302</td>\n",
       "      <td>-0.874347</td>\n",
       "      <td>0.781831</td>\n",
       "      <td>0.623490</td>\n",
       "      <td>1</td>\n",
       "    </tr>\n",
       "  </tbody>\n",
       "</table>\n",
       "<p>5 rows × 22 columns</p>\n",
       "</div>"
      ],
      "text/plain": [
       "   Platform_Type  Distance_(KM)  Temperature  Pickup_Lat  Pickup_Long  \\\n",
       "0              3              4    20.400000   -1.317755    36.830370   \n",
       "1              3             16    26.400000   -1.351453    36.899315   \n",
       "2              3              3    23.255689   -1.308284    36.843419   \n",
       "3              3              9    19.200000   -1.281301    36.832396   \n",
       "4              1              9    15.400000   -1.266597    36.792118   \n",
       "\n",
       "   Destination_Lat  Destination_Long  No_Of_Orders   Age  Average_Rating  ...  \\\n",
       "0        -1.300406         36.829741          1637  1309            13.8  ...   \n",
       "1        -1.295004         36.814358           396   339            13.6  ...   \n",
       "2        -1.300921         36.828195          1023   242            12.5  ...   \n",
       "3        -1.257147         36.795063           886   283            14.5  ...   \n",
       "4        -1.295041         36.809817          2311   872            14.1  ...   \n",
       "\n",
       "   Time_from_Confirmation_to_Arrival_at_Pickup  \\\n",
       "0                                         1477   \n",
       "1                                         1021   \n",
       "2                                          410   \n",
       "3                                          711   \n",
       "4                                          455   \n",
       "\n",
       "   Time_from_Arrival_at_Pickup_to_Pickup_-_Time  Performance  Pickup_Hour_sin  \\\n",
       "0                                          1363     0.799633     5.000000e-01   \n",
       "1                                           227     0.856061     2.588190e-01   \n",
       "2                                           209     0.236559     1.224647e-16   \n",
       "3                                           310     0.319413     7.071068e-01   \n",
       "4                                            90     0.377326     5.000000e-01   \n",
       "\n",
       "   Pickup_Hour_cos  Pickup_Month_sin  Pickup_Month_cos  Pickup_Day_sin  \\\n",
       "0        -0.866025          0.968077         -0.250653       -0.974928   \n",
       "1        -0.965926          0.651372         -0.758758       -0.974928   \n",
       "2        -1.000000         -0.201299          0.979530        0.974928   \n",
       "3        -0.707107          0.101168         -0.994869       -0.974928   \n",
       "4        -0.866025          0.485302         -0.874347        0.781831   \n",
       "\n",
       "   Pickup_Day_cos  Personal_or_Business_Personal  \n",
       "0       -0.222521                              0  \n",
       "1       -0.222521                              1  \n",
       "2       -0.222521                              0  \n",
       "3       -0.222521                              0  \n",
       "4        0.623490                              1  \n",
       "\n",
       "[5 rows x 22 columns]"
      ]
     },
     "execution_count": 203,
     "metadata": {},
     "output_type": "execute_result"
    }
   ],
   "source": [
    "df_final = pd.get_dummies(df_final, drop_first=True)\n",
    "df_final.head()\n"
   ]
  },
  {
   "cell_type": "code",
   "execution_count": 81,
   "metadata": {
    "id": "ni_icnR49zJp",
    "outputId": "201c6612-0a17-4a15-92e5-fc0af2aaf120"
   },
   "outputs": [
    {
     "data": {
      "text/plain": [
       "Index(['Platform_Type', 'Distance_(KM)', 'Temperature', 'Pickup_Lat',\n",
       "       'Pickup_Long', 'Destination_Lat', 'Destination_Long', 'No_Of_Orders',\n",
       "       'Age', 'Average_Rating', 'No_of_Ratings',\n",
       "       'Time_from_Placement_to_Confirmation',\n",
       "       'Time_from_Confirmation_to_Arrival_at_Pickup',\n",
       "       'Time_from_Arrival_at_Pickup_to_Pickup_-_Time', 'Performance',\n",
       "       'Pickup_Hour_sin', 'Pickup_Hour_cos', 'Pickup_Month_sin',\n",
       "       'Pickup_Month_cos', 'Pickup_Day_sin', 'Pickup_Day_cos',\n",
       "       'Personal_or_Business_Personal', 'Day_of_Week_Monday',\n",
       "       'Day_of_Week_Saturday', 'Day_of_Week_Sunday', 'Day_of_Week_Thursday',\n",
       "       'Day_of_Week_Tuesday', 'Day_of_Week_Wednesday', 'Week_Week 2',\n",
       "       'Week_Week 3', 'Week_Week 4', 'Week_Week 5',\n",
       "       'Period_of_the_Day_Evening', 'Period_of_the_Day_Midnight',\n",
       "       'Period_of_the_Day_Morning', 'Period_of_the_Day_Night'],\n",
       "      dtype='object')"
      ]
     },
     "execution_count": 81,
     "metadata": {},
     "output_type": "execute_result"
    }
   ],
   "source": [
    "df_final.columns\n"
   ]
  },
  {
   "cell_type": "markdown",
   "metadata": {
    "id": "J3wyG1PX9zJq"
   },
   "source": [
    "## 4.6.1 Scaling of dataset\n",
    "\n",
    "Feature scaling is a method that is used to normalize the range of independent variables/features of data. StandardScaler() transforms our dataframe such that its distribution will have a mean value of 0 and standard deviation of 1.\n",
    "Below we scale the df_final dataframe to normalise the range of independent variables of the dataframe."
   ]
  },
  {
   "cell_type": "code",
   "execution_count": 204,
   "metadata": {
    "id": "4RZMl-gr9zJr"
   },
   "outputs": [],
   "source": [
    "scaler = StandardScaler()\n",
    "\n",
    "x_scaled = scaler.fit_transform(df_final)\n",
    "\n",
    "df_final = pd.DataFrame(x_scaled, columns=df_final.columns)\n"
   ]
  },
  {
   "cell_type": "markdown",
   "metadata": {
    "id": "v2S3JpVFDG66"
   },
   "source": [
    "## 4.7 Splitting our dataset again into Train and Validation Test\n",
    "\n",
    "Here we aim to split the dataset into our train and validation test once more, after successfully scaling it."
   ]
  },
  {
   "cell_type": "code",
   "execution_count": 209,
   "metadata": {
    "id": "eKnQ2B0MDG66"
   },
   "outputs": [],
   "source": [
    "finaltrain = df_final[:len(train_df)]\n",
    "finaltest = df_final[len(train_df):]\n",
    "y = y_target"
   ]
  },
  {
   "cell_type": "code",
   "execution_count": 84,
   "metadata": {
    "colab": {
     "base_uri": "https://localhost:8080/",
     "height": 355
    },
    "id": "5y9cCxg2cZpq",
    "outputId": "1c2a8ab7-c869-4830-efe8-7e4246d66eaa"
   },
   "outputs": [
    {
     "name": "stdout",
     "output_type": "stream",
     "text": [
      "<class 'pandas.core.frame.DataFrame'>\n",
      "RangeIndex: 21201 entries, 0 to 21200\n",
      "Data columns (total 36 columns):\n",
      " #   Column                                        Non-Null Count  Dtype  \n",
      "---  ------                                        --------------  -----  \n",
      " 0   Platform_Type                                 21201 non-null  float64\n",
      " 1   Distance_(KM)                                 21201 non-null  float64\n",
      " 2   Temperature                                   21201 non-null  float64\n",
      " 3   Pickup_Lat                                    21201 non-null  float64\n",
      " 4   Pickup_Long                                   21201 non-null  float64\n",
      " 5   Destination_Lat                               21201 non-null  float64\n",
      " 6   Destination_Long                              21201 non-null  float64\n",
      " 7   No_Of_Orders                                  21201 non-null  float64\n",
      " 8   Age                                           21201 non-null  float64\n",
      " 9   Average_Rating                                21201 non-null  float64\n",
      " 10  No_of_Ratings                                 21201 non-null  float64\n",
      " 11  Time_from_Placement_to_Confirmation           21201 non-null  float64\n",
      " 12  Time_from_Confirmation_to_Arrival_at_Pickup   21201 non-null  float64\n",
      " 13  Time_from_Arrival_at_Pickup_to_Pickup_-_Time  21201 non-null  float64\n",
      " 14  Performance                                   21201 non-null  float64\n",
      " 15  Pickup_Hour_sin                               21201 non-null  float64\n",
      " 16  Pickup_Hour_cos                               21201 non-null  float64\n",
      " 17  Pickup_Month_sin                              21201 non-null  float64\n",
      " 18  Pickup_Month_cos                              21201 non-null  float64\n",
      " 19  Pickup_Day_sin                                21201 non-null  float64\n",
      " 20  Pickup_Day_cos                                21201 non-null  float64\n",
      " 21  Personal_or_Business_Personal                 21201 non-null  float64\n",
      " 22  Day_of_Week_Monday                            21201 non-null  float64\n",
      " 23  Day_of_Week_Saturday                          21201 non-null  float64\n",
      " 24  Day_of_Week_Sunday                            21201 non-null  float64\n",
      " 25  Day_of_Week_Thursday                          21201 non-null  float64\n",
      " 26  Day_of_Week_Tuesday                           21201 non-null  float64\n",
      " 27  Day_of_Week_Wednesday                         21201 non-null  float64\n",
      " 28  Week_Week 2                                   21201 non-null  float64\n",
      " 29  Week_Week 3                                   21201 non-null  float64\n",
      " 30  Week_Week 4                                   21201 non-null  float64\n",
      " 31  Week_Week 5                                   21201 non-null  float64\n",
      " 32  Period_of_the_Day_Evening                     21201 non-null  float64\n",
      " 33  Period_of_the_Day_Midnight                    21201 non-null  float64\n",
      " 34  Period_of_the_Day_Morning                     21201 non-null  float64\n",
      " 35  Period_of_the_Day_Night                       21201 non-null  float64\n",
      "dtypes: float64(36)\n",
      "memory usage: 5.8 MB\n"
     ]
    }
   ],
   "source": [
    "finaltrain.info()\n"
   ]
  },
  {
   "cell_type": "markdown",
   "metadata": {
    "id": "T5cb2ZksDG6_"
   },
   "source": [
    "### Train and Test Split - Using test here as validation"
   ]
  },
  {
   "cell_type": "code",
   "execution_count": 210,
   "metadata": {
    "id": "WnNCuQu_DG6_"
   },
   "outputs": [],
   "source": [
    "x_train, x_val, y_train, y_val = train_test_split(finaltrain, y, test_size=0.3)\n"
   ]
  },
  {
   "cell_type": "code",
   "execution_count": 211,
   "metadata": {
    "colab": {
     "base_uri": "https://localhost:8080/",
     "height": 231
    },
    "id": "lF92gp3wDG7C",
    "outputId": "cac12b8a-7c85-4874-feee-cd7aad5341ef"
   },
   "outputs": [
    {
     "data": {
      "text/html": [
       "<div>\n",
       "<style scoped>\n",
       "    .dataframe tbody tr th:only-of-type {\n",
       "        vertical-align: middle;\n",
       "    }\n",
       "\n",
       "    .dataframe tbody tr th {\n",
       "        vertical-align: top;\n",
       "    }\n",
       "\n",
       "    .dataframe thead th {\n",
       "        text-align: right;\n",
       "    }\n",
       "</style>\n",
       "<table border=\"1\" class=\"dataframe\">\n",
       "  <thead>\n",
       "    <tr style=\"text-align: right;\">\n",
       "      <th></th>\n",
       "      <th>Platform_Type</th>\n",
       "      <th>Distance_(KM)</th>\n",
       "      <th>Temperature</th>\n",
       "      <th>Pickup_Lat</th>\n",
       "      <th>Pickup_Long</th>\n",
       "      <th>Destination_Lat</th>\n",
       "      <th>Destination_Long</th>\n",
       "      <th>No_Of_Orders</th>\n",
       "      <th>Age</th>\n",
       "      <th>Average_Rating</th>\n",
       "      <th>...</th>\n",
       "      <th>Time_from_Confirmation_to_Arrival_at_Pickup</th>\n",
       "      <th>Time_from_Arrival_at_Pickup_to_Pickup_-_Time</th>\n",
       "      <th>Performance</th>\n",
       "      <th>Pickup_Hour_sin</th>\n",
       "      <th>Pickup_Hour_cos</th>\n",
       "      <th>Pickup_Month_sin</th>\n",
       "      <th>Pickup_Month_cos</th>\n",
       "      <th>Pickup_Day_sin</th>\n",
       "      <th>Pickup_Day_cos</th>\n",
       "      <th>Personal_or_Business_Personal</th>\n",
       "    </tr>\n",
       "  </thead>\n",
       "  <tbody>\n",
       "    <tr>\n",
       "      <th>15231</th>\n",
       "      <td>0.396621</td>\n",
       "      <td>-0.973256</td>\n",
       "      <td>1.443349e+00</td>\n",
       "      <td>-1.355205</td>\n",
       "      <td>0.516274</td>\n",
       "      <td>-0.516395</td>\n",
       "      <td>0.416364</td>\n",
       "      <td>0.648212</td>\n",
       "      <td>0.567788</td>\n",
       "      <td>0.352922</td>\n",
       "      <td>...</td>\n",
       "      <td>0.042004</td>\n",
       "      <td>-0.233682</td>\n",
       "      <td>-0.208185</td>\n",
       "      <td>-0.157040</td>\n",
       "      <td>-0.750920</td>\n",
       "      <td>-0.860949</td>\n",
       "      <td>1.199058</td>\n",
       "      <td>-0.687765</td>\n",
       "      <td>-1.062780</td>\n",
       "      <td>-0.469452</td>\n",
       "    </tr>\n",
       "    <tr>\n",
       "      <th>15997</th>\n",
       "      <td>0.396621</td>\n",
       "      <td>-0.619000</td>\n",
       "      <td>9.771824e-01</td>\n",
       "      <td>1.013099</td>\n",
       "      <td>-0.577439</td>\n",
       "      <td>0.318441</td>\n",
       "      <td>0.374157</td>\n",
       "      <td>0.386263</td>\n",
       "      <td>0.143680</td>\n",
       "      <td>0.241701</td>\n",
       "      <td>...</td>\n",
       "      <td>-0.262162</td>\n",
       "      <td>-0.252170</td>\n",
       "      <td>-0.216383</td>\n",
       "      <td>-0.157040</td>\n",
       "      <td>-0.750920</td>\n",
       "      <td>-1.416787</td>\n",
       "      <td>-0.334375</td>\n",
       "      <td>0.928112</td>\n",
       "      <td>1.493815</td>\n",
       "      <td>-0.469452</td>\n",
       "    </tr>\n",
       "    <tr>\n",
       "      <th>16124</th>\n",
       "      <td>0.396621</td>\n",
       "      <td>-0.796128</td>\n",
       "      <td>3.091493e-14</td>\n",
       "      <td>0.585499</td>\n",
       "      <td>-0.484887</td>\n",
       "      <td>0.605438</td>\n",
       "      <td>0.009586</td>\n",
       "      <td>-0.133856</td>\n",
       "      <td>-0.817835</td>\n",
       "      <td>0.352922</td>\n",
       "      <td>...</td>\n",
       "      <td>-1.075697</td>\n",
       "      <td>-0.150489</td>\n",
       "      <td>-0.260523</td>\n",
       "      <td>1.219581</td>\n",
       "      <td>-0.355133</td>\n",
       "      <td>-1.249489</td>\n",
       "      <td>0.781429</td>\n",
       "      <td>-1.406898</td>\n",
       "      <td>0.075012</td>\n",
       "      <td>-0.469452</td>\n",
       "    </tr>\n",
       "    <tr>\n",
       "      <th>13593</th>\n",
       "      <td>0.396621</td>\n",
       "      <td>-0.441871</td>\n",
       "      <td>6.042489e-01</td>\n",
       "      <td>0.763315</td>\n",
       "      <td>-0.171155</td>\n",
       "      <td>1.648872</td>\n",
       "      <td>-0.060708</td>\n",
       "      <td>-0.762911</td>\n",
       "      <td>-0.655541</td>\n",
       "      <td>-0.203183</td>\n",
       "      <td>...</td>\n",
       "      <td>-1.107714</td>\n",
       "      <td>-0.303670</td>\n",
       "      <td>-0.031127</td>\n",
       "      <td>-0.594582</td>\n",
       "      <td>-0.355133</td>\n",
       "      <td>-0.860949</td>\n",
       "      <td>1.199058</td>\n",
       "      <td>-1.406898</td>\n",
       "      <td>0.075012</td>\n",
       "      <td>-0.469452</td>\n",
       "    </tr>\n",
       "    <tr>\n",
       "      <th>19511</th>\n",
       "      <td>0.396621</td>\n",
       "      <td>0.975155</td>\n",
       "      <td>-5.456291e-01</td>\n",
       "      <td>-1.601958</td>\n",
       "      <td>1.584258</td>\n",
       "      <td>-0.887385</td>\n",
       "      <td>2.284117</td>\n",
       "      <td>1.301194</td>\n",
       "      <td>2.098862</td>\n",
       "      <td>-0.314404</td>\n",
       "      <td>...</td>\n",
       "      <td>2.497162</td>\n",
       "      <td>2.218533</td>\n",
       "      <td>-0.173304</td>\n",
       "      <td>0.312499</td>\n",
       "      <td>-0.885916</td>\n",
       "      <td>-0.613135</td>\n",
       "      <td>1.339596</td>\n",
       "      <td>-0.687765</td>\n",
       "      <td>-1.062780</td>\n",
       "      <td>-0.469452</td>\n",
       "    </tr>\n",
       "  </tbody>\n",
       "</table>\n",
       "<p>5 rows × 22 columns</p>\n",
       "</div>"
      ],
      "text/plain": [
       "       Platform_Type  Distance_(KM)   Temperature  Pickup_Lat  Pickup_Long  \\\n",
       "15231       0.396621      -0.973256  1.443349e+00   -1.355205     0.516274   \n",
       "15997       0.396621      -0.619000  9.771824e-01    1.013099    -0.577439   \n",
       "16124       0.396621      -0.796128  3.091493e-14    0.585499    -0.484887   \n",
       "13593       0.396621      -0.441871  6.042489e-01    0.763315    -0.171155   \n",
       "19511       0.396621       0.975155 -5.456291e-01   -1.601958     1.584258   \n",
       "\n",
       "       Destination_Lat  Destination_Long  No_Of_Orders       Age  \\\n",
       "15231        -0.516395          0.416364      0.648212  0.567788   \n",
       "15997         0.318441          0.374157      0.386263  0.143680   \n",
       "16124         0.605438          0.009586     -0.133856 -0.817835   \n",
       "13593         1.648872         -0.060708     -0.762911 -0.655541   \n",
       "19511        -0.887385          2.284117      1.301194  2.098862   \n",
       "\n",
       "       Average_Rating  ...  Time_from_Confirmation_to_Arrival_at_Pickup  \\\n",
       "15231        0.352922  ...                                     0.042004   \n",
       "15997        0.241701  ...                                    -0.262162   \n",
       "16124        0.352922  ...                                    -1.075697   \n",
       "13593       -0.203183  ...                                    -1.107714   \n",
       "19511       -0.314404  ...                                     2.497162   \n",
       "\n",
       "       Time_from_Arrival_at_Pickup_to_Pickup_-_Time  Performance  \\\n",
       "15231                                     -0.233682    -0.208185   \n",
       "15997                                     -0.252170    -0.216383   \n",
       "16124                                     -0.150489    -0.260523   \n",
       "13593                                     -0.303670    -0.031127   \n",
       "19511                                      2.218533    -0.173304   \n",
       "\n",
       "       Pickup_Hour_sin  Pickup_Hour_cos  Pickup_Month_sin  Pickup_Month_cos  \\\n",
       "15231        -0.157040        -0.750920         -0.860949          1.199058   \n",
       "15997        -0.157040        -0.750920         -1.416787         -0.334375   \n",
       "16124         1.219581        -0.355133         -1.249489          0.781429   \n",
       "13593        -0.594582        -0.355133         -0.860949          1.199058   \n",
       "19511         0.312499        -0.885916         -0.613135          1.339596   \n",
       "\n",
       "       Pickup_Day_sin  Pickup_Day_cos  Personal_or_Business_Personal  \n",
       "15231       -0.687765       -1.062780                      -0.469452  \n",
       "15997        0.928112        1.493815                      -0.469452  \n",
       "16124       -1.406898        0.075012                      -0.469452  \n",
       "13593       -1.406898        0.075012                      -0.469452  \n",
       "19511       -0.687765       -1.062780                      -0.469452  \n",
       "\n",
       "[5 rows x 22 columns]"
      ]
     },
     "execution_count": 211,
     "metadata": {},
     "output_type": "execute_result"
    }
   ],
   "source": [
    "x_train.head()\n"
   ]
  },
  {
   "cell_type": "code",
   "execution_count": 87,
   "metadata": {
    "id": "u13lOb039zJz",
    "outputId": "0e31af50-bf92-4868-f0b3-b32dfc23fa0a"
   },
   "outputs": [
    {
     "data": {
      "text/plain": [
       "Index(['Platform_Type', 'Distance_(KM)', 'Temperature', 'Pickup_Lat',\n",
       "       'Pickup_Long', 'Destination_Lat', 'Destination_Long', 'No_Of_Orders',\n",
       "       'Age', 'Average_Rating', 'No_of_Ratings',\n",
       "       'Time_from_Placement_to_Confirmation',\n",
       "       'Time_from_Confirmation_to_Arrival_at_Pickup',\n",
       "       'Time_from_Arrival_at_Pickup_to_Pickup_-_Time', 'Performance',\n",
       "       'Pickup_Hour_sin', 'Pickup_Hour_cos', 'Pickup_Month_sin',\n",
       "       'Pickup_Month_cos', 'Pickup_Day_sin', 'Pickup_Day_cos',\n",
       "       'Personal_or_Business_Personal', 'Day_of_Week_Monday',\n",
       "       'Day_of_Week_Saturday', 'Day_of_Week_Sunday', 'Day_of_Week_Thursday',\n",
       "       'Day_of_Week_Tuesday', 'Day_of_Week_Wednesday', 'Week_Week 2',\n",
       "       'Week_Week 3', 'Week_Week 4', 'Week_Week 5',\n",
       "       'Period_of_the_Day_Evening', 'Period_of_the_Day_Midnight',\n",
       "       'Period_of_the_Day_Morning', 'Period_of_the_Day_Night'],\n",
       "      dtype='object')"
      ]
     },
     "execution_count": 87,
     "metadata": {},
     "output_type": "execute_result"
    }
   ],
   "source": [
    "x_train.columns\n"
   ]
  },
  {
   "cell_type": "markdown",
   "metadata": {
    "id": "D28AlaR_9zJ0"
   },
   "source": [
    "# 5. Model Fitting"
   ]
  },
  {
   "cell_type": "markdown",
   "metadata": {
    "id": "92rJWpW09zJ1"
   },
   "source": [
    "## 5.1 Linear Regression\n",
    "\n",
    "Linear regression attempts to model the relationship between two variables by fitting a linear equation to observed data. One variable is considered to be an explanatory variable, and the other is considered to be a dependent variable.\n",
    "\n",
    "A linear regression line has an equation of the form Y = a + bX, where X is the explanatory variable and Y is the dependent variable. The slope of the line is b, and a is the intercept (the value of y when x = 0)\n",
    "\n",
    "\n",
    "<div align=\"center\" style=\"width: 600px; font-size: 80%; text-align: center; margin: 0 auto\">\n",
    "<img src=\"https://upload.wikimedia.org/wikipedia/commons/thumb/3/3a/Linear_regression.svg/220px-Linear_regression.svg.png\"\n",
    "     style=\"float: center; padding-bottom=0.5em\"\n",
    "     width=600px/>\n",
    "\n",
    "</div>"
   ]
  },
  {
   "cell_type": "code",
   "execution_count": 212,
   "metadata": {
    "id": "cn5tBDV2DG7Q"
   },
   "outputs": [],
   "source": [
    "lr = LinearRegression()\n",
    "lr.fit(x_train, y_train)\n",
    "val_preds = lr.predict(x_val)\n"
   ]
  },
  {
   "cell_type": "markdown",
   "metadata": {
    "id": "1gWD1-KxDG7S"
   },
   "source": [
    "## 5.2 Lasso Regression\n",
    "\n",
    "The LASSO (Least Absolute Shrinkage and Selection Operator) is a type of linear regression method that uses shrinkage.  Shrinkage is where data values are shrunk towards a central point, like the mean.\n",
    "The lasso procedure encourages models with fewer parameters.\n",
    "\n",
    "<div align=\"center\" style=\"width: 600px; font-size: 80%; text-align: center; margin: 0 auto\">\n",
    "<img src=\"https://miro.medium.com/max/411/1*Yu3iBnyHL7skNiidHxmEGQ.png\"\n",
    "     style=\"float: center; padding-bottom=0.5em\"\n",
    "     width=600px/>\n",
    "\n",
    "</div>"
   ]
  },
  {
   "cell_type": "code",
   "execution_count": 213,
   "metadata": {
    "id": "zJik8bzl9zJ2"
   },
   "outputs": [],
   "source": [
    "# create LASSO model object, setting alpha to 0.01\n",
    "lasso = Lasso(alpha=0.8)\n",
    "\n",
    "# train the LASSO model\n",
    "lasso.fit(x_train, y_train)\n",
    "\n",
    "# make training set predictions for each model\n",
    "train_lasso = lasso.predict(x_val)\n"
   ]
  },
  {
   "cell_type": "markdown",
   "metadata": {
    "id": "3IyxCpDW9zJ4"
   },
   "source": [
    "## 5.3 Ridge Regression\n",
    "\n",
    "Ridge Regression is a technique that is used for analyzing multiple regression data that suffer from multicollinearity.\n",
    "Multicollinearity occurs when predictor variables exhibit a correlation among themselves. Ridge regression aims at reducing the standard error by adding some bias in the estimates of the regression. The reduction of the standard error in regression estimates significantly increases the reliability of the estimates.\n",
    "\n",
    "<div align=\"center\" style=\"width: 600px; font-size: 80%; text-align: center; margin: 0 auto\">\n",
    "<img src=\"https://miro.medium.com/max/411/1*Yu3iBnyHL7skNiidHxmEGQ.png\"\n",
    "     style=\"float: center; padding-bottom=0.5em\"\n",
    "     width=600px/>\n",
    "\n",
    "</div>"
   ]
  },
  {
   "cell_type": "code",
   "execution_count": 214,
   "metadata": {
    "id": "m8CTtUlq9zJ4"
   },
   "outputs": [],
   "source": [
    "# create ridge model\n",
    "ridge = Ridge()\n",
    "\n",
    "# train the model\n",
    "ridge.fit(x_train, y_train)\n",
    "\n",
    "# check training accuracy\n",
    "train_ridge = ridge.predict(x_val)\n"
   ]
  },
  {
   "cell_type": "markdown",
   "metadata": {
    "id": "5hzAolHr9zJ5"
   },
   "source": [
    "## 5.4 Decision Tree\n",
    "\n",
    "Decision Trees are machine learning models that build regression or classification models in the form of a tree structure.\n",
    "A Decision Tree is a predictive model that makes use of a set of binary rules in order to calculate the dependent variable. Each tree consists of branches, nodes, and leaves. A Decision Tree imposes a series of questions to the data, each question narrowing possible values, until the model is trained well to make predictions. These questions are determined completely by the model, including their content and order, and are asked in a True/False form.\n",
    "\n",
    "\n",
    "\n",
    "\n",
    "<div align=\"center\" style=\"width: 600px; font-size: 80%; text-align: center; margin: 0 auto\">\n",
    "<img src=\"https://miro.medium.com/max/573/1*RHN0lpDR96nsklb8b0YNNg.png\"\n",
    "     style=\"float: center; padding-bottom=0.5em\"\n",
    "     width=600px/>\n",
    "\n",
    "</div>"
   ]
  },
  {
   "cell_type": "code",
   "execution_count": 215,
   "metadata": {
    "id": "8ZJrVv1R9zJ5"
   },
   "outputs": [],
   "source": [
    "# Instantiate regression tree model\n",
    "regr_tree = DecisionTreeRegressor(max_depth=4, random_state=42)\n",
    "\n",
    "# train the model\n",
    "regr_tree.fit(x_train, y_train)\n",
    "\n",
    "# check training accuracy\n",
    "train_tree = regr_tree.predict(x_val)\n"
   ]
  },
  {
   "cell_type": "markdown",
   "metadata": {
    "id": "VtXEhFCV9zJ7"
   },
   "source": [
    "## 5.5 Random Forest\n",
    "\n",
    "A random forest model is a classification model that is made up of multiple small decision trees, called estimators, which each produce their own predictions. The random forest model combines the predictions of the estimators to produce a more accurate prediction. It uses bagging and feature randomness when building each individual tree to try to create an uncorrelated forest of trees whose prediction is more accurate than that of any individual tree.\n",
    "\n",
    "<div align=\"center\" style=\"width: 600px; font-size: 80%; text-align: center; margin: 0 auto\">\n",
    "<img src=\"https://upload.wikimedia.org/wikipedia/commons/7/76/Random_forest_diagram_complete.png\"\n",
    "     style=\"float: center; padding-bottom=0.5em\"\n",
    "     width=600px/>\n",
    "\n",
    "</div>"
   ]
  },
  {
   "cell_type": "code",
   "execution_count": 216,
   "metadata": {
    "id": "myBRtEpT9zJ7"
   },
   "outputs": [],
   "source": [
    "# Instantiate random forest model\n",
    "rf = RandomForestRegressor(n_estimators=100, max_depth=5)\n",
    "\n",
    "# train the model\n",
    "rf.fit(x_train, y_train.ravel())\n",
    "\n",
    "# check training accuracy\n",
    "train_rf = rf.predict(x_val)\n"
   ]
  },
  {
   "cell_type": "markdown",
   "metadata": {
    "id": "MYLM8pso9zJ8"
   },
   "source": [
    "## 5.6 Catboost\n",
    "\n",
    "CatBoost is a recently open-sourced machine learning algorithm from Yandex.\n",
    "It yields good results without extensive data training typically required by other machine learning methods.\n",
    "\n"
   ]
  },
  {
   "cell_type": "code",
   "execution_count": 217,
   "metadata": {
    "id": "BCGEdr5j9zJ9",
    "outputId": "94f63017-cd22-4848-95c2-5bfa78b5f6b0"
   },
   "outputs": [
    {
     "name": "stdout",
     "output_type": "stream",
     "text": [
      "0:\tlearn: 945.6038810\ttotal: 72.2ms\tremaining: 21.6s\n",
      "1:\tlearn: 914.4695621\ttotal: 79.8ms\tremaining: 11.9s\n",
      "2:\tlearn: 884.4980091\ttotal: 89.6ms\tremaining: 8.87s\n",
      "3:\tlearn: 862.7697124\ttotal: 97.1ms\tremaining: 7.19s\n",
      "4:\tlearn: 846.5502631\ttotal: 105ms\tremaining: 6.19s\n",
      "5:\tlearn: 835.7738635\ttotal: 113ms\tremaining: 5.53s\n",
      "6:\tlearn: 826.7950530\ttotal: 122ms\tremaining: 5.12s\n",
      "7:\tlearn: 814.6003789\ttotal: 130ms\tremaining: 4.75s\n",
      "8:\tlearn: 805.5075265\ttotal: 138ms\tremaining: 4.46s\n",
      "9:\tlearn: 798.0589824\ttotal: 144ms\tremaining: 4.18s\n",
      "10:\tlearn: 790.5043236\ttotal: 152ms\tremaining: 3.99s\n",
      "11:\tlearn: 784.6024639\ttotal: 158ms\tremaining: 3.79s\n",
      "12:\tlearn: 781.4589397\ttotal: 167ms\tremaining: 3.69s\n",
      "13:\tlearn: 778.2238558\ttotal: 178ms\tremaining: 3.63s\n",
      "14:\tlearn: 775.0562052\ttotal: 186ms\tremaining: 3.54s\n",
      "15:\tlearn: 772.3086470\ttotal: 200ms\tremaining: 3.56s\n",
      "16:\tlearn: 768.6751579\ttotal: 208ms\tremaining: 3.46s\n",
      "17:\tlearn: 765.9797235\ttotal: 217ms\tremaining: 3.4s\n",
      "18:\tlearn: 764.1436059\ttotal: 224ms\tremaining: 3.31s\n",
      "19:\tlearn: 761.8346696\ttotal: 231ms\tremaining: 3.23s\n",
      "20:\tlearn: 760.5099183\ttotal: 241ms\tremaining: 3.19s\n",
      "21:\tlearn: 759.3256504\ttotal: 251ms\tremaining: 3.17s\n",
      "22:\tlearn: 757.3582369\ttotal: 265ms\tremaining: 3.19s\n",
      "23:\tlearn: 756.5936617\ttotal: 273ms\tremaining: 3.14s\n",
      "24:\tlearn: 754.5800930\ttotal: 281ms\tremaining: 3.1s\n",
      "25:\tlearn: 753.6604135\ttotal: 292ms\tremaining: 3.07s\n",
      "26:\tlearn: 752.4606017\ttotal: 303ms\tremaining: 3.06s\n",
      "27:\tlearn: 751.3059224\ttotal: 312ms\tremaining: 3.03s\n",
      "28:\tlearn: 749.5043199\ttotal: 328ms\tremaining: 3.06s\n",
      "29:\tlearn: 748.2190861\ttotal: 350ms\tremaining: 3.15s\n",
      "30:\tlearn: 747.1754601\ttotal: 382ms\tremaining: 3.31s\n",
      "31:\tlearn: 745.7821592\ttotal: 392ms\tremaining: 3.28s\n",
      "32:\tlearn: 745.0726133\ttotal: 408ms\tremaining: 3.3s\n",
      "33:\tlearn: 744.6805866\ttotal: 423ms\tremaining: 3.31s\n",
      "34:\tlearn: 743.7996058\ttotal: 439ms\tremaining: 3.33s\n",
      "35:\tlearn: 743.3267023\ttotal: 464ms\tremaining: 3.4s\n",
      "36:\tlearn: 742.8223889\ttotal: 475ms\tremaining: 3.38s\n",
      "37:\tlearn: 742.3046227\ttotal: 490ms\tremaining: 3.38s\n",
      "38:\tlearn: 742.1056194\ttotal: 499ms\tremaining: 3.34s\n",
      "39:\tlearn: 741.2519738\ttotal: 508ms\tremaining: 3.3s\n",
      "40:\tlearn: 740.7845610\ttotal: 516ms\tremaining: 3.26s\n",
      "41:\tlearn: 739.9157242\ttotal: 534ms\tremaining: 3.28s\n",
      "42:\tlearn: 739.5083706\ttotal: 543ms\tremaining: 3.24s\n",
      "43:\tlearn: 738.5406475\ttotal: 552ms\tremaining: 3.21s\n",
      "44:\tlearn: 737.6902094\ttotal: 560ms\tremaining: 3.17s\n",
      "45:\tlearn: 737.1203049\ttotal: 571ms\tremaining: 3.15s\n",
      "46:\tlearn: 736.8233215\ttotal: 580ms\tremaining: 3.12s\n",
      "47:\tlearn: 736.3876436\ttotal: 596ms\tremaining: 3.13s\n",
      "48:\tlearn: 735.8470752\ttotal: 606ms\tremaining: 3.1s\n",
      "49:\tlearn: 735.4006809\ttotal: 616ms\tremaining: 3.08s\n",
      "50:\tlearn: 734.7790709\ttotal: 625ms\tremaining: 3.05s\n",
      "51:\tlearn: 734.4372149\ttotal: 635ms\tremaining: 3.03s\n",
      "52:\tlearn: 734.1448316\ttotal: 659ms\tremaining: 3.07s\n",
      "53:\tlearn: 733.5725933\ttotal: 668ms\tremaining: 3.04s\n",
      "54:\tlearn: 733.2180014\ttotal: 683ms\tremaining: 3.04s\n",
      "55:\tlearn: 732.3221082\ttotal: 695ms\tremaining: 3.03s\n",
      "56:\tlearn: 731.6368775\ttotal: 723ms\tremaining: 3.08s\n",
      "57:\tlearn: 731.1650602\ttotal: 751ms\tremaining: 3.13s\n",
      "58:\tlearn: 730.6420332\ttotal: 764ms\tremaining: 3.12s\n",
      "59:\tlearn: 729.8279691\ttotal: 775ms\tremaining: 3.1s\n",
      "60:\tlearn: 729.2778002\ttotal: 792ms\tremaining: 3.1s\n",
      "61:\tlearn: 728.9700660\ttotal: 801ms\tremaining: 3.08s\n",
      "62:\tlearn: 728.2491794\ttotal: 827ms\tremaining: 3.11s\n",
      "63:\tlearn: 727.8569768\ttotal: 837ms\tremaining: 3.09s\n",
      "64:\tlearn: 727.2404526\ttotal: 850ms\tremaining: 3.07s\n",
      "65:\tlearn: 726.6213871\ttotal: 861ms\tremaining: 3.05s\n",
      "66:\tlearn: 726.0173301\ttotal: 870ms\tremaining: 3.02s\n",
      "67:\tlearn: 725.3320715\ttotal: 879ms\tremaining: 3s\n",
      "68:\tlearn: 724.8972917\ttotal: 901ms\tremaining: 3.02s\n",
      "69:\tlearn: 724.6079148\ttotal: 912ms\tremaining: 3s\n",
      "70:\tlearn: 724.1315959\ttotal: 925ms\tremaining: 2.98s\n",
      "71:\tlearn: 723.5119472\ttotal: 944ms\tremaining: 2.99s\n",
      "72:\tlearn: 723.2394555\ttotal: 953ms\tremaining: 2.96s\n",
      "73:\tlearn: 722.9363945\ttotal: 965ms\tremaining: 2.95s\n",
      "74:\tlearn: 722.5871125\ttotal: 984ms\tremaining: 2.95s\n",
      "75:\tlearn: 722.0574527\ttotal: 998ms\tremaining: 2.94s\n",
      "76:\tlearn: 721.0196625\ttotal: 1.02s\tremaining: 2.96s\n",
      "77:\tlearn: 720.6816229\ttotal: 1.03s\tremaining: 2.93s\n",
      "78:\tlearn: 720.0583375\ttotal: 1.04s\tremaining: 2.92s\n",
      "79:\tlearn: 719.7468026\ttotal: 1.06s\tremaining: 2.91s\n",
      "80:\tlearn: 719.2581024\ttotal: 1.07s\tremaining: 2.9s\n",
      "81:\tlearn: 718.8134228\ttotal: 1.08s\tremaining: 2.88s\n",
      "82:\tlearn: 718.1419478\ttotal: 1.1s\tremaining: 2.87s\n",
      "83:\tlearn: 717.5702649\ttotal: 1.12s\tremaining: 2.88s\n",
      "84:\tlearn: 717.1184663\ttotal: 1.13s\tremaining: 2.86s\n",
      "85:\tlearn: 716.8280875\ttotal: 1.14s\tremaining: 2.84s\n",
      "86:\tlearn: 716.5447442\ttotal: 1.16s\tremaining: 2.84s\n",
      "87:\tlearn: 716.0014559\ttotal: 1.17s\tremaining: 2.83s\n",
      "88:\tlearn: 715.1982819\ttotal: 1.18s\tremaining: 2.81s\n",
      "89:\tlearn: 715.0236935\ttotal: 1.19s\tremaining: 2.78s\n",
      "90:\tlearn: 714.2159973\ttotal: 1.2s\tremaining: 2.76s\n",
      "91:\tlearn: 713.4660323\ttotal: 1.21s\tremaining: 2.73s\n",
      "92:\tlearn: 712.7158971\ttotal: 1.21s\tremaining: 2.7s\n",
      "93:\tlearn: 712.1811739\ttotal: 1.22s\tremaining: 2.68s\n",
      "94:\tlearn: 711.5120801\ttotal: 1.25s\tremaining: 2.69s\n",
      "95:\tlearn: 710.9288873\ttotal: 1.26s\tremaining: 2.68s\n",
      "96:\tlearn: 710.7926001\ttotal: 1.27s\tremaining: 2.66s\n",
      "97:\tlearn: 710.2685396\ttotal: 1.29s\tremaining: 2.65s\n",
      "98:\tlearn: 709.7077245\ttotal: 1.3s\tremaining: 2.63s\n",
      "99:\tlearn: 709.6385260\ttotal: 1.31s\tremaining: 2.61s\n",
      "100:\tlearn: 709.4160385\ttotal: 1.32s\tremaining: 2.61s\n",
      "101:\tlearn: 708.8684767\ttotal: 1.34s\tremaining: 2.6s\n",
      "102:\tlearn: 708.4090946\ttotal: 1.35s\tremaining: 2.58s\n",
      "103:\tlearn: 707.6915557\ttotal: 1.36s\tremaining: 2.56s\n",
      "104:\tlearn: 707.0793960\ttotal: 1.36s\tremaining: 2.53s\n",
      "105:\tlearn: 706.8928357\ttotal: 1.37s\tremaining: 2.51s\n",
      "106:\tlearn: 706.3273132\ttotal: 1.38s\tremaining: 2.49s\n",
      "107:\tlearn: 705.7135817\ttotal: 1.39s\tremaining: 2.47s\n",
      "108:\tlearn: 705.1939117\ttotal: 1.4s\tremaining: 2.45s\n",
      "109:\tlearn: 704.4326978\ttotal: 1.41s\tremaining: 2.44s\n",
      "110:\tlearn: 704.0240619\ttotal: 1.42s\tremaining: 2.42s\n",
      "111:\tlearn: 703.4621826\ttotal: 1.43s\tremaining: 2.4s\n",
      "112:\tlearn: 703.0474894\ttotal: 1.45s\tremaining: 2.4s\n",
      "113:\tlearn: 703.0340019\ttotal: 1.46s\tremaining: 2.39s\n",
      "114:\tlearn: 702.5548446\ttotal: 1.48s\tremaining: 2.38s\n",
      "115:\tlearn: 702.3774319\ttotal: 1.49s\tremaining: 2.36s\n",
      "116:\tlearn: 701.9188541\ttotal: 1.5s\tremaining: 2.35s\n",
      "117:\tlearn: 701.7133097\ttotal: 1.51s\tremaining: 2.34s\n",
      "118:\tlearn: 701.5133836\ttotal: 1.52s\tremaining: 2.32s\n",
      "119:\tlearn: 700.8585253\ttotal: 1.54s\tremaining: 2.31s\n",
      "120:\tlearn: 700.4550220\ttotal: 1.55s\tremaining: 2.3s\n",
      "121:\tlearn: 700.0446843\ttotal: 1.57s\tremaining: 2.29s\n",
      "122:\tlearn: 699.3965267\ttotal: 1.59s\tremaining: 2.29s\n",
      "123:\tlearn: 698.7687801\ttotal: 1.6s\tremaining: 2.27s\n",
      "124:\tlearn: 698.5458462\ttotal: 1.61s\tremaining: 2.26s\n",
      "125:\tlearn: 698.4875838\ttotal: 1.63s\tremaining: 2.25s\n",
      "126:\tlearn: 698.3250492\ttotal: 1.63s\tremaining: 2.23s\n",
      "127:\tlearn: 697.8456425\ttotal: 1.65s\tremaining: 2.22s\n",
      "128:\tlearn: 697.5029697\ttotal: 1.66s\tremaining: 2.2s\n",
      "129:\tlearn: 697.1214318\ttotal: 1.67s\tremaining: 2.19s\n",
      "130:\tlearn: 696.9721792\ttotal: 1.69s\tremaining: 2.18s\n",
      "131:\tlearn: 696.8803250\ttotal: 1.71s\tremaining: 2.17s\n",
      "132:\tlearn: 696.8203470\ttotal: 1.71s\tremaining: 2.15s\n",
      "133:\tlearn: 696.4296746\ttotal: 1.73s\tremaining: 2.14s\n",
      "134:\tlearn: 695.9076534\ttotal: 1.74s\tremaining: 2.13s\n",
      "135:\tlearn: 695.5411673\ttotal: 1.75s\tremaining: 2.11s\n",
      "136:\tlearn: 695.1587180\ttotal: 1.76s\tremaining: 2.1s\n",
      "137:\tlearn: 694.7806380\ttotal: 1.77s\tremaining: 2.08s\n",
      "138:\tlearn: 694.5182097\ttotal: 1.78s\tremaining: 2.06s\n",
      "139:\tlearn: 694.1380846\ttotal: 1.8s\tremaining: 2.05s\n",
      "140:\tlearn: 693.7998647\ttotal: 1.81s\tremaining: 2.04s\n",
      "141:\tlearn: 693.4235271\ttotal: 1.81s\tremaining: 2.02s\n",
      "142:\tlearn: 693.0887723\ttotal: 1.82s\tremaining: 2s\n",
      "143:\tlearn: 692.6678855\ttotal: 1.83s\tremaining: 1.98s\n",
      "144:\tlearn: 692.6100640\ttotal: 1.84s\tremaining: 1.97s\n",
      "145:\tlearn: 692.0687266\ttotal: 1.85s\tremaining: 1.95s\n",
      "146:\tlearn: 691.5388225\ttotal: 1.87s\tremaining: 1.95s\n",
      "147:\tlearn: 691.2142331\ttotal: 1.88s\tremaining: 1.93s\n",
      "148:\tlearn: 691.1662400\ttotal: 1.89s\tremaining: 1.91s\n",
      "149:\tlearn: 690.7642018\ttotal: 1.9s\tremaining: 1.9s\n",
      "150:\tlearn: 690.5249797\ttotal: 1.9s\tremaining: 1.88s\n",
      "151:\tlearn: 689.9787061\ttotal: 1.91s\tremaining: 1.86s\n",
      "152:\tlearn: 689.6110811\ttotal: 1.92s\tremaining: 1.84s\n",
      "153:\tlearn: 689.5185329\ttotal: 1.94s\tremaining: 1.84s\n",
      "154:\tlearn: 689.2205800\ttotal: 1.95s\tremaining: 1.82s\n",
      "155:\tlearn: 688.8089163\ttotal: 1.96s\tremaining: 1.8s\n",
      "156:\tlearn: 688.4820194\ttotal: 1.96s\tremaining: 1.79s\n",
      "157:\tlearn: 688.2412296\ttotal: 1.98s\tremaining: 1.78s\n",
      "158:\tlearn: 687.8689800\ttotal: 1.98s\tremaining: 1.76s\n",
      "159:\tlearn: 687.7814313\ttotal: 2s\tremaining: 1.75s\n",
      "160:\tlearn: 687.5451305\ttotal: 2s\tremaining: 1.73s\n",
      "161:\tlearn: 686.8619948\ttotal: 2.02s\tremaining: 1.72s\n",
      "162:\tlearn: 686.4195673\ttotal: 2.03s\tremaining: 1.7s\n",
      "163:\tlearn: 686.1126327\ttotal: 2.04s\tremaining: 1.69s\n",
      "164:\tlearn: 685.8219851\ttotal: 2.05s\tremaining: 1.67s\n",
      "165:\tlearn: 685.3445994\ttotal: 2.06s\tremaining: 1.66s\n",
      "166:\tlearn: 684.7298201\ttotal: 2.07s\tremaining: 1.65s\n",
      "167:\tlearn: 684.3074248\ttotal: 2.08s\tremaining: 1.63s\n",
      "168:\tlearn: 683.8688992\ttotal: 2.09s\tremaining: 1.62s\n"
     ]
    },
    {
     "name": "stdout",
     "output_type": "stream",
     "text": [
      "169:\tlearn: 683.7661912\ttotal: 2.1s\tremaining: 1.61s\n",
      "170:\tlearn: 683.3019258\ttotal: 2.12s\tremaining: 1.6s\n",
      "171:\tlearn: 683.0284507\ttotal: 2.13s\tremaining: 1.58s\n",
      "172:\tlearn: 682.6411491\ttotal: 2.15s\tremaining: 1.58s\n",
      "173:\tlearn: 682.5565607\ttotal: 2.17s\tremaining: 1.57s\n",
      "174:\tlearn: 682.1698065\ttotal: 2.18s\tremaining: 1.56s\n",
      "175:\tlearn: 681.8021640\ttotal: 2.2s\tremaining: 1.55s\n",
      "176:\tlearn: 681.0757794\ttotal: 2.21s\tremaining: 1.53s\n",
      "177:\tlearn: 680.6953188\ttotal: 2.22s\tremaining: 1.52s\n",
      "178:\tlearn: 680.4105106\ttotal: 2.23s\tremaining: 1.5s\n",
      "179:\tlearn: 680.1978765\ttotal: 2.24s\tremaining: 1.49s\n",
      "180:\tlearn: 679.8894276\ttotal: 2.24s\tremaining: 1.48s\n",
      "181:\tlearn: 679.5240836\ttotal: 2.26s\tremaining: 1.47s\n",
      "182:\tlearn: 679.0838812\ttotal: 2.27s\tremaining: 1.45s\n",
      "183:\tlearn: 678.5328888\ttotal: 2.28s\tremaining: 1.44s\n",
      "184:\tlearn: 678.2633977\ttotal: 2.29s\tremaining: 1.42s\n",
      "185:\tlearn: 677.7880139\ttotal: 2.3s\tremaining: 1.41s\n",
      "186:\tlearn: 677.3339631\ttotal: 2.31s\tremaining: 1.4s\n",
      "187:\tlearn: 677.0182093\ttotal: 2.32s\tremaining: 1.38s\n",
      "188:\tlearn: 676.7440807\ttotal: 2.35s\tremaining: 1.38s\n",
      "189:\tlearn: 676.3732228\ttotal: 2.36s\tremaining: 1.37s\n",
      "190:\tlearn: 676.1558817\ttotal: 2.37s\tremaining: 1.35s\n",
      "191:\tlearn: 675.6719733\ttotal: 2.38s\tremaining: 1.34s\n",
      "192:\tlearn: 675.3691586\ttotal: 2.39s\tremaining: 1.32s\n",
      "193:\tlearn: 675.0908082\ttotal: 2.4s\tremaining: 1.31s\n",
      "194:\tlearn: 674.6558358\ttotal: 2.41s\tremaining: 1.3s\n",
      "195:\tlearn: 674.3118022\ttotal: 2.42s\tremaining: 1.28s\n",
      "196:\tlearn: 674.0571284\ttotal: 2.44s\tremaining: 1.27s\n",
      "197:\tlearn: 673.8766506\ttotal: 2.46s\tremaining: 1.26s\n",
      "198:\tlearn: 673.8359577\ttotal: 2.47s\tremaining: 1.26s\n",
      "199:\tlearn: 673.5402567\ttotal: 2.48s\tremaining: 1.24s\n",
      "200:\tlearn: 673.3994764\ttotal: 2.5s\tremaining: 1.23s\n",
      "201:\tlearn: 673.3661021\ttotal: 2.51s\tremaining: 1.22s\n",
      "202:\tlearn: 673.3286360\ttotal: 2.52s\tremaining: 1.21s\n",
      "203:\tlearn: 672.8409228\ttotal: 2.55s\tremaining: 1.2s\n",
      "204:\tlearn: 672.7622696\ttotal: 2.56s\tremaining: 1.19s\n",
      "205:\tlearn: 672.3968507\ttotal: 2.57s\tremaining: 1.17s\n",
      "206:\tlearn: 672.1392349\ttotal: 2.58s\tremaining: 1.16s\n",
      "207:\tlearn: 671.9215120\ttotal: 2.59s\tremaining: 1.15s\n",
      "208:\tlearn: 671.6815446\ttotal: 2.61s\tremaining: 1.14s\n",
      "209:\tlearn: 671.1612116\ttotal: 2.63s\tremaining: 1.13s\n",
      "210:\tlearn: 671.1321699\ttotal: 2.65s\tremaining: 1.12s\n",
      "211:\tlearn: 670.9373855\ttotal: 2.66s\tremaining: 1.1s\n",
      "212:\tlearn: 670.7191150\ttotal: 2.67s\tremaining: 1.09s\n",
      "213:\tlearn: 670.2512102\ttotal: 2.68s\tremaining: 1.08s\n",
      "214:\tlearn: 669.7423939\ttotal: 2.69s\tremaining: 1.06s\n",
      "215:\tlearn: 669.3284982\ttotal: 2.71s\tremaining: 1.05s\n",
      "216:\tlearn: 668.9830401\ttotal: 2.72s\tremaining: 1.04s\n",
      "217:\tlearn: 668.7788136\ttotal: 2.73s\tremaining: 1.03s\n",
      "218:\tlearn: 668.2806786\ttotal: 2.74s\tremaining: 1.01s\n",
      "219:\tlearn: 667.7325371\ttotal: 2.74s\tremaining: 998ms\n",
      "220:\tlearn: 667.0657729\ttotal: 2.76s\tremaining: 986ms\n",
      "221:\tlearn: 666.8014984\ttotal: 2.77s\tremaining: 972ms\n",
      "222:\tlearn: 666.6798637\ttotal: 2.78s\tremaining: 960ms\n",
      "223:\tlearn: 666.4960961\ttotal: 2.79s\tremaining: 947ms\n",
      "224:\tlearn: 666.0864582\ttotal: 2.8s\tremaining: 934ms\n",
      "225:\tlearn: 665.9149414\ttotal: 2.82s\tremaining: 923ms\n",
      "226:\tlearn: 665.6590726\ttotal: 2.83s\tremaining: 910ms\n",
      "227:\tlearn: 665.3649508\ttotal: 2.84s\tremaining: 897ms\n",
      "228:\tlearn: 665.0430749\ttotal: 2.85s\tremaining: 883ms\n",
      "229:\tlearn: 664.7717460\ttotal: 2.86s\tremaining: 870ms\n",
      "230:\tlearn: 664.4662948\ttotal: 2.87s\tremaining: 857ms\n",
      "231:\tlearn: 664.1448492\ttotal: 2.88s\tremaining: 843ms\n",
      "232:\tlearn: 663.9109253\ttotal: 2.89s\tremaining: 831ms\n",
      "233:\tlearn: 663.4938144\ttotal: 2.91s\tremaining: 821ms\n",
      "234:\tlearn: 663.0713524\ttotal: 2.92s\tremaining: 809ms\n",
      "235:\tlearn: 662.7238573\ttotal: 2.94s\tremaining: 796ms\n",
      "236:\tlearn: 662.4154832\ttotal: 2.94s\tremaining: 782ms\n",
      "237:\tlearn: 662.1272328\ttotal: 2.95s\tremaining: 770ms\n",
      "238:\tlearn: 661.8608562\ttotal: 2.96s\tremaining: 756ms\n",
      "239:\tlearn: 661.6338810\ttotal: 2.97s\tremaining: 743ms\n",
      "240:\tlearn: 661.5110205\ttotal: 2.98s\tremaining: 730ms\n",
      "241:\tlearn: 661.2048079\ttotal: 2.99s\tremaining: 716ms\n",
      "242:\tlearn: 661.0786642\ttotal: 3s\tremaining: 704ms\n",
      "243:\tlearn: 660.7950014\ttotal: 3.01s\tremaining: 690ms\n",
      "244:\tlearn: 660.5340945\ttotal: 3.02s\tremaining: 678ms\n",
      "245:\tlearn: 660.1670262\ttotal: 3.04s\tremaining: 666ms\n",
      "246:\tlearn: 659.9095610\ttotal: 3.04s\tremaining: 654ms\n",
      "247:\tlearn: 659.6271972\ttotal: 3.07s\tremaining: 644ms\n",
      "248:\tlearn: 659.2371304\ttotal: 3.08s\tremaining: 632ms\n",
      "249:\tlearn: 658.8763072\ttotal: 3.1s\tremaining: 619ms\n",
      "250:\tlearn: 658.7707819\ttotal: 3.1s\tremaining: 606ms\n",
      "251:\tlearn: 658.2444761\ttotal: 3.11s\tremaining: 593ms\n",
      "252:\tlearn: 658.0754024\ttotal: 3.12s\tremaining: 580ms\n",
      "253:\tlearn: 657.5931034\ttotal: 3.14s\tremaining: 569ms\n",
      "254:\tlearn: 657.3979914\ttotal: 3.15s\tremaining: 556ms\n",
      "255:\tlearn: 656.9744610\ttotal: 3.16s\tremaining: 543ms\n",
      "256:\tlearn: 656.8170779\ttotal: 3.17s\tremaining: 530ms\n",
      "257:\tlearn: 656.5539626\ttotal: 3.18s\tremaining: 517ms\n",
      "258:\tlearn: 656.3010592\ttotal: 3.19s\tremaining: 504ms\n",
      "259:\tlearn: 655.8458092\ttotal: 3.19s\tremaining: 491ms\n",
      "260:\tlearn: 655.4803534\ttotal: 3.2s\tremaining: 479ms\n",
      "261:\tlearn: 655.0808619\ttotal: 3.21s\tremaining: 466ms\n",
      "262:\tlearn: 654.6451133\ttotal: 3.22s\tremaining: 453ms\n",
      "263:\tlearn: 654.2850999\ttotal: 3.23s\tremaining: 441ms\n",
      "264:\tlearn: 653.8920841\ttotal: 3.24s\tremaining: 428ms\n",
      "265:\tlearn: 653.6099925\ttotal: 3.25s\tremaining: 415ms\n",
      "266:\tlearn: 653.0009694\ttotal: 3.26s\tremaining: 403ms\n",
      "267:\tlearn: 652.6179007\ttotal: 3.27s\tremaining: 390ms\n",
      "268:\tlearn: 652.3389561\ttotal: 3.28s\tremaining: 378ms\n",
      "269:\tlearn: 651.9541782\ttotal: 3.29s\tremaining: 365ms\n",
      "270:\tlearn: 651.4137191\ttotal: 3.3s\tremaining: 353ms\n",
      "271:\tlearn: 651.0911761\ttotal: 3.31s\tremaining: 340ms\n",
      "272:\tlearn: 650.6919808\ttotal: 3.32s\tremaining: 328ms\n",
      "273:\tlearn: 650.3814152\ttotal: 3.33s\tremaining: 316ms\n",
      "274:\tlearn: 650.2697240\ttotal: 3.35s\tremaining: 304ms\n",
      "275:\tlearn: 650.0684833\ttotal: 3.36s\tremaining: 292ms\n",
      "276:\tlearn: 649.6622372\ttotal: 3.37s\tremaining: 280ms\n",
      "277:\tlearn: 649.1146795\ttotal: 3.38s\tremaining: 268ms\n",
      "278:\tlearn: 648.7235325\ttotal: 3.4s\tremaining: 256ms\n",
      "279:\tlearn: 648.5766821\ttotal: 3.41s\tremaining: 244ms\n",
      "280:\tlearn: 648.3579106\ttotal: 3.42s\tremaining: 231ms\n",
      "281:\tlearn: 648.1340663\ttotal: 3.44s\tremaining: 220ms\n",
      "282:\tlearn: 647.7211081\ttotal: 3.45s\tremaining: 207ms\n",
      "283:\tlearn: 647.3623422\ttotal: 3.46s\tremaining: 195ms\n",
      "284:\tlearn: 647.0366809\ttotal: 3.49s\tremaining: 184ms\n",
      "285:\tlearn: 646.5949469\ttotal: 3.5s\tremaining: 171ms\n",
      "286:\tlearn: 646.5180394\ttotal: 3.51s\tremaining: 159ms\n",
      "287:\tlearn: 646.2125832\ttotal: 3.53s\tremaining: 147ms\n",
      "288:\tlearn: 646.1095197\ttotal: 3.55s\tremaining: 135ms\n",
      "289:\tlearn: 645.9670256\ttotal: 3.56s\tremaining: 123ms\n",
      "290:\tlearn: 645.8438737\ttotal: 3.56s\tremaining: 110ms\n",
      "291:\tlearn: 645.4266958\ttotal: 3.57s\tremaining: 97.9ms\n",
      "292:\tlearn: 645.1841640\ttotal: 3.58s\tremaining: 85.7ms\n",
      "293:\tlearn: 644.9231481\ttotal: 3.59s\tremaining: 73.3ms\n",
      "294:\tlearn: 644.7150031\ttotal: 3.6s\tremaining: 61.1ms\n",
      "295:\tlearn: 644.3992956\ttotal: 3.61s\tremaining: 48.8ms\n",
      "296:\tlearn: 644.1482609\ttotal: 3.62s\tremaining: 36.6ms\n",
      "297:\tlearn: 643.8637537\ttotal: 3.63s\tremaining: 24.4ms\n",
      "298:\tlearn: 643.6239934\ttotal: 3.65s\tremaining: 12.2ms\n",
      "299:\tlearn: 643.2973772\ttotal: 3.65s\tremaining: 0us\n",
      "0:\tlearn: 975.0619599\ttotal: 7.26ms\tremaining: 2.17s\n",
      "1:\tlearn: 943.9439120\ttotal: 15.2ms\tremaining: 2.27s\n",
      "2:\tlearn: 914.0024838\ttotal: 27.4ms\tremaining: 2.72s\n",
      "3:\tlearn: 894.1385007\ttotal: 38ms\tremaining: 2.81s\n",
      "4:\tlearn: 878.1136708\ttotal: 47.7ms\tremaining: 2.81s\n",
      "5:\tlearn: 866.0131583\ttotal: 56.1ms\tremaining: 2.75s\n",
      "6:\tlearn: 856.7437924\ttotal: 66.9ms\tremaining: 2.8s\n",
      "7:\tlearn: 845.5666919\ttotal: 81.5ms\tremaining: 2.97s\n",
      "8:\tlearn: 837.3859313\ttotal: 89.3ms\tremaining: 2.89s\n",
      "9:\tlearn: 831.5797359\ttotal: 111ms\tremaining: 3.23s\n",
      "10:\tlearn: 824.0208305\ttotal: 120ms\tremaining: 3.16s\n",
      "11:\tlearn: 818.0849957\ttotal: 138ms\tremaining: 3.32s\n",
      "12:\tlearn: 814.7970220\ttotal: 146ms\tremaining: 3.23s\n",
      "13:\tlearn: 811.4682019\ttotal: 159ms\tremaining: 3.25s\n",
      "14:\tlearn: 808.1748250\ttotal: 170ms\tremaining: 3.23s\n",
      "15:\tlearn: 805.6066306\ttotal: 177ms\tremaining: 3.14s\n",
      "16:\tlearn: 802.2701783\ttotal: 186ms\tremaining: 3.09s\n",
      "17:\tlearn: 800.1976147\ttotal: 195ms\tremaining: 3.06s\n",
      "18:\tlearn: 798.3182298\ttotal: 206ms\tremaining: 3.04s\n",
      "19:\tlearn: 796.1450065\ttotal: 214ms\tremaining: 2.99s\n",
      "20:\tlearn: 794.7408569\ttotal: 228ms\tremaining: 3.03s\n",
      "21:\tlearn: 793.3786596\ttotal: 236ms\tremaining: 2.98s\n",
      "22:\tlearn: 791.0245893\ttotal: 246ms\tremaining: 2.97s\n",
      "23:\tlearn: 789.8689867\ttotal: 258ms\tremaining: 2.97s\n",
      "24:\tlearn: 788.6570345\ttotal: 266ms\tremaining: 2.92s\n",
      "25:\tlearn: 787.4889750\ttotal: 275ms\tremaining: 2.89s\n",
      "26:\tlearn: 785.0247545\ttotal: 285ms\tremaining: 2.88s\n",
      "27:\tlearn: 784.3267913\ttotal: 303ms\tremaining: 2.94s\n",
      "28:\tlearn: 782.9630810\ttotal: 315ms\tremaining: 2.94s\n",
      "29:\tlearn: 781.7828628\ttotal: 323ms\tremaining: 2.91s\n",
      "30:\tlearn: 781.0410710\ttotal: 331ms\tremaining: 2.87s\n",
      "31:\tlearn: 779.5670404\ttotal: 343ms\tremaining: 2.87s\n"
     ]
    },
    {
     "name": "stdout",
     "output_type": "stream",
     "text": [
      "32:\tlearn: 778.9498126\ttotal: 362ms\tremaining: 2.93s\n",
      "33:\tlearn: 778.2535759\ttotal: 371ms\tremaining: 2.9s\n",
      "34:\tlearn: 776.6308707\ttotal: 379ms\tremaining: 2.87s\n",
      "35:\tlearn: 775.9564605\ttotal: 390ms\tremaining: 2.86s\n",
      "36:\tlearn: 775.2861750\ttotal: 400ms\tremaining: 2.84s\n",
      "37:\tlearn: 773.5011159\ttotal: 410ms\tremaining: 2.82s\n",
      "38:\tlearn: 773.1623645\ttotal: 419ms\tremaining: 2.8s\n",
      "39:\tlearn: 771.8551119\ttotal: 437ms\tremaining: 2.84s\n",
      "40:\tlearn: 771.2698876\ttotal: 446ms\tremaining: 2.82s\n",
      "41:\tlearn: 770.7246700\ttotal: 460ms\tremaining: 2.83s\n",
      "42:\tlearn: 770.1607717\ttotal: 474ms\tremaining: 2.83s\n",
      "43:\tlearn: 769.6199856\ttotal: 485ms\tremaining: 2.82s\n",
      "44:\tlearn: 767.9663959\ttotal: 500ms\tremaining: 2.83s\n",
      "45:\tlearn: 767.2891552\ttotal: 509ms\tremaining: 2.81s\n",
      "46:\tlearn: 766.6509237\ttotal: 518ms\tremaining: 2.79s\n",
      "47:\tlearn: 766.1946949\ttotal: 537ms\tremaining: 2.82s\n",
      "48:\tlearn: 765.7500271\ttotal: 546ms\tremaining: 2.8s\n",
      "49:\tlearn: 765.3500324\ttotal: 555ms\tremaining: 2.77s\n",
      "50:\tlearn: 764.8559751\ttotal: 565ms\tremaining: 2.76s\n",
      "51:\tlearn: 763.9071423\ttotal: 575ms\tremaining: 2.74s\n",
      "52:\tlearn: 763.1843642\ttotal: 585ms\tremaining: 2.73s\n",
      "53:\tlearn: 762.8298356\ttotal: 592ms\tremaining: 2.7s\n",
      "54:\tlearn: 761.9984934\ttotal: 605ms\tremaining: 2.69s\n",
      "55:\tlearn: 761.3766387\ttotal: 618ms\tremaining: 2.69s\n",
      "56:\tlearn: 760.6921017\ttotal: 625ms\tremaining: 2.66s\n",
      "57:\tlearn: 760.1426413\ttotal: 639ms\tremaining: 2.67s\n",
      "58:\tlearn: 759.5166191\ttotal: 649ms\tremaining: 2.65s\n",
      "59:\tlearn: 759.0662707\ttotal: 656ms\tremaining: 2.62s\n",
      "60:\tlearn: 758.5662138\ttotal: 663ms\tremaining: 2.6s\n",
      "61:\tlearn: 758.0899500\ttotal: 675ms\tremaining: 2.59s\n",
      "62:\tlearn: 757.6593211\ttotal: 684ms\tremaining: 2.57s\n",
      "63:\tlearn: 757.1506454\ttotal: 694ms\tremaining: 2.56s\n",
      "64:\tlearn: 756.6222894\ttotal: 704ms\tremaining: 2.55s\n",
      "65:\tlearn: 756.0776449\ttotal: 713ms\tremaining: 2.53s\n",
      "66:\tlearn: 755.5350268\ttotal: 725ms\tremaining: 2.52s\n",
      "67:\tlearn: 754.9240359\ttotal: 734ms\tremaining: 2.5s\n",
      "68:\tlearn: 754.5378405\ttotal: 747ms\tremaining: 2.5s\n",
      "69:\tlearn: 753.8605073\ttotal: 755ms\tremaining: 2.48s\n",
      "70:\tlearn: 753.4266471\ttotal: 764ms\tremaining: 2.46s\n",
      "71:\tlearn: 752.3386087\ttotal: 776ms\tremaining: 2.46s\n",
      "72:\tlearn: 751.7579112\ttotal: 784ms\tremaining: 2.44s\n",
      "73:\tlearn: 751.1241099\ttotal: 795ms\tremaining: 2.43s\n",
      "74:\tlearn: 750.5184303\ttotal: 803ms\tremaining: 2.41s\n",
      "75:\tlearn: 750.1580251\ttotal: 816ms\tremaining: 2.4s\n",
      "76:\tlearn: 749.4246858\ttotal: 824ms\tremaining: 2.38s\n",
      "77:\tlearn: 748.9721413\ttotal: 833ms\tremaining: 2.37s\n",
      "78:\tlearn: 748.1337790\ttotal: 842ms\tremaining: 2.35s\n",
      "79:\tlearn: 747.6983088\ttotal: 856ms\tremaining: 2.35s\n",
      "80:\tlearn: 746.6556110\ttotal: 868ms\tremaining: 2.35s\n",
      "81:\tlearn: 746.0707299\ttotal: 879ms\tremaining: 2.34s\n",
      "82:\tlearn: 745.2863338\ttotal: 888ms\tremaining: 2.32s\n",
      "83:\tlearn: 744.7923151\ttotal: 895ms\tremaining: 2.3s\n",
      "84:\tlearn: 744.1049330\ttotal: 902ms\tremaining: 2.28s\n",
      "85:\tlearn: 743.5903352\ttotal: 912ms\tremaining: 2.27s\n",
      "86:\tlearn: 742.8132084\ttotal: 921ms\tremaining: 2.25s\n",
      "87:\tlearn: 742.1712009\ttotal: 931ms\tremaining: 2.24s\n",
      "88:\tlearn: 741.5938110\ttotal: 939ms\tremaining: 2.23s\n",
      "89:\tlearn: 741.0953598\ttotal: 946ms\tremaining: 2.21s\n",
      "90:\tlearn: 740.6803093\ttotal: 985ms\tremaining: 2.26s\n",
      "91:\tlearn: 740.3533654\ttotal: 1.03s\tremaining: 2.33s\n",
      "92:\tlearn: 739.7404758\ttotal: 1.06s\tremaining: 2.37s\n",
      "93:\tlearn: 739.3979412\ttotal: 1.07s\tremaining: 2.35s\n",
      "94:\tlearn: 738.8503825\ttotal: 1.08s\tremaining: 2.33s\n",
      "95:\tlearn: 738.2198660\ttotal: 1.09s\tremaining: 2.32s\n",
      "96:\tlearn: 737.8294068\ttotal: 1.11s\tremaining: 2.32s\n",
      "97:\tlearn: 737.5824100\ttotal: 1.12s\tremaining: 2.3s\n",
      "98:\tlearn: 736.8086548\ttotal: 1.12s\tremaining: 2.28s\n",
      "99:\tlearn: 736.3653686\ttotal: 1.13s\tremaining: 2.27s\n",
      "100:\tlearn: 735.7315820\ttotal: 1.14s\tremaining: 2.25s\n",
      "101:\tlearn: 735.2276172\ttotal: 1.16s\tremaining: 2.24s\n",
      "102:\tlearn: 734.7359312\ttotal: 1.17s\tremaining: 2.23s\n",
      "103:\tlearn: 734.3532170\ttotal: 1.19s\tremaining: 2.23s\n",
      "104:\tlearn: 733.7865541\ttotal: 1.2s\tremaining: 2.22s\n",
      "105:\tlearn: 733.0774452\ttotal: 1.22s\tremaining: 2.23s\n",
      "106:\tlearn: 732.3569588\ttotal: 1.23s\tremaining: 2.22s\n",
      "107:\tlearn: 731.9640019\ttotal: 1.24s\tremaining: 2.21s\n",
      "108:\tlearn: 731.4825627\ttotal: 1.26s\tremaining: 2.21s\n",
      "109:\tlearn: 731.0894426\ttotal: 1.28s\tremaining: 2.21s\n",
      "110:\tlearn: 730.7113772\ttotal: 1.28s\tremaining: 2.19s\n",
      "111:\tlearn: 730.2036596\ttotal: 1.29s\tremaining: 2.17s\n",
      "112:\tlearn: 729.8135474\ttotal: 1.31s\tremaining: 2.16s\n",
      "113:\tlearn: 729.2234485\ttotal: 1.32s\tremaining: 2.15s\n",
      "114:\tlearn: 728.8121616\ttotal: 1.34s\tremaining: 2.15s\n",
      "115:\tlearn: 728.4757312\ttotal: 1.34s\tremaining: 2.13s\n",
      "116:\tlearn: 727.6543188\ttotal: 1.35s\tremaining: 2.12s\n",
      "117:\tlearn: 727.3325977\ttotal: 1.37s\tremaining: 2.11s\n",
      "118:\tlearn: 727.1003491\ttotal: 1.38s\tremaining: 2.09s\n",
      "119:\tlearn: 726.7745304\ttotal: 1.39s\tremaining: 2.08s\n",
      "120:\tlearn: 726.3837050\ttotal: 1.4s\tremaining: 2.07s\n",
      "121:\tlearn: 725.8340591\ttotal: 1.41s\tremaining: 2.06s\n",
      "122:\tlearn: 725.5963893\ttotal: 1.42s\tremaining: 2.04s\n",
      "123:\tlearn: 725.1997319\ttotal: 1.43s\tremaining: 2.03s\n",
      "124:\tlearn: 724.8446577\ttotal: 1.44s\tremaining: 2.01s\n",
      "125:\tlearn: 724.5300444\ttotal: 1.45s\tremaining: 2s\n",
      "126:\tlearn: 724.1316429\ttotal: 1.46s\tremaining: 1.99s\n",
      "127:\tlearn: 723.8440188\ttotal: 1.47s\tremaining: 1.98s\n",
      "128:\tlearn: 723.5303503\ttotal: 1.49s\tremaining: 1.97s\n",
      "129:\tlearn: 722.9514034\ttotal: 1.5s\tremaining: 1.96s\n",
      "130:\tlearn: 722.6387817\ttotal: 1.51s\tremaining: 1.95s\n",
      "131:\tlearn: 722.5834403\ttotal: 1.53s\tremaining: 1.94s\n",
      "132:\tlearn: 722.3038563\ttotal: 1.54s\tremaining: 1.93s\n",
      "133:\tlearn: 722.1218049\ttotal: 1.55s\tremaining: 1.92s\n",
      "134:\tlearn: 721.6178283\ttotal: 1.56s\tremaining: 1.9s\n",
      "135:\tlearn: 721.1987008\ttotal: 1.57s\tremaining: 1.89s\n",
      "136:\tlearn: 721.1393626\ttotal: 1.58s\tremaining: 1.88s\n",
      "137:\tlearn: 720.6644562\ttotal: 1.59s\tremaining: 1.86s\n",
      "138:\tlearn: 720.0065522\ttotal: 1.59s\tremaining: 1.85s\n",
      "139:\tlearn: 719.4942242\ttotal: 1.61s\tremaining: 1.84s\n",
      "140:\tlearn: 719.1448413\ttotal: 1.61s\tremaining: 1.82s\n",
      "141:\tlearn: 718.9354588\ttotal: 1.62s\tremaining: 1.81s\n",
      "142:\tlearn: 718.4083938\ttotal: 1.64s\tremaining: 1.8s\n",
      "143:\tlearn: 718.1548071\ttotal: 1.65s\tremaining: 1.78s\n",
      "144:\tlearn: 717.6299962\ttotal: 1.66s\tremaining: 1.77s\n",
      "145:\tlearn: 717.2914216\ttotal: 1.67s\tremaining: 1.76s\n",
      "146:\tlearn: 717.0754645\ttotal: 1.68s\tremaining: 1.75s\n",
      "147:\tlearn: 716.7134898\ttotal: 1.69s\tremaining: 1.73s\n",
      "148:\tlearn: 716.2142977\ttotal: 1.7s\tremaining: 1.72s\n",
      "149:\tlearn: 715.7350438\ttotal: 1.71s\tremaining: 1.71s\n",
      "150:\tlearn: 715.5361518\ttotal: 1.72s\tremaining: 1.69s\n",
      "151:\tlearn: 714.9981332\ttotal: 1.73s\tremaining: 1.68s\n",
      "152:\tlearn: 714.6022072\ttotal: 1.74s\tremaining: 1.67s\n",
      "153:\tlearn: 714.1897661\ttotal: 1.74s\tremaining: 1.65s\n",
      "154:\tlearn: 713.8684400\ttotal: 1.75s\tremaining: 1.64s\n",
      "155:\tlearn: 713.6823681\ttotal: 1.76s\tremaining: 1.63s\n",
      "156:\tlearn: 713.2714787\ttotal: 1.77s\tremaining: 1.61s\n",
      "157:\tlearn: 712.9982392\ttotal: 1.78s\tremaining: 1.6s\n",
      "158:\tlearn: 712.9038213\ttotal: 1.78s\tremaining: 1.58s\n",
      "159:\tlearn: 712.5445706\ttotal: 1.8s\tremaining: 1.58s\n",
      "160:\tlearn: 712.3824257\ttotal: 1.81s\tremaining: 1.56s\n",
      "161:\tlearn: 712.0838709\ttotal: 1.82s\tremaining: 1.55s\n",
      "162:\tlearn: 711.7118115\ttotal: 1.82s\tremaining: 1.53s\n",
      "163:\tlearn: 711.3682222\ttotal: 1.83s\tremaining: 1.52s\n",
      "164:\tlearn: 711.0285302\ttotal: 1.84s\tremaining: 1.51s\n",
      "165:\tlearn: 710.5624364\ttotal: 1.85s\tremaining: 1.5s\n",
      "166:\tlearn: 710.2892941\ttotal: 1.86s\tremaining: 1.48s\n",
      "167:\tlearn: 709.9596955\ttotal: 1.87s\tremaining: 1.47s\n",
      "168:\tlearn: 709.4433499\ttotal: 1.88s\tremaining: 1.46s\n",
      "169:\tlearn: 708.9269695\ttotal: 1.89s\tremaining: 1.45s\n",
      "170:\tlearn: 708.6847601\ttotal: 1.91s\tremaining: 1.44s\n",
      "171:\tlearn: 708.4925045\ttotal: 1.92s\tremaining: 1.43s\n",
      "172:\tlearn: 707.9817315\ttotal: 1.92s\tremaining: 1.41s\n",
      "173:\tlearn: 707.4186613\ttotal: 1.93s\tremaining: 1.4s\n",
      "174:\tlearn: 707.1733224\ttotal: 1.94s\tremaining: 1.39s\n",
      "175:\tlearn: 707.0462645\ttotal: 1.95s\tremaining: 1.37s\n",
      "176:\tlearn: 706.8451038\ttotal: 1.96s\tremaining: 1.36s\n",
      "177:\tlearn: 706.5277832\ttotal: 1.98s\tremaining: 1.35s\n",
      "178:\tlearn: 706.1747323\ttotal: 1.98s\tremaining: 1.34s\n",
      "179:\tlearn: 705.8649485\ttotal: 1.99s\tremaining: 1.33s\n",
      "180:\tlearn: 705.5297242\ttotal: 2s\tremaining: 1.31s\n",
      "181:\tlearn: 704.9970058\ttotal: 2.01s\tremaining: 1.3s\n",
      "182:\tlearn: 704.7151543\ttotal: 2.02s\tremaining: 1.29s\n",
      "183:\tlearn: 704.3326108\ttotal: 2.02s\tremaining: 1.27s\n",
      "184:\tlearn: 703.5403971\ttotal: 2.03s\tremaining: 1.26s\n",
      "185:\tlearn: 703.0511198\ttotal: 2.04s\tremaining: 1.25s\n",
      "186:\tlearn: 702.6258218\ttotal: 2.05s\tremaining: 1.24s\n",
      "187:\tlearn: 702.0400308\ttotal: 2.07s\tremaining: 1.23s\n",
      "188:\tlearn: 701.7717862\ttotal: 2.08s\tremaining: 1.22s\n",
      "189:\tlearn: 701.7335856\ttotal: 2.09s\tremaining: 1.21s\n",
      "190:\tlearn: 701.5449091\ttotal: 2.1s\tremaining: 1.2s\n",
      "191:\tlearn: 701.1771374\ttotal: 2.11s\tremaining: 1.18s\n",
      "192:\tlearn: 700.7579678\ttotal: 2.11s\tremaining: 1.17s\n",
      "193:\tlearn: 700.3445847\ttotal: 2.13s\tremaining: 1.16s\n",
      "194:\tlearn: 699.8113397\ttotal: 2.13s\tremaining: 1.15s\n",
      "195:\tlearn: 699.5630338\ttotal: 2.14s\tremaining: 1.14s\n",
      "196:\tlearn: 699.1076610\ttotal: 2.16s\tremaining: 1.13s\n",
      "197:\tlearn: 698.8055094\ttotal: 2.17s\tremaining: 1.12s\n",
      "198:\tlearn: 698.5503986\ttotal: 2.18s\tremaining: 1.1s\n",
      "199:\tlearn: 698.0463202\ttotal: 2.19s\tremaining: 1.09s\n",
      "200:\tlearn: 697.8790449\ttotal: 2.19s\tremaining: 1.08s\n"
     ]
    },
    {
     "name": "stdout",
     "output_type": "stream",
     "text": [
      "201:\tlearn: 697.5144977\ttotal: 2.2s\tremaining: 1.07s\n",
      "202:\tlearn: 696.9382555\ttotal: 2.22s\tremaining: 1.06s\n",
      "203:\tlearn: 696.6138913\ttotal: 2.25s\tremaining: 1.06s\n",
      "204:\tlearn: 696.2564028\ttotal: 2.26s\tremaining: 1.05s\n",
      "205:\tlearn: 695.9921800\ttotal: 2.27s\tremaining: 1.03s\n",
      "206:\tlearn: 695.3832499\ttotal: 2.28s\tremaining: 1.02s\n",
      "207:\tlearn: 695.2106991\ttotal: 2.29s\tremaining: 1.01s\n",
      "208:\tlearn: 695.0854346\ttotal: 2.31s\tremaining: 1s\n",
      "209:\tlearn: 695.0297616\ttotal: 2.32s\tremaining: 993ms\n",
      "210:\tlearn: 694.6683389\ttotal: 2.32s\tremaining: 980ms\n",
      "211:\tlearn: 694.3618068\ttotal: 2.34s\tremaining: 971ms\n",
      "212:\tlearn: 693.9832490\ttotal: 2.35s\tremaining: 960ms\n",
      "213:\tlearn: 693.7124573\ttotal: 2.36s\tremaining: 949ms\n",
      "214:\tlearn: 693.3983028\ttotal: 2.38s\tremaining: 942ms\n",
      "215:\tlearn: 693.1133783\ttotal: 2.39s\tremaining: 930ms\n",
      "216:\tlearn: 692.7282991\ttotal: 2.41s\tremaining: 921ms\n",
      "217:\tlearn: 692.3053960\ttotal: 2.42s\tremaining: 909ms\n",
      "218:\tlearn: 691.9848623\ttotal: 2.43s\tremaining: 898ms\n",
      "219:\tlearn: 691.6088457\ttotal: 2.44s\tremaining: 886ms\n",
      "220:\tlearn: 691.0879973\ttotal: 2.45s\tremaining: 875ms\n",
      "221:\tlearn: 690.7246769\ttotal: 2.46s\tremaining: 864ms\n",
      "222:\tlearn: 690.3889000\ttotal: 2.47s\tremaining: 854ms\n",
      "223:\tlearn: 689.8192314\ttotal: 2.49s\tremaining: 843ms\n",
      "224:\tlearn: 689.2948924\ttotal: 2.5s\tremaining: 832ms\n",
      "225:\tlearn: 688.9807820\ttotal: 2.51s\tremaining: 822ms\n",
      "226:\tlearn: 688.5330317\ttotal: 2.52s\tremaining: 811ms\n",
      "227:\tlearn: 688.0981262\ttotal: 2.54s\tremaining: 801ms\n",
      "228:\tlearn: 687.6789521\ttotal: 2.55s\tremaining: 792ms\n",
      "229:\tlearn: 687.2891759\ttotal: 2.56s\tremaining: 780ms\n",
      "230:\tlearn: 686.7955275\ttotal: 2.58s\tremaining: 770ms\n",
      "231:\tlearn: 686.2826144\ttotal: 2.59s\tremaining: 759ms\n",
      "232:\tlearn: 686.2561212\ttotal: 2.6s\tremaining: 748ms\n",
      "233:\tlearn: 685.9237476\ttotal: 2.62s\tremaining: 739ms\n",
      "234:\tlearn: 685.6434500\ttotal: 2.64s\tremaining: 729ms\n",
      "235:\tlearn: 685.3261608\ttotal: 2.65s\tremaining: 718ms\n",
      "236:\tlearn: 684.8711726\ttotal: 2.66s\tremaining: 706ms\n",
      "237:\tlearn: 684.5238060\ttotal: 2.67s\tremaining: 695ms\n",
      "238:\tlearn: 684.4267488\ttotal: 2.68s\tremaining: 685ms\n",
      "239:\tlearn: 684.1507637\ttotal: 2.69s\tremaining: 673ms\n",
      "240:\tlearn: 683.7012576\ttotal: 2.7s\tremaining: 661ms\n",
      "241:\tlearn: 683.3121818\ttotal: 2.72s\tremaining: 651ms\n",
      "242:\tlearn: 683.1466128\ttotal: 2.73s\tremaining: 640ms\n",
      "243:\tlearn: 682.7751817\ttotal: 2.74s\tremaining: 628ms\n",
      "244:\tlearn: 682.2055166\ttotal: 2.75s\tremaining: 619ms\n",
      "245:\tlearn: 681.9258792\ttotal: 2.76s\tremaining: 607ms\n",
      "246:\tlearn: 681.6184177\ttotal: 2.77s\tremaining: 595ms\n",
      "247:\tlearn: 681.2956502\ttotal: 2.78s\tremaining: 583ms\n",
      "248:\tlearn: 680.7539572\ttotal: 2.8s\tremaining: 573ms\n",
      "249:\tlearn: 680.4447380\ttotal: 2.81s\tremaining: 561ms\n",
      "250:\tlearn: 680.1441257\ttotal: 2.81s\tremaining: 550ms\n",
      "251:\tlearn: 679.9779594\ttotal: 2.82s\tremaining: 538ms\n",
      "252:\tlearn: 679.6412358\ttotal: 2.83s\tremaining: 526ms\n",
      "253:\tlearn: 679.2364070\ttotal: 2.84s\tremaining: 514ms\n",
      "254:\tlearn: 678.8375148\ttotal: 2.85s\tremaining: 502ms\n",
      "255:\tlearn: 678.3757552\ttotal: 2.85s\tremaining: 491ms\n",
      "256:\tlearn: 678.1055776\ttotal: 2.86s\tremaining: 479ms\n",
      "257:\tlearn: 677.7751131\ttotal: 2.87s\tremaining: 467ms\n",
      "258:\tlearn: 677.5892513\ttotal: 2.88s\tremaining: 455ms\n",
      "259:\tlearn: 677.5715115\ttotal: 2.89s\tremaining: 445ms\n",
      "260:\tlearn: 677.3687662\ttotal: 2.9s\tremaining: 433ms\n",
      "261:\tlearn: 677.0973503\ttotal: 2.91s\tremaining: 422ms\n",
      "262:\tlearn: 676.6862905\ttotal: 2.92s\tremaining: 410ms\n",
      "263:\tlearn: 676.4882571\ttotal: 2.92s\tremaining: 399ms\n",
      "264:\tlearn: 676.0845788\ttotal: 2.94s\tremaining: 388ms\n",
      "265:\tlearn: 675.6230012\ttotal: 2.95s\tremaining: 377ms\n",
      "266:\tlearn: 675.3837010\ttotal: 2.96s\tremaining: 365ms\n",
      "267:\tlearn: 675.3484710\ttotal: 2.97s\tremaining: 354ms\n",
      "268:\tlearn: 674.7632740\ttotal: 2.98s\tremaining: 343ms\n",
      "269:\tlearn: 674.5014870\ttotal: 2.98s\tremaining: 331ms\n",
      "270:\tlearn: 674.1544922\ttotal: 2.99s\tremaining: 320ms\n",
      "271:\tlearn: 673.7026370\ttotal: 3s\tremaining: 309ms\n",
      "272:\tlearn: 673.3512487\ttotal: 3.01s\tremaining: 297ms\n",
      "273:\tlearn: 673.3361930\ttotal: 3.03s\tremaining: 287ms\n",
      "274:\tlearn: 673.0425867\ttotal: 3.04s\tremaining: 277ms\n",
      "275:\tlearn: 672.4961659\ttotal: 3.06s\tremaining: 266ms\n",
      "276:\tlearn: 672.3314626\ttotal: 3.07s\tremaining: 255ms\n",
      "277:\tlearn: 671.9809356\ttotal: 3.08s\tremaining: 243ms\n",
      "278:\tlearn: 671.6008952\ttotal: 3.08s\tremaining: 232ms\n",
      "279:\tlearn: 671.2795034\ttotal: 3.1s\tremaining: 221ms\n",
      "280:\tlearn: 670.7964836\ttotal: 3.11s\tremaining: 210ms\n",
      "281:\tlearn: 670.4876710\ttotal: 3.12s\tremaining: 199ms\n",
      "282:\tlearn: 670.0296225\ttotal: 3.13s\tremaining: 188ms\n",
      "283:\tlearn: 669.6564116\ttotal: 3.13s\tremaining: 177ms\n",
      "284:\tlearn: 669.6368130\ttotal: 3.15s\tremaining: 166ms\n",
      "285:\tlearn: 669.2423166\ttotal: 3.16s\tremaining: 155ms\n",
      "286:\tlearn: 668.9555292\ttotal: 3.17s\tremaining: 144ms\n",
      "287:\tlearn: 668.7436795\ttotal: 3.19s\tremaining: 133ms\n",
      "288:\tlearn: 668.5626197\ttotal: 3.2s\tremaining: 122ms\n",
      "289:\tlearn: 668.3122449\ttotal: 3.21s\tremaining: 111ms\n",
      "290:\tlearn: 668.0007157\ttotal: 3.22s\tremaining: 99.5ms\n",
      "291:\tlearn: 667.7007740\ttotal: 3.23s\tremaining: 88.4ms\n",
      "292:\tlearn: 667.4326321\ttotal: 3.23s\tremaining: 77.3ms\n",
      "293:\tlearn: 667.1358935\ttotal: 3.25s\tremaining: 66.2ms\n",
      "294:\tlearn: 666.7351036\ttotal: 3.25s\tremaining: 55.1ms\n",
      "295:\tlearn: 666.2741949\ttotal: 3.26s\tremaining: 44.1ms\n",
      "296:\tlearn: 666.2196525\ttotal: 3.27s\tremaining: 33.1ms\n",
      "297:\tlearn: 665.9363435\ttotal: 3.28s\tremaining: 22ms\n",
      "298:\tlearn: 665.5846650\ttotal: 3.29s\tremaining: 11ms\n",
      "299:\tlearn: 665.3323772\ttotal: 3.3s\tremaining: 0us\n",
      "0:\tlearn: 958.7558503\ttotal: 17.1ms\tremaining: 5.13s\n",
      "1:\tlearn: 928.1576921\ttotal: 34.5ms\tremaining: 5.14s\n",
      "2:\tlearn: 896.2772933\ttotal: 46.8ms\tremaining: 4.63s\n",
      "3:\tlearn: 874.2227346\ttotal: 61.3ms\tremaining: 4.53s\n",
      "4:\tlearn: 859.1856572\ttotal: 77.2ms\tremaining: 4.56s\n",
      "5:\tlearn: 847.1584988\ttotal: 86.6ms\tremaining: 4.24s\n",
      "6:\tlearn: 837.6088957\ttotal: 98ms\tremaining: 4.1s\n",
      "7:\tlearn: 826.2807008\ttotal: 113ms\tremaining: 4.12s\n",
      "8:\tlearn: 817.9516126\ttotal: 126ms\tremaining: 4.07s\n",
      "9:\tlearn: 811.2629421\ttotal: 146ms\tremaining: 4.23s\n",
      "10:\tlearn: 804.3972324\ttotal: 158ms\tremaining: 4.15s\n",
      "11:\tlearn: 799.2204274\ttotal: 170ms\tremaining: 4.08s\n",
      "12:\tlearn: 795.6306479\ttotal: 183ms\tremaining: 4.04s\n",
      "13:\tlearn: 793.4421514\ttotal: 193ms\tremaining: 3.94s\n",
      "14:\tlearn: 790.0044724\ttotal: 205ms\tremaining: 3.9s\n",
      "15:\tlearn: 786.8981670\ttotal: 216ms\tremaining: 3.83s\n",
      "16:\tlearn: 784.6285810\ttotal: 229ms\tremaining: 3.81s\n",
      "17:\tlearn: 782.3389079\ttotal: 242ms\tremaining: 3.8s\n",
      "18:\tlearn: 780.2047765\ttotal: 255ms\tremaining: 3.77s\n",
      "19:\tlearn: 778.2563201\ttotal: 266ms\tremaining: 3.72s\n",
      "20:\tlearn: 777.2969004\ttotal: 284ms\tremaining: 3.77s\n",
      "21:\tlearn: 776.3822343\ttotal: 302ms\tremaining: 3.81s\n",
      "22:\tlearn: 774.9462929\ttotal: 314ms\tremaining: 3.78s\n",
      "23:\tlearn: 773.9210469\ttotal: 331ms\tremaining: 3.81s\n",
      "24:\tlearn: 772.6816087\ttotal: 342ms\tremaining: 3.76s\n",
      "25:\tlearn: 771.8872634\ttotal: 365ms\tremaining: 3.85s\n",
      "26:\tlearn: 770.8559965\ttotal: 385ms\tremaining: 3.89s\n",
      "27:\tlearn: 770.1154064\ttotal: 409ms\tremaining: 3.97s\n",
      "28:\tlearn: 769.3384291\ttotal: 430ms\tremaining: 4.02s\n",
      "29:\tlearn: 768.5429036\ttotal: 454ms\tremaining: 4.08s\n",
      "30:\tlearn: 766.6229822\ttotal: 480ms\tremaining: 4.16s\n",
      "31:\tlearn: 765.1279613\ttotal: 496ms\tremaining: 4.15s\n",
      "32:\tlearn: 764.8857538\ttotal: 526ms\tremaining: 4.26s\n",
      "33:\tlearn: 764.5543812\ttotal: 549ms\tremaining: 4.29s\n",
      "34:\tlearn: 763.5187799\ttotal: 589ms\tremaining: 4.46s\n",
      "35:\tlearn: 762.7152206\ttotal: 606ms\tremaining: 4.44s\n",
      "36:\tlearn: 762.2021564\ttotal: 628ms\tremaining: 4.46s\n",
      "37:\tlearn: 761.7722981\ttotal: 649ms\tremaining: 4.47s\n",
      "38:\tlearn: 761.5237064\ttotal: 662ms\tremaining: 4.43s\n",
      "39:\tlearn: 761.0380420\ttotal: 675ms\tremaining: 4.39s\n",
      "40:\tlearn: 760.6324258\ttotal: 697ms\tremaining: 4.4s\n",
      "41:\tlearn: 760.2244851\ttotal: 731ms\tremaining: 4.49s\n",
      "42:\tlearn: 759.9407084\ttotal: 762ms\tremaining: 4.55s\n",
      "43:\tlearn: 759.0731387\ttotal: 794ms\tremaining: 4.62s\n",
      "44:\tlearn: 758.3694879\ttotal: 808ms\tremaining: 4.58s\n",
      "45:\tlearn: 757.8196579\ttotal: 822ms\tremaining: 4.54s\n",
      "46:\tlearn: 757.5715711\ttotal: 837ms\tremaining: 4.5s\n",
      "47:\tlearn: 757.3327376\ttotal: 858ms\tremaining: 4.5s\n",
      "48:\tlearn: 756.9374103\ttotal: 879ms\tremaining: 4.5s\n",
      "49:\tlearn: 756.5468026\ttotal: 895ms\tremaining: 4.47s\n",
      "50:\tlearn: 756.2986365\ttotal: 917ms\tremaining: 4.48s\n",
      "51:\tlearn: 755.5812658\ttotal: 937ms\tremaining: 4.47s\n",
      "52:\tlearn: 755.2770394\ttotal: 955ms\tremaining: 4.45s\n",
      "53:\tlearn: 754.0429940\ttotal: 968ms\tremaining: 4.41s\n",
      "54:\tlearn: 753.6885807\ttotal: 987ms\tremaining: 4.39s\n",
      "55:\tlearn: 753.3864153\ttotal: 1.01s\tremaining: 4.41s\n",
      "56:\tlearn: 752.7145437\ttotal: 1.03s\tremaining: 4.39s\n",
      "57:\tlearn: 752.4173072\ttotal: 1.04s\tremaining: 4.36s\n",
      "58:\tlearn: 751.9659164\ttotal: 1.06s\tremaining: 4.34s\n",
      "59:\tlearn: 751.7946976\ttotal: 1.08s\tremaining: 4.34s\n"
     ]
    },
    {
     "name": "stdout",
     "output_type": "stream",
     "text": [
      "60:\tlearn: 751.1531103\ttotal: 1.11s\tremaining: 4.34s\n",
      "61:\tlearn: 750.8630573\ttotal: 1.14s\tremaining: 4.36s\n",
      "62:\tlearn: 750.4053405\ttotal: 1.15s\tremaining: 4.33s\n",
      "63:\tlearn: 749.8480359\ttotal: 1.17s\tremaining: 4.3s\n",
      "64:\tlearn: 749.4587928\ttotal: 1.2s\tremaining: 4.32s\n",
      "65:\tlearn: 748.7516605\ttotal: 1.21s\tremaining: 4.28s\n",
      "66:\tlearn: 747.9930559\ttotal: 1.23s\tremaining: 4.26s\n",
      "67:\tlearn: 747.4885021\ttotal: 1.25s\tremaining: 4.26s\n",
      "68:\tlearn: 747.0743592\ttotal: 1.26s\tremaining: 4.22s\n",
      "69:\tlearn: 746.4416782\ttotal: 1.29s\tremaining: 4.26s\n",
      "70:\tlearn: 745.9106483\ttotal: 1.32s\tremaining: 4.25s\n",
      "71:\tlearn: 745.5867476\ttotal: 1.34s\tremaining: 4.25s\n",
      "72:\tlearn: 745.1199232\ttotal: 1.35s\tremaining: 4.21s\n",
      "73:\tlearn: 744.5137274\ttotal: 1.37s\tremaining: 4.19s\n",
      "74:\tlearn: 744.2440249\ttotal: 1.39s\tremaining: 4.18s\n",
      "75:\tlearn: 743.8481314\ttotal: 1.41s\tremaining: 4.17s\n",
      "76:\tlearn: 743.3227748\ttotal: 1.43s\tremaining: 4.14s\n",
      "77:\tlearn: 743.0953644\ttotal: 1.45s\tremaining: 4.12s\n",
      "78:\tlearn: 742.7728713\ttotal: 1.48s\tremaining: 4.15s\n",
      "79:\tlearn: 742.6076351\ttotal: 1.5s\tremaining: 4.12s\n",
      "80:\tlearn: 741.8734654\ttotal: 1.52s\tremaining: 4.11s\n",
      "81:\tlearn: 741.5562348\ttotal: 1.54s\tremaining: 4.09s\n",
      "82:\tlearn: 741.2935329\ttotal: 1.55s\tremaining: 4.07s\n",
      "83:\tlearn: 740.8988441\ttotal: 1.57s\tremaining: 4.05s\n",
      "84:\tlearn: 740.6043530\ttotal: 1.59s\tremaining: 4.02s\n",
      "85:\tlearn: 740.1390532\ttotal: 1.61s\tremaining: 4s\n",
      "86:\tlearn: 739.8346298\ttotal: 1.63s\tremaining: 3.98s\n",
      "87:\tlearn: 739.3480970\ttotal: 1.65s\tremaining: 3.98s\n",
      "88:\tlearn: 739.0176141\ttotal: 1.68s\tremaining: 3.97s\n",
      "89:\tlearn: 738.8082455\ttotal: 1.69s\tremaining: 3.95s\n",
      "90:\tlearn: 738.5124653\ttotal: 1.72s\tremaining: 3.94s\n",
      "91:\tlearn: 738.0236300\ttotal: 1.74s\tremaining: 3.92s\n",
      "92:\tlearn: 737.6904082\ttotal: 1.75s\tremaining: 3.9s\n",
      "93:\tlearn: 737.6089531\ttotal: 1.77s\tremaining: 3.87s\n",
      "94:\tlearn: 737.2904814\ttotal: 1.78s\tremaining: 3.85s\n",
      "95:\tlearn: 736.6807864\ttotal: 1.8s\tremaining: 3.82s\n",
      "96:\tlearn: 736.4480195\ttotal: 1.82s\tremaining: 3.81s\n",
      "97:\tlearn: 736.1397926\ttotal: 1.83s\tremaining: 3.78s\n",
      "98:\tlearn: 735.7071763\ttotal: 1.86s\tremaining: 3.78s\n",
      "99:\tlearn: 735.3847539\ttotal: 1.88s\tremaining: 3.77s\n",
      "100:\tlearn: 734.9621993\ttotal: 1.9s\tremaining: 3.74s\n",
      "101:\tlearn: 734.5375235\ttotal: 1.93s\tremaining: 3.74s\n",
      "102:\tlearn: 734.2749171\ttotal: 1.96s\tremaining: 3.74s\n",
      "103:\tlearn: 733.9646590\ttotal: 1.97s\tremaining: 3.71s\n",
      "104:\tlearn: 733.6685431\ttotal: 1.99s\tremaining: 3.69s\n",
      "105:\tlearn: 733.3887952\ttotal: 2s\tremaining: 3.67s\n",
      "106:\tlearn: 733.1874266\ttotal: 2.02s\tremaining: 3.64s\n",
      "107:\tlearn: 732.9521103\ttotal: 2.04s\tremaining: 3.62s\n",
      "108:\tlearn: 732.6896093\ttotal: 2.06s\tremaining: 3.62s\n",
      "109:\tlearn: 732.4058569\ttotal: 2.08s\tremaining: 3.58s\n",
      "110:\tlearn: 732.1359716\ttotal: 2.09s\tremaining: 3.56s\n",
      "111:\tlearn: 731.7149419\ttotal: 2.11s\tremaining: 3.54s\n",
      "112:\tlearn: 731.3576641\ttotal: 2.12s\tremaining: 3.51s\n",
      "113:\tlearn: 731.0895693\ttotal: 2.14s\tremaining: 3.49s\n",
      "114:\tlearn: 730.6375209\ttotal: 2.15s\tremaining: 3.47s\n",
      "115:\tlearn: 730.2700842\ttotal: 2.17s\tremaining: 3.44s\n",
      "116:\tlearn: 729.9343115\ttotal: 2.19s\tremaining: 3.42s\n",
      "117:\tlearn: 729.6827870\ttotal: 2.2s\tremaining: 3.4s\n",
      "118:\tlearn: 729.3211013\ttotal: 2.22s\tremaining: 3.38s\n",
      "119:\tlearn: 728.9814298\ttotal: 2.23s\tremaining: 3.35s\n",
      "120:\tlearn: 728.7031037\ttotal: 2.26s\tremaining: 3.35s\n",
      "121:\tlearn: 728.3487894\ttotal: 2.32s\tremaining: 3.38s\n",
      "122:\tlearn: 728.2470818\ttotal: 2.35s\tremaining: 3.38s\n",
      "123:\tlearn: 727.9678409\ttotal: 2.36s\tremaining: 3.35s\n",
      "124:\tlearn: 727.8384973\ttotal: 2.38s\tremaining: 3.33s\n",
      "125:\tlearn: 727.6184503\ttotal: 2.41s\tremaining: 3.33s\n",
      "126:\tlearn: 727.5230378\ttotal: 2.45s\tremaining: 3.33s\n",
      "127:\tlearn: 727.3308896\ttotal: 2.47s\tremaining: 3.31s\n",
      "128:\tlearn: 726.9986467\ttotal: 2.48s\tremaining: 3.29s\n",
      "129:\tlearn: 726.3738052\ttotal: 2.52s\tremaining: 3.29s\n",
      "130:\tlearn: 726.0437088\ttotal: 2.55s\tremaining: 3.29s\n",
      "131:\tlearn: 725.7557875\ttotal: 2.57s\tremaining: 3.28s\n",
      "132:\tlearn: 725.4809225\ttotal: 2.6s\tremaining: 3.27s\n",
      "133:\tlearn: 725.2554947\ttotal: 2.62s\tremaining: 3.24s\n",
      "134:\tlearn: 725.0167962\ttotal: 2.66s\tremaining: 3.25s\n",
      "135:\tlearn: 724.6220398\ttotal: 2.68s\tremaining: 3.24s\n",
      "136:\tlearn: 724.3515430\ttotal: 2.71s\tremaining: 3.22s\n",
      "137:\tlearn: 724.1931392\ttotal: 2.73s\tremaining: 3.2s\n",
      "138:\tlearn: 724.0569393\ttotal: 2.75s\tremaining: 3.19s\n",
      "139:\tlearn: 723.7532644\ttotal: 2.78s\tremaining: 3.17s\n",
      "140:\tlearn: 723.4665129\ttotal: 2.8s\tremaining: 3.16s\n",
      "141:\tlearn: 723.3783940\ttotal: 2.81s\tremaining: 3.13s\n",
      "142:\tlearn: 723.1302905\ttotal: 2.84s\tremaining: 3.12s\n",
      "143:\tlearn: 723.0352697\ttotal: 2.86s\tremaining: 3.1s\n",
      "144:\tlearn: 722.8963023\ttotal: 2.89s\tremaining: 3.09s\n",
      "145:\tlearn: 722.6545649\ttotal: 2.91s\tremaining: 3.07s\n",
      "146:\tlearn: 722.3773283\ttotal: 2.93s\tremaining: 3.05s\n",
      "147:\tlearn: 722.0612650\ttotal: 2.95s\tremaining: 3.03s\n",
      "148:\tlearn: 721.8066413\ttotal: 2.96s\tremaining: 3s\n",
      "149:\tlearn: 721.7492809\ttotal: 2.98s\tremaining: 2.98s\n",
      "150:\tlearn: 721.5425431\ttotal: 3s\tremaining: 2.96s\n",
      "151:\tlearn: 721.1959113\ttotal: 3.02s\tremaining: 2.94s\n",
      "152:\tlearn: 721.0379952\ttotal: 3.04s\tremaining: 2.92s\n",
      "153:\tlearn: 720.6818095\ttotal: 3.05s\tremaining: 2.9s\n",
      "154:\tlearn: 720.5956669\ttotal: 3.08s\tremaining: 2.88s\n",
      "155:\tlearn: 720.4040186\ttotal: 3.09s\tremaining: 2.85s\n",
      "156:\tlearn: 720.1894597\ttotal: 3.12s\tremaining: 2.84s\n",
      "157:\tlearn: 719.8631212\ttotal: 3.14s\tremaining: 2.82s\n",
      "158:\tlearn: 719.4907989\ttotal: 3.17s\tremaining: 2.81s\n",
      "159:\tlearn: 719.3913027\ttotal: 3.18s\tremaining: 2.78s\n",
      "160:\tlearn: 719.1259914\ttotal: 3.21s\tremaining: 2.77s\n",
      "161:\tlearn: 718.8565751\ttotal: 3.23s\tremaining: 2.75s\n",
      "162:\tlearn: 718.5786608\ttotal: 3.27s\tremaining: 2.75s\n",
      "163:\tlearn: 718.4004914\ttotal: 3.29s\tremaining: 2.73s\n",
      "164:\tlearn: 718.3177209\ttotal: 3.34s\tremaining: 2.73s\n",
      "165:\tlearn: 718.0726135\ttotal: 3.37s\tremaining: 2.72s\n",
      "166:\tlearn: 717.8367402\ttotal: 3.42s\tremaining: 2.73s\n",
      "167:\tlearn: 717.7844071\ttotal: 3.46s\tremaining: 2.72s\n",
      "168:\tlearn: 717.4473620\ttotal: 3.49s\tremaining: 2.7s\n",
      "169:\tlearn: 717.3001828\ttotal: 3.52s\tremaining: 2.69s\n",
      "170:\tlearn: 717.2626512\ttotal: 3.53s\tremaining: 2.67s\n",
      "171:\tlearn: 717.0076893\ttotal: 3.6s\tremaining: 2.68s\n",
      "172:\tlearn: 716.8214793\ttotal: 3.64s\tremaining: 2.67s\n",
      "173:\tlearn: 716.7378841\ttotal: 3.68s\tremaining: 2.66s\n",
      "174:\tlearn: 716.5713787\ttotal: 3.72s\tremaining: 2.65s\n",
      "175:\tlearn: 716.2969002\ttotal: 3.73s\tremaining: 2.63s\n",
      "176:\tlearn: 716.0956620\ttotal: 3.75s\tremaining: 2.61s\n",
      "177:\tlearn: 715.8386075\ttotal: 3.77s\tremaining: 2.58s\n",
      "178:\tlearn: 715.4463397\ttotal: 3.79s\tremaining: 2.56s\n",
      "179:\tlearn: 715.2315076\ttotal: 3.81s\tremaining: 2.54s\n",
      "180:\tlearn: 714.9589388\ttotal: 3.83s\tremaining: 2.52s\n",
      "181:\tlearn: 714.8590370\ttotal: 3.85s\tremaining: 2.5s\n",
      "182:\tlearn: 714.5850231\ttotal: 3.87s\tremaining: 2.48s\n",
      "183:\tlearn: 714.2885479\ttotal: 3.9s\tremaining: 2.46s\n",
      "184:\tlearn: 713.9498436\ttotal: 3.91s\tremaining: 2.43s\n",
      "185:\tlearn: 713.6030397\ttotal: 3.95s\tremaining: 2.42s\n",
      "186:\tlearn: 713.2665495\ttotal: 3.96s\tremaining: 2.39s\n",
      "187:\tlearn: 713.0277217\ttotal: 3.99s\tremaining: 2.38s\n",
      "188:\tlearn: 712.8258257\ttotal: 4s\tremaining: 2.35s\n",
      "189:\tlearn: 712.6909243\ttotal: 4.03s\tremaining: 2.33s\n",
      "190:\tlearn: 712.4796009\ttotal: 4.04s\tremaining: 2.31s\n",
      "191:\tlearn: 712.2468211\ttotal: 4.07s\tremaining: 2.29s\n",
      "192:\tlearn: 711.9806425\ttotal: 4.09s\tremaining: 2.27s\n",
      "193:\tlearn: 711.7739593\ttotal: 4.1s\tremaining: 2.24s\n",
      "194:\tlearn: 711.4399005\ttotal: 4.13s\tremaining: 2.23s\n",
      "195:\tlearn: 711.2945650\ttotal: 4.16s\tremaining: 2.21s\n",
      "196:\tlearn: 710.9985468\ttotal: 4.19s\tremaining: 2.19s\n",
      "197:\tlearn: 710.7826693\ttotal: 4.21s\tremaining: 2.17s\n",
      "198:\tlearn: 710.4233043\ttotal: 4.23s\tremaining: 2.15s\n",
      "199:\tlearn: 710.2915385\ttotal: 4.25s\tremaining: 2.13s\n",
      "200:\tlearn: 709.9385261\ttotal: 4.27s\tremaining: 2.1s\n",
      "201:\tlearn: 709.9010551\ttotal: 4.29s\tremaining: 2.08s\n",
      "202:\tlearn: 709.7232471\ttotal: 4.3s\tremaining: 2.05s\n",
      "203:\tlearn: 709.5567121\ttotal: 4.32s\tremaining: 2.03s\n",
      "204:\tlearn: 709.4538615\ttotal: 4.34s\tremaining: 2.01s\n",
      "205:\tlearn: 709.1849804\ttotal: 4.4s\tremaining: 2.01s\n",
      "206:\tlearn: 708.9626638\ttotal: 4.47s\tremaining: 2.01s\n",
      "207:\tlearn: 708.7183838\ttotal: 4.5s\tremaining: 1.99s\n",
      "208:\tlearn: 708.5283526\ttotal: 4.53s\tremaining: 1.97s\n",
      "209:\tlearn: 708.2766900\ttotal: 4.57s\tremaining: 1.96s\n",
      "210:\tlearn: 708.0256771\ttotal: 4.62s\tremaining: 1.95s\n",
      "211:\tlearn: 707.7900156\ttotal: 4.7s\tremaining: 1.95s\n",
      "212:\tlearn: 707.5488391\ttotal: 4.73s\tremaining: 1.93s\n",
      "213:\tlearn: 707.3819873\ttotal: 4.78s\tremaining: 1.92s\n",
      "214:\tlearn: 707.1454217\ttotal: 4.82s\tremaining: 1.9s\n",
      "215:\tlearn: 706.8833540\ttotal: 4.88s\tremaining: 1.9s\n"
     ]
    },
    {
     "name": "stdout",
     "output_type": "stream",
     "text": [
      "216:\tlearn: 706.6609683\ttotal: 4.94s\tremaining: 1.89s\n",
      "217:\tlearn: 706.4615918\ttotal: 4.96s\tremaining: 1.86s\n",
      "218:\tlearn: 706.2516289\ttotal: 5s\tremaining: 1.85s\n",
      "219:\tlearn: 705.9164683\ttotal: 5.01s\tremaining: 1.82s\n",
      "220:\tlearn: 705.6320880\ttotal: 5.04s\tremaining: 1.8s\n",
      "221:\tlearn: 705.4540324\ttotal: 5.06s\tremaining: 1.78s\n",
      "222:\tlearn: 705.3111461\ttotal: 5.08s\tremaining: 1.75s\n",
      "223:\tlearn: 705.1539708\ttotal: 5.12s\tremaining: 1.74s\n",
      "224:\tlearn: 704.8744926\ttotal: 5.15s\tremaining: 1.72s\n",
      "225:\tlearn: 704.6985832\ttotal: 5.17s\tremaining: 1.69s\n",
      "226:\tlearn: 704.4915969\ttotal: 5.22s\tremaining: 1.68s\n",
      "227:\tlearn: 704.2482388\ttotal: 5.24s\tremaining: 1.66s\n",
      "228:\tlearn: 703.9319743\ttotal: 5.26s\tremaining: 1.63s\n",
      "229:\tlearn: 703.5686995\ttotal: 5.31s\tremaining: 1.61s\n",
      "230:\tlearn: 703.3325346\ttotal: 5.35s\tremaining: 1.6s\n",
      "231:\tlearn: 703.1037243\ttotal: 5.38s\tremaining: 1.58s\n",
      "232:\tlearn: 702.9258004\ttotal: 5.39s\tremaining: 1.55s\n",
      "233:\tlearn: 702.8012608\ttotal: 5.41s\tremaining: 1.53s\n",
      "234:\tlearn: 702.6151299\ttotal: 5.43s\tremaining: 1.5s\n",
      "235:\tlearn: 702.4904585\ttotal: 5.46s\tremaining: 1.48s\n",
      "236:\tlearn: 702.0638513\ttotal: 5.48s\tremaining: 1.46s\n",
      "237:\tlearn: 701.8216642\ttotal: 5.5s\tremaining: 1.43s\n",
      "238:\tlearn: 701.5749964\ttotal: 5.52s\tremaining: 1.41s\n",
      "239:\tlearn: 701.3231283\ttotal: 5.53s\tremaining: 1.38s\n",
      "240:\tlearn: 701.0280904\ttotal: 5.55s\tremaining: 1.36s\n",
      "241:\tlearn: 700.8895249\ttotal: 5.56s\tremaining: 1.33s\n",
      "242:\tlearn: 700.6914770\ttotal: 5.58s\tremaining: 1.31s\n",
      "243:\tlearn: 700.4643228\ttotal: 5.59s\tremaining: 1.28s\n",
      "244:\tlearn: 700.2037378\ttotal: 5.62s\tremaining: 1.26s\n",
      "245:\tlearn: 700.1540939\ttotal: 5.63s\tremaining: 1.24s\n",
      "246:\tlearn: 700.0418662\ttotal: 5.65s\tremaining: 1.21s\n",
      "247:\tlearn: 699.9756531\ttotal: 5.68s\tremaining: 1.19s\n",
      "248:\tlearn: 699.7564087\ttotal: 5.69s\tremaining: 1.17s\n",
      "249:\tlearn: 699.5230139\ttotal: 5.71s\tremaining: 1.14s\n",
      "250:\tlearn: 699.3738900\ttotal: 5.73s\tremaining: 1.12s\n",
      "251:\tlearn: 699.1502288\ttotal: 5.75s\tremaining: 1.1s\n",
      "252:\tlearn: 699.0263312\ttotal: 5.8s\tremaining: 1.08s\n",
      "253:\tlearn: 698.9279502\ttotal: 5.83s\tremaining: 1.06s\n",
      "254:\tlearn: 698.7272767\ttotal: 5.86s\tremaining: 1.03s\n",
      "255:\tlearn: 698.5321027\ttotal: 5.87s\tremaining: 1.01s\n",
      "256:\tlearn: 698.3578176\ttotal: 5.88s\tremaining: 985ms\n",
      "257:\tlearn: 697.9554262\ttotal: 5.9s\tremaining: 960ms\n",
      "258:\tlearn: 697.7171801\ttotal: 5.92s\tremaining: 937ms\n",
      "259:\tlearn: 697.5668711\ttotal: 5.94s\tremaining: 914ms\n",
      "260:\tlearn: 697.3405812\ttotal: 5.95s\tremaining: 890ms\n",
      "261:\tlearn: 697.0704097\ttotal: 5.97s\tremaining: 866ms\n",
      "262:\tlearn: 696.9256526\ttotal: 5.99s\tremaining: 843ms\n",
      "263:\tlearn: 696.8378704\ttotal: 6s\tremaining: 819ms\n",
      "264:\tlearn: 696.5930691\ttotal: 6.03s\tremaining: 796ms\n",
      "265:\tlearn: 696.3216955\ttotal: 6.06s\tremaining: 775ms\n",
      "266:\tlearn: 696.1668661\ttotal: 6.08s\tremaining: 751ms\n",
      "267:\tlearn: 695.9420002\ttotal: 6.1s\tremaining: 729ms\n",
      "268:\tlearn: 695.8008928\ttotal: 6.12s\tremaining: 705ms\n",
      "269:\tlearn: 695.7544179\ttotal: 6.13s\tremaining: 681ms\n",
      "270:\tlearn: 695.5921674\ttotal: 6.16s\tremaining: 659ms\n",
      "271:\tlearn: 695.3313654\ttotal: 6.2s\tremaining: 638ms\n",
      "272:\tlearn: 695.2909953\ttotal: 6.23s\tremaining: 616ms\n",
      "273:\tlearn: 695.0272477\ttotal: 6.25s\tremaining: 593ms\n",
      "274:\tlearn: 694.6954154\ttotal: 6.27s\tremaining: 570ms\n",
      "275:\tlearn: 694.5159846\ttotal: 6.3s\tremaining: 548ms\n",
      "276:\tlearn: 694.2894612\ttotal: 6.31s\tremaining: 524ms\n",
      "277:\tlearn: 694.0159509\ttotal: 6.33s\tremaining: 501ms\n",
      "278:\tlearn: 693.8801865\ttotal: 6.35s\tremaining: 478ms\n",
      "279:\tlearn: 693.7491104\ttotal: 6.38s\tremaining: 456ms\n",
      "280:\tlearn: 693.3929239\ttotal: 6.42s\tremaining: 434ms\n",
      "281:\tlearn: 693.3606310\ttotal: 6.43s\tremaining: 411ms\n",
      "282:\tlearn: 693.2007628\ttotal: 6.46s\tremaining: 388ms\n",
      "283:\tlearn: 692.9915439\ttotal: 6.48s\tremaining: 365ms\n",
      "284:\tlearn: 692.7285596\ttotal: 6.5s\tremaining: 342ms\n",
      "285:\tlearn: 692.5975301\ttotal: 6.52s\tremaining: 319ms\n",
      "286:\tlearn: 692.4509749\ttotal: 6.54s\tremaining: 296ms\n",
      "287:\tlearn: 692.0785195\ttotal: 6.57s\tremaining: 274ms\n",
      "288:\tlearn: 691.8698231\ttotal: 6.59s\tremaining: 251ms\n",
      "289:\tlearn: 691.6029108\ttotal: 6.61s\tremaining: 228ms\n",
      "290:\tlearn: 691.4161498\ttotal: 6.63s\tremaining: 205ms\n",
      "291:\tlearn: 691.2711541\ttotal: 6.65s\tremaining: 182ms\n",
      "292:\tlearn: 691.0559985\ttotal: 6.67s\tremaining: 159ms\n",
      "293:\tlearn: 690.8400163\ttotal: 6.69s\tremaining: 136ms\n",
      "294:\tlearn: 690.6378607\ttotal: 6.7s\tremaining: 114ms\n",
      "295:\tlearn: 690.3614165\ttotal: 6.72s\tremaining: 90.8ms\n",
      "296:\tlearn: 690.1817234\ttotal: 6.75s\tremaining: 68.2ms\n",
      "297:\tlearn: 689.9755401\ttotal: 6.76s\tremaining: 45.4ms\n",
      "298:\tlearn: 689.8490726\ttotal: 6.78s\tremaining: 22.7ms\n",
      "299:\tlearn: 689.5551467\ttotal: 6.8s\tremaining: 0us\n"
     ]
    }
   ],
   "source": [
    "params = {\n",
    "    'n_estimators': [300],\n",
    "    'max_depth': [4],\n",
    "    'learning_rate': [0.15],\n",
    "    'colsample_bylevel': [0.5],\n",
    "    'l2_leaf_reg': [6]}\n",
    "\n",
    "cbr = GridSearchCV(CatBoostRegressor(random_state=50),\n",
    "                   cv=2, scoring='neg_mean_squared_error',\n",
    "                   param_grid=params)\n",
    "cbrm = cbr.fit(x_train, y_train)\n"
   ]
  },
  {
   "cell_type": "code",
   "execution_count": 218,
   "metadata": {
    "id": "Cstq41d29zKA"
   },
   "outputs": [],
   "source": [
    "train_cbrm = cbrm.predict(x_val)"
   ]
  },
  {
   "cell_type": "markdown",
   "metadata": {
    "id": "pvvLaUOp9zKC"
   },
   "source": [
    "## 5.7 XGBoost\n",
    "\n",
    "XGBoost is a software library that stands for extreme gradient boosting.XGBoost focuses on computational speed and model performance, offering optimization features such as Gradient Boosting, Stochastic Gradient Boosting, and Regularized Gradient Boosting."
   ]
  },
  {
   "cell_type": "code",
   "execution_count": 219,
   "metadata": {
    "id": "6ybQPaX89zKD"
   },
   "outputs": [],
   "source": [
    "regressor = xgb.XGBRegressor(\n",
    "    n_estimators=100,\n",
    "    reg_lambda=1,\n",
    "    gamma=0,\n",
    "    max_depth=3\n",
    ")\n",
    "\n",
    "# fitting our model to the training dataset\n",
    "\n",
    "regressor.fit(x_train, y_train)\n",
    "\n",
    "# checking training accuracy\n",
    "\n",
    "train_xgb = regressor.predict(x_val)\n"
   ]
  },
  {
   "cell_type": "markdown",
   "metadata": {
    "id": "PhYNoigeDG7V"
   },
   "source": [
    "# **6. Model Evaluation**"
   ]
  },
  {
   "cell_type": "markdown",
   "metadata": {
    "id": "0v57zSlTDG7W"
   },
   "source": [
    "### Checking the RMSE of the validation prediction"
   ]
  },
  {
   "cell_type": "code",
   "execution_count": 220,
   "metadata": {
    "id": "qLe11W0qDG7W"
   },
   "outputs": [],
   "source": [
    "def rmse(y_test, y_predict):\n",
    "    '''\n",
    "    The function takes in two series\n",
    "    and returns the root mean squared\n",
    "    error as a float\n",
    "    Parameter:\n",
    "        y_test: Series\n",
    "                the first value\n",
    "        y_predict: Series\n",
    "                    the second value\n",
    "    Returns:\n",
    "        Returns a float\n",
    "    '''\n",
    "    return np.sqrt(mean_squared_error(y_test, y_predict))\n"
   ]
  },
  {
   "cell_type": "markdown",
   "metadata": {
    "id": "gbC8nCED9zKF"
   },
   "source": [
    "## 6.1 Linear Regression "
   ]
  },
  {
   "cell_type": "code",
   "execution_count": 221,
   "metadata": {
    "colab": {
     "base_uri": "https://localhost:8080/",
     "height": 35
    },
    "id": "ppVWS9kSDG7Y",
    "outputId": "000fa605-be9f-41d3-a40b-12708f96bd5b"
   },
   "outputs": [
    {
     "data": {
      "text/plain": [
       "772.1262499469188"
      ]
     },
     "execution_count": 221,
     "metadata": {},
     "output_type": "execute_result"
    }
   ],
   "source": [
    "rmse(y_val, val_preds)\n"
   ]
  },
  {
   "cell_type": "markdown",
   "metadata": {
    "id": "rU_7C7oQ9zKH"
   },
   "source": [
    "## 6.2 Lasso Regression "
   ]
  },
  {
   "cell_type": "code",
   "execution_count": 222,
   "metadata": {
    "id": "DvraRcMZ9zKH",
    "outputId": "c5a7061e-40cb-41a2-e7f7-c7eca94e4ad8"
   },
   "outputs": [
    {
     "data": {
      "text/plain": [
       "772.0019752889789"
      ]
     },
     "execution_count": 222,
     "metadata": {},
     "output_type": "execute_result"
    }
   ],
   "source": [
    "rmse(y_val, train_lasso)\n"
   ]
  },
  {
   "cell_type": "markdown",
   "metadata": {
    "id": "XQco6N0r9zKJ"
   },
   "source": [
    "## 6.3 Ridge Regression "
   ]
  },
  {
   "cell_type": "code",
   "execution_count": 223,
   "metadata": {
    "id": "Z12fIJai9zKJ",
    "outputId": "51e7a506-8d07-43d4-cdb5-183db6ba8719"
   },
   "outputs": [
    {
     "data": {
      "text/plain": [
       "772.1262546219169"
      ]
     },
     "execution_count": 223,
     "metadata": {},
     "output_type": "execute_result"
    }
   ],
   "source": [
    "rmse(y_val, train_ridge)\n"
   ]
  },
  {
   "cell_type": "markdown",
   "metadata": {
    "id": "_SqmrgL-9zKK"
   },
   "source": [
    "## 6.4 Decision Tree"
   ]
  },
  {
   "cell_type": "code",
   "execution_count": 224,
   "metadata": {
    "id": "nWpHbOUK9zKK",
    "outputId": "6d9905ef-00e1-4459-c7f0-3837e9bec6af"
   },
   "outputs": [
    {
     "data": {
      "text/plain": [
       "785.453952399165"
      ]
     },
     "execution_count": 224,
     "metadata": {},
     "output_type": "execute_result"
    }
   ],
   "source": [
    "rmse(y_val, train_tree)\n"
   ]
  },
  {
   "cell_type": "markdown",
   "metadata": {
    "id": "lHcy_NLG9zKL"
   },
   "source": [
    "## 6.5 Random Forest"
   ]
  },
  {
   "cell_type": "code",
   "execution_count": 225,
   "metadata": {
    "id": "QRmpMDuw9zKL",
    "outputId": "bf0569c0-5a2b-4910-ee1e-6d48131c49ba"
   },
   "outputs": [
    {
     "data": {
      "text/plain": [
       "767.2752538536242"
      ]
     },
     "execution_count": 225,
     "metadata": {},
     "output_type": "execute_result"
    }
   ],
   "source": [
    "rmse(y_val, train_rf)\n"
   ]
  },
  {
   "cell_type": "markdown",
   "metadata": {
    "id": "z_gtt02k9zKM"
   },
   "source": [
    "## 6.6 Catboost"
   ]
  },
  {
   "cell_type": "code",
   "execution_count": 226,
   "metadata": {
    "id": "lWteX_K39zKN",
    "outputId": "faf389e8-42ec-4ba7-c734-4c8474926f74"
   },
   "outputs": [
    {
     "data": {
      "text/plain": [
       "731.4886061697107"
      ]
     },
     "execution_count": 226,
     "metadata": {},
     "output_type": "execute_result"
    }
   ],
   "source": [
    "rmse(y_val, train_cbrm)\n"
   ]
  },
  {
   "cell_type": "markdown",
   "metadata": {
    "id": "t_Gaw94f9zKP"
   },
   "source": [
    "## 6.7 XGBoost"
   ]
  },
  {
   "cell_type": "code",
   "execution_count": 227,
   "metadata": {
    "id": "ldggVOhj9zKP",
    "outputId": "e639aaf5-4931-4224-dd73-5b1a21d9cdba"
   },
   "outputs": [
    {
     "data": {
      "text/plain": [
       "737.3636626320645"
      ]
     },
     "execution_count": 227,
     "metadata": {},
     "output_type": "execute_result"
    }
   ],
   "source": [
    "rmse(y_val, train_xgb)\n"
   ]
  },
  {
   "cell_type": "markdown",
   "metadata": {
    "id": "M4M9oEZPDG7Z"
   },
   "source": [
    "# **7. Model Analysis**"
   ]
  },
  {
   "cell_type": "markdown",
   "metadata": {
    "id": "RqbgtCsADG7a"
   },
   "source": [
    "### Making prediction on the test set"
   ]
  },
  {
   "cell_type": "markdown",
   "metadata": {
    "id": "otzDptCh9zKU"
   },
   "source": [
    "## 7.1 Linear Regression"
   ]
  },
  {
   "cell_type": "code",
   "execution_count": 228,
   "metadata": {
    "id": "tzkPabgPDG7b"
   },
   "outputs": [],
   "source": [
    "y_pred = lr.predict(finaltest)\n"
   ]
  },
  {
   "cell_type": "markdown",
   "metadata": {
    "id": "dRHwT4Ba9zKW"
   },
   "source": [
    "## 7.2 Lasso Regression"
   ]
  },
  {
   "cell_type": "code",
   "execution_count": 229,
   "metadata": {
    "id": "VQj9XNrd9zKW"
   },
   "outputs": [],
   "source": [
    "lasso_y_pred = lasso.predict(finaltest)\n"
   ]
  },
  {
   "cell_type": "markdown",
   "metadata": {
    "id": "BuTYZ9gI9zKX"
   },
   "source": [
    "## 7.3 Ridge Regression"
   ]
  },
  {
   "cell_type": "code",
   "execution_count": 230,
   "metadata": {
    "id": "TX-1gO_z9zKX"
   },
   "outputs": [],
   "source": [
    "ridge_y_pred = ridge.predict(finaltest)\n"
   ]
  },
  {
   "cell_type": "markdown",
   "metadata": {
    "id": "oCTdWlkz9zKa"
   },
   "source": [
    "## 7.4 Decision Tree"
   ]
  },
  {
   "cell_type": "code",
   "execution_count": 231,
   "metadata": {
    "id": "m6613Ydo9zKa"
   },
   "outputs": [],
   "source": [
    "tree_y_pred = ridge.predict(finaltest)\n"
   ]
  },
  {
   "cell_type": "markdown",
   "metadata": {
    "id": "djZ77at09zKb"
   },
   "source": [
    "## 7.5 Random Forest"
   ]
  },
  {
   "cell_type": "code",
   "execution_count": 232,
   "metadata": {
    "id": "sD0vwmIdVtBD"
   },
   "outputs": [],
   "source": [
    "rf_y_pred = rf.predict(finaltest)\n"
   ]
  },
  {
   "cell_type": "markdown",
   "metadata": {
    "id": "qzr1uP109zKc"
   },
   "source": [
    "## 7.6 Catboost"
   ]
  },
  {
   "cell_type": "code",
   "execution_count": 233,
   "metadata": {
    "id": "X3i6e3L09zKc"
   },
   "outputs": [],
   "source": [
    "cb_y_pred = cbrm.predict(finaltest)\n"
   ]
  },
  {
   "cell_type": "markdown",
   "metadata": {
    "id": "Yha7U5zU9zKf"
   },
   "source": [
    "## 7.7 XGBoost"
   ]
  },
  {
   "cell_type": "code",
   "execution_count": 235,
   "metadata": {
    "id": "3-AARYVn9zKf"
   },
   "outputs": [],
   "source": [
    "regressor_y_pred = regressor.predict(finaltest)\n"
   ]
  },
  {
   "cell_type": "markdown",
   "metadata": {
    "id": "ZAVR09Rp9zKg"
   },
   "source": [
    "# 8. Conclusion\n",
    "\n",
    "* The dataset contains missing values in two columns, one of the columns (Temperature) was imputed with its mean while Precipitation in millimeters was dropped from the model building\n",
    "* Most order were done by business customers and they occurred during the business working days (Monday to Friday)\n",
    "* Majority of the customers prefers making their orders during the day (morning and afternoon)\n",
    "* Delays in delivery of order are impacted most times as a result of traffic during these business hours as these are peak periods of the day\n",
    "* Temperature also plays a significant role in delivery of orders\n",
    "* There is a high volume of orders during the first week of the month. This can be attributed to the fact that customers are stocking up for the upcoming months\n",
    "* Decline was noticed on the first and last day of the month. This could be as a result of business wanting to place orders during the end or beginning of the month as it is the busiest time of the month when majority of workers recently got paid. This is a way of them avoiding traffic.\n",
    "* Distance is a contributory factor to order delivery\n",
    "* CatBoost was the best fitted model among all fitted models as it yielded the least root mean squared error\n",
    "\n"
   ]
  },
  {
   "cell_type": "markdown",
   "metadata": {},
   "source": [
    "# 9. Submission"
   ]
  },
  {
   "cell_type": "code",
   "execution_count": 236,
   "metadata": {},
   "outputs": [
    {
     "name": "stderr",
     "output_type": "stream",
     "text": [
      "C:\\Users\\Admin\\Anaconda3\\lib\\site-packages\\ipykernel_launcher.py:2: SettingWithCopyWarning: \n",
      "A value is trying to be set on a copy of a slice from a DataFrame.\n",
      "Try using .loc[row_indexer,col_indexer] = value instead\n",
      "\n",
      "See the caveats in the documentation: https://pandas.pydata.org/pandas-docs/stable/user_guide/indexing.html#returning-a-view-versus-a-copy\n",
      "  \n"
     ]
    }
   ],
   "source": [
    "submission_df = test_df[['Order No']]\n",
    "submission_df['Time from Pickup to Arrival'] = cb_y_pred"
   ]
  },
  {
   "cell_type": "code",
   "execution_count": 237,
   "metadata": {},
   "outputs": [],
   "source": [
    "submission_file_df = submission_df"
   ]
  },
  {
   "cell_type": "code",
   "execution_count": 238,
   "metadata": {},
   "outputs": [],
   "source": [
    "submission_df.to_csv(\"C:/Users/Admin/Downloads/Explore Data Science Academy/Class Begins/Machine Learning/Regression/Predict/Sendy Logistics Challenge/base_prediction_18.csv\", index = False)"
   ]
  },
  {
   "cell_type": "markdown",
   "metadata": {
    "id": "Hyjx-veSDG7l"
   },
   "source": [
    "# 10. Contributors"
   ]
  },
  {
   "cell_type": "markdown",
   "metadata": {
    "id": "-oA8wSlu9zKi"
   },
   "source": [
    "1. Bukelwa Mqhamane\n",
    "2. Kolawole Samuel Aina\n",
    "3. Orline Sorel Ketcha\n",
    "4. Lancelot Ngobeni"
   ]
  },
  {
   "cell_type": "markdown",
   "metadata": {
    "id": "ERZvYV3xDG7l"
   },
   "source": [
    "# 10. References"
   ]
  },
  {
   "cell_type": "markdown",
   "metadata": {
    "id": "W861NponDG7m"
   },
   "source": [
    "1. https://www.geeksforgeeks.org/python-visualize-missing-values-nan-values-using-missingno-library/\n",
    "2. https://towardsdatascience.com/ways-to-detect-and-remove-the-outliers-404d16608dba\n",
    "3. https://medium.com/analytics-vidhya/how-to-handle-missing-values-cbd03fb79ef8#:~:text=Drop%20columns%20%3A%20Drop%20columns%20which%20has%20more%20missing%20value.&text=Column%20Score4%20has%20more%20null,%25%20missing%20value%2C%20drop%20it.\n",
    "4. https://medium.com/ai%C2%B3-theory-practice-business/top-6-errors-novice-machine-learning-engineers-make-e82273d394db\n",
    "5. http://blog.davidkaleko.com/feature-engineering-cyclical-features.html#:~:text=Hours%20of%20the%20day%2C%20days,each%20other%20and%20not%20far.\n",
    "6. https://www.kaggle.com/avanwyk/encoding-cyclical-features-for-deep-learning"
   ]
  }
 ],
 "metadata": {
  "colab": {
   "collapsed_sections": [
    "eNMVuDGpDG5o",
    "2Ur8fLbFDG5p",
    "-iVTBrzwDG53",
    "07LnQrlBDG58",
    "YaHxuzV49zHv",
    "srcOMln8DG6H",
    "EH7k8_MFDG6O",
    "9x63qNTUDG6X",
    "r22eW3rwDG6c",
    "uhJgvDsT9zIJ",
    "K_7uGRYs9zIY",
    "CCW8ZWoa9zIa",
    "9qrj1UME9zId",
    "jFz4N33n9zIi",
    "5zxDKezv9zIj",
    "SNDeWod69zIn",
    "d39blHqf9zIq",
    "39zrTedT9zIt",
    "W5KJsD_q9zIy",
    "KuxmHD1s9zI1",
    "ozBbh1hX9zI4",
    "Neyojb8s9zI7",
    "1LkKh9RpDG6p",
    "IDGm6LYA9zJS",
    "TUmwDp2-9zJd",
    "yhPu3cKn9zJk",
    "7MCghprzDG63",
    "J3wyG1PX9zJq",
    "v2S3JpVFDG66",
    "T5cb2ZksDG6_",
    "D28AlaR_9zJ0",
    "-_0GwmL_DG7Q",
    "92rJWpW09zJ1",
    "1gWD1-KxDG7S",
    "3IyxCpDW9zJ4",
    "5hzAolHr9zJ5",
    "VtXEhFCV9zJ7",
    "MYLM8pso9zJ8",
    "pvvLaUOp9zKC",
    "PhYNoigeDG7V",
    "0v57zSlTDG7W",
    "gbC8nCED9zKF",
    "rU_7C7oQ9zKH",
    "XQco6N0r9zKJ",
    "_SqmrgL-9zKK",
    "lHcy_NLG9zKL",
    "z_gtt02k9zKM",
    "t_Gaw94f9zKP",
    "M4M9oEZPDG7Z",
    "RqbgtCsADG7a",
    "otzDptCh9zKU",
    "dRHwT4Ba9zKW",
    "BuTYZ9gI9zKX",
    "oCTdWlkz9zKa",
    "djZ77at09zKb",
    "qzr1uP109zKc",
    "eEuSDN5S9zKd",
    "Yha7U5zU9zKf",
    "ZAVR09Rp9zKg",
    "smb-K-3h9zKg",
    "Hyjx-veSDG7l",
    "ERZvYV3xDG7l"
   ],
   "name": "Sendy_Logistics_Challenge-checkpoint-2-2_Sorel.ipynb",
   "provenance": []
  },
  "kernelspec": {
   "display_name": "Python 3",
   "language": "python",
   "name": "python3"
  },
  "language_info": {
   "codemirror_mode": {
    "name": "ipython",
    "version": 3
   },
   "file_extension": ".py",
   "mimetype": "text/x-python",
   "name": "python",
   "nbconvert_exporter": "python",
   "pygments_lexer": "ipython3",
   "version": "3.7.4"
  }
 },
 "nbformat": 4,
 "nbformat_minor": 1
}
